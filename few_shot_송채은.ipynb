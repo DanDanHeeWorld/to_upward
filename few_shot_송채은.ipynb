{
  "nbformat": 4,
  "nbformat_minor": 0,
  "metadata": {
    "colab": {
      "provenance": []
    },
    "kernelspec": {
      "name": "python3",
      "display_name": "Python 3"
    },
    "language_info": {
      "name": "python"
    }
  },
  "cells": [
    {
      "cell_type": "code",
      "execution_count": 4,
      "metadata": {
        "colab": {
          "base_uri": "https://localhost:8080/"
        },
        "id": "wzWDCjPsCKl-",
        "outputId": "850301d7-2d3a-404b-a015-a536c721a322"
      },
      "outputs": [
        {
          "output_type": "stream",
          "name": "stdout",
          "text": [
            "Drive already mounted at /content/drive; to attempt to forcibly remount, call drive.mount(\"/content/drive\", force_remount=True).\n"
          ]
        }
      ],
      "source": [
        "from google.colab import drive\n",
        "drive.mount('/content/drive')"
      ]
    },
    {
      "cell_type": "code",
      "source": [
        "pip install pykrx"
      ],
      "metadata": {
        "colab": {
          "base_uri": "https://localhost:8080/"
        },
        "id": "CsTqD14bDfo_",
        "outputId": "77910b4d-c2fe-46a3-a94d-4dbacc95a923"
      },
      "execution_count": 5,
      "outputs": [
        {
          "output_type": "stream",
          "name": "stdout",
          "text": [
            "Collecting pykrx\n",
            "  Downloading pykrx-1.0.45-py3-none-any.whl (2.2 MB)\n",
            "\u001b[?25l     \u001b[90m━━━━━━━━━━━━━━━━━━━━━━━━━━━━━━━━━━━━━━━━\u001b[0m \u001b[32m0.0/2.2 MB\u001b[0m \u001b[31m?\u001b[0m eta \u001b[36m-:--:--\u001b[0m\r\u001b[2K     \u001b[91m━\u001b[0m\u001b[90m╺\u001b[0m\u001b[90m━━━━━━━━━━━━━━━━━━━━━━━━━━━━━━━━━━━━━━\u001b[0m \u001b[32m0.1/2.2 MB\u001b[0m \u001b[31m1.9 MB/s\u001b[0m eta \u001b[36m0:00:02\u001b[0m\r\u001b[2K     \u001b[91m━━━━━━━━━━━━━━━━━━\u001b[0m\u001b[90m╺\u001b[0m\u001b[90m━━━━━━━━━━━━━━━━━━━━━\u001b[0m \u001b[32m1.0/2.2 MB\u001b[0m \u001b[31m14.5 MB/s\u001b[0m eta \u001b[36m0:00:01\u001b[0m\r\u001b[2K     \u001b[90m━━━━━━━━━━━━━━━━━━━━━━━━━━━━━━━━━━━━━━━━\u001b[0m \u001b[32m2.2/2.2 MB\u001b[0m \u001b[31m23.1 MB/s\u001b[0m eta \u001b[36m0:00:00\u001b[0m\n",
            "\u001b[?25hRequirement already satisfied: requests in /usr/local/lib/python3.10/dist-packages (from pykrx) (2.31.0)\n",
            "Requirement already satisfied: pandas in /usr/local/lib/python3.10/dist-packages (from pykrx) (1.5.3)\n",
            "Collecting datetime (from pykrx)\n",
            "  Downloading DateTime-5.2-py3-none-any.whl (52 kB)\n",
            "\u001b[2K     \u001b[90m━━━━━━━━━━━━━━━━━━━━━━━━━━━━━━━━━━━━━━━━\u001b[0m \u001b[32m52.2/52.2 kB\u001b[0m \u001b[31m6.1 MB/s\u001b[0m eta \u001b[36m0:00:00\u001b[0m\n",
            "\u001b[?25hRequirement already satisfied: numpy in /usr/local/lib/python3.10/dist-packages (from pykrx) (1.23.5)\n",
            "Requirement already satisfied: xlrd in /usr/local/lib/python3.10/dist-packages (from pykrx) (2.0.1)\n",
            "Collecting deprecated (from pykrx)\n",
            "  Downloading Deprecated-1.2.14-py2.py3-none-any.whl (9.6 kB)\n",
            "Requirement already satisfied: multipledispatch in /usr/local/lib/python3.10/dist-packages (from pykrx) (1.0.0)\n",
            "Requirement already satisfied: matplotlib in /usr/local/lib/python3.10/dist-packages (from pykrx) (3.7.1)\n",
            "Collecting zope.interface (from datetime->pykrx)\n",
            "  Downloading zope.interface-6.0-cp310-cp310-manylinux_2_5_x86_64.manylinux1_x86_64.manylinux_2_17_x86_64.manylinux2014_x86_64.whl (246 kB)\n",
            "\u001b[2K     \u001b[90m━━━━━━━━━━━━━━━━━━━━━━━━━━━━━━━━━━━━━━\u001b[0m \u001b[32m247.0/247.0 kB\u001b[0m \u001b[31m24.4 MB/s\u001b[0m eta \u001b[36m0:00:00\u001b[0m\n",
            "\u001b[?25hRequirement already satisfied: pytz in /usr/local/lib/python3.10/dist-packages (from datetime->pykrx) (2023.3)\n",
            "Requirement already satisfied: wrapt<2,>=1.10 in /usr/local/lib/python3.10/dist-packages (from deprecated->pykrx) (1.14.1)\n",
            "Requirement already satisfied: contourpy>=1.0.1 in /usr/local/lib/python3.10/dist-packages (from matplotlib->pykrx) (1.1.0)\n",
            "Requirement already satisfied: cycler>=0.10 in /usr/local/lib/python3.10/dist-packages (from matplotlib->pykrx) (0.11.0)\n",
            "Requirement already satisfied: fonttools>=4.22.0 in /usr/local/lib/python3.10/dist-packages (from matplotlib->pykrx) (4.42.1)\n",
            "Requirement already satisfied: kiwisolver>=1.0.1 in /usr/local/lib/python3.10/dist-packages (from matplotlib->pykrx) (1.4.4)\n",
            "Requirement already satisfied: packaging>=20.0 in /usr/local/lib/python3.10/dist-packages (from matplotlib->pykrx) (23.1)\n",
            "Requirement already satisfied: pillow>=6.2.0 in /usr/local/lib/python3.10/dist-packages (from matplotlib->pykrx) (9.4.0)\n",
            "Requirement already satisfied: pyparsing>=2.3.1 in /usr/local/lib/python3.10/dist-packages (from matplotlib->pykrx) (3.1.1)\n",
            "Requirement already satisfied: python-dateutil>=2.7 in /usr/local/lib/python3.10/dist-packages (from matplotlib->pykrx) (2.8.2)\n",
            "Requirement already satisfied: charset-normalizer<4,>=2 in /usr/local/lib/python3.10/dist-packages (from requests->pykrx) (3.2.0)\n",
            "Requirement already satisfied: idna<4,>=2.5 in /usr/local/lib/python3.10/dist-packages (from requests->pykrx) (3.4)\n",
            "Requirement already satisfied: urllib3<3,>=1.21.1 in /usr/local/lib/python3.10/dist-packages (from requests->pykrx) (2.0.4)\n",
            "Requirement already satisfied: certifi>=2017.4.17 in /usr/local/lib/python3.10/dist-packages (from requests->pykrx) (2023.7.22)\n",
            "Requirement already satisfied: six>=1.5 in /usr/local/lib/python3.10/dist-packages (from python-dateutil>=2.7->matplotlib->pykrx) (1.16.0)\n",
            "Requirement already satisfied: setuptools in /usr/local/lib/python3.10/dist-packages (from zope.interface->datetime->pykrx) (67.7.2)\n",
            "Installing collected packages: zope.interface, deprecated, datetime, pykrx\n",
            "Successfully installed datetime-5.2 deprecated-1.2.14 pykrx-1.0.45 zope.interface-6.0\n"
          ]
        }
      ]
    },
    {
      "cell_type": "code",
      "source": [
        "pip install koreanize_matplotlib"
      ],
      "metadata": {
        "colab": {
          "base_uri": "https://localhost:8080/"
        },
        "id": "bQcMHPyEDfme",
        "outputId": "8527b4d0-995e-4fdd-eb3e-2d98238f76d3"
      },
      "execution_count": 6,
      "outputs": [
        {
          "output_type": "stream",
          "name": "stdout",
          "text": [
            "Collecting koreanize_matplotlib\n",
            "  Downloading koreanize_matplotlib-0.1.1-py3-none-any.whl (7.9 MB)\n",
            "\u001b[2K     \u001b[90m━━━━━━━━━━━━━━━━━━━━━━━━━━━━━━━━━━━━━━━━\u001b[0m \u001b[32m7.9/7.9 MB\u001b[0m \u001b[31m43.2 MB/s\u001b[0m eta \u001b[36m0:00:00\u001b[0m\n",
            "\u001b[?25hRequirement already satisfied: matplotlib in /usr/local/lib/python3.10/dist-packages (from koreanize_matplotlib) (3.7.1)\n",
            "Requirement already satisfied: contourpy>=1.0.1 in /usr/local/lib/python3.10/dist-packages (from matplotlib->koreanize_matplotlib) (1.1.0)\n",
            "Requirement already satisfied: cycler>=0.10 in /usr/local/lib/python3.10/dist-packages (from matplotlib->koreanize_matplotlib) (0.11.0)\n",
            "Requirement already satisfied: fonttools>=4.22.0 in /usr/local/lib/python3.10/dist-packages (from matplotlib->koreanize_matplotlib) (4.42.1)\n",
            "Requirement already satisfied: kiwisolver>=1.0.1 in /usr/local/lib/python3.10/dist-packages (from matplotlib->koreanize_matplotlib) (1.4.4)\n",
            "Requirement already satisfied: numpy>=1.20 in /usr/local/lib/python3.10/dist-packages (from matplotlib->koreanize_matplotlib) (1.23.5)\n",
            "Requirement already satisfied: packaging>=20.0 in /usr/local/lib/python3.10/dist-packages (from matplotlib->koreanize_matplotlib) (23.1)\n",
            "Requirement already satisfied: pillow>=6.2.0 in /usr/local/lib/python3.10/dist-packages (from matplotlib->koreanize_matplotlib) (9.4.0)\n",
            "Requirement already satisfied: pyparsing>=2.3.1 in /usr/local/lib/python3.10/dist-packages (from matplotlib->koreanize_matplotlib) (3.1.1)\n",
            "Requirement already satisfied: python-dateutil>=2.7 in /usr/local/lib/python3.10/dist-packages (from matplotlib->koreanize_matplotlib) (2.8.2)\n",
            "Requirement already satisfied: six>=1.5 in /usr/local/lib/python3.10/dist-packages (from python-dateutil>=2.7->matplotlib->koreanize_matplotlib) (1.16.0)\n",
            "Installing collected packages: koreanize_matplotlib\n",
            "Successfully installed koreanize_matplotlib-0.1.1\n"
          ]
        }
      ]
    },
    {
      "cell_type": "code",
      "source": [
        "import pandas as pd\n",
        "import numpy as np\n",
        "from tqdm.auto import tqdm\n",
        "import random\n",
        "import os\n",
        "from pykrx import stock\n",
        "import matplotlib.pyplot as plt\n",
        "import koreanize_matplotlib\n",
        "import warnings\n",
        "import datetime as dt\n",
        "warnings.filterwarnings('ignore')\n",
        "\n",
        "def reset_seeds(seed):\n",
        "    random.seed(seed)\n",
        "    os.environ['PYTHONHASHSEED'] = str(seed)\n",
        "    np.random.seed(seed)\n",
        "\n",
        "DATA_PATH = \"/content/drive/MyDrive/Final_Project/data/\"\n",
        "SEED = 42"
      ],
      "metadata": {
        "id": "lmdD1qcHCQst"
      },
      "execution_count": 7,
      "outputs": []
    },
    {
      "cell_type": "code",
      "source": [
        "data = pd.read_csv(f\"{DATA_PATH}labeled_data_final2.csv\")"
      ],
      "metadata": {
        "id": "ox_xs3x1CQll"
      },
      "execution_count": 8,
      "outputs": []
    },
    {
      "cell_type": "code",
      "source": [
        "info = ['목표주가','recommendationKey','추정EPS','추정PER','동종업계ROE','동종업계enterpriseToEbitda','동종업계dividendYield','동종업계trailingEps','동종업계trailingPE']\n",
        "trading = ['sharesOutstanding','averageVolume10days','averageVolume','heldPercentInstitutions','shortRatio','sharesPercentSharesOut']\n",
        "price = ['marketCap','currentPrice','fiftyDayAverage','twoHundredDayAverage','52WeekChange','ytdReturn','fiveYearAverageReturn','beta']\n",
        "performance = ['totalRevenue','grossProfits','revenuePerShare','ebitdaMargins','EBITDAPS']\n",
        "finance = ['debtToEquity','operatingCashflow','freeCashflow','totalCashPerShare','currentRatio','quickRatio','totalCash','totalDebt','BPS']\n",
        "business = ['returnOnAssets','returnOnEquity','grossMargins','operatingMargins','profitMargins']\n",
        "value = ['priceToBook','enterpriseValue','enterpriseToRevenue','enterpriseToEbitda','trailingEps','priceToSalesTrailing12Months','trailingPE']\n",
        "dividend = ['dividendYield','dividendRate','5년평균dividendYield']\n",
        "growth = ['revenueGrowth','earningsGrowth','earningsQuarterlyGrowth','revenueQuarterlyGrowth','heldPercentInsiders']"
      ],
      "metadata": {
        "id": "ki1TmcPqCgph"
      },
      "execution_count": 9,
      "outputs": []
    },
    {
      "cell_type": "code",
      "source": [
        "data2 = data[[\"추정PER\",'동종업계trailingPE','priceToBook','enterpriseValue','enterpriseToRevenue','enterpriseToEbitda','trailingEps','priceToSalesTrailing12Months','trailingPE']]"
      ],
      "metadata": {
        "id": "mdlmUWaBCgkm"
      },
      "execution_count": 10,
      "outputs": []
    },
    {
      "cell_type": "code",
      "source": [
        "data2.iloc[1].to_dict()"
      ],
      "metadata": {
        "colab": {
          "base_uri": "https://localhost:8080/"
        },
        "id": "sDIAkDhqCgih",
        "outputId": "cac2527b-eee3-4290-d1aa-883f104a7507"
      },
      "execution_count": 11,
      "outputs": [
        {
          "output_type": "execute_result",
          "data": {
            "text/plain": [
              "{'추정PER': '69.4',\n",
              " '동종업계trailingPE': 9.59,\n",
              " 'priceToBook': 5.44,\n",
              " 'enterpriseValue': 135256086675456.0,\n",
              " 'enterpriseToRevenue': 4.508,\n",
              " 'enterpriseToEbitda': 34.66,\n",
              " 'trailingEps': 3306,\n",
              " 'priceToSalesTrailing12Months': 4.440976,\n",
              " 'trailingPE': 167.27}"
            ]
          },
          "metadata": {},
          "execution_count": 11
        }
      ]
    },
    {
      "cell_type": "code",
      "source": [
        "for k,v in data2.iloc[1].to_dict().items():\n",
        "    print(f\"{k} = {v}\")"
      ],
      "metadata": {
        "colab": {
          "base_uri": "https://localhost:8080/"
        },
        "id": "_CtIrRe9CggQ",
        "outputId": "ed0c0b65-a134-4c65-affe-e8908300b9a8"
      },
      "execution_count": 12,
      "outputs": [
        {
          "output_type": "stream",
          "name": "stdout",
          "text": [
            "추정PER = 69.4\n",
            "동종업계trailingPE = 9.59\n",
            "priceToBook = 5.44\n",
            "enterpriseValue = 135256086675456.0\n",
            "enterpriseToRevenue = 4.508\n",
            "enterpriseToEbitda = 34.66\n",
            "trailingEps = 3306\n",
            "priceToSalesTrailing12Months = 4.440976\n",
            "trailingPE = 167.27\n"
          ]
        }
      ]
    },
    {
      "cell_type": "code",
      "source": [
        "# Name                                             삼성전자\n",
        "# 추정PER                                            45.2\n",
        "# 동종업계trailingPE                                   9.59\n",
        "# priceToBook                                      1.09\n",
        "# enterpriseValue                374,294,588,686,336.00\n",
        "# enterpriseToRevenue                              1.38\n",
        "# enterpriseToEbitda                               4.62\n",
        "# trailingEps                                      8057\n",
        "# priceToSalesTrailing12Months                     1.67\n",
        "# trailingPE                                       8.55\n",
        "\n",
        "# 이러한 contents가 주어졌을 때, 다음과 같은 글을 생성해야한다.\n",
        "\n",
        "# 삼성전자는 전문가들이 추정한 추정 PER이 시장에서 기대하는 주당 이익에 비해 가격이 상당히 높으며,\n",
        "# 동종업계 trailingPE가 9.59로 동종업계 평균에 비해 고평가되고 있다.\n",
        "# 또, priceToBook가 1이상으로 안정적이며, enterpriseValue는 374,294,588,686,336으로 기업의 가치 또한 매우크다.\n",
        "# enterpriseToEbitda를 보았을 떄 기업의 가치 대비 4배이상의 수익을 내고 있는 것으로 보아 영업성과 또한 매우 우수하다.\n",
        "# 종합적으로 보았을 때, 삼성전자는 영업성과는 뛰어나지만 저평가된 상태로 향후 주가상승을 기대할 수 있을 것으로 예상된다.\n",
        "\n",
        "# Name                                             LG에너지솔루션\n",
        "# 추정PER                                            69.4\n",
        "# 동종업계trailingPE                                   9.59\n",
        "# priceToBook                                      5.44\n",
        "# enterpriseValue                135,256,086,675,456.00\n",
        "# enterpriseToRevenue                              4.51\n",
        "# enterpriseToEbitda                              34.66\n",
        "# trailingEps                                      3306\n",
        "# priceToSalesTrailing12Months                     4.44\n",
        "# trailingPE                                     167.27\n",
        "\n",
        "# 예시와 비슷한 글을 생성해줘.\n",
        "# LG에너지솔루션은 전문가들이 추정한 추정 PER가 실제 PER보다 매우 높은 것으로 보아, 현재 저평가 상태로 추정된다.\n",
        "# 또, priceToBook가 5 이상으로 매우 안정적이며, enterpriseValue는 135,256,086,675,456으로 기업의 가치 또한 매우크다.\n",
        "# enterpriseToEbitda를 보았을 때"
      ],
      "metadata": {
        "id": "f_pwz9A8Cgdt"
      },
      "execution_count": 13,
      "outputs": []
    },
    {
      "cell_type": "markdown",
      "source": [
        "## dividend"
      ],
      "metadata": {
        "id": "Q96xIzXRC4J_"
      }
    },
    {
      "cell_type": "code",
      "source": [
        "div_data = data[['Name','dividendYield','dividendRate','5년평균dividendYield','동종업계dividendYield','dividend']]"
      ],
      "metadata": {
        "id": "xKttwrwQCgbe"
      },
      "execution_count": 14,
      "outputs": []
    },
    {
      "cell_type": "code",
      "source": [
        "div_data.iloc[2].to_dict()"
      ],
      "metadata": {
        "colab": {
          "base_uri": "https://localhost:8080/"
        },
        "id": "92nY7bo1CgZY",
        "outputId": "0f696ba3-056e-49d6-ad92-cc2585cea664"
      },
      "execution_count": 15,
      "outputs": [
        {
          "output_type": "execute_result",
          "data": {
            "text/plain": [
              "{'Name': 'SK하이닉스',\n",
              " 'dividendYield': 1.01,\n",
              " 'dividendRate': 1200,\n",
              " '5년평균dividendYield': 1.4620000000000002,\n",
              " '동종업계dividendYield': 1.74,\n",
              " 'dividend': 'D'}"
            ]
          },
          "metadata": {},
          "execution_count": 15
        }
      ]
    },
    {
      "cell_type": "code",
      "source": [
        "data\n",
        "'''\n",
        "Name = SK하이닉스\n",
        "dividendYield = 1.01\n",
        "dividendRate = 1200\n",
        "5년평균dividendYield = 1.4620000000000002\n",
        "동종업계dividendYield = 1.74\n",
        "dividend = D\n",
        "'''\n",
        "content\n",
        "'''\n",
        "Dividend Yield (배당 수익률): SK하이닉스의 배당 수익률은 1.01%입니다. 이것은 주식 가격 대비 연간 배당액의 비율을 나타냅니다. 현재 수익률이 상대적으로 낮다는 것을 의미합니다.\n",
        "Dividend Rate (배당액): SK하이닉스는 연간 배당으로 1200원을 지급하고 있습니다.\n",
        "5년 평균 Dividend Yield (5년 평균 배당 수익률): SK하이닉스의 5년 평균 배당 수익률은 1.46%로 나타납니다. 이것은 최근 5년 동안의 평균 배당 수익률을 나타내며, 과거 배당 이력을 보여줍니다.\n",
        "동종업계 Dividend Yield (동종업계 배당 수익률): 동종업계 배당 수익률은 1.74%로 나타납니다. 이것은 SK하이닉스와 비슷한 업종에 속하는 다른 기업들의 평균 배당 수익률을 나타냅니다.\n",
        "-\n",
        "SK하이닉스는 연간 1,200원의 배당금을 지급하고 있으며, 연 평균 dividendYield가 1.01%, 5년 평균 dividendYield가 1.46%으로 동종업계 평균인 1.74%보다 조금 낮은 수준입니다.\n",
        "즉, 주식가격 대비 연간 배당액이 낮다는 것을 뜻하며, 현재 수익률이 상대적으로 낮다는 것을 의미합니다.\n",
        "'''\n",
        ",\n",
        "data\n",
        "'''\n",
        "Name = POSCO홀딩스\n",
        "dividendYield = 2.01\n",
        "dividendRate = 12000\n",
        "5년평균dividendYield = 4.364\n",
        "동종업계dividendYield = 3.45\n",
        "dividend = B\n",
        "'''\n",
        "content\n",
        "'''\n",
        "Dividend Yield (배당 수익률): POSCO홀딩스의 배당 수익률은 2.01%입니다. 이것은 주식 가격 대비 연간 배당액의 비율을 나타냅니다. 현재 배당 수익률은 주식 가격에 비해 비교적 낮습니다.\n",
        "Dividend Rate (배당액): POSCO홀딩스는 연간 배당으로 12,000원을 지급하고 있습니다. 이것은 주식 보유자에게 주당 배당으로 지급되는 금액을 나타냅니다.\n",
        "5년 평균 Dividend Yield (5년 평균 배당 수익률): POSCO홀딩스의 5년 평균 배당 수익률은 4.364%로 나타납니다. 이것은 최근 5년 동안의 평균 배당 수익률을 나타내며, 과거 배당 이력을 보여줍니다.\n",
        "동종업계 Dividend Yield (동종업계 배당 수익률): 동종업계 배당 수익률은 3.45%로 나타납니다. 이것은 POSCO홀딩스와 같은 업종에 속하는 다른 기업들의 평균 배당 수익률을 나타내며, 업계 내에서의 비교를 제공합니다.\n",
        "-\n",
        "POSCO홀딩스는 연간 12,000원의 배당금을 지급하고 있으며, 연 평균 dividendYield가 2.01%, 5년 평균 dividendYield가 4.364%로 동종업계 평균인 3.45%보다 높은 수준입니다.\n",
        "배당 수익률이 주식 가격에 비해 낮지만 dividendYield가 4% 이상이기 때문에 고배당 주식이라고 할 수 있습니다.\n",
        "'''\n",
        "\n",
        "#위와 같은 방식으로 아래 data의 content를 출력\n",
        "data\n",
        "'''\n",
        "Name = LG화학\n",
        "dividendYield = 1.59\n",
        "dividendRate = 10000\n",
        "5년평균dividendYield = 1.438\n",
        "동종업계dividendYield = 2.25\n",
        "dividend = D\n",
        "'''"
      ],
      "metadata": {
        "id": "S5dkitGhCgXZ"
      },
      "execution_count": null,
      "outputs": []
    },
    {
      "cell_type": "markdown",
      "source": [
        "## growth"
      ],
      "metadata": {
        "id": "nZGb-dFfDEXE"
      }
    },
    {
      "cell_type": "code",
      "source": [
        "grw_data = data[['Name','revenueGrowth','earningsGrowth','earningsQuarterlyGrowth','revenueQuarterlyGrowth','heldPercentInsiders','growth']]"
      ],
      "metadata": {
        "id": "6IBa8zVWDFMa"
      },
      "execution_count": 17,
      "outputs": []
    },
    {
      "cell_type": "code",
      "source": [
        "grw_data.iloc[3].to_dict()"
      ],
      "metadata": {
        "colab": {
          "base_uri": "https://localhost:8080/"
        },
        "id": "3g97UQa0CgUs",
        "outputId": "e8c2c459-0d79-4b61-b6bf-b2b0b3ae452e"
      },
      "execution_count": 18,
      "outputs": [
        {
          "output_type": "execute_result",
          "data": {
            "text/plain": [
              "{'Name': '삼성바이오로직스',\n",
              " 'revenueGrowth': 91.4094387755102,\n",
              " 'earningsGrowth': 102.76930894308944,\n",
              " 'earningsQuarterlyGrowth': -3.4717494894486043,\n",
              " 'revenueQuarterlyGrowth': 40.99354586348523,\n",
              " 'heldPercentInsiders': 0.75171,\n",
              " 'growth': 'A'}"
            ]
          },
          "metadata": {},
          "execution_count": 18
        }
      ]
    },
    {
      "cell_type": "code",
      "source": [
        "data\n",
        "'''\n",
        "'Name': 'SK하이닉스',\n",
        "'revenueGrowth': 3.776472284628516,\n",
        "'earningsGrowth': -76.68829683242862,\n",
        "'earningsQuarterlyGrowth': -230.3898330727721,\n",
        "'revenueQuarterlyGrowth': -58.14227070427865,\n",
        "'heldPercentInsiders': 0.20546,\n",
        "'label': 'C'\n",
        "'''\n",
        "content\n",
        "'''\n",
        "Revenue Growth (매출 성장률): 최근 기간 동안 기업의 매출이 얼마나 성장했는지를 나타냅니다.\n",
        "Earnings Growth (이익 성장률): 최근 기간 동안 기업의 순이익이 얼마나 감소했는지를 나타냅니다. 음수 값은 이익이 줄어들었음을 나타냅니다.\n",
        "Earnings Quarterly Growth (분기별 이익 성장률): 최근 분기 동안 기업의 이익이 크게 감소했음을 나타냅니다.\n",
        "Revenue Quarterly Growth (분기별 매출 성장률): 최근 분기 동안 기업의 매출이 크게 감소했음을 나타냅니다.\n",
        "Held Percent Insiders (내부자 보유 비율): 내부자의 주식 보유 비율은 기업의 경영에 대한 관심과 연관성을 나타내는 중요한 지표 중 하나입니다.\n",
        "-\n",
        "SK 하이닉스의 연 매출은 3.78% 성장했으나 연간 이익은 -76%로 감소하였으며, 특히 분기별 매출 및 이익 성장이 대폭 감소하였습니다.\n",
        "내부자 보유 비율은 약 20%로 회사가 경영성과 및 주가 상승에 큰 관심을 가질 가능성이 높습니다.\n",
        "'''\n",
        "\n",
        "#위와 같은 방식으로 아래 data의 content를 출력\n",
        "data\n",
        "'''\n",
        "Name': '삼성바이오로직스',\n",
        "'revenueGrowth': 91.4094387755102,\n",
        "'earningsGrowth': 102.76930894308944,\n",
        "'earningsQuarterlyGrowth': -3.4717494894486043,\n",
        "'revenueQuarterlyGrowth': 40.99354586348523,\n",
        "'heldPercentInsiders': 0.75171,\n",
        "'label': 'A'\n",
        "'''"
      ],
      "metadata": {
        "id": "j8Ozua-ZCgSW"
      },
      "execution_count": null,
      "outputs": []
    },
    {
      "cell_type": "markdown",
      "source": [
        "##business"
      ],
      "metadata": {
        "id": "uGmT-93lDKMz"
      }
    },
    {
      "cell_type": "code",
      "source": [
        "bus_data = data[['Name','returnOnAssets','returnOnEquity','grossMargins','operatingMargins','profitMargins','동종업계ROE', 'business']]"
      ],
      "metadata": {
        "id": "LMvpPgTECgQM"
      },
      "execution_count": 19,
      "outputs": []
    },
    {
      "cell_type": "code",
      "source": [
        "bus_data.iloc[3].to_dict()"
      ],
      "metadata": {
        "colab": {
          "base_uri": "https://localhost:8080/"
        },
        "id": "biMinIWpDALp",
        "outputId": "2ad17014-d170-42aa-83e0-da2559e73803"
      },
      "execution_count": 20,
      "outputs": [
        {
          "output_type": "execute_result",
          "data": {
            "text/plain": [
              "{'Name': '삼성바이오로직스',\n",
              " 'returnOnAssets': 6.5,\n",
              " 'returnOnEquity': 11.42,\n",
              " 'grossMargins': 0.48978,\n",
              " 'operatingMargins': 0.31111,\n",
              " 'profitMargins': 0.24693,\n",
              " '동종업계ROE': 8.16,\n",
              " 'business': 'A'}"
            ]
          },
          "metadata": {},
          "execution_count": 20
        }
      ]
    },
    {
      "cell_type": "code",
      "source": [
        "data\n",
        "'''\n",
        "'Name': 'SK하이닉스',\n",
        "'returnOnAssets': 2.24,\n",
        "'returnOnEquity': 3.56,\n",
        "'grossMargins': 0.22850999,\n",
        "'operatingMargins': 0.01446,\n",
        "'profitMargins': -0.06215,\n",
        "'동종업계ROE': 12.95,\n",
        "'label': 'C'\n",
        "'''\n",
        "content\n",
        "'''\n",
        "Return on Assets (자산 수익률): 기업이 보유한 자산을 활용하여 얻은 이익을 나타냅니다. 높은 자산 수익률은 효율적인 자산 운용을 나타낼 수 있습니다.\n",
        "Return on Equity (자본 수익률): 기업의 주주 자본을 활용하여 얻은 이익을 나타냅니다. 높은 자본 수익률은 주주에게 높은 수익을 제공하는 것을 의미할 수 있습니다.\n",
        "Gross Margins (총매출이익률): 기업이 제품을 생산하고 판매할 때 발생하는 총 이익의 비율을 나타냅니다. 높은 총매출이익률은 제품 생산의 효율성을 나타냅니다.\n",
        "Operating Margins (운영이익률): 기업의 운영 활동을 통해 얻은 이익의 비율을 나타냅니다. 운영이익률은 기업의 비용 관리 능력을 나타냅니다.\n",
        "Profit Margins (순이익률): 기업의 총 수익에서 모든 비용과 손실을 고려한 후 얻은 순이익의 비율을 나타냅니다. 음수 값은 순손실을 나타냅니다.\n",
        "동종업계 ROE (동종업계 자본 수익률): SK하이닉스와 같은 업계 내 다른 기업들의 자본 수익률의 평균을 나타냅니다.\n",
        "-\n",
        "SK하이닉스의 자산 수익률은 2.24%, 자본 수익률은 3.56%로 동종업계의 자본 수익률인 12.95%에 비해 현저히 낮습니다.\n",
        "총매출이익은 22.8%로 제품 생산의 효율성은 좋으나 순이익이 -6.2% 감소했습니다.\n",
        "낮은 자본 수익률과 순 이익은 주주 자본의 효율적인 활용을 나타내지 않을 수 있습니다.\n",
        "'''\n",
        "\n",
        "#위와 같은 방식으로 아래 data의 content를 출력\n",
        "data\n",
        "'''\n",
        "'Name': '삼성바이오로직스',\n",
        "'returnOnAssets': 6.5,\n",
        "'returnOnEquity': 11.42,\n",
        "'grossMargins': 0.48978,\n",
        "'operatingMargins': 0.31111,\n",
        "'profitMargins': 0.24693,\n",
        "'동종업계ROE': 8.16,\n",
        "'business': 'A'\n",
        "'''"
      ],
      "metadata": {
        "id": "X09QpVwsDAIo"
      },
      "execution_count": null,
      "outputs": []
    },
    {
      "cell_type": "markdown",
      "source": [
        "## finance"
      ],
      "metadata": {
        "id": "2uxseQXrDP-Y"
      }
    },
    {
      "cell_type": "code",
      "source": [
        "fin_data = data[['Name','debtToEquity','operatingCashflow','freeCashflow','totalCashPerShare','currentRatio','quickRatio','totalCash','totalDebt','BPS','finance']]"
      ],
      "metadata": {
        "id": "J5PjVj8jDAGO"
      },
      "execution_count": 21,
      "outputs": []
    },
    {
      "cell_type": "code",
      "source": [
        "fin_data.iloc[8].to_dict()"
      ],
      "metadata": {
        "colab": {
          "base_uri": "https://localhost:8080/"
        },
        "id": "WU4UjYPVDSeF",
        "outputId": "af0a8346-a4f8-45e3-9654-6b908efb8004"
      },
      "execution_count": 22,
      "outputs": [
        {
          "output_type": "execute_result",
          "data": {
            "text/plain": [
              "{'Name': 'NAVER',\n",
              " 'debtToEquity': 44.55678605390976,\n",
              " 'operatingCashflow': 14534.0,\n",
              " 'freeCashflow': -7252.0,\n",
              " 'totalCashPerShare': 18093.30251587365,\n",
              " 'currentRatio': 1.003,\n",
              " 'quickRatio': 0.719,\n",
              " 'totalCash': 27242.0,\n",
              " 'totalDebt': 104487.0,\n",
              " 'BPS': 151646,\n",
              " 'finance': 'H'}"
            ]
          },
          "metadata": {},
          "execution_count": 22
        }
      ]
    },
    {
      "cell_type": "code",
      "source": [
        "data\n",
        "'''\n",
        "'Name': '현대차',\n",
        "'debtToEquity': 181.3556077516736,\n",
        "'operatingCashflow': 106273.0,\n",
        "'freeCashflow': -25556.0,\n",
        "'totalCashPerShare': 102845.58055166702,\n",
        "'currentRatio': 78.602,\n",
        "'quickRatio': 59.352,\n",
        "'totalCash': 208649.0,\n",
        "'totalDebt': 1648459.0,\n",
        "'BPS': 407147,\n",
        "'finance': 'B'\n",
        "'''\n",
        "content\n",
        "'''\n",
        "Debt to Equity (부채 대 자본 비율): 기업의 부채와 자본 사이의 비율을 나타내며, 높은 부채 대 자본 비율은 높은 부채 부담을 의미할 수 있습니다.\n",
        "Operating Cash Flow (운영현금흐름): 운영현금흐름은 106,273억 원입니다. 이것은 기업이 운영 활동을 통해 생성한 현금흐름을 나타내며, 기업의 재무 건전성을 평가하는 중요한 지표 중 하나입니다.\n",
        "Free Cash Flow (자유현금흐름): 자유현금흐름은 -25,556억 원으로 음수입니다. 음수 자유현금흐름은 운영 활동에서 생성된 현금이 투자 및 재무 활동에 사용되는 것을 나타냅니다.\n",
        "Total Cash per Share (주당 총 현금): 주당 총 현금은 102,845.58원입니다. 이것은 각 주식이 가지고 있는 회사의 총 현금을 나타내며, 주식 가격과 비교할 때 얼마나 많은 현금이 있는지를 나타냅니다.\n",
        "Current Ratio (유동비율): 유동비율은 78.60입니다. 이것은 현재 자산을 현재 부채로 나눈 비율로, 기업의 단기 빌릴 능력을 나타냅니다. 높은 유동비율은 기업의 단기 지급능력이 높음을 나타낼 수 있습니다.\n",
        "Quick Ratio (퀵비율): 퀵비율은 59.35입니다. 이것은 현금과 현금 등가물을 현재 부채로 나눈 비율로, 더 엄격한 기준으로 단기 빌릴 능력을 나타냅니다.\n",
        "Total Cash (총 현금): 총 현금은 208,649억 원입니다. 이것은 기업의 총 보유 현금액을 나타냅니다.\n",
        "Total Debt (총 부채): 총 부채는 1,648,459억 원입니다. 이것은 기업의 총 부채액을 나타내며, 부채를 상환하는 데 필요한 자금을 나타냅니다.\n",
        "BPS (주당 자산가치): 주당 자산가치는 407,147원입니다. 이것은 각 주식이 회사의 자산가치에 대한 지분을 나타내며, 주식의 가치를 추정하는 데 사용될 수 있습니다.\n",
        "-\n",
        "현대차의 부채 대비 자본비율은 181으로 높은 부채 부담이 있지만 유동비율이 78%, 퀵비율이 59%로 부채 상환 능력이 뛰어나다고 할 수 있습니다.\n",
        "운영현금흐름은 약 10조 이상으로 매우 건전하나 자유현금흐름이 -2조로 현금의 수익보다 지출이 많다는 것을 의미합니다.\n",
        "즉, 현재 높은 부채 부담이 있으며 자산보다 부채가 많은 상황이지만, 현금 보유량 및 유동자산이 상대적으로 많아 단기 상환 능력이 뛰어납니다.\n",
        "'''\n",
        "\n",
        "#위와 같은 방식으로 아래 data의 content를 출력\n",
        "data\n",
        "'''\n",
        "'Name': 'NAVER',\n",
        "'debtToEquity': 44.55678605390976,\n",
        "'operatingCashflow': 14534.0,\n",
        "'freeCashflow': -7252.0,\n",
        "'totalCashPerShare': 18093.30251587365,\n",
        "'currentRatio': 1.003,\n",
        "'quickRatio': 0.719,\n",
        "'totalCash': 27242.0,\n",
        "'totalDebt': 104487.0,\n",
        "'BPS': 151646,\n",
        "'finance': 'H'\n",
        "'''"
      ],
      "metadata": {
        "id": "PRydR2A7DScA"
      },
      "execution_count": null,
      "outputs": []
    },
    {
      "cell_type": "markdown",
      "source": [
        "## performance"
      ],
      "metadata": {
        "id": "ZIJt18npDWZm"
      }
    },
    {
      "cell_type": "code",
      "source": [
        "pef_data = data[['Name','totalRevenue','grossProfits','revenuePerShare','ebitdaMargins','EBITDAPS','동종업계enterpriseToEbitda','performance']]"
      ],
      "metadata": {
        "id": "64MjbAtFDSZF"
      },
      "execution_count": 23,
      "outputs": []
    },
    {
      "cell_type": "code",
      "source": [
        "pef_data.iloc[3].to_dict()"
      ],
      "metadata": {
        "colab": {
          "base_uri": "https://localhost:8080/"
        },
        "id": "LNOO2wmfDSXB",
        "outputId": "d6e97cde-0200-4c5a-9f3f-c5003bd1dcf6"
      },
      "execution_count": 25,
      "outputs": [
        {
          "output_type": "execute_result",
          "data": {
            "text/plain": [
              "{'Name': '삼성바이오로직스',\n",
              " 'totalRevenue': 30013.0,\n",
              " 'grossProfits': 9836.0,\n",
              " 'revenuePerShare': 45224.754,\n",
              " 'ebitdaMargins': 0.4253,\n",
              " 'EBITDAPS': 18442.0,\n",
              " '동종업계enterpriseToEbitda': 28.47,\n",
              " 'performance': 'D'}"
            ]
          },
          "metadata": {},
          "execution_count": 25
        }
      ]
    },
    {
      "cell_type": "code",
      "source": [
        "data\n",
        "'''\n",
        "'Name': 'SK하이닉스',\n",
        "'totalRevenue': 446216.0,\n",
        "'grossProfits': 68094.0,\n",
        "'revenuePerShare': 54607.414,\n",
        "'ebitdaMargins': 0.38006002,\n",
        "'EBITDAPS': 28792.0,\n",
        "'동종업계enterpriseToEbitda': 5.49,\n",
        "'performance': 'A'\n",
        "'''\n",
        "content\n",
        "'''\n",
        "Total Revenue (총 매출액): 총 매출액은 446,216억 원입니다. 이것은 기업이 특정 기간 동안 전체 매출로 얻은 수익을 나타냅니다.\n",
        "Gross Profits (총 이익): 총 이익은 68,094억 원입니다. 이것은 기업이 제품을 생산하고 판매함으로써 발생한 총 이익을 나타냅니다.\n",
        "Revenue Per Share (주당 매출액): 주당 매출액은 54,607.414원입니다. 이것은 각 주식이 회사의 총 매출에 대한 지분을 나타내며, 주식의 가치를 추정하는 데 사용될 수 있습니다.\n",
        "EBITDA Margins (EBITDA 마진): EBITDA 마진은 38.01%입니다. EBITDA (이자, 세금, 감가상각, 원가 등을 고려하지 않는 기업의 이익)의 비율로, 기업이 운영 활동에서 얼마나 많은 이익을 생성하는지를 나타냅니다.\n",
        "EBITDA Per Share (주당 EBITDA): 주당 EBITDA는 28,792원입니다. 이것은 각 주식이 회사의 EBITDA에 대한 지분을 나타내며, 회사의 운영 성능을 추정하는 데 사용될 수 있습니다.\n",
        "동종업계 Enterprise to EBITDA (동종업계 EBITDA 대비 기업가치): 동종업계 EBITDA 대비 기업가치는 5.49입니다. 이것은 해당 기업의 시장 가치가 동종업계의 평균 EBITDA에 비해 얼마나 높은지를 나타내며, 기업의 가치 평가에 도움을 줄 수 있습니다.\n",
        "'''\n",
        "\n",
        "#위와 같은 방식으로 아래 data의 content를 출력\n",
        "data\n",
        "'''\n",
        "'Name': '삼성바이오로직스',\n",
        "'totalRevenue': 30013.0,\n",
        "'grossProfits': 9836.0,\n",
        "'revenuePerShare': 45224.754,\n",
        "'ebitdaMargins': 0.4253,\n",
        "'EBITDAPS': 18442.0,\n",
        "'동종업계enterpriseToEbitda': 28.47,\n",
        "'performance': 'D'\n",
        "'''\n"
      ],
      "metadata": {
        "id": "CGT1G939DZzi"
      },
      "execution_count": null,
      "outputs": []
    }
  ]
}