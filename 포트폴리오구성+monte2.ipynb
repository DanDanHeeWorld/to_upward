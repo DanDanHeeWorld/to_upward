{
 "cells": [
  {
   "cell_type": "code",
   "execution_count": 249,
   "metadata": {},
   "outputs": [],
   "source": [
    "import pandas as pd\n",
    "import numpy as np\n",
    "from tqdm.auto import tqdm\n",
    "import random\n",
    "import os\n",
    "from pykrx import stock\n",
    "import matplotlib.pyplot as plt\n",
    "import koreanize_matplotlib\n",
    "import warnings\n",
    "warnings.filterwarnings('ignore')\n",
    "\n",
    "def reset_seeds(seed):\n",
    "    random.seed(seed)\n",
    "    os.environ['PYTHONHASHSEED'] = str(seed)\n",
    "    np.random.seed(seed)\n",
    "\n",
    "DATA_PATH = \"/Users/idanhui/python-code/파이널 프로젝트/data/\"\n",
    "SEED = 42"
   ]
  },
  {
   "cell_type": "code",
   "execution_count": 250,
   "metadata": {},
   "outputs": [],
   "source": [
    "import to_upward"
   ]
  },
  {
   "cell_type": "code",
   "execution_count": 251,
   "metadata": {},
   "outputs": [],
   "source": [
    "data = pd.read_csv(f\"{DATA_PATH}labeled_data_final.csv\")\n",
    "def pad_str(str_list, target_len):\n",
    "\n",
    "  padded_str_list = []\n",
    "  for str in str_list:\n",
    "    if len(str) < target_len:\n",
    "      padded_str = \"0\" * (target_len - len(str)) + str\n",
    "    else:\n",
    "      padded_str = str\n",
    "    padded_str_list.append(padded_str)\n",
    "  return padded_str_list\n",
    "str_list = data.Code.astype(str).to_list()\n",
    "target_len = 6\n",
    "padded_str_list = pad_str(str_list, target_len)\n",
    "\n",
    "data.Code = padded_str_list"
   ]
  },
  {
   "cell_type": "code",
   "execution_count": 252,
   "metadata": {},
   "outputs": [
    {
     "name": "stdout",
     "output_type": "stream",
     "text": [
      "20220909 20230909\n"
     ]
    }
   ],
   "source": [
    "import datetime as dt\n",
    "end_03 = dt.datetime(2023,3,1).strftime(\"%Y%m%d\")\n",
    "start_03 = (dt.datetime.today().date() - dt.timedelta(365)).strftime(\"%Y%m%d\")\n",
    "end = dt.datetime.today().date().strftime(\"%Y%m%d\")\n",
    "start = (dt.datetime.today().date() - dt.timedelta(365)).strftime(\"%Y%m%d\")\n",
    "# end = dt.datetime(2022,12,31).strftime(\"%Y%m%d\")\n",
    "# start = (dt.datetime(2022,12,31) - dt.timedelta(180)).strftime(\"%Y%m%d\")\n",
    "print(start,end)"
   ]
  },
  {
   "cell_type": "code",
   "execution_count": 253,
   "metadata": {},
   "outputs": [
    {
     "data": {
      "text/html": [
       "<div>\n",
       "<style scoped>\n",
       "    .dataframe tbody tr th:only-of-type {\n",
       "        vertical-align: middle;\n",
       "    }\n",
       "\n",
       "    .dataframe tbody tr th {\n",
       "        vertical-align: top;\n",
       "    }\n",
       "\n",
       "    .dataframe thead th {\n",
       "        text-align: right;\n",
       "    }\n",
       "</style>\n",
       "<table border=\"1\" class=\"dataframe\">\n",
       "  <thead>\n",
       "    <tr style=\"text-align: right;\">\n",
       "      <th></th>\n",
       "      <th>Code</th>\n",
       "      <th>Name</th>\n",
       "      <th>Market</th>\n",
       "      <th>recommendationKey</th>\n",
       "      <th>sharesOutstanding</th>\n",
       "      <th>averageVolume10days</th>\n",
       "      <th>averageVolume</th>\n",
       "      <th>heldPercentInstitutions</th>\n",
       "      <th>shortRatio</th>\n",
       "      <th>sharesPercentSharesOut</th>\n",
       "      <th>...</th>\n",
       "      <th>5년평균dividendYield</th>\n",
       "      <th>EBITDAPS</th>\n",
       "      <th>동종업계_대비_PER</th>\n",
       "      <th>dividend</th>\n",
       "      <th>growth</th>\n",
       "      <th>value</th>\n",
       "      <th>business</th>\n",
       "      <th>finance</th>\n",
       "      <th>performance</th>\n",
       "      <th>volitality</th>\n",
       "    </tr>\n",
       "  </thead>\n",
       "  <tbody>\n",
       "    <tr>\n",
       "      <th>0</th>\n",
       "      <td>005930</td>\n",
       "      <td>삼성전자</td>\n",
       "      <td>KOSPI</td>\n",
       "      <td>4.0</td>\n",
       "      <td>5.969780e+09</td>\n",
       "      <td>15819172.0</td>\n",
       "      <td>13878613.0</td>\n",
       "      <td>0.47631</td>\n",
       "      <td>4.28</td>\n",
       "      <td>0.000124</td>\n",
       "      <td>...</td>\n",
       "      <td>2.870</td>\n",
       "      <td>12143.0</td>\n",
       "      <td>-1.04</td>\n",
       "      <td>C</td>\n",
       "      <td>C</td>\n",
       "      <td>D</td>\n",
       "      <td>B</td>\n",
       "      <td>F</td>\n",
       "      <td>A+</td>\n",
       "      <td>C</td>\n",
       "    </tr>\n",
       "    <tr>\n",
       "      <th>2</th>\n",
       "      <td>000660</td>\n",
       "      <td>SK하이닉스</td>\n",
       "      <td>KOSPI</td>\n",
       "      <td>4.0</td>\n",
       "      <td>7.082170e+08</td>\n",
       "      <td>4628225.0</td>\n",
       "      <td>3960678.0</td>\n",
       "      <td>0.40008</td>\n",
       "      <td>2.00</td>\n",
       "      <td>0.000072</td>\n",
       "      <td>...</td>\n",
       "      <td>1.462</td>\n",
       "      <td>28792.0</td>\n",
       "      <td>26.96</td>\n",
       "      <td>D</td>\n",
       "      <td>C</td>\n",
       "      <td>C</td>\n",
       "      <td>C</td>\n",
       "      <td>H</td>\n",
       "      <td>A</td>\n",
       "      <td>B</td>\n",
       "    </tr>\n",
       "    <tr>\n",
       "      <th>4</th>\n",
       "      <td>005490</td>\n",
       "      <td>POSCO홀딩스</td>\n",
       "      <td>KOSPI</td>\n",
       "      <td>3.9</td>\n",
       "      <td>7.587620e+07</td>\n",
       "      <td>2944335.0</td>\n",
       "      <td>1697713.0</td>\n",
       "      <td>0.30222</td>\n",
       "      <td>8.45</td>\n",
       "      <td>0.001327</td>\n",
       "      <td>...</td>\n",
       "      <td>4.364</td>\n",
       "      <td>99067.0</td>\n",
       "      <td>8.11</td>\n",
       "      <td>B</td>\n",
       "      <td>C</td>\n",
       "      <td>D</td>\n",
       "      <td>B</td>\n",
       "      <td>G</td>\n",
       "      <td>B</td>\n",
       "      <td>B</td>\n",
       "    </tr>\n",
       "    <tr>\n",
       "      <th>5</th>\n",
       "      <td>051910</td>\n",
       "      <td>LG화학</td>\n",
       "      <td>KOSPI</td>\n",
       "      <td>4.0</td>\n",
       "      <td>7.059230e+07</td>\n",
       "      <td>399881.0</td>\n",
       "      <td>287432.0</td>\n",
       "      <td>0.36433</td>\n",
       "      <td>6.50</td>\n",
       "      <td>0.000188</td>\n",
       "      <td>...</td>\n",
       "      <td>1.438</td>\n",
       "      <td>81652.0</td>\n",
       "      <td>14.63</td>\n",
       "      <td>D</td>\n",
       "      <td>C</td>\n",
       "      <td>D</td>\n",
       "      <td>B</td>\n",
       "      <td>G</td>\n",
       "      <td>B</td>\n",
       "      <td>C</td>\n",
       "    </tr>\n",
       "    <tr>\n",
       "      <th>7</th>\n",
       "      <td>005380</td>\n",
       "      <td>현대차</td>\n",
       "      <td>KOSPI</td>\n",
       "      <td>4.0</td>\n",
       "      <td>2.028760e+08</td>\n",
       "      <td>699789.0</td>\n",
       "      <td>594572.0</td>\n",
       "      <td>0.22792</td>\n",
       "      <td>4.89</td>\n",
       "      <td>0.000088</td>\n",
       "      <td>...</td>\n",
       "      <td>3.058</td>\n",
       "      <td>53685.0</td>\n",
       "      <td>-2.62</td>\n",
       "      <td>C</td>\n",
       "      <td>B</td>\n",
       "      <td>E</td>\n",
       "      <td>C</td>\n",
       "      <td>B</td>\n",
       "      <td>A</td>\n",
       "      <td>C</td>\n",
       "    </tr>\n",
       "    <tr>\n",
       "      <th>10</th>\n",
       "      <td>000270</td>\n",
       "      <td>기아</td>\n",
       "      <td>KOSPI</td>\n",
       "      <td>4.0</td>\n",
       "      <td>3.950820e+08</td>\n",
       "      <td>1446978.0</td>\n",
       "      <td>1229388.0</td>\n",
       "      <td>0.27907</td>\n",
       "      <td>17.01</td>\n",
       "      <td>0.000407</td>\n",
       "      <td>...</td>\n",
       "      <td>3.284</td>\n",
       "      <td>23820.0</td>\n",
       "      <td>-3.41</td>\n",
       "      <td>C</td>\n",
       "      <td>B</td>\n",
       "      <td>E</td>\n",
       "      <td>B</td>\n",
       "      <td>G</td>\n",
       "      <td>A</td>\n",
       "      <td>C</td>\n",
       "    </tr>\n",
       "    <tr>\n",
       "      <th>18</th>\n",
       "      <td>066570</td>\n",
       "      <td>LG전자</td>\n",
       "      <td>KOSPI</td>\n",
       "      <td>4.0</td>\n",
       "      <td>1.628850e+08</td>\n",
       "      <td>1065618.0</td>\n",
       "      <td>825302.0</td>\n",
       "      <td>0.26213</td>\n",
       "      <td>11.11</td>\n",
       "      <td>0.000518</td>\n",
       "      <td>...</td>\n",
       "      <td>0.912</td>\n",
       "      <td>36144.0</td>\n",
       "      <td>6.18</td>\n",
       "      <td>E</td>\n",
       "      <td>C</td>\n",
       "      <td>D</td>\n",
       "      <td>C</td>\n",
       "      <td>F</td>\n",
       "      <td>A</td>\n",
       "      <td>C</td>\n",
       "    </tr>\n",
       "    <tr>\n",
       "      <th>39</th>\n",
       "      <td>011200</td>\n",
       "      <td>HMM</td>\n",
       "      <td>KOSPI</td>\n",
       "      <td>3.2</td>\n",
       "      <td>4.890390e+08</td>\n",
       "      <td>1838939.0</td>\n",
       "      <td>2279608.0</td>\n",
       "      <td>0.30701</td>\n",
       "      <td>7.00</td>\n",
       "      <td>0.000117</td>\n",
       "      <td>...</td>\n",
       "      <td>3.430</td>\n",
       "      <td>22066.0</td>\n",
       "      <td>-1.80</td>\n",
       "      <td>C</td>\n",
       "      <td>C</td>\n",
       "      <td>E</td>\n",
       "      <td>A</td>\n",
       "      <td>H</td>\n",
       "      <td>A</td>\n",
       "      <td>A</td>\n",
       "    </tr>\n",
       "    <tr>\n",
       "      <th>58</th>\n",
       "      <td>011070</td>\n",
       "      <td>LG이노텍</td>\n",
       "      <td>KOSPI</td>\n",
       "      <td>4.0</td>\n",
       "      <td>2.366450e+07</td>\n",
       "      <td>235885.0</td>\n",
       "      <td>179614.0</td>\n",
       "      <td>0.28444</td>\n",
       "      <td>6.32</td>\n",
       "      <td>0.000281</td>\n",
       "      <td>...</td>\n",
       "      <td>0.680</td>\n",
       "      <td>91158.0</td>\n",
       "      <td>-3.29</td>\n",
       "      <td>E</td>\n",
       "      <td>C</td>\n",
       "      <td>E</td>\n",
       "      <td>B</td>\n",
       "      <td>H</td>\n",
       "      <td>B</td>\n",
       "      <td>C</td>\n",
       "    </tr>\n",
       "    <tr>\n",
       "      <th>109</th>\n",
       "      <td>039490</td>\n",
       "      <td>키움증권</td>\n",
       "      <td>KOSPI</td>\n",
       "      <td>4.0</td>\n",
       "      <td>2.481950e+07</td>\n",
       "      <td>106650.0</td>\n",
       "      <td>70016.0</td>\n",
       "      <td>0.31125</td>\n",
       "      <td>3.37</td>\n",
       "      <td>0.000165</td>\n",
       "      <td>...</td>\n",
       "      <td>1.676</td>\n",
       "      <td>161107.0</td>\n",
       "      <td>-0.58</td>\n",
       "      <td>D</td>\n",
       "      <td>B</td>\n",
       "      <td>E</td>\n",
       "      <td>A</td>\n",
       "      <td>F</td>\n",
       "      <td>B</td>\n",
       "      <td>C</td>\n",
       "    </tr>\n",
       "    <tr>\n",
       "      <th>123</th>\n",
       "      <td>298050</td>\n",
       "      <td>효성첨단소재</td>\n",
       "      <td>KOSPI</td>\n",
       "      <td>4.0</td>\n",
       "      <td>4.468020e+06</td>\n",
       "      <td>44898.0</td>\n",
       "      <td>36340.0</td>\n",
       "      <td>0.16986</td>\n",
       "      <td>9.14</td>\n",
       "      <td>0.000277</td>\n",
       "      <td>...</td>\n",
       "      <td>3.090</td>\n",
       "      <td>111743.0</td>\n",
       "      <td>4.44</td>\n",
       "      <td>C</td>\n",
       "      <td>C</td>\n",
       "      <td>D</td>\n",
       "      <td>B</td>\n",
       "      <td>H</td>\n",
       "      <td>B</td>\n",
       "      <td>A</td>\n",
       "    </tr>\n",
       "    <tr>\n",
       "      <th>126</th>\n",
       "      <td>000150</td>\n",
       "      <td>두산</td>\n",
       "      <td>KOSPI</td>\n",
       "      <td>4.0</td>\n",
       "      <td>1.352300e+07</td>\n",
       "      <td>658877.0</td>\n",
       "      <td>187241.0</td>\n",
       "      <td>0.16583</td>\n",
       "      <td>2.00</td>\n",
       "      <td>0.000307</td>\n",
       "      <td>...</td>\n",
       "      <td>0.530</td>\n",
       "      <td>81455.0</td>\n",
       "      <td>-5.53</td>\n",
       "      <td>E</td>\n",
       "      <td>B</td>\n",
       "      <td>E</td>\n",
       "      <td>C</td>\n",
       "      <td>H</td>\n",
       "      <td>B</td>\n",
       "      <td>C</td>\n",
       "    </tr>\n",
       "    <tr>\n",
       "      <th>144</th>\n",
       "      <td>298020</td>\n",
       "      <td>효성티앤씨</td>\n",
       "      <td>KOSPI</td>\n",
       "      <td>4.0</td>\n",
       "      <td>4.315690e+06</td>\n",
       "      <td>28801.0</td>\n",
       "      <td>27215.0</td>\n",
       "      <td>0.17997</td>\n",
       "      <td>3.02</td>\n",
       "      <td>0.000156</td>\n",
       "      <td>...</td>\n",
       "      <td>3.332</td>\n",
       "      <td>83355.0</td>\n",
       "      <td>114.41</td>\n",
       "      <td>C</td>\n",
       "      <td>C</td>\n",
       "      <td>D</td>\n",
       "      <td>C</td>\n",
       "      <td>H</td>\n",
       "      <td>B</td>\n",
       "      <td>C</td>\n",
       "    </tr>\n",
       "  </tbody>\n",
       "</table>\n",
       "<p>13 rows × 72 columns</p>\n",
       "</div>"
      ],
      "text/plain": [
       "       Code      Name Market recommendationKey  sharesOutstanding  \\\n",
       "0    005930      삼성전자  KOSPI               4.0       5.969780e+09   \n",
       "2    000660    SK하이닉스  KOSPI               4.0       7.082170e+08   \n",
       "4    005490  POSCO홀딩스  KOSPI               3.9       7.587620e+07   \n",
       "5    051910      LG화학  KOSPI               4.0       7.059230e+07   \n",
       "7    005380       현대차  KOSPI               4.0       2.028760e+08   \n",
       "10   000270        기아  KOSPI               4.0       3.950820e+08   \n",
       "18   066570      LG전자  KOSPI               4.0       1.628850e+08   \n",
       "39   011200       HMM  KOSPI               3.2       4.890390e+08   \n",
       "58   011070     LG이노텍  KOSPI               4.0       2.366450e+07   \n",
       "109  039490      키움증권  KOSPI               4.0       2.481950e+07   \n",
       "123  298050    효성첨단소재  KOSPI               4.0       4.468020e+06   \n",
       "126  000150        두산  KOSPI               4.0       1.352300e+07   \n",
       "144  298020     효성티앤씨  KOSPI               4.0       4.315690e+06   \n",
       "\n",
       "     averageVolume10days  averageVolume  heldPercentInstitutions  shortRatio  \\\n",
       "0             15819172.0     13878613.0                  0.47631        4.28   \n",
       "2              4628225.0      3960678.0                  0.40008        2.00   \n",
       "4              2944335.0      1697713.0                  0.30222        8.45   \n",
       "5               399881.0       287432.0                  0.36433        6.50   \n",
       "7               699789.0       594572.0                  0.22792        4.89   \n",
       "10             1446978.0      1229388.0                  0.27907       17.01   \n",
       "18             1065618.0       825302.0                  0.26213       11.11   \n",
       "39             1838939.0      2279608.0                  0.30701        7.00   \n",
       "58              235885.0       179614.0                  0.28444        6.32   \n",
       "109             106650.0        70016.0                  0.31125        3.37   \n",
       "123              44898.0        36340.0                  0.16986        9.14   \n",
       "126             658877.0       187241.0                  0.16583        2.00   \n",
       "144              28801.0        27215.0                  0.17997        3.02   \n",
       "\n",
       "     sharesPercentSharesOut  ...  5년평균dividendYield  EBITDAPS  동종업계_대비_PER  \\\n",
       "0                  0.000124  ...              2.870   12143.0        -1.04   \n",
       "2                  0.000072  ...              1.462   28792.0        26.96   \n",
       "4                  0.001327  ...              4.364   99067.0         8.11   \n",
       "5                  0.000188  ...              1.438   81652.0        14.63   \n",
       "7                  0.000088  ...              3.058   53685.0        -2.62   \n",
       "10                 0.000407  ...              3.284   23820.0        -3.41   \n",
       "18                 0.000518  ...              0.912   36144.0         6.18   \n",
       "39                 0.000117  ...              3.430   22066.0        -1.80   \n",
       "58                 0.000281  ...              0.680   91158.0        -3.29   \n",
       "109                0.000165  ...              1.676  161107.0        -0.58   \n",
       "123                0.000277  ...              3.090  111743.0         4.44   \n",
       "126                0.000307  ...              0.530   81455.0        -5.53   \n",
       "144                0.000156  ...              3.332   83355.0       114.41   \n",
       "\n",
       "     dividend  growth  value  business  finance  performance  volitality  \n",
       "0           C       C      D         B        F           A+           C  \n",
       "2           D       C      C         C        H            A           B  \n",
       "4           B       C      D         B        G            B           B  \n",
       "5           D       C      D         B        G            B           C  \n",
       "7           C       B      E         C        B            A           C  \n",
       "10          C       B      E         B        G            A           C  \n",
       "18          E       C      D         C        F            A           C  \n",
       "39          C       C      E         A        H            A           A  \n",
       "58          E       C      E         B        H            B           C  \n",
       "109         D       B      E         A        F            B           C  \n",
       "123         C       C      D         B        H            B           A  \n",
       "126         E       B      E         C        H            B           C  \n",
       "144         C       C      D         C        H            B           C  \n",
       "\n",
       "[13 rows x 72 columns]"
      ]
     },
     "execution_count": 253,
     "metadata": {},
     "output_type": "execute_result"
    }
   ],
   "source": [
    "recommendation= data[((data['business'] == \"A\")|(data['business'] == \"B\")|(data['business'] == \"C\"))&\n",
    " ((data['performance'] == \"A\")|(data['performance'] == \"B\")|(data['performance'] == \"A+\")|(data['performance'] == \"C\"))&\n",
    "  ((data['volitality'] == \"A\")|(data['volitality'] == \"B\")|(data['volitality'] == \"A+\")|(data['volitality'] == \"C\"))]\n",
    "recommendation"
   ]
  },
  {
   "cell_type": "code",
   "execution_count": 254,
   "metadata": {},
   "outputs": [],
   "source": [
    "stocks = recommendation[\"Name\"].to_list()"
   ]
  },
  {
   "cell_type": "code",
   "execution_count": 228,
   "metadata": {},
   "outputs": [
    {
     "data": {
      "text/plain": [
       "['삼성전자',\n",
       " 'SK하이닉스',\n",
       " 'POSCO홀딩스',\n",
       " 'LG화학',\n",
       " '현대차',\n",
       " '기아',\n",
       " 'LG전자',\n",
       " 'HMM',\n",
       " 'LG이노텍',\n",
       " '키움증권',\n",
       " '효성첨단소재',\n",
       " '두산',\n",
       " '효성티앤씨']"
      ]
     },
     "execution_count": 228,
     "metadata": {},
     "output_type": "execute_result"
    }
   ],
   "source": [
    "stocks"
   ]
  },
  {
   "cell_type": "code",
   "execution_count": 229,
   "metadata": {},
   "outputs": [],
   "source": [
    "def get_close(data,start,end):\n",
    "    tmp = pd.DataFrame()\n",
    "    for n in stocks:\n",
    "        tmp[n] = stock.get_market_ohlcv(start, end, data[data['Name'] == n]['Code'])['종가']\n",
    "    return tmp"
   ]
  },
  {
   "cell_type": "code",
   "execution_count": 230,
   "metadata": {},
   "outputs": [
    {
     "data": {
      "text/html": [
       "<div>\n",
       "<style scoped>\n",
       "    .dataframe tbody tr th:only-of-type {\n",
       "        vertical-align: middle;\n",
       "    }\n",
       "\n",
       "    .dataframe tbody tr th {\n",
       "        vertical-align: top;\n",
       "    }\n",
       "\n",
       "    .dataframe thead th {\n",
       "        text-align: right;\n",
       "    }\n",
       "</style>\n",
       "<table border=\"1\" class=\"dataframe\">\n",
       "  <thead>\n",
       "    <tr style=\"text-align: right;\">\n",
       "      <th></th>\n",
       "      <th>삼성전자</th>\n",
       "      <th>SK하이닉스</th>\n",
       "      <th>POSCO홀딩스</th>\n",
       "      <th>LG화학</th>\n",
       "      <th>현대차</th>\n",
       "      <th>기아</th>\n",
       "      <th>LG전자</th>\n",
       "      <th>HMM</th>\n",
       "      <th>LG이노텍</th>\n",
       "      <th>키움증권</th>\n",
       "      <th>효성첨단소재</th>\n",
       "      <th>두산</th>\n",
       "      <th>효성티앤씨</th>\n",
       "    </tr>\n",
       "    <tr>\n",
       "      <th>날짜</th>\n",
       "      <th></th>\n",
       "      <th></th>\n",
       "      <th></th>\n",
       "      <th></th>\n",
       "      <th></th>\n",
       "      <th></th>\n",
       "      <th></th>\n",
       "      <th></th>\n",
       "      <th></th>\n",
       "      <th></th>\n",
       "      <th></th>\n",
       "      <th></th>\n",
       "      <th></th>\n",
       "    </tr>\n",
       "  </thead>\n",
       "  <tbody>\n",
       "    <tr>\n",
       "      <th>2022-09-13</th>\n",
       "      <td>58100</td>\n",
       "      <td>94800</td>\n",
       "      <td>248000</td>\n",
       "      <td>665000</td>\n",
       "      <td>200500</td>\n",
       "      <td>81300</td>\n",
       "      <td>97900</td>\n",
       "      <td>21050</td>\n",
       "      <td>364000</td>\n",
       "      <td>85900</td>\n",
       "      <td>430000</td>\n",
       "      <td>73500</td>\n",
       "      <td>312500</td>\n",
       "    </tr>\n",
       "    <tr>\n",
       "      <th>2022-09-14</th>\n",
       "      <td>56800</td>\n",
       "      <td>93000</td>\n",
       "      <td>239500</td>\n",
       "      <td>663000</td>\n",
       "      <td>198500</td>\n",
       "      <td>80300</td>\n",
       "      <td>94000</td>\n",
       "      <td>20750</td>\n",
       "      <td>348000</td>\n",
       "      <td>84600</td>\n",
       "      <td>418500</td>\n",
       "      <td>71300</td>\n",
       "      <td>303500</td>\n",
       "    </tr>\n",
       "    <tr>\n",
       "      <th>2022-09-15</th>\n",
       "      <td>56000</td>\n",
       "      <td>92000</td>\n",
       "      <td>235000</td>\n",
       "      <td>658000</td>\n",
       "      <td>198000</td>\n",
       "      <td>80000</td>\n",
       "      <td>92000</td>\n",
       "      <td>21050</td>\n",
       "      <td>344000</td>\n",
       "      <td>84300</td>\n",
       "      <td>424000</td>\n",
       "      <td>80400</td>\n",
       "      <td>308000</td>\n",
       "    </tr>\n",
       "    <tr>\n",
       "      <th>2022-09-16</th>\n",
       "      <td>56200</td>\n",
       "      <td>91200</td>\n",
       "      <td>230500</td>\n",
       "      <td>635000</td>\n",
       "      <td>201000</td>\n",
       "      <td>81100</td>\n",
       "      <td>90600</td>\n",
       "      <td>20600</td>\n",
       "      <td>332500</td>\n",
       "      <td>82900</td>\n",
       "      <td>409000</td>\n",
       "      <td>84100</td>\n",
       "      <td>306500</td>\n",
       "    </tr>\n",
       "    <tr>\n",
       "      <th>2022-09-19</th>\n",
       "      <td>56400</td>\n",
       "      <td>90000</td>\n",
       "      <td>231000</td>\n",
       "      <td>635000</td>\n",
       "      <td>201500</td>\n",
       "      <td>80800</td>\n",
       "      <td>90400</td>\n",
       "      <td>19850</td>\n",
       "      <td>334000</td>\n",
       "      <td>81900</td>\n",
       "      <td>395000</td>\n",
       "      <td>76100</td>\n",
       "      <td>298000</td>\n",
       "    </tr>\n",
       "    <tr>\n",
       "      <th>...</th>\n",
       "      <td>...</td>\n",
       "      <td>...</td>\n",
       "      <td>...</td>\n",
       "      <td>...</td>\n",
       "      <td>...</td>\n",
       "      <td>...</td>\n",
       "      <td>...</td>\n",
       "      <td>...</td>\n",
       "      <td>...</td>\n",
       "      <td>...</td>\n",
       "      <td>...</td>\n",
       "      <td>...</td>\n",
       "      <td>...</td>\n",
       "    </tr>\n",
       "    <tr>\n",
       "      <th>2023-02-22</th>\n",
       "      <td>61100</td>\n",
       "      <td>89100</td>\n",
       "      <td>332000</td>\n",
       "      <td>666000</td>\n",
       "      <td>174200</td>\n",
       "      <td>74500</td>\n",
       "      <td>111100</td>\n",
       "      <td>21950</td>\n",
       "      <td>286000</td>\n",
       "      <td>103600</td>\n",
       "      <td>417500</td>\n",
       "      <td>85600</td>\n",
       "      <td>467000</td>\n",
       "    </tr>\n",
       "    <tr>\n",
       "      <th>2023-02-23</th>\n",
       "      <td>62000</td>\n",
       "      <td>92700</td>\n",
       "      <td>331500</td>\n",
       "      <td>668000</td>\n",
       "      <td>176200</td>\n",
       "      <td>76400</td>\n",
       "      <td>114700</td>\n",
       "      <td>22800</td>\n",
       "      <td>290500</td>\n",
       "      <td>107100</td>\n",
       "      <td>426500</td>\n",
       "      <td>91100</td>\n",
       "      <td>470000</td>\n",
       "    </tr>\n",
       "    <tr>\n",
       "      <th>2023-02-24</th>\n",
       "      <td>61300</td>\n",
       "      <td>91000</td>\n",
       "      <td>322000</td>\n",
       "      <td>669000</td>\n",
       "      <td>173900</td>\n",
       "      <td>75300</td>\n",
       "      <td>113400</td>\n",
       "      <td>23050</td>\n",
       "      <td>283000</td>\n",
       "      <td>106100</td>\n",
       "      <td>417500</td>\n",
       "      <td>90400</td>\n",
       "      <td>461500</td>\n",
       "    </tr>\n",
       "    <tr>\n",
       "      <th>2023-02-27</th>\n",
       "      <td>60500</td>\n",
       "      <td>90000</td>\n",
       "      <td>319000</td>\n",
       "      <td>657000</td>\n",
       "      <td>173300</td>\n",
       "      <td>76000</td>\n",
       "      <td>112700</td>\n",
       "      <td>22650</td>\n",
       "      <td>283500</td>\n",
       "      <td>105300</td>\n",
       "      <td>405000</td>\n",
       "      <td>100000</td>\n",
       "      <td>458000</td>\n",
       "    </tr>\n",
       "    <tr>\n",
       "      <th>2023-02-28</th>\n",
       "      <td>60600</td>\n",
       "      <td>89400</td>\n",
       "      <td>318000</td>\n",
       "      <td>680000</td>\n",
       "      <td>176300</td>\n",
       "      <td>75300</td>\n",
       "      <td>111200</td>\n",
       "      <td>22550</td>\n",
       "      <td>277000</td>\n",
       "      <td>103200</td>\n",
       "      <td>411000</td>\n",
       "      <td>101000</td>\n",
       "      <td>457500</td>\n",
       "    </tr>\n",
       "  </tbody>\n",
       "</table>\n",
       "<p>116 rows × 13 columns</p>\n",
       "</div>"
      ],
      "text/plain": [
       "             삼성전자  SK하이닉스  POSCO홀딩스    LG화학     현대차     기아    LG전자    HMM  \\\n",
       "날짜                                                                          \n",
       "2022-09-13  58100   94800    248000  665000  200500  81300   97900  21050   \n",
       "2022-09-14  56800   93000    239500  663000  198500  80300   94000  20750   \n",
       "2022-09-15  56000   92000    235000  658000  198000  80000   92000  21050   \n",
       "2022-09-16  56200   91200    230500  635000  201000  81100   90600  20600   \n",
       "2022-09-19  56400   90000    231000  635000  201500  80800   90400  19850   \n",
       "...           ...     ...       ...     ...     ...    ...     ...    ...   \n",
       "2023-02-22  61100   89100    332000  666000  174200  74500  111100  21950   \n",
       "2023-02-23  62000   92700    331500  668000  176200  76400  114700  22800   \n",
       "2023-02-24  61300   91000    322000  669000  173900  75300  113400  23050   \n",
       "2023-02-27  60500   90000    319000  657000  173300  76000  112700  22650   \n",
       "2023-02-28  60600   89400    318000  680000  176300  75300  111200  22550   \n",
       "\n",
       "             LG이노텍    키움증권  효성첨단소재      두산   효성티앤씨  \n",
       "날짜                                                  \n",
       "2022-09-13  364000   85900  430000   73500  312500  \n",
       "2022-09-14  348000   84600  418500   71300  303500  \n",
       "2022-09-15  344000   84300  424000   80400  308000  \n",
       "2022-09-16  332500   82900  409000   84100  306500  \n",
       "2022-09-19  334000   81900  395000   76100  298000  \n",
       "...            ...     ...     ...     ...     ...  \n",
       "2023-02-22  286000  103600  417500   85600  467000  \n",
       "2023-02-23  290500  107100  426500   91100  470000  \n",
       "2023-02-24  283000  106100  417500   90400  461500  \n",
       "2023-02-27  283500  105300  405000  100000  458000  \n",
       "2023-02-28  277000  103200  411000  101000  457500  \n",
       "\n",
       "[116 rows x 13 columns]"
      ]
     },
     "execution_count": 230,
     "metadata": {},
     "output_type": "execute_result"
    }
   ],
   "source": [
    "before_data = get_close(data,start_03,end_03)\n",
    "before_data"
   ]
  },
  {
   "cell_type": "code",
   "execution_count": 231,
   "metadata": {},
   "outputs": [
    {
     "data": {
      "text/html": [
       "<div>\n",
       "<style scoped>\n",
       "    .dataframe tbody tr th:only-of-type {\n",
       "        vertical-align: middle;\n",
       "    }\n",
       "\n",
       "    .dataframe tbody tr th {\n",
       "        vertical-align: top;\n",
       "    }\n",
       "\n",
       "    .dataframe thead th {\n",
       "        text-align: right;\n",
       "    }\n",
       "</style>\n",
       "<table border=\"1\" class=\"dataframe\">\n",
       "  <thead>\n",
       "    <tr style=\"text-align: right;\">\n",
       "      <th></th>\n",
       "      <th>삼성전자</th>\n",
       "      <th>SK하이닉스</th>\n",
       "      <th>POSCO홀딩스</th>\n",
       "      <th>LG화학</th>\n",
       "      <th>현대차</th>\n",
       "      <th>기아</th>\n",
       "      <th>LG전자</th>\n",
       "      <th>HMM</th>\n",
       "      <th>LG이노텍</th>\n",
       "      <th>키움증권</th>\n",
       "      <th>효성첨단소재</th>\n",
       "      <th>두산</th>\n",
       "      <th>효성티앤씨</th>\n",
       "    </tr>\n",
       "    <tr>\n",
       "      <th>날짜</th>\n",
       "      <th></th>\n",
       "      <th></th>\n",
       "      <th></th>\n",
       "      <th></th>\n",
       "      <th></th>\n",
       "      <th></th>\n",
       "      <th></th>\n",
       "      <th></th>\n",
       "      <th></th>\n",
       "      <th></th>\n",
       "      <th></th>\n",
       "      <th></th>\n",
       "      <th></th>\n",
       "    </tr>\n",
       "  </thead>\n",
       "  <tbody>\n",
       "    <tr>\n",
       "      <th>2022-09-13</th>\n",
       "      <td>58100</td>\n",
       "      <td>94800</td>\n",
       "      <td>248000</td>\n",
       "      <td>665000</td>\n",
       "      <td>200500</td>\n",
       "      <td>81300</td>\n",
       "      <td>97900</td>\n",
       "      <td>21050</td>\n",
       "      <td>364000</td>\n",
       "      <td>85900</td>\n",
       "      <td>430000</td>\n",
       "      <td>73500</td>\n",
       "      <td>312500</td>\n",
       "    </tr>\n",
       "    <tr>\n",
       "      <th>2022-09-14</th>\n",
       "      <td>56800</td>\n",
       "      <td>93000</td>\n",
       "      <td>239500</td>\n",
       "      <td>663000</td>\n",
       "      <td>198500</td>\n",
       "      <td>80300</td>\n",
       "      <td>94000</td>\n",
       "      <td>20750</td>\n",
       "      <td>348000</td>\n",
       "      <td>84600</td>\n",
       "      <td>418500</td>\n",
       "      <td>71300</td>\n",
       "      <td>303500</td>\n",
       "    </tr>\n",
       "    <tr>\n",
       "      <th>2022-09-15</th>\n",
       "      <td>56000</td>\n",
       "      <td>92000</td>\n",
       "      <td>235000</td>\n",
       "      <td>658000</td>\n",
       "      <td>198000</td>\n",
       "      <td>80000</td>\n",
       "      <td>92000</td>\n",
       "      <td>21050</td>\n",
       "      <td>344000</td>\n",
       "      <td>84300</td>\n",
       "      <td>424000</td>\n",
       "      <td>80400</td>\n",
       "      <td>308000</td>\n",
       "    </tr>\n",
       "    <tr>\n",
       "      <th>2022-09-16</th>\n",
       "      <td>56200</td>\n",
       "      <td>91200</td>\n",
       "      <td>230500</td>\n",
       "      <td>635000</td>\n",
       "      <td>201000</td>\n",
       "      <td>81100</td>\n",
       "      <td>90600</td>\n",
       "      <td>20600</td>\n",
       "      <td>332500</td>\n",
       "      <td>82900</td>\n",
       "      <td>409000</td>\n",
       "      <td>84100</td>\n",
       "      <td>306500</td>\n",
       "    </tr>\n",
       "    <tr>\n",
       "      <th>2022-09-19</th>\n",
       "      <td>56400</td>\n",
       "      <td>90000</td>\n",
       "      <td>231000</td>\n",
       "      <td>635000</td>\n",
       "      <td>201500</td>\n",
       "      <td>80800</td>\n",
       "      <td>90400</td>\n",
       "      <td>19850</td>\n",
       "      <td>334000</td>\n",
       "      <td>81900</td>\n",
       "      <td>395000</td>\n",
       "      <td>76100</td>\n",
       "      <td>298000</td>\n",
       "    </tr>\n",
       "    <tr>\n",
       "      <th>...</th>\n",
       "      <td>...</td>\n",
       "      <td>...</td>\n",
       "      <td>...</td>\n",
       "      <td>...</td>\n",
       "      <td>...</td>\n",
       "      <td>...</td>\n",
       "      <td>...</td>\n",
       "      <td>...</td>\n",
       "      <td>...</td>\n",
       "      <td>...</td>\n",
       "      <td>...</td>\n",
       "      <td>...</td>\n",
       "      <td>...</td>\n",
       "    </tr>\n",
       "    <tr>\n",
       "      <th>2023-09-04</th>\n",
       "      <td>71200</td>\n",
       "      <td>119200</td>\n",
       "      <td>590000</td>\n",
       "      <td>586000</td>\n",
       "      <td>187300</td>\n",
       "      <td>80000</td>\n",
       "      <td>102500</td>\n",
       "      <td>16800</td>\n",
       "      <td>269000</td>\n",
       "      <td>102900</td>\n",
       "      <td>462500</td>\n",
       "      <td>112100</td>\n",
       "      <td>369000</td>\n",
       "    </tr>\n",
       "    <tr>\n",
       "      <th>2023-09-05</th>\n",
       "      <td>70700</td>\n",
       "      <td>119400</td>\n",
       "      <td>597000</td>\n",
       "      <td>592000</td>\n",
       "      <td>186600</td>\n",
       "      <td>79100</td>\n",
       "      <td>102200</td>\n",
       "      <td>16730</td>\n",
       "      <td>272000</td>\n",
       "      <td>100100</td>\n",
       "      <td>464500</td>\n",
       "      <td>112000</td>\n",
       "      <td>367500</td>\n",
       "    </tr>\n",
       "    <tr>\n",
       "      <th>2023-09-06</th>\n",
       "      <td>70000</td>\n",
       "      <td>118200</td>\n",
       "      <td>580000</td>\n",
       "      <td>585000</td>\n",
       "      <td>186700</td>\n",
       "      <td>78900</td>\n",
       "      <td>100500</td>\n",
       "      <td>16580</td>\n",
       "      <td>269000</td>\n",
       "      <td>98400</td>\n",
       "      <td>451500</td>\n",
       "      <td>108000</td>\n",
       "      <td>361500</td>\n",
       "    </tr>\n",
       "    <tr>\n",
       "      <th>2023-09-07</th>\n",
       "      <td>70400</td>\n",
       "      <td>118500</td>\n",
       "      <td>568000</td>\n",
       "      <td>577000</td>\n",
       "      <td>187200</td>\n",
       "      <td>78300</td>\n",
       "      <td>99800</td>\n",
       "      <td>16600</td>\n",
       "      <td>252500</td>\n",
       "      <td>99200</td>\n",
       "      <td>452000</td>\n",
       "      <td>106500</td>\n",
       "      <td>364500</td>\n",
       "    </tr>\n",
       "    <tr>\n",
       "      <th>2023-09-08</th>\n",
       "      <td>70300</td>\n",
       "      <td>113700</td>\n",
       "      <td>583000</td>\n",
       "      <td>564000</td>\n",
       "      <td>185700</td>\n",
       "      <td>77800</td>\n",
       "      <td>98800</td>\n",
       "      <td>16810</td>\n",
       "      <td>244500</td>\n",
       "      <td>102100</td>\n",
       "      <td>451000</td>\n",
       "      <td>116800</td>\n",
       "      <td>360500</td>\n",
       "    </tr>\n",
       "  </tbody>\n",
       "</table>\n",
       "<p>248 rows × 13 columns</p>\n",
       "</div>"
      ],
      "text/plain": [
       "             삼성전자  SK하이닉스  POSCO홀딩스    LG화학     현대차     기아    LG전자    HMM  \\\n",
       "날짜                                                                          \n",
       "2022-09-13  58100   94800    248000  665000  200500  81300   97900  21050   \n",
       "2022-09-14  56800   93000    239500  663000  198500  80300   94000  20750   \n",
       "2022-09-15  56000   92000    235000  658000  198000  80000   92000  21050   \n",
       "2022-09-16  56200   91200    230500  635000  201000  81100   90600  20600   \n",
       "2022-09-19  56400   90000    231000  635000  201500  80800   90400  19850   \n",
       "...           ...     ...       ...     ...     ...    ...     ...    ...   \n",
       "2023-09-04  71200  119200    590000  586000  187300  80000  102500  16800   \n",
       "2023-09-05  70700  119400    597000  592000  186600  79100  102200  16730   \n",
       "2023-09-06  70000  118200    580000  585000  186700  78900  100500  16580   \n",
       "2023-09-07  70400  118500    568000  577000  187200  78300   99800  16600   \n",
       "2023-09-08  70300  113700    583000  564000  185700  77800   98800  16810   \n",
       "\n",
       "             LG이노텍    키움증권  효성첨단소재      두산   효성티앤씨  \n",
       "날짜                                                  \n",
       "2022-09-13  364000   85900  430000   73500  312500  \n",
       "2022-09-14  348000   84600  418500   71300  303500  \n",
       "2022-09-15  344000   84300  424000   80400  308000  \n",
       "2022-09-16  332500   82900  409000   84100  306500  \n",
       "2022-09-19  334000   81900  395000   76100  298000  \n",
       "...            ...     ...     ...     ...     ...  \n",
       "2023-09-04  269000  102900  462500  112100  369000  \n",
       "2023-09-05  272000  100100  464500  112000  367500  \n",
       "2023-09-06  269000   98400  451500  108000  361500  \n",
       "2023-09-07  252500   99200  452000  106500  364500  \n",
       "2023-09-08  244500  102100  451000  116800  360500  \n",
       "\n",
       "[248 rows x 13 columns]"
      ]
     },
     "execution_count": 231,
     "metadata": {},
     "output_type": "execute_result"
    }
   ],
   "source": [
    "now_data = get_close(data,start,end)\n",
    "now_data"
   ]
  },
  {
   "cell_type": "code",
   "execution_count": 232,
   "metadata": {},
   "outputs": [
    {
     "data": {
      "text/plain": [
       "날짜\n",
       "2022-09-13    318.56\n",
       "2022-09-14    312.74\n",
       "2022-09-15    310.63\n",
       "2022-09-16    308.69\n",
       "2022-09-19    306.49\n",
       "               ...  \n",
       "2023-09-04    341.02\n",
       "2023-09-05    340.29\n",
       "2023-09-06    337.85\n",
       "2023-09-07    336.74\n",
       "2023-09-08    336.40\n",
       "Name: 종가, Length: 248, dtype: float64"
      ]
     },
     "metadata": {},
     "output_type": "display_data"
    }
   ],
   "source": [
    "kospi200 = stock.get_index_ohlcv_by_date(start_03, end, \"1028\")['종가']\n",
    "display(kospi200)"
   ]
  },
  {
   "cell_type": "code",
   "execution_count": 233,
   "metadata": {},
   "outputs": [],
   "source": [
    "daily_ret = before_data[stocks].pct_change()\n",
    "annual_ret = (1+daily_ret.mean())**before_data[stocks].shape[0]-1\n",
    "\n",
    "daily_cov = daily_ret.cov()\n",
    "annual_cov = daily_cov * before_data[stocks].shape[0]"
   ]
  },
  {
   "cell_type": "code",
   "execution_count": 234,
   "metadata": {},
   "outputs": [],
   "source": [
    "tmp2 = pd.DataFrame((annual_ret-0.02)/daily_ret.std()*np.sqrt(252),columns= ['Shape']).sort_values(by='Shape',ascending=False)\n",
    "stocks = list(tmp2.iloc[0:5].index)# 상위 5개 선정\n",
    "daily_ret = before_data[stocks].pct_change()\n",
    "annual_ret = (1+daily_ret.mean())**before_data[stocks].shape[0]-1\n",
    "daily_cov = daily_ret.cov()\n",
    "annual_cov = daily_cov * before_data[stocks].shape[0]\n",
    "rf = 0.0325\n",
    "# 개별 shape 말고 고객에게 제시하는 주식 중 고객이 선택한 주식과 상관계수가 낮은 기업으로 포트폴리오를 구성해주는 것은 어떨까?"
   ]
  },
  {
   "cell_type": "code",
   "execution_count": 257,
   "metadata": {},
   "outputs": [
    {
     "ename": "NameError",
     "evalue": "name 'max_risk' is not defined",
     "output_type": "error",
     "traceback": [
      "\u001b[0;31m---------------------------------------------------------------------------\u001b[0m",
      "\u001b[0;31mNameError\u001b[0m                                 Traceback (most recent call last)",
      "\u001b[1;32m/Users/idanhui/python-code/파이널 프로젝트/git_hub/포트폴리오구성+monte2.ipynb 셀 14\u001b[0m line \u001b[0;36m6\n\u001b[1;32m     <a href='vscode-notebook-cell:/Users/idanhui/python-code/%ED%8C%8C%EC%9D%B4%EB%84%90%20%ED%94%84%EB%A1%9C%EC%A0%9D%ED%8A%B8/git_hub/%ED%8F%AC%ED%8A%B8%ED%8F%B4%EB%A6%AC%EC%98%A4%EA%B5%AC%EC%84%B1%2Bmonte2.ipynb#Y203sZmlsZQ%3D%3D?line=58'>59</a>\u001b[0m annual_returns \u001b[39m=\u001b[39m [\u001b[39m0.12\u001b[39m, \u001b[39m0.18\u001b[39m, \u001b[39m0.25\u001b[39m, \u001b[39m0.15\u001b[39m]\n\u001b[1;32m     <a href='vscode-notebook-cell:/Users/idanhui/python-code/%ED%8C%8C%EC%9D%B4%EB%84%90%20%ED%94%84%EB%A1%9C%EC%A0%9D%ED%8A%B8/git_hub/%ED%8F%AC%ED%8A%B8%ED%8F%B4%EB%A6%AC%EC%98%A4%EA%B5%AC%EC%84%B1%2Bmonte2.ipynb#Y203sZmlsZQ%3D%3D?line=59'>60</a>\u001b[0m annual_covariance \u001b[39m=\u001b[39m np\u001b[39m.\u001b[39marray([[\u001b[39m0.04\u001b[39m, \u001b[39m0.03\u001b[39m, \u001b[39m0.02\u001b[39m, \u001b[39m0.015\u001b[39m],\n\u001b[1;32m     <a href='vscode-notebook-cell:/Users/idanhui/python-code/%ED%8C%8C%EC%9D%B4%EB%84%90%20%ED%94%84%EB%A1%9C%EC%A0%9D%ED%8A%B8/git_hub/%ED%8F%AC%ED%8A%B8%ED%8F%B4%EB%A6%AC%EC%98%A4%EA%B5%AC%EC%84%B1%2Bmonte2.ipynb#Y203sZmlsZQ%3D%3D?line=60'>61</a>\u001b[0m                               [\u001b[39m0.03\u001b[39m, \u001b[39m0.06\u001b[39m, \u001b[39m0.025\u001b[39m, \u001b[39m0.02\u001b[39m],\n\u001b[1;32m     <a href='vscode-notebook-cell:/Users/idanhui/python-code/%ED%8C%8C%EC%9D%B4%EB%84%90%20%ED%94%84%EB%A1%9C%EC%A0%9D%ED%8A%B8/git_hub/%ED%8F%AC%ED%8A%B8%ED%8F%B4%EB%A6%AC%EC%98%A4%EA%B5%AC%EC%84%B1%2Bmonte2.ipynb#Y203sZmlsZQ%3D%3D?line=61'>62</a>\u001b[0m                               [\u001b[39m0.02\u001b[39m, \u001b[39m0.025\u001b[39m, \u001b[39m0.07\u001b[39m, \u001b[39m0.03\u001b[39m],\n\u001b[1;32m     <a href='vscode-notebook-cell:/Users/idanhui/python-code/%ED%8C%8C%EC%9D%B4%EB%84%90%20%ED%94%84%EB%A1%9C%EC%A0%9D%ED%8A%B8/git_hub/%ED%8F%AC%ED%8A%B8%ED%8F%B4%EB%A6%AC%EC%98%A4%EA%B5%AC%EC%84%B1%2Bmonte2.ipynb#Y203sZmlsZQ%3D%3D?line=62'>63</a>\u001b[0m                               [\u001b[39m0.015\u001b[39m, \u001b[39m0.02\u001b[39m, \u001b[39m0.03\u001b[39m, \u001b[39m0.06\u001b[39m]])\n\u001b[0;32m---> <a href='vscode-notebook-cell:/Users/idanhui/python-code/%ED%8C%8C%EC%9D%B4%EB%84%90%20%ED%94%84%EB%A1%9C%EC%A0%9D%ED%8A%B8/git_hub/%ED%8F%AC%ED%8A%B8%ED%8F%B4%EB%A6%AC%EC%98%A4%EA%B5%AC%EC%84%B1%2Bmonte2.ipynb#Y203sZmlsZQ%3D%3D?line=64'>65</a>\u001b[0m get_portfolio(stocks, annual_returns, annual_covariance)\n",
      "\u001b[1;32m/Users/idanhui/python-code/파이널 프로젝트/git_hub/포트폴리오구성+monte2.ipynb 셀 14\u001b[0m line \u001b[0;36m3\n\u001b[1;32m     <a href='vscode-notebook-cell:/Users/idanhui/python-code/%ED%8C%8C%EC%9D%B4%EB%84%90%20%ED%94%84%EB%A1%9C%EC%A0%9D%ED%8A%B8/git_hub/%ED%8F%AC%ED%8A%B8%ED%8F%B4%EB%A6%AC%EC%98%A4%EA%B5%AC%EC%84%B1%2Bmonte2.ipynb#Y203sZmlsZQ%3D%3D?line=32'>33</a>\u001b[0m min_shape_ratio \u001b[39m=\u001b[39m df[\u001b[39m'\u001b[39m\u001b[39mShape\u001b[39m\u001b[39m'\u001b[39m]\u001b[39m.\u001b[39mmin()\n\u001b[1;32m     <a href='vscode-notebook-cell:/Users/idanhui/python-code/%ED%8C%8C%EC%9D%B4%EB%84%90%20%ED%94%84%EB%A1%9C%EC%A0%9D%ED%8A%B8/git_hub/%ED%8F%AC%ED%8A%B8%ED%8F%B4%EB%A6%AC%EC%98%A4%EA%B5%AC%EC%84%B1%2Bmonte2.ipynb#Y203sZmlsZQ%3D%3D?line=33'>34</a>\u001b[0m max_shape_ratio \u001b[39m=\u001b[39m df[\u001b[39m'\u001b[39m\u001b[39mShape\u001b[39m\u001b[39m'\u001b[39m]\u001b[39m.\u001b[39mmax()\n\u001b[0;32m---> <a href='vscode-notebook-cell:/Users/idanhui/python-code/%ED%8C%8C%EC%9D%B4%EB%84%90%20%ED%94%84%EB%A1%9C%EC%A0%9D%ED%8A%B8/git_hub/%ED%8F%AC%ED%8A%B8%ED%8F%B4%EB%A6%AC%EC%98%A4%EA%B5%AC%EC%84%B1%2Bmonte2.ipynb#Y203sZmlsZQ%3D%3D?line=35'>36</a>\u001b[0m risk_range \u001b[39m=\u001b[39m np\u001b[39m.\u001b[39mlinspace(min_risk[\u001b[39m'\u001b[39m\u001b[39mRisk\u001b[39m\u001b[39m'\u001b[39m]\u001b[39m.\u001b[39mvalues[\u001b[39m0\u001b[39m], max_risk[\u001b[39m'\u001b[39m\u001b[39mRisk\u001b[39m\u001b[39m'\u001b[39m]\u001b[39m.\u001b[39mvalues[\u001b[39m0\u001b[39m], num\u001b[39m=\u001b[39m\u001b[39m100\u001b[39m)\n\u001b[1;32m     <a href='vscode-notebook-cell:/Users/idanhui/python-code/%ED%8C%8C%EC%9D%B4%EB%84%90%20%ED%94%84%EB%A1%9C%EC%A0%9D%ED%8A%B8/git_hub/%ED%8F%AC%ED%8A%B8%ED%8F%B4%EB%A6%AC%EC%98%A4%EA%B5%AC%EC%84%B1%2Bmonte2.ipynb#Y203sZmlsZQ%3D%3D?line=36'>37</a>\u001b[0m frontier_ret \u001b[39m=\u001b[39m []\n\u001b[1;32m     <a href='vscode-notebook-cell:/Users/idanhui/python-code/%ED%8C%8C%EC%9D%B4%EB%84%90%20%ED%94%84%EB%A1%9C%EC%A0%9D%ED%8A%B8/git_hub/%ED%8F%AC%ED%8A%B8%ED%8F%B4%EB%A6%AC%EC%98%A4%EA%B5%AC%EC%84%B1%2Bmonte2.ipynb#Y203sZmlsZQ%3D%3D?line=38'>39</a>\u001b[0m \u001b[39mfor\u001b[39;00m r \u001b[39min\u001b[39;00m risk_range:\n",
      "\u001b[0;31mNameError\u001b[0m: name 'max_risk' is not defined"
     ]
    }
   ],
   "source": [
    "import numpy as np\n",
    "import pandas as pd\n",
    "import matplotlib.pyplot as plt\n",
    "\n",
    "def get_portfolio(stocks, annual_ret, annual_cov):\n",
    "    port_ret = []\n",
    "    port_risk = []\n",
    "    port_weights = []\n",
    "    shape_ratio = []\n",
    "\n",
    "    for i in range(30000):\n",
    "        weights = np.random.random(len(stocks))\n",
    "        weights /= np.sum(weights)\n",
    "\n",
    "        returns = np.dot(weights, annual_ret)\n",
    "        risk = np.sqrt(np.dot(weights.T, np.dot(annual_cov, weights)))\n",
    "\n",
    "        port_ret.append(returns)\n",
    "        port_risk.append(risk)\n",
    "        port_weights.append(weights)\n",
    "        shape_ratio.append(returns / risk)\n",
    "\n",
    "    portfolio = {'Returns': port_ret, 'Risk': port_risk, 'Shape': shape_ratio}\n",
    "    for j, s in enumerate(stocks):\n",
    "        portfolio[s] = [weight[j] for weight in port_weights]\n",
    "\n",
    "    df = pd.DataFrame(portfolio)\n",
    "\n",
    "    max_shape = df.loc[df['Shape'] == df['Shape'].max()]\n",
    "    min_risk = df.loc[df['Risk'] == df['Risk'].min()]\n",
    "\n",
    "    # Effective Frontier 계산\n",
    "    min_shape_ratio = df['Shape'].min()\n",
    "    max_shape_ratio = df['Shape'].max()\n",
    "\n",
    "    risk_range = np.linspace(min_risk['Risk'].values[0], max_risk['Risk'].values[0], num=100)\n",
    "    frontier_ret = []\n",
    "\n",
    "    for r in risk_range:\n",
    "        portfolio = df.loc[df['Risk'] >= r]\n",
    "        max_ret_idx = portfolio['Shape'].idxmax()\n",
    "        frontier_ret.append(df.loc[max_ret_idx]['Returns'])\n",
    "\n",
    "    # 시각화\n",
    "    plt.figure(figsize=(12, 6))\n",
    "    plt.scatter(df['Risk'], df['Returns'], c=df['Shape'], cmap='viridis')\n",
    "    plt.title('Efficient Frontier')\n",
    "    plt.xlabel('Risk (Standard Deviation)')\n",
    "    plt.ylabel('Return')\n",
    "    plt.colorbar(label='Sharpe Ratio')\n",
    "    plt.plot(risk_range, frontier_ret, 'g--', linewidth=2, label='Efficient Frontier')\n",
    "    plt.scatter(max_shape['Risk'], max_shape['Returns'], c='red', marker='*', s=100, label='Maximum Sharpe Ratio Portfolio')\n",
    "    plt.scatter(min_risk['Risk'], min_risk['Returns'], c='blue', marker='*', s=100, label='Minimum Risk Portfolio')\n",
    "    plt.legend()\n",
    "    plt.show()\n",
    "\n",
    "# Example usage\n",
    "stocks = ['Stock A', 'Stock B', 'Stock C', 'Stock D']\n",
    "annual_returns = [0.12, 0.18, 0.25, 0.15]\n",
    "annual_covariance = np.array([[0.04, 0.03, 0.02, 0.015],\n",
    "                              [0.03, 0.06, 0.025, 0.02],\n",
    "                              [0.02, 0.025, 0.07, 0.03],\n",
    "                              [0.015, 0.02, 0.03, 0.06]])\n",
    "\n",
    "get_portfolio(stocks, annual_returns, annual_covariance)\n"
   ]
  },
  {
   "cell_type": "code",
   "execution_count": 235,
   "metadata": {},
   "outputs": [],
   "source": [
    "def get_portfolio(stocks,annual_ret,annual_cov):\n",
    "  port_ret = []\n",
    "  port_risk = []\n",
    "  port_weights = []\n",
    "  shape_ratio = []\n",
    "\n",
    "  for i in range(30000):\n",
    "\n",
    "      weights = np.random.random(len(stocks))\n",
    "      weights /= np.sum(weights)\n",
    "\n",
    "\n",
    "      returns = np.dot(weights, annual_ret)\n",
    "\n",
    "      risk = np.sqrt(np.dot(weights.T, np.dot(annual_cov, weights)))\n",
    "\n",
    "      port_ret.append(returns)\n",
    "      port_risk.append(risk)\n",
    "      port_weights.append(weights)\n",
    "      shape_ratio.append(returns/risk)\n",
    "\n",
    "  portfolio = {'Returns' : port_ret, 'Risk' : port_risk, 'Shape' : shape_ratio}\n",
    "  for j, s in enumerate(stocks):\n",
    "      portfolio[s] = [weight[j] for weight in port_weights]\n",
    "\n",
    "  df = pd.DataFrame(portfolio)\n",
    "\n",
    "  max_shape = df.loc[df['Shape'] == df['Shape'].max()]\n",
    "  min_risk = df.loc[df['Risk'] == df['Risk'].min()]\n",
    "  tmp2 = df.groupby('Risk')[['Returns']].max().reset_index()\n",
    "\n",
    "  best_ret = tmp2.loc[0,'Returns']\n",
    "  for i in range(tmp2.shape[0]):\n",
    "    if tmp2.loc[i,'Returns']<best_ret:\n",
    "      tmp2.drop(index=i,inplace=True)\n",
    "    else:\n",
    "      best_ret = tmp2.loc[i,'Returns']\n",
    "  return max_shape,min_risk,tmp2,df"
   ]
  },
  {
   "cell_type": "code",
   "execution_count": 236,
   "metadata": {},
   "outputs": [],
   "source": [
    "max_shape,min_risk,tmp2,df = get_portfolio(stocks,annual_ret,annual_cov)"
   ]
  },
  {
   "cell_type": "code",
   "execution_count": 237,
   "metadata": {},
   "outputs": [],
   "source": [
    "def show_CAPM(df, tmp2, max_shape, min_risk, rf=0.0325):\n",
    "    df.plot.scatter(x='Risk', y='Returns', c='Shape', cmap='viridis', edgecolors='k', figsize=(10,8), grid=True)\n",
    "    plt.plot(tmp2['Risk'], tmp2['Returns'], label='Efficient Frontier', linewidth=5,color='red')\n",
    "    plt.scatter(max_shape['Risk'], max_shape['Returns'], label='Max_Shape', marker='*',s=500)\n",
    "    plt.scatter(min_risk['Risk'], min_risk['Returns'], label='Min_risk', marker='*', s=500)\n",
    "    plt.plot([0, max_shape['Risk'].iloc[0], 0.5], [rf, max_shape['Returns'].iloc[0], (max_shape['Returns'].iloc[0] - rf) / max_shape['Risk'].iloc[0] * 0.5 + rf], label='New EF', linewidth=2,color='green')\n",
    "    plt.xlabel('Risk')\n",
    "    plt.ylabel('Expected Return')\n",
    "    plt.title('Efficient Frontier Graph')\n",
    "    plt.legend()\n",
    "    plt.show()"
   ]
  },
  {
   "cell_type": "code",
   "execution_count": 238,
   "metadata": {},
   "outputs": [
    {
     "data": {
      "image/png": "[encoded data removed]",
      "text/plain": [
       "<Figure size 1000x800 with 2 Axes>"
      ]
     },
     "metadata": {},
     "output_type": "display_data"
    }
   ],
   "source": [
    "show_CAPM(df,tmp2,max_shape,min_risk,rf=0.0325)"
   ]
  },
  {
   "cell_type": "code",
   "execution_count": 239,
   "metadata": {},
   "outputs": [],
   "source": [
    "def show_portfolio(max_shape):\n",
    "    import plotly.graph_objects as go\n",
    "    from plotly.subplots import make_subplots\n",
    "    import sympy\n",
    "    exp_ret = float(input(\"원하는 기대수익률은 얼마인가?\"))/100\n",
    "    w = sympy.Symbol('w')\n",
    "\n",
    "    equation = w*0.02 + (1-w)*max_shape['Returns'].values[0] - exp_ret\n",
    "\n",
    "    solution = sympy.solve(equation, w)\n",
    "    solution = float(solution[0])\n",
    "    if solution < 0 :\n",
    "        print(f\"차입 비중 : {-solution}\")\n",
    "        print(f\"이 경우 Risk : {(1-solution)*max_shape['Risk'].iloc[0]}\")\n",
    "    else : \n",
    "        print(f\"채권의 비중 : {solution}\")\n",
    "        print(f\"이 경우 Risk : {(1-solution)*max_shape['Risk'].iloc[0]}\")\n",
    "        \n",
    "    if solution >= 0:\n",
    "\n",
    "        fig = make_subplots(rows=1, cols=2, specs=[[{\"type\": \"pie\"}, {\"type\": \"pie\"}]],subplot_titles=(\"<b>포트폴리오\", f\"<b>기대수익을 위한 포트폴리오<br><sup>자기자본의 {solution*100:0.4}%만큼 채권투자</sup>\"))\n",
    "\n",
    "\n",
    "        fig.add_trace(go.Pie(\n",
    "            values=list(max_shape.values[0][-5:]),\n",
    "            labels=list(max_shape.columns[-5:]),\n",
    "            domain=dict(x=[0, 0.5]),\n",
    "            name=\"기존 포트폴리오\"),\n",
    "            row=1, col=1)\n",
    "\n",
    "        fig.add_trace(go.Pie(\n",
    "            values=list(max_shape.values[0][-5:]* (1-float(solution)))+[float(solution)] ,\n",
    "            labels=list(max_shape.columns[-5:]) + ['채권'],\n",
    "            domain=dict(x=[0.5, 1.0]),\n",
    "            name=\"기대수익 포트폴리오\"),\n",
    "            row=1, col=2)\n",
    "\n",
    "        fig.show()\n",
    "\n",
    "    else:\n",
    "        fig = make_subplots(rows=1, cols=2, specs=[[{\"type\": \"pie\"}, {\"type\": \"pie\"}]],subplot_titles=(\"<b>포트폴리오\", f\"<b>투자금 비중</b><br><sup>자기자본의 {-solution*100:0.4}%만큼 차입</sup>\"))\n",
    "\n",
    "\n",
    "        fig.add_trace(go.Pie(\n",
    "            values=list(max_shape.values[0][-5:]),\n",
    "            labels=list(max_shape.columns[-5:]),\n",
    "            domain=dict(x=[0, 0.5])),\n",
    "            row=1, col=1)\n",
    "\n",
    "        fig.add_trace(go.Pie(\n",
    "            values=[1/(1-solution),1-(1/(1-solution))] ,\n",
    "            labels=['자기자본','차입금'],\n",
    "            domain=dict(x=[0.5, 1.0])),\n",
    "            row=1, col=2)\n",
    "\n",
    "        fig.show()"
   ]
  },
  {
   "cell_type": "code",
   "execution_count": 240,
   "metadata": {},
   "outputs": [
    {
     "name": "stdout",
     "output_type": "stream",
     "text": [
      "채권의 비중 : 0.10980124049751991\n",
      "이 경우 Risk : 0.19887285672164157\n"
     ]
    },
    {
     "data": {
      "application/vnd.plotly.v1+json": {
       "config": {
        "plotlyServerURL": "https://plot.ly"
       },
       "data": [
        {
         "domain": {
          "x": [
           0,
           0.45
          ],
          "y": [
           0,
           1
          ]
         },
         "labels": [
          "효성티앤씨",
          "POSCO홀딩스",
          "두산",
          "키움증권",
          "LG전자"
         ],
         "name": "기존 포트폴리오",
         "type": "pie",
         "values": [
          0.3904737933955912,
          0.3870470017386776,
          0.19706846376630638,
          0.01896692196545958,
          0.00644381913396537
         ]
        },
        {
         "domain": {
          "x": [
           0.55,
           1
          ],
          "y": [
           0,
           1
          ]
         },
         "labels": [
          "효성티앤씨",
          "POSCO홀딩스",
          "두산",
          "키움증권",
          "LG전자",
          "채권"
         ],
         "name": "기대수익 포트폴리오",
         "type": "pie",
         "values": [
          0.347599286498983,
          0.34454876081692504,
          0.17543010198182538,
          0.01688433040523246,
          0.005736279799514318,
          0.10980124049751991
         ]
        }
       ],
       "layout": {
        "annotations": [
         {
          "font": {
           "size": 16
          },
          "showarrow": false,
          "text": "<b>포트폴리오",
          "x": 0.225,
          "xanchor": "center",
          "xref": "paper",
          "y": 1,
          "yanchor": "bottom",
          "yref": "paper"
         },
         {
          "font": {
           "size": 16
          },
          "showarrow": false,
          "text": "<b>기대수익을 위한 포트폴리오<br><sup>자기자본의 10.98%만큼 채권투자</sup>",
          "x": 0.775,
          "xanchor": "center",
          "xref": "paper",
          "y": 1,
          "yanchor": "bottom",
          "yref": "paper"
         }
        ],
        "template": {
         "data": {
          "bar": [
           {
            "error_x": {
             "color": "#2a3f5f"
            },
            "error_y": {
             "color": "#2a3f5f"
            },
            "marker": {
             "line": {
              "color": "#E5ECF6",
              "width": 0.5
             },
             "pattern": {
              "fillmode": "overlay",
              "size": 10,
              "solidity": 0.2
             }
            },
            "type": "bar"
           }
          ],
          "barpolar": [
           {
            "marker": {
             "line": {
              "color": "#E5ECF6",
              "width": 0.5
             },
             "pattern": {
              "fillmode": "overlay",
              "size": 10,
              "solidity": 0.2
             }
            },
            "type": "barpolar"
           }
          ],
          "carpet": [
           {
            "aaxis": {
             "endlinecolor": "#2a3f5f",
             "gridcolor": "white",
             "linecolor": "white",
             "minorgridcolor": "white",
             "startlinecolor": "#2a3f5f"
            },
            "baxis": {
             "endlinecolor": "#2a3f5f",
             "gridcolor": "white",
             "linecolor": "white",
             "minorgridcolor": "white",
             "startlinecolor": "#2a3f5f"
            },
            "type": "carpet"
           }
          ],
          "choropleth": [
           {
            "colorbar": {
             "outlinewidth": 0,
             "ticks": ""
            },
            "type": "choropleth"
           }
          ],
          "contour": [
           {
            "colorbar": {
             "outlinewidth": 0,
             "ticks": ""
            },
            "colorscale": [
             [
              0,
              "#0d0887"
             ],
             [
              0.1111111111111111,
              "#46039f"
             ],
             [
              0.2222222222222222,
              "#7201a8"
             ],
             [
              0.3333333333333333,
              "#9c179e"
             ],
             [
              0.4444444444444444,
              "#bd3786"
             ],
             [
              0.5555555555555556,
              "#d8576b"
             ],
             [
              0.6666666666666666,
              "#ed7953"
             ],
             [
              0.7777777777777778,
              "#fb9f3a"
             ],
             [
              0.8888888888888888,
              "#fdca26"
             ],
             [
              1,
              "#f0f921"
             ]
            ],
            "type": "contour"
           }
          ],
          "contourcarpet": [
           {
            "colorbar": {
             "outlinewidth": 0,
             "ticks": ""
            },
            "type": "contourcarpet"
           }
          ],
          "heatmap": [
           {
            "colorbar": {
             "outlinewidth": 0,
             "ticks": ""
            },
            "colorscale": [
             [
              0,
              "#0d0887"
             ],
             [
              0.1111111111111111,
              "#46039f"
             ],
             [
              0.2222222222222222,
              "#7201a8"
             ],
             [
              0.3333333333333333,
              "#9c179e"
             ],
             [
              0.4444444444444444,
              "#bd3786"
             ],
             [
              0.5555555555555556,
              "#d8576b"
             ],
             [
              0.6666666666666666,
              "#ed7953"
             ],
             [
              0.7777777777777778,
              "#fb9f3a"
             ],
             [
              0.8888888888888888,
              "#fdca26"
             ],
             [
              1,
              "#f0f921"
             ]
            ],
            "type": "heatmap"
           }
          ],
          "heatmapgl": [
           {
            "colorbar": {
             "outlinewidth": 0,
             "ticks": ""
            },
            "colorscale": [
             [
              0,
              "#0d0887"
             ],
             [
              0.1111111111111111,
              "#46039f"
             ],
             [
              0.2222222222222222,
              "#7201a8"
             ],
             [
              0.3333333333333333,
              "#9c179e"
             ],
             [
              0.4444444444444444,
              "#bd3786"
             ],
             [
              0.5555555555555556,
              "#d8576b"
             ],
             [
              0.6666666666666666,
              "#ed7953"
             ],
             [
              0.7777777777777778,
              "#fb9f3a"
             ],
             [
              0.8888888888888888,
              "#fdca26"
             ],
             [
              1,
              "#f0f921"
             ]
            ],
            "type": "heatmapgl"
           }
          ],
          "histogram": [
           {
            "marker": {
             "pattern": {
              "fillmode": "overlay",
              "size": 10,
              "solidity": 0.2
             }
            },
            "type": "histogram"
           }
          ],
          "histogram2d": [
           {
            "colorbar": {
             "outlinewidth": 0,
             "ticks": ""
            },
            "colorscale": [
             [
              0,
              "#0d0887"
             ],
             [
              0.1111111111111111,
              "#46039f"
             ],
             [
              0.2222222222222222,
              "#7201a8"
             ],
             [
              0.3333333333333333,
              "#9c179e"
             ],
             [
              0.4444444444444444,
              "#bd3786"
             ],
             [
              0.5555555555555556,
              "#d8576b"
             ],
             [
              0.6666666666666666,
              "#ed7953"
             ],
             [
              0.7777777777777778,
              "#fb9f3a"
             ],
             [
              0.8888888888888888,
              "#fdca26"
             ],
             [
              1,
              "#f0f921"
             ]
            ],
            "type": "histogram2d"
           }
          ],
          "histogram2dcontour": [
           {
            "colorbar": {
             "outlinewidth": 0,
             "ticks": ""
            },
            "colorscale": [
             [
              0,
              "#0d0887"
             ],
             [
              0.1111111111111111,
              "#46039f"
             ],
             [
              0.2222222222222222,
              "#7201a8"
             ],
             [
              0.3333333333333333,
              "#9c179e"
             ],
             [
              0.4444444444444444,
              "#bd3786"
             ],
             [
              0.5555555555555556,
              "#d8576b"
             ],
             [
              0.6666666666666666,
              "#ed7953"
             ],
             [
              0.7777777777777778,
              "#fb9f3a"
             ],
             [
              0.8888888888888888,
              "#fdca26"
             ],
             [
              1,
              "#f0f921"
             ]
            ],
            "type": "histogram2dcontour"
           }
          ],
          "mesh3d": [
           {
            "colorbar": {
             "outlinewidth": 0,
             "ticks": ""
            },
            "type": "mesh3d"
           }
          ],
          "parcoords": [
           {
            "line": {
             "colorbar": {
              "outlinewidth": 0,
              "ticks": ""
             }
            },
            "type": "parcoords"
           }
          ],
          "pie": [
           {
            "automargin": true,
            "type": "pie"
           }
          ],
          "scatter": [
           {
            "fillpattern": {
             "fillmode": "overlay",
             "size": 10,
             "solidity": 0.2
            },
            "type": "scatter"
           }
          ],
          "scatter3d": [
           {
            "line": {
             "colorbar": {
              "outlinewidth": 0,
              "ticks": ""
             }
            },
            "marker": {
             "colorbar": {
              "outlinewidth": 0,
              "ticks": ""
             }
            },
            "type": "scatter3d"
           }
          ],
          "scattercarpet": [
           {
            "marker": {
             "colorbar": {
              "outlinewidth": 0,
              "ticks": ""
             }
            },
            "type": "scattercarpet"
           }
          ],
          "scattergeo": [
           {
            "marker": {
             "colorbar": {
              "outlinewidth": 0,
              "ticks": ""
             }
            },
            "type": "scattergeo"
           }
          ],
          "scattergl": [
           {
            "marker": {
             "colorbar": {
              "outlinewidth": 0,
              "ticks": ""
             }
            },
            "type": "scattergl"
           }
          ],
          "scattermapbox": [
           {
            "marker": {
             "colorbar": {
              "outlinewidth": 0,
              "ticks": ""
             }
            },
            "type": "scattermapbox"
           }
          ],
          "scatterpolar": [
           {
            "marker": {
             "colorbar": {
              "outlinewidth": 0,
              "ticks": ""
             }
            },
            "type": "scatterpolar"
           }
          ],
          "scatterpolargl": [
           {
            "marker": {
             "colorbar": {
              "outlinewidth": 0,
              "ticks": ""
             }
            },
            "type": "scatterpolargl"
           }
          ],
          "scatterternary": [
           {
            "marker": {
             "colorbar": {
              "outlinewidth": 0,
              "ticks": ""
             }
            },
            "type": "scatterternary"
           }
          ],
          "surface": [
           {
            "colorbar": {
             "outlinewidth": 0,
             "ticks": ""
            },
            "colorscale": [
             [
              0,
              "#0d0887"
             ],
             [
              0.1111111111111111,
              "#46039f"
             ],
             [
              0.2222222222222222,
              "#7201a8"
             ],
             [
              0.3333333333333333,
              "#9c179e"
             ],
             [
              0.4444444444444444,
              "#bd3786"
             ],
             [
              0.5555555555555556,
              "#d8576b"
             ],
             [
              0.6666666666666666,
              "#ed7953"
             ],
             [
              0.7777777777777778,
              "#fb9f3a"
             ],
             [
              0.8888888888888888,
              "#fdca26"
             ],
             [
              1,
              "#f0f921"
             ]
            ],
            "type": "surface"
           }
          ],
          "table": [
           {
            "cells": {
             "fill": {
              "color": "#EBF0F8"
             },
             "line": {
              "color": "white"
             }
            },
            "header": {
             "fill": {
              "color": "#C8D4E3"
             },
             "line": {
              "color": "white"
             }
            },
            "type": "table"
           }
          ]
         },
         "layout": {
          "annotationdefaults": {
           "arrowcolor": "#2a3f5f",
           "arrowhead": 0,
           "arrowwidth": 1
          },
          "autotypenumbers": "strict",
          "coloraxis": {
           "colorbar": {
            "outlinewidth": 0,
            "ticks": ""
           }
          },
          "colorscale": {
           "diverging": [
            [
             0,
             "#8e0152"
            ],
            [
             0.1,
             "#c51b7d"
            ],
            [
             0.2,
             "#de77ae"
            ],
            [
             0.3,
             "#f1b6da"
            ],
            [
             0.4,
             "#fde0ef"
            ],
            [
             0.5,
             "#f7f7f7"
            ],
            [
             0.6,
             "#e6f5d0"
            ],
            [
             0.7,
             "#b8e186"
            ],
            [
             0.8,
             "#7fbc41"
            ],
            [
             0.9,
             "#4d9221"
            ],
            [
             1,
             "#276419"
            ]
           ],
           "sequential": [
            [
             0,
             "#0d0887"
            ],
            [
             0.1111111111111111,
             "#46039f"
            ],
            [
             0.2222222222222222,
             "#7201a8"
            ],
            [
             0.3333333333333333,
             "#9c179e"
            ],
            [
             0.4444444444444444,
             "#bd3786"
            ],
            [
             0.5555555555555556,
             "#d8576b"
            ],
            [
             0.6666666666666666,
             "#ed7953"
            ],
            [
             0.7777777777777778,
             "#fb9f3a"
            ],
            [
             0.8888888888888888,
             "#fdca26"
            ],
            [
             1,
             "#f0f921"
            ]
           ],
           "sequentialminus": [
            [
             0,
             "#0d0887"
            ],
            [
             0.1111111111111111,
             "#46039f"
            ],
            [
             0.2222222222222222,
             "#7201a8"
            ],
            [
             0.3333333333333333,
             "#9c179e"
            ],
            [
             0.4444444444444444,
             "#bd3786"
            ],
            [
             0.5555555555555556,
             "#d8576b"
            ],
            [
             0.6666666666666666,
             "#ed7953"
            ],
            [
             0.7777777777777778,
             "#fb9f3a"
            ],
            [
             0.8888888888888888,
             "#fdca26"
            ],
            [
             1,
             "#f0f921"
            ]
           ]
          },
          "colorway": [
           "#636efa",
           "#EF553B",
           "#00cc96",
           "#ab63fa",
           "#FFA15A",
           "#19d3f3",
           "#FF6692",
           "#B6E880",
           "#FF97FF",
           "#FECB52"
          ],
          "font": {
           "color": "#2a3f5f"
          },
          "geo": {
           "bgcolor": "white",
           "lakecolor": "white",
           "landcolor": "#E5ECF6",
           "showlakes": true,
           "showland": true,
           "subunitcolor": "white"
          },
          "hoverlabel": {
           "align": "left"
          },
          "hovermode": "closest",
          "mapbox": {
           "style": "light"
          },
          "paper_bgcolor": "white",
          "plot_bgcolor": "#E5ECF6",
          "polar": {
           "angularaxis": {
            "gridcolor": "white",
            "linecolor": "white",
            "ticks": ""
           },
           "bgcolor": "#E5ECF6",
           "radialaxis": {
            "gridcolor": "white",
            "linecolor": "white",
            "ticks": ""
           }
          },
          "scene": {
           "xaxis": {
            "backgroundcolor": "#E5ECF6",
            "gridcolor": "white",
            "gridwidth": 2,
            "linecolor": "white",
            "showbackground": true,
            "ticks": "",
            "zerolinecolor": "white"
           },
           "yaxis": {
            "backgroundcolor": "#E5ECF6",
            "gridcolor": "white",
            "gridwidth": 2,
            "linecolor": "white",
            "showbackground": true,
            "ticks": "",
            "zerolinecolor": "white"
           },
           "zaxis": {
            "backgroundcolor": "#E5ECF6",
            "gridcolor": "white",
            "gridwidth": 2,
            "linecolor": "white",
            "showbackground": true,
            "ticks": "",
            "zerolinecolor": "white"
           }
          },
          "shapedefaults": {
           "line": {
            "color": "#2a3f5f"
           }
          },
          "ternary": {
           "aaxis": {
            "gridcolor": "white",
            "linecolor": "white",
            "ticks": ""
           },
           "baxis": {
            "gridcolor": "white",
            "linecolor": "white",
            "ticks": ""
           },
           "bgcolor": "#E5ECF6",
           "caxis": {
            "gridcolor": "white",
            "linecolor": "white",
            "ticks": ""
           }
          },
          "title": {
           "x": 0.05
          },
          "xaxis": {
           "automargin": true,
           "gridcolor": "white",
           "linecolor": "white",
           "ticks": "",
           "title": {
            "standoff": 15
           },
           "zerolinecolor": "white",
           "zerolinewidth": 2
          },
          "yaxis": {
           "automargin": true,
           "gridcolor": "white",
           "linecolor": "white",
           "ticks": "",
           "title": {
            "standoff": 15
           },
           "zerolinecolor": "white",
           "zerolinewidth": 2
          }
         }
        }
       }
      }
     },
     "metadata": {},
     "output_type": "display_data"
    }
   ],
   "source": [
    "show_portfolio(max_shape)"
   ]
  },
  {
   "cell_type": "code",
   "execution_count": 94,
   "metadata": {},
   "outputs": [],
   "source": [
    "def geometric_brownian_motion(tmp,S0, T=100, dt=1/100):\n",
    "    \"\"\"\n",
    "    S0: 초기값\n",
    "    mu: 평균\n",
    "    sigma: 표준 편차\n",
    "    T: 시뮬레이션 시간\n",
    "    dt: 시간 간격\n",
    "    \"\"\"\n",
    "\n",
    "    # Brownian motion\n",
    "    W = np.random.normal(0, 1, (T, 1))\n",
    "\n",
    "    daily_returns = tmp.pct_change().dropna()\n",
    "\n",
    "    # 연간 수익률\n",
    "    mean_return = daily_returns.mean()\n",
    "    annual_return =((1 + mean_return) ** T) - 1\n",
    "\n",
    "    # 변동성 계산\n",
    "    mu = annual_return/T\n",
    "    sigma = daily_returns.std()\n",
    "    \n",
    "    X = np.zeros((T, 1))\n",
    "    X[0] = S0\n",
    "    for t in range(1, T):\n",
    "        X[t] = X[t - 1] * np.exp((mu - sigma ** 2 / 2) * dt + sigma * W[t])\n",
    "\n",
    "    return X\n",
    "    \n",
    "def monte_sim(sim_num,tmp,stocks,stock_money,day=100):\n",
    "    sim_num = sim_num\n",
    "    balance_df = pd.DataFrame(np.zeros((sim_num,day)))\n",
    "    for i in range(len(stocks)):\n",
    "        X = []\n",
    "        for k in range(sim_num):\n",
    "            X.append(geometric_brownian_motion(tmp[stocks[i]],stock_money[stocks[i]].iloc[0]))\n",
    "        balance_df += pd.DataFrame(np.array(X).reshape(sim_num,day))\n",
    "    return balance_df.T"
   ]
  },
  {
   "cell_type": "code",
   "execution_count": 241,
   "metadata": {},
   "outputs": [
    {
     "data": {
      "text/html": [
       "<div>\n",
       "<style scoped>\n",
       "    .dataframe tbody tr th:only-of-type {\n",
       "        vertical-align: middle;\n",
       "    }\n",
       "\n",
       "    .dataframe tbody tr th {\n",
       "        vertical-align: top;\n",
       "    }\n",
       "\n",
       "    .dataframe thead th {\n",
       "        text-align: right;\n",
       "    }\n",
       "</style>\n",
       "<table border=\"1\" class=\"dataframe\">\n",
       "  <thead>\n",
       "    <tr style=\"text-align: right;\">\n",
       "      <th></th>\n",
       "      <th>효성티앤씨</th>\n",
       "      <th>POSCO홀딩스</th>\n",
       "      <th>두산</th>\n",
       "      <th>키움증권</th>\n",
       "      <th>LG전자</th>\n",
       "    </tr>\n",
       "  </thead>\n",
       "  <tbody>\n",
       "    <tr>\n",
       "      <th>16840</th>\n",
       "      <td>390473.793396</td>\n",
       "      <td>387047.001739</td>\n",
       "      <td>197068.463766</td>\n",
       "      <td>18966.921965</td>\n",
       "      <td>6443.819134</td>\n",
       "    </tr>\n",
       "  </tbody>\n",
       "</table>\n",
       "</div>"
      ],
      "text/plain": [
       "               효성티앤씨       POSCO홀딩스             두산          키움증권         LG전자\n",
       "16840  390473.793396  387047.001739  197068.463766  18966.921965  6443.819134"
      ]
     },
     "execution_count": 241,
     "metadata": {},
     "output_type": "execute_result"
    }
   ],
   "source": [
    "balance = 1000000\n",
    "stock_money = max_shape[max_shape.columns[3:]]*balance\n",
    "stock_money"
   ]
  },
  {
   "cell_type": "code",
   "execution_count": 242,
   "metadata": {},
   "outputs": [
    {
     "data": {
      "text/html": [
       "<div>\n",
       "<style scoped>\n",
       "    .dataframe tbody tr th:only-of-type {\n",
       "        vertical-align: middle;\n",
       "    }\n",
       "\n",
       "    .dataframe tbody tr th {\n",
       "        vertical-align: top;\n",
       "    }\n",
       "\n",
       "    .dataframe thead th {\n",
       "        text-align: right;\n",
       "    }\n",
       "</style>\n",
       "<table border=\"1\" class=\"dataframe\">\n",
       "  <thead>\n",
       "    <tr style=\"text-align: right;\">\n",
       "      <th></th>\n",
       "      <th>0</th>\n",
       "      <th>1</th>\n",
       "      <th>2</th>\n",
       "      <th>3</th>\n",
       "      <th>4</th>\n",
       "      <th>5</th>\n",
       "      <th>6</th>\n",
       "      <th>7</th>\n",
       "      <th>8</th>\n",
       "      <th>9</th>\n",
       "      <th>...</th>\n",
       "      <th>990</th>\n",
       "      <th>991</th>\n",
       "      <th>992</th>\n",
       "      <th>993</th>\n",
       "      <th>994</th>\n",
       "      <th>995</th>\n",
       "      <th>996</th>\n",
       "      <th>997</th>\n",
       "      <th>998</th>\n",
       "      <th>999</th>\n",
       "    </tr>\n",
       "  </thead>\n",
       "  <tbody>\n",
       "    <tr>\n",
       "      <th>0</th>\n",
       "      <td>1.000000e+06</td>\n",
       "      <td>1.000000e+06</td>\n",
       "      <td>1.000000e+06</td>\n",
       "      <td>1.000000e+06</td>\n",
       "      <td>1.000000e+06</td>\n",
       "      <td>1.000000e+06</td>\n",
       "      <td>1.000000e+06</td>\n",
       "      <td>1.000000e+06</td>\n",
       "      <td>1.000000e+06</td>\n",
       "      <td>1.000000e+06</td>\n",
       "      <td>...</td>\n",
       "      <td>1.000000e+06</td>\n",
       "      <td>1.000000e+06</td>\n",
       "      <td>1.000000e+06</td>\n",
       "      <td>1.000000e+06</td>\n",
       "      <td>1.000000e+06</td>\n",
       "      <td>1.000000e+06</td>\n",
       "      <td>1.000000e+06</td>\n",
       "      <td>1.000000e+06</td>\n",
       "      <td>1.000000e+06</td>\n",
       "      <td>1.000000e+06</td>\n",
       "    </tr>\n",
       "    <tr>\n",
       "      <th>1</th>\n",
       "      <td>1.037203e+06</td>\n",
       "      <td>1.011841e+06</td>\n",
       "      <td>9.826968e+05</td>\n",
       "      <td>1.010357e+06</td>\n",
       "      <td>9.853149e+05</td>\n",
       "      <td>9.919070e+05</td>\n",
       "      <td>1.004973e+06</td>\n",
       "      <td>1.007642e+06</td>\n",
       "      <td>1.002666e+06</td>\n",
       "      <td>9.949210e+05</td>\n",
       "      <td>...</td>\n",
       "      <td>1.013525e+06</td>\n",
       "      <td>1.011826e+06</td>\n",
       "      <td>1.021332e+06</td>\n",
       "      <td>1.028321e+06</td>\n",
       "      <td>1.009496e+06</td>\n",
       "      <td>9.719599e+05</td>\n",
       "      <td>9.969554e+05</td>\n",
       "      <td>1.004896e+06</td>\n",
       "      <td>1.016227e+06</td>\n",
       "      <td>9.913280e+05</td>\n",
       "    </tr>\n",
       "    <tr>\n",
       "      <th>2</th>\n",
       "      <td>1.053964e+06</td>\n",
       "      <td>1.006501e+06</td>\n",
       "      <td>9.840894e+05</td>\n",
       "      <td>1.000004e+06</td>\n",
       "      <td>9.537564e+05</td>\n",
       "      <td>1.001679e+06</td>\n",
       "      <td>9.911265e+05</td>\n",
       "      <td>1.007752e+06</td>\n",
       "      <td>9.927539e+05</td>\n",
       "      <td>9.996153e+05</td>\n",
       "      <td>...</td>\n",
       "      <td>1.031069e+06</td>\n",
       "      <td>1.033683e+06</td>\n",
       "      <td>1.022252e+06</td>\n",
       "      <td>9.884927e+05</td>\n",
       "      <td>9.959829e+05</td>\n",
       "      <td>1.003925e+06</td>\n",
       "      <td>1.000949e+06</td>\n",
       "      <td>9.753464e+05</td>\n",
       "      <td>1.023258e+06</td>\n",
       "      <td>9.648965e+05</td>\n",
       "    </tr>\n",
       "    <tr>\n",
       "      <th>3</th>\n",
       "      <td>1.058520e+06</td>\n",
       "      <td>1.005731e+06</td>\n",
       "      <td>1.013641e+06</td>\n",
       "      <td>9.967277e+05</td>\n",
       "      <td>9.309111e+05</td>\n",
       "      <td>1.012226e+06</td>\n",
       "      <td>9.827614e+05</td>\n",
       "      <td>1.026275e+06</td>\n",
       "      <td>9.794651e+05</td>\n",
       "      <td>9.718566e+05</td>\n",
       "      <td>...</td>\n",
       "      <td>1.035776e+06</td>\n",
       "      <td>1.043140e+06</td>\n",
       "      <td>1.012559e+06</td>\n",
       "      <td>9.864612e+05</td>\n",
       "      <td>1.035490e+06</td>\n",
       "      <td>9.836842e+05</td>\n",
       "      <td>1.031910e+06</td>\n",
       "      <td>9.726258e+05</td>\n",
       "      <td>1.038950e+06</td>\n",
       "      <td>9.661345e+05</td>\n",
       "    </tr>\n",
       "    <tr>\n",
       "      <th>4</th>\n",
       "      <td>1.047709e+06</td>\n",
       "      <td>1.044952e+06</td>\n",
       "      <td>1.025304e+06</td>\n",
       "      <td>1.022743e+06</td>\n",
       "      <td>9.610798e+05</td>\n",
       "      <td>1.016516e+06</td>\n",
       "      <td>9.670669e+05</td>\n",
       "      <td>1.053050e+06</td>\n",
       "      <td>9.632205e+05</td>\n",
       "      <td>9.772402e+05</td>\n",
       "      <td>...</td>\n",
       "      <td>1.071166e+06</td>\n",
       "      <td>1.054302e+06</td>\n",
       "      <td>1.004594e+06</td>\n",
       "      <td>9.631054e+05</td>\n",
       "      <td>1.021392e+06</td>\n",
       "      <td>1.006570e+06</td>\n",
       "      <td>1.020896e+06</td>\n",
       "      <td>9.661508e+05</td>\n",
       "      <td>1.042548e+06</td>\n",
       "      <td>9.324310e+05</td>\n",
       "    </tr>\n",
       "    <tr>\n",
       "      <th>...</th>\n",
       "      <td>...</td>\n",
       "      <td>...</td>\n",
       "      <td>...</td>\n",
       "      <td>...</td>\n",
       "      <td>...</td>\n",
       "      <td>...</td>\n",
       "      <td>...</td>\n",
       "      <td>...</td>\n",
       "      <td>...</td>\n",
       "      <td>...</td>\n",
       "      <td>...</td>\n",
       "      <td>...</td>\n",
       "      <td>...</td>\n",
       "      <td>...</td>\n",
       "      <td>...</td>\n",
       "      <td>...</td>\n",
       "      <td>...</td>\n",
       "      <td>...</td>\n",
       "      <td>...</td>\n",
       "      <td>...</td>\n",
       "      <td>...</td>\n",
       "    </tr>\n",
       "    <tr>\n",
       "      <th>95</th>\n",
       "      <td>1.172675e+06</td>\n",
       "      <td>1.289528e+06</td>\n",
       "      <td>8.613316e+05</td>\n",
       "      <td>1.049463e+06</td>\n",
       "      <td>1.123361e+06</td>\n",
       "      <td>1.004399e+06</td>\n",
       "      <td>8.254658e+05</td>\n",
       "      <td>1.122494e+06</td>\n",
       "      <td>9.382359e+05</td>\n",
       "      <td>9.743725e+05</td>\n",
       "      <td>...</td>\n",
       "      <td>8.662201e+05</td>\n",
       "      <td>9.266640e+05</td>\n",
       "      <td>1.132471e+06</td>\n",
       "      <td>9.653662e+05</td>\n",
       "      <td>1.096684e+06</td>\n",
       "      <td>1.245033e+06</td>\n",
       "      <td>1.179354e+06</td>\n",
       "      <td>1.307986e+06</td>\n",
       "      <td>1.086064e+06</td>\n",
       "      <td>1.114658e+06</td>\n",
       "    </tr>\n",
       "    <tr>\n",
       "      <th>96</th>\n",
       "      <td>1.183146e+06</td>\n",
       "      <td>1.269377e+06</td>\n",
       "      <td>8.609884e+05</td>\n",
       "      <td>1.055649e+06</td>\n",
       "      <td>1.097630e+06</td>\n",
       "      <td>1.003754e+06</td>\n",
       "      <td>8.478224e+05</td>\n",
       "      <td>1.116242e+06</td>\n",
       "      <td>9.043723e+05</td>\n",
       "      <td>9.607390e+05</td>\n",
       "      <td>...</td>\n",
       "      <td>8.672474e+05</td>\n",
       "      <td>9.372173e+05</td>\n",
       "      <td>1.140020e+06</td>\n",
       "      <td>9.703274e+05</td>\n",
       "      <td>1.064828e+06</td>\n",
       "      <td>1.260313e+06</td>\n",
       "      <td>1.189534e+06</td>\n",
       "      <td>1.244444e+06</td>\n",
       "      <td>1.087323e+06</td>\n",
       "      <td>1.125786e+06</td>\n",
       "    </tr>\n",
       "    <tr>\n",
       "      <th>97</th>\n",
       "      <td>1.124657e+06</td>\n",
       "      <td>1.272917e+06</td>\n",
       "      <td>8.569141e+05</td>\n",
       "      <td>1.047302e+06</td>\n",
       "      <td>1.103118e+06</td>\n",
       "      <td>1.012427e+06</td>\n",
       "      <td>8.721390e+05</td>\n",
       "      <td>1.104163e+06</td>\n",
       "      <td>9.318259e+05</td>\n",
       "      <td>9.630475e+05</td>\n",
       "      <td>...</td>\n",
       "      <td>8.562024e+05</td>\n",
       "      <td>9.493387e+05</td>\n",
       "      <td>1.178637e+06</td>\n",
       "      <td>9.799555e+05</td>\n",
       "      <td>1.057202e+06</td>\n",
       "      <td>1.234183e+06</td>\n",
       "      <td>1.177074e+06</td>\n",
       "      <td>1.303649e+06</td>\n",
       "      <td>1.066526e+06</td>\n",
       "      <td>1.098790e+06</td>\n",
       "    </tr>\n",
       "    <tr>\n",
       "      <th>98</th>\n",
       "      <td>1.103951e+06</td>\n",
       "      <td>1.258043e+06</td>\n",
       "      <td>8.608768e+05</td>\n",
       "      <td>1.043956e+06</td>\n",
       "      <td>1.087285e+06</td>\n",
       "      <td>1.031044e+06</td>\n",
       "      <td>8.940034e+05</td>\n",
       "      <td>1.102658e+06</td>\n",
       "      <td>9.221850e+05</td>\n",
       "      <td>9.785154e+05</td>\n",
       "      <td>...</td>\n",
       "      <td>8.428247e+05</td>\n",
       "      <td>9.430038e+05</td>\n",
       "      <td>1.178353e+06</td>\n",
       "      <td>1.002425e+06</td>\n",
       "      <td>1.094051e+06</td>\n",
       "      <td>1.203122e+06</td>\n",
       "      <td>1.174513e+06</td>\n",
       "      <td>1.269715e+06</td>\n",
       "      <td>1.038442e+06</td>\n",
       "      <td>1.090065e+06</td>\n",
       "    </tr>\n",
       "    <tr>\n",
       "      <th>99</th>\n",
       "      <td>1.124771e+06</td>\n",
       "      <td>1.247698e+06</td>\n",
       "      <td>8.713124e+05</td>\n",
       "      <td>1.040094e+06</td>\n",
       "      <td>1.095696e+06</td>\n",
       "      <td>1.026405e+06</td>\n",
       "      <td>8.841767e+05</td>\n",
       "      <td>1.100172e+06</td>\n",
       "      <td>8.877807e+05</td>\n",
       "      <td>9.791169e+05</td>\n",
       "      <td>...</td>\n",
       "      <td>8.690152e+05</td>\n",
       "      <td>9.310842e+05</td>\n",
       "      <td>1.185108e+06</td>\n",
       "      <td>9.906586e+05</td>\n",
       "      <td>1.110554e+06</td>\n",
       "      <td>1.185200e+06</td>\n",
       "      <td>1.162963e+06</td>\n",
       "      <td>1.266164e+06</td>\n",
       "      <td>1.045482e+06</td>\n",
       "      <td>1.082942e+06</td>\n",
       "    </tr>\n",
       "  </tbody>\n",
       "</table>\n",
       "<p>100 rows × 1000 columns</p>\n",
       "</div>"
      ],
      "text/plain": [
       "             0             1             2             3             4    \\\n",
       "0   1.000000e+06  1.000000e+06  1.000000e+06  1.000000e+06  1.000000e+06   \n",
       "1   1.037203e+06  1.011841e+06  9.826968e+05  1.010357e+06  9.853149e+05   \n",
       "2   1.053964e+06  1.006501e+06  9.840894e+05  1.000004e+06  9.537564e+05   \n",
       "3   1.058520e+06  1.005731e+06  1.013641e+06  9.967277e+05  9.309111e+05   \n",
       "4   1.047709e+06  1.044952e+06  1.025304e+06  1.022743e+06  9.610798e+05   \n",
       "..           ...           ...           ...           ...           ...   \n",
       "95  1.172675e+06  1.289528e+06  8.613316e+05  1.049463e+06  1.123361e+06   \n",
       "96  1.183146e+06  1.269377e+06  8.609884e+05  1.055649e+06  1.097630e+06   \n",
       "97  1.124657e+06  1.272917e+06  8.569141e+05  1.047302e+06  1.103118e+06   \n",
       "98  1.103951e+06  1.258043e+06  8.608768e+05  1.043956e+06  1.087285e+06   \n",
       "99  1.124771e+06  1.247698e+06  8.713124e+05  1.040094e+06  1.095696e+06   \n",
       "\n",
       "             5             6             7             8             9    ...  \\\n",
       "0   1.000000e+06  1.000000e+06  1.000000e+06  1.000000e+06  1.000000e+06  ...   \n",
       "1   9.919070e+05  1.004973e+06  1.007642e+06  1.002666e+06  9.949210e+05  ...   \n",
       "2   1.001679e+06  9.911265e+05  1.007752e+06  9.927539e+05  9.996153e+05  ...   \n",
       "3   1.012226e+06  9.827614e+05  1.026275e+06  9.794651e+05  9.718566e+05  ...   \n",
       "4   1.016516e+06  9.670669e+05  1.053050e+06  9.632205e+05  9.772402e+05  ...   \n",
       "..           ...           ...           ...           ...           ...  ...   \n",
       "95  1.004399e+06  8.254658e+05  1.122494e+06  9.382359e+05  9.743725e+05  ...   \n",
       "96  1.003754e+06  8.478224e+05  1.116242e+06  9.043723e+05  9.607390e+05  ...   \n",
       "97  1.012427e+06  8.721390e+05  1.104163e+06  9.318259e+05  9.630475e+05  ...   \n",
       "98  1.031044e+06  8.940034e+05  1.102658e+06  9.221850e+05  9.785154e+05  ...   \n",
       "99  1.026405e+06  8.841767e+05  1.100172e+06  8.877807e+05  9.791169e+05  ...   \n",
       "\n",
       "             990           991           992           993           994  \\\n",
       "0   1.000000e+06  1.000000e+06  1.000000e+06  1.000000e+06  1.000000e+06   \n",
       "1   1.013525e+06  1.011826e+06  1.021332e+06  1.028321e+06  1.009496e+06   \n",
       "2   1.031069e+06  1.033683e+06  1.022252e+06  9.884927e+05  9.959829e+05   \n",
       "3   1.035776e+06  1.043140e+06  1.012559e+06  9.864612e+05  1.035490e+06   \n",
       "4   1.071166e+06  1.054302e+06  1.004594e+06  9.631054e+05  1.021392e+06   \n",
       "..           ...           ...           ...           ...           ...   \n",
       "95  8.662201e+05  9.266640e+05  1.132471e+06  9.653662e+05  1.096684e+06   \n",
       "96  8.672474e+05  9.372173e+05  1.140020e+06  9.703274e+05  1.064828e+06   \n",
       "97  8.562024e+05  9.493387e+05  1.178637e+06  9.799555e+05  1.057202e+06   \n",
       "98  8.428247e+05  9.430038e+05  1.178353e+06  1.002425e+06  1.094051e+06   \n",
       "99  8.690152e+05  9.310842e+05  1.185108e+06  9.906586e+05  1.110554e+06   \n",
       "\n",
       "             995           996           997           998           999  \n",
       "0   1.000000e+06  1.000000e+06  1.000000e+06  1.000000e+06  1.000000e+06  \n",
       "1   9.719599e+05  9.969554e+05  1.004896e+06  1.016227e+06  9.913280e+05  \n",
       "2   1.003925e+06  1.000949e+06  9.753464e+05  1.023258e+06  9.648965e+05  \n",
       "3   9.836842e+05  1.031910e+06  9.726258e+05  1.038950e+06  9.661345e+05  \n",
       "4   1.006570e+06  1.020896e+06  9.661508e+05  1.042548e+06  9.324310e+05  \n",
       "..           ...           ...           ...           ...           ...  \n",
       "95  1.245033e+06  1.179354e+06  1.307986e+06  1.086064e+06  1.114658e+06  \n",
       "96  1.260313e+06  1.189534e+06  1.244444e+06  1.087323e+06  1.125786e+06  \n",
       "97  1.234183e+06  1.177074e+06  1.303649e+06  1.066526e+06  1.098790e+06  \n",
       "98  1.203122e+06  1.174513e+06  1.269715e+06  1.038442e+06  1.090065e+06  \n",
       "99  1.185200e+06  1.162963e+06  1.266164e+06  1.045482e+06  1.082942e+06  \n",
       "\n",
       "[100 rows x 1000 columns]"
      ]
     },
     "execution_count": 242,
     "metadata": {},
     "output_type": "execute_result"
    }
   ],
   "source": [
    "sim_num = 1000\n",
    "balance_df = monte_sim(sim_num,before_data,stocks,stock_money)\n",
    "balance_df"
   ]
  },
  {
   "cell_type": "code",
   "execution_count": 34,
   "metadata": {},
   "outputs": [
    {
     "data": {
      "image/png": "[encoded data removed]",
      "text/plain": [
       "<Figure size 640x480 with 1 Axes>"
      ]
     },
     "metadata": {},
     "output_type": "display_data"
    }
   ],
   "source": [
    "plt.hist(balance_df.iloc[99])\n",
    "plt.show()"
   ]
  },
  {
   "cell_type": "code",
   "execution_count": 189,
   "metadata": {},
   "outputs": [],
   "source": [
    "import plotly.express as px\n",
    "def get_simret(balance_df,balance):\n",
    "    tmp3 = pd.DataFrame()\n",
    "    for i in [0.9,0.75,0.5,0.25,0.1]:\n",
    "        lst = []\n",
    "        idx = balance_df.T[balance_df.iloc[-1] >= balance_df.iloc[-1].quantile(i)][99].sort_values().index[0]\n",
    "        for k in range(19,100,20):\n",
    "            lst.append((balance_df.T.iloc[idx].iloc[k]-balance)/balance*100)\n",
    "        tmp3[f'{100-i*100}%'] = lst\n",
    "\n",
    "    tmp3.index=[f\"{i}month\" for i in range(1,6)]\n",
    "    tmp3.columns =['호황','상승','평년','하락','불황']\n",
    "    return tmp3"
   ]
  },
  {
   "cell_type": "code",
   "execution_count": 190,
   "metadata": {},
   "outputs": [
    {
     "data": {
      "text/html": [
       "<div>\n",
       "<style scoped>\n",
       "    .dataframe tbody tr th:only-of-type {\n",
       "        vertical-align: middle;\n",
       "    }\n",
       "\n",
       "    .dataframe tbody tr th {\n",
       "        vertical-align: top;\n",
       "    }\n",
       "\n",
       "    .dataframe thead th {\n",
       "        text-align: right;\n",
       "    }\n",
       "</style>\n",
       "<table border=\"1\" class=\"dataframe\">\n",
       "  <thead>\n",
       "    <tr style=\"text-align: right;\">\n",
       "      <th></th>\n",
       "      <th>호황</th>\n",
       "      <th>상승</th>\n",
       "      <th>평년</th>\n",
       "      <th>하락</th>\n",
       "      <th>불황</th>\n",
       "    </tr>\n",
       "  </thead>\n",
       "  <tbody>\n",
       "    <tr>\n",
       "      <th>1month</th>\n",
       "      <td>-1.641340</td>\n",
       "      <td>1.144656</td>\n",
       "      <td>4.747192</td>\n",
       "      <td>0.652693</td>\n",
       "      <td>-10.844354</td>\n",
       "    </tr>\n",
       "    <tr>\n",
       "      <th>2month</th>\n",
       "      <td>12.736005</td>\n",
       "      <td>-1.409149</td>\n",
       "      <td>4.294289</td>\n",
       "      <td>-7.106999</td>\n",
       "      <td>-9.365906</td>\n",
       "    </tr>\n",
       "    <tr>\n",
       "      <th>3month</th>\n",
       "      <td>22.800953</td>\n",
       "      <td>9.552620</td>\n",
       "      <td>-2.854304</td>\n",
       "      <td>-5.576260</td>\n",
       "      <td>-18.437165</td>\n",
       "    </tr>\n",
       "    <tr>\n",
       "      <th>4month</th>\n",
       "      <td>36.152138</td>\n",
       "      <td>4.216892</td>\n",
       "      <td>-5.210321</td>\n",
       "      <td>-6.144932</td>\n",
       "      <td>-17.286872</td>\n",
       "    </tr>\n",
       "    <tr>\n",
       "      <th>5month</th>\n",
       "      <td>31.586510</td>\n",
       "      <td>15.983879</td>\n",
       "      <td>2.722372</td>\n",
       "      <td>-8.509064</td>\n",
       "      <td>-18.026757</td>\n",
       "    </tr>\n",
       "  </tbody>\n",
       "</table>\n",
       "</div>"
      ],
      "text/plain": [
       "               호황         상승        평년        하락         불황\n",
       "1month  -1.641340   1.144656  4.747192  0.652693 -10.844354\n",
       "2month  12.736005  -1.409149  4.294289 -7.106999  -9.365906\n",
       "3month  22.800953   9.552620 -2.854304 -5.576260 -18.437165\n",
       "4month  36.152138   4.216892 -5.210321 -6.144932 -17.286872\n",
       "5month  31.586510  15.983879  2.722372 -8.509064 -18.026757"
      ]
     },
     "metadata": {},
     "output_type": "display_data"
    },
    {
     "data": {
      "application/vnd.plotly.v1+json": {
       "config": {
        "plotlyServerURL": "https://plot.ly"
       },
       "data": [
        {
         "hovertemplate": "variable=호황<br>index=%{x}<br>value=%{y}<extra></extra>",
         "legendgroup": "호황",
         "line": {
          "color": "#636efa",
          "dash": "solid"
         },
         "marker": {
          "symbol": "circle"
         },
         "mode": "lines",
         "name": "호황",
         "orientation": "v",
         "showlegend": true,
         "type": "scatter",
         "x": [
          "1month",
          "2month",
          "3month",
          "4month",
          "5month"
         ],
         "xaxis": "x",
         "y": [
          -1.6413397674838897,
          12.73600504088241,
          22.800953247130266,
          36.1521383916958,
          31.586509577281657
         ],
         "yaxis": "y"
        },
        {
         "hovertemplate": "variable=상승<br>index=%{x}<br>value=%{y}<extra></extra>",
         "legendgroup": "상승",
         "line": {
          "color": "#EF553B",
          "dash": "solid"
         },
         "marker": {
          "symbol": "circle"
         },
         "mode": "lines",
         "name": "상승",
         "orientation": "v",
         "showlegend": true,
         "type": "scatter",
         "x": [
          "1month",
          "2month",
          "3month",
          "4month",
          "5month"
         ],
         "xaxis": "x",
         "y": [
          1.1446555678992298,
          -1.4091493405383313,
          9.552619900925666,
          4.2168922542169,
          15.983879377428071
         ],
         "yaxis": "y"
        },
        {
         "hovertemplate": "variable=평년<br>index=%{x}<br>value=%{y}<extra></extra>",
         "legendgroup": "평년",
         "line": {
          "color": "#00cc96",
          "dash": "solid"
         },
         "marker": {
          "symbol": "circle"
         },
         "mode": "lines",
         "name": "평년",
         "orientation": "v",
         "showlegend": true,
         "type": "scatter",
         "x": [
          "1month",
          "2month",
          "3month",
          "4month",
          "5month"
         ],
         "xaxis": "x",
         "y": [
          4.747191971342813,
          4.294288790873752,
          -2.8543040154342307,
          -5.210320709663292,
          2.7223722051929915
         ],
         "yaxis": "y"
        },
        {
         "hovertemplate": "variable=하락<br>index=%{x}<br>value=%{y}<extra></extra>",
         "legendgroup": "하락",
         "line": {
          "color": "#ab63fa",
          "dash": "solid"
         },
         "marker": {
          "symbol": "circle"
         },
         "mode": "lines",
         "name": "하락",
         "orientation": "v",
         "showlegend": true,
         "type": "scatter",
         "x": [
          "1month",
          "2month",
          "3month",
          "4month",
          "5month"
         ],
         "xaxis": "x",
         "y": [
          0.6526925312918844,
          -7.1069992043131265,
          -5.576260390768095,
          -6.14493211033711,
          -8.509063972016772
         ],
         "yaxis": "y"
        },
        {
         "hovertemplate": "variable=불황<br>index=%{x}<br>value=%{y}<extra></extra>",
         "legendgroup": "불황",
         "line": {
          "color": "#FFA15A",
          "dash": "solid"
         },
         "marker": {
          "symbol": "circle"
         },
         "mode": "lines",
         "name": "불황",
         "orientation": "v",
         "showlegend": true,
         "type": "scatter",
         "x": [
          "1month",
          "2month",
          "3month",
          "4month",
          "5month"
         ],
         "xaxis": "x",
         "y": [
          -10.84435383267412,
          -9.365906455464334,
          -18.43716479191681,
          -17.286871506832398,
          -18.026756510449164
         ],
         "yaxis": "y"
        }
       ],
       "layout": {
        "legend": {
         "title": {
          "text": "variable"
         },
         "tracegroupgap": 0
        },
        "margin": {
         "t": 60
        },
        "template": {
         "data": {
          "bar": [
           {
            "error_x": {
             "color": "#2a3f5f"
            },
            "error_y": {
             "color": "#2a3f5f"
            },
            "marker": {
             "line": {
              "color": "#E5ECF6",
              "width": 0.5
             },
             "pattern": {
              "fillmode": "overlay",
              "size": 10,
              "solidity": 0.2
             }
            },
            "type": "bar"
           }
          ],
          "barpolar": [
           {
            "marker": {
             "line": {
              "color": "#E5ECF6",
              "width": 0.5
             },
             "pattern": {
              "fillmode": "overlay",
              "size": 10,
              "solidity": 0.2
             }
            },
            "type": "barpolar"
           }
          ],
          "carpet": [
           {
            "aaxis": {
             "endlinecolor": "#2a3f5f",
             "gridcolor": "white",
             "linecolor": "white",
             "minorgridcolor": "white",
             "startlinecolor": "#2a3f5f"
            },
            "baxis": {
             "endlinecolor": "#2a3f5f",
             "gridcolor": "white",
             "linecolor": "white",
             "minorgridcolor": "white",
             "startlinecolor": "#2a3f5f"
            },
            "type": "carpet"
           }
          ],
          "choropleth": [
           {
            "colorbar": {
             "outlinewidth": 0,
             "ticks": ""
            },
            "type": "choropleth"
           }
          ],
          "contour": [
           {
            "colorbar": {
             "outlinewidth": 0,
             "ticks": ""
            },
            "colorscale": [
             [
              0,
              "#0d0887"
             ],
             [
              0.1111111111111111,
              "#46039f"
             ],
             [
              0.2222222222222222,
              "#7201a8"
             ],
             [
              0.3333333333333333,
              "#9c179e"
             ],
             [
              0.4444444444444444,
              "#bd3786"
             ],
             [
              0.5555555555555556,
              "#d8576b"
             ],
             [
              0.6666666666666666,
              "#ed7953"
             ],
             [
              0.7777777777777778,
              "#fb9f3a"
             ],
             [
              0.8888888888888888,
              "#fdca26"
             ],
             [
              1,
              "#f0f921"
             ]
            ],
            "type": "contour"
           }
          ],
          "contourcarpet": [
           {
            "colorbar": {
             "outlinewidth": 0,
             "ticks": ""
            },
            "type": "contourcarpet"
           }
          ],
          "heatmap": [
           {
            "colorbar": {
             "outlinewidth": 0,
             "ticks": ""
            },
            "colorscale": [
             [
              0,
              "#0d0887"
             ],
             [
              0.1111111111111111,
              "#46039f"
             ],
             [
              0.2222222222222222,
              "#7201a8"
             ],
             [
              0.3333333333333333,
              "#9c179e"
             ],
             [
              0.4444444444444444,
              "#bd3786"
             ],
             [
              0.5555555555555556,
              "#d8576b"
             ],
             [
              0.6666666666666666,
              "#ed7953"
             ],
             [
              0.7777777777777778,
              "#fb9f3a"
             ],
             [
              0.8888888888888888,
              "#fdca26"
             ],
             [
              1,
              "#f0f921"
             ]
            ],
            "type": "heatmap"
           }
          ],
          "heatmapgl": [
           {
            "colorbar": {
             "outlinewidth": 0,
             "ticks": ""
            },
            "colorscale": [
             [
              0,
              "#0d0887"
             ],
             [
              0.1111111111111111,
              "#46039f"
             ],
             [
              0.2222222222222222,
              "#7201a8"
             ],
             [
              0.3333333333333333,
              "#9c179e"
             ],
             [
              0.4444444444444444,
              "#bd3786"
             ],
             [
              0.5555555555555556,
              "#d8576b"
             ],
             [
              0.6666666666666666,
              "#ed7953"
             ],
             [
              0.7777777777777778,
              "#fb9f3a"
             ],
             [
              0.8888888888888888,
              "#fdca26"
             ],
             [
              1,
              "#f0f921"
             ]
            ],
            "type": "heatmapgl"
           }
          ],
          "histogram": [
           {
            "marker": {
             "pattern": {
              "fillmode": "overlay",
              "size": 10,
              "solidity": 0.2
             }
            },
            "type": "histogram"
           }
          ],
          "histogram2d": [
           {
            "colorbar": {
             "outlinewidth": 0,
             "ticks": ""
            },
            "colorscale": [
             [
              0,
              "#0d0887"
             ],
             [
              0.1111111111111111,
              "#46039f"
             ],
             [
              0.2222222222222222,
              "#7201a8"
             ],
             [
              0.3333333333333333,
              "#9c179e"
             ],
             [
              0.4444444444444444,
              "#bd3786"
             ],
             [
              0.5555555555555556,
              "#d8576b"
             ],
             [
              0.6666666666666666,
              "#ed7953"
             ],
             [
              0.7777777777777778,
              "#fb9f3a"
             ],
             [
              0.8888888888888888,
              "#fdca26"
             ],
             [
              1,
              "#f0f921"
             ]
            ],
            "type": "histogram2d"
           }
          ],
          "histogram2dcontour": [
           {
            "colorbar": {
             "outlinewidth": 0,
             "ticks": ""
            },
            "colorscale": [
             [
              0,
              "#0d0887"
             ],
             [
              0.1111111111111111,
              "#46039f"
             ],
             [
              0.2222222222222222,
              "#7201a8"
             ],
             [
              0.3333333333333333,
              "#9c179e"
             ],
             [
              0.4444444444444444,
              "#bd3786"
             ],
             [
              0.5555555555555556,
              "#d8576b"
             ],
             [
              0.6666666666666666,
              "#ed7953"
             ],
             [
              0.7777777777777778,
              "#fb9f3a"
             ],
             [
              0.8888888888888888,
              "#fdca26"
             ],
             [
              1,
              "#f0f921"
             ]
            ],
            "type": "histogram2dcontour"
           }
          ],
          "mesh3d": [
           {
            "colorbar": {
             "outlinewidth": 0,
             "ticks": ""
            },
            "type": "mesh3d"
           }
          ],
          "parcoords": [
           {
            "line": {
             "colorbar": {
              "outlinewidth": 0,
              "ticks": ""
             }
            },
            "type": "parcoords"
           }
          ],
          "pie": [
           {
            "automargin": true,
            "type": "pie"
           }
          ],
          "scatter": [
           {
            "fillpattern": {
             "fillmode": "overlay",
             "size": 10,
             "solidity": 0.2
            },
            "type": "scatter"
           }
          ],
          "scatter3d": [
           {
            "line": {
             "colorbar": {
              "outlinewidth": 0,
              "ticks": ""
             }
            },
            "marker": {
             "colorbar": {
              "outlinewidth": 0,
              "ticks": ""
             }
            },
            "type": "scatter3d"
           }
          ],
          "scattercarpet": [
           {
            "marker": {
             "colorbar": {
              "outlinewidth": 0,
              "ticks": ""
             }
            },
            "type": "scattercarpet"
           }
          ],
          "scattergeo": [
           {
            "marker": {
             "colorbar": {
              "outlinewidth": 0,
              "ticks": ""
             }
            },
            "type": "scattergeo"
           }
          ],
          "scattergl": [
           {
            "marker": {
             "colorbar": {
              "outlinewidth": 0,
              "ticks": ""
             }
            },
            "type": "scattergl"
           }
          ],
          "scattermapbox": [
           {
            "marker": {
             "colorbar": {
              "outlinewidth": 0,
              "ticks": ""
             }
            },
            "type": "scattermapbox"
           }
          ],
          "scatterpolar": [
           {
            "marker": {
             "colorbar": {
              "outlinewidth": 0,
              "ticks": ""
             }
            },
            "type": "scatterpolar"
           }
          ],
          "scatterpolargl": [
           {
            "marker": {
             "colorbar": {
              "outlinewidth": 0,
              "ticks": ""
             }
            },
            "type": "scatterpolargl"
           }
          ],
          "scatterternary": [
           {
            "marker": {
             "colorbar": {
              "outlinewidth": 0,
              "ticks": ""
             }
            },
            "type": "scatterternary"
           }
          ],
          "surface": [
           {
            "colorbar": {
             "outlinewidth": 0,
             "ticks": ""
            },
            "colorscale": [
             [
              0,
              "#0d0887"
             ],
             [
              0.1111111111111111,
              "#46039f"
             ],
             [
              0.2222222222222222,
              "#7201a8"
             ],
             [
              0.3333333333333333,
              "#9c179e"
             ],
             [
              0.4444444444444444,
              "#bd3786"
             ],
             [
              0.5555555555555556,
              "#d8576b"
             ],
             [
              0.6666666666666666,
              "#ed7953"
             ],
             [
              0.7777777777777778,
              "#fb9f3a"
             ],
             [
              0.8888888888888888,
              "#fdca26"
             ],
             [
              1,
              "#f0f921"
             ]
            ],
            "type": "surface"
           }
          ],
          "table": [
           {
            "cells": {
             "fill": {
              "color": "#EBF0F8"
             },
             "line": {
              "color": "white"
             }
            },
            "header": {
             "fill": {
              "color": "#C8D4E3"
             },
             "line": {
              "color": "white"
             }
            },
            "type": "table"
           }
          ]
         },
         "layout": {
          "annotationdefaults": {
           "arrowcolor": "#2a3f5f",
           "arrowhead": 0,
           "arrowwidth": 1
          },
          "autotypenumbers": "strict",
          "coloraxis": {
           "colorbar": {
            "outlinewidth": 0,
            "ticks": ""
           }
          },
          "colorscale": {
           "diverging": [
            [
             0,
             "#8e0152"
            ],
            [
             0.1,
             "#c51b7d"
            ],
            [
             0.2,
             "#de77ae"
            ],
            [
             0.3,
             "#f1b6da"
            ],
            [
             0.4,
             "#fde0ef"
            ],
            [
             0.5,
             "#f7f7f7"
            ],
            [
             0.6,
             "#e6f5d0"
            ],
            [
             0.7,
             "#b8e186"
            ],
            [
             0.8,
             "#7fbc41"
            ],
            [
             0.9,
             "#4d9221"
            ],
            [
             1,
             "#276419"
            ]
           ],
           "sequential": [
            [
             0,
             "#0d0887"
            ],
            [
             0.1111111111111111,
             "#46039f"
            ],
            [
             0.2222222222222222,
             "#7201a8"
            ],
            [
             0.3333333333333333,
             "#9c179e"
            ],
            [
             0.4444444444444444,
             "#bd3786"
            ],
            [
             0.5555555555555556,
             "#d8576b"
            ],
            [
             0.6666666666666666,
             "#ed7953"
            ],
            [
             0.7777777777777778,
             "#fb9f3a"
            ],
            [
             0.8888888888888888,
             "#fdca26"
            ],
            [
             1,
             "#f0f921"
            ]
           ],
           "sequentialminus": [
            [
             0,
             "#0d0887"
            ],
            [
             0.1111111111111111,
             "#46039f"
            ],
            [
             0.2222222222222222,
             "#7201a8"
            ],
            [
             0.3333333333333333,
             "#9c179e"
            ],
            [
             0.4444444444444444,
             "#bd3786"
            ],
            [
             0.5555555555555556,
             "#d8576b"
            ],
            [
             0.6666666666666666,
             "#ed7953"
            ],
            [
             0.7777777777777778,
             "#fb9f3a"
            ],
            [
             0.8888888888888888,
             "#fdca26"
            ],
            [
             1,
             "#f0f921"
            ]
           ]
          },
          "colorway": [
           "#636efa",
           "#EF553B",
           "#00cc96",
           "#ab63fa",
           "#FFA15A",
           "#19d3f3",
           "#FF6692",
           "#B6E880",
           "#FF97FF",
           "#FECB52"
          ],
          "font": {
           "color": "#2a3f5f"
          },
          "geo": {
           "bgcolor": "white",
           "lakecolor": "white",
           "landcolor": "#E5ECF6",
           "showlakes": true,
           "showland": true,
           "subunitcolor": "white"
          },
          "hoverlabel": {
           "align": "left"
          },
          "hovermode": "closest",
          "mapbox": {
           "style": "light"
          },
          "paper_bgcolor": "white",
          "plot_bgcolor": "#E5ECF6",
          "polar": {
           "angularaxis": {
            "gridcolor": "white",
            "linecolor": "white",
            "ticks": ""
           },
           "bgcolor": "#E5ECF6",
           "radialaxis": {
            "gridcolor": "white",
            "linecolor": "white",
            "ticks": ""
           }
          },
          "scene": {
           "xaxis": {
            "backgroundcolor": "#E5ECF6",
            "gridcolor": "white",
            "gridwidth": 2,
            "linecolor": "white",
            "showbackground": true,
            "ticks": "",
            "zerolinecolor": "white"
           },
           "yaxis": {
            "backgroundcolor": "#E5ECF6",
            "gridcolor": "white",
            "gridwidth": 2,
            "linecolor": "white",
            "showbackground": true,
            "ticks": "",
            "zerolinecolor": "white"
           },
           "zaxis": {
            "backgroundcolor": "#E5ECF6",
            "gridcolor": "white",
            "gridwidth": 2,
            "linecolor": "white",
            "showbackground": true,
            "ticks": "",
            "zerolinecolor": "white"
           }
          },
          "shapedefaults": {
           "line": {
            "color": "#2a3f5f"
           }
          },
          "ternary": {
           "aaxis": {
            "gridcolor": "white",
            "linecolor": "white",
            "ticks": ""
           },
           "baxis": {
            "gridcolor": "white",
            "linecolor": "white",
            "ticks": ""
           },
           "bgcolor": "#E5ECF6",
           "caxis": {
            "gridcolor": "white",
            "linecolor": "white",
            "ticks": ""
           }
          },
          "title": {
           "x": 0.05
          },
          "xaxis": {
           "automargin": true,
           "gridcolor": "white",
           "linecolor": "white",
           "ticks": "",
           "title": {
            "standoff": 15
           },
           "zerolinecolor": "white",
           "zerolinewidth": 2
          },
          "yaxis": {
           "automargin": true,
           "gridcolor": "white",
           "linecolor": "white",
           "ticks": "",
           "title": {
            "standoff": 15
           },
           "zerolinecolor": "white",
           "zerolinewidth": 2
          }
         }
        },
        "xaxis": {
         "anchor": "y",
         "domain": [
          0,
          1
         ],
         "title": {
          "text": "index"
         }
        },
        "yaxis": {
         "anchor": "x",
         "domain": [
          0,
          1
         ],
         "title": {
          "text": "value"
         }
        }
       }
      }
     },
     "metadata": {},
     "output_type": "display_data"
    }
   ],
   "source": [
    "sim_data = get_simret(balance_df,balance)\n",
    "display(sim_data)\n",
    "display(px.line(sim_data))"
   ]
  },
  {
   "cell_type": "code",
   "execution_count": 191,
   "metadata": {},
   "outputs": [
    {
     "data": {
      "text/html": [
       "<div>\n",
       "<style scoped>\n",
       "    .dataframe tbody tr th:only-of-type {\n",
       "        vertical-align: middle;\n",
       "    }\n",
       "\n",
       "    .dataframe tbody tr th {\n",
       "        vertical-align: top;\n",
       "    }\n",
       "\n",
       "    .dataframe thead th {\n",
       "        text-align: right;\n",
       "    }\n",
       "</style>\n",
       "<table border=\"1\" class=\"dataframe\">\n",
       "  <thead>\n",
       "    <tr style=\"text-align: right;\">\n",
       "      <th></th>\n",
       "      <th>삼성전자</th>\n",
       "      <th>SK하이닉스</th>\n",
       "      <th>POSCO홀딩스</th>\n",
       "      <th>LG화학</th>\n",
       "      <th>현대차</th>\n",
       "      <th>기아</th>\n",
       "      <th>LG전자</th>\n",
       "      <th>HMM</th>\n",
       "      <th>LG이노텍</th>\n",
       "      <th>키움증권</th>\n",
       "      <th>효성첨단소재</th>\n",
       "      <th>두산</th>\n",
       "      <th>효성티앤씨</th>\n",
       "    </tr>\n",
       "    <tr>\n",
       "      <th>날짜</th>\n",
       "      <th></th>\n",
       "      <th></th>\n",
       "      <th></th>\n",
       "      <th></th>\n",
       "      <th></th>\n",
       "      <th></th>\n",
       "      <th></th>\n",
       "      <th></th>\n",
       "      <th></th>\n",
       "      <th></th>\n",
       "      <th></th>\n",
       "      <th></th>\n",
       "      <th></th>\n",
       "    </tr>\n",
       "  </thead>\n",
       "  <tbody>\n",
       "    <tr>\n",
       "      <th>2023-03-02</th>\n",
       "      <td>60800</td>\n",
       "      <td>88100</td>\n",
       "      <td>337000</td>\n",
       "      <td>678000</td>\n",
       "      <td>178500</td>\n",
       "      <td>77800</td>\n",
       "      <td>111400</td>\n",
       "      <td>22450</td>\n",
       "      <td>271500</td>\n",
       "      <td>103700</td>\n",
       "      <td>416000</td>\n",
       "      <td>99700</td>\n",
       "      <td>463000</td>\n",
       "    </tr>\n",
       "    <tr>\n",
       "      <th>2023-03-03</th>\n",
       "      <td>60500</td>\n",
       "      <td>87300</td>\n",
       "      <td>332000</td>\n",
       "      <td>703000</td>\n",
       "      <td>176100</td>\n",
       "      <td>78200</td>\n",
       "      <td>110800</td>\n",
       "      <td>22450</td>\n",
       "      <td>270500</td>\n",
       "      <td>101200</td>\n",
       "      <td>442000</td>\n",
       "      <td>101500</td>\n",
       "      <td>465000</td>\n",
       "    </tr>\n",
       "    <tr>\n",
       "      <th>2023-03-06</th>\n",
       "      <td>61500</td>\n",
       "      <td>89700</td>\n",
       "      <td>329500</td>\n",
       "      <td>726000</td>\n",
       "      <td>177500</td>\n",
       "      <td>78500</td>\n",
       "      <td>114500</td>\n",
       "      <td>22050</td>\n",
       "      <td>281500</td>\n",
       "      <td>100100</td>\n",
       "      <td>442500</td>\n",
       "      <td>105400</td>\n",
       "      <td>453500</td>\n",
       "    </tr>\n",
       "    <tr>\n",
       "      <th>2023-03-07</th>\n",
       "      <td>60700</td>\n",
       "      <td>88900</td>\n",
       "      <td>335000</td>\n",
       "      <td>740000</td>\n",
       "      <td>175100</td>\n",
       "      <td>77600</td>\n",
       "      <td>114400</td>\n",
       "      <td>21500</td>\n",
       "      <td>279000</td>\n",
       "      <td>99300</td>\n",
       "      <td>438000</td>\n",
       "      <td>106500</td>\n",
       "      <td>448500</td>\n",
       "    </tr>\n",
       "    <tr>\n",
       "      <th>2023-03-08</th>\n",
       "      <td>60300</td>\n",
       "      <td>86800</td>\n",
       "      <td>329000</td>\n",
       "      <td>715000</td>\n",
       "      <td>174900</td>\n",
       "      <td>78900</td>\n",
       "      <td>117500</td>\n",
       "      <td>21100</td>\n",
       "      <td>273500</td>\n",
       "      <td>98700</td>\n",
       "      <td>424500</td>\n",
       "      <td>104600</td>\n",
       "      <td>434000</td>\n",
       "    </tr>\n",
       "    <tr>\n",
       "      <th>...</th>\n",
       "      <td>...</td>\n",
       "      <td>...</td>\n",
       "      <td>...</td>\n",
       "      <td>...</td>\n",
       "      <td>...</td>\n",
       "      <td>...</td>\n",
       "      <td>...</td>\n",
       "      <td>...</td>\n",
       "      <td>...</td>\n",
       "      <td>...</td>\n",
       "      <td>...</td>\n",
       "      <td>...</td>\n",
       "      <td>...</td>\n",
       "    </tr>\n",
       "    <tr>\n",
       "      <th>2023-07-26</th>\n",
       "      <td>69800</td>\n",
       "      <td>113000</td>\n",
       "      <td>630000</td>\n",
       "      <td>728000</td>\n",
       "      <td>198700</td>\n",
       "      <td>82600</td>\n",
       "      <td>116300</td>\n",
       "      <td>17270</td>\n",
       "      <td>271500</td>\n",
       "      <td>92500</td>\n",
       "      <td>451000</td>\n",
       "      <td>85800</td>\n",
       "      <td>337500</td>\n",
       "    </tr>\n",
       "    <tr>\n",
       "      <th>2023-07-27</th>\n",
       "      <td>71700</td>\n",
       "      <td>124000</td>\n",
       "      <td>594000</td>\n",
       "      <td>658000</td>\n",
       "      <td>197800</td>\n",
       "      <td>83100</td>\n",
       "      <td>117500</td>\n",
       "      <td>17480</td>\n",
       "      <td>269500</td>\n",
       "      <td>98500</td>\n",
       "      <td>429500</td>\n",
       "      <td>86700</td>\n",
       "      <td>340500</td>\n",
       "    </tr>\n",
       "    <tr>\n",
       "      <th>2023-07-28</th>\n",
       "      <td>70600</td>\n",
       "      <td>128000</td>\n",
       "      <td>619000</td>\n",
       "      <td>650000</td>\n",
       "      <td>196800</td>\n",
       "      <td>84200</td>\n",
       "      <td>110600</td>\n",
       "      <td>17610</td>\n",
       "      <td>266500</td>\n",
       "      <td>98200</td>\n",
       "      <td>435000</td>\n",
       "      <td>87800</td>\n",
       "      <td>334500</td>\n",
       "    </tr>\n",
       "    <tr>\n",
       "      <th>2023-07-31</th>\n",
       "      <td>69800</td>\n",
       "      <td>123400</td>\n",
       "      <td>642000</td>\n",
       "      <td>648000</td>\n",
       "      <td>196000</td>\n",
       "      <td>82700</td>\n",
       "      <td>108400</td>\n",
       "      <td>17490</td>\n",
       "      <td>264000</td>\n",
       "      <td>97200</td>\n",
       "      <td>475000</td>\n",
       "      <td>106500</td>\n",
       "      <td>339500</td>\n",
       "    </tr>\n",
       "    <tr>\n",
       "      <th>2023-08-01</th>\n",
       "      <td>71100</td>\n",
       "      <td>125100</td>\n",
       "      <td>621000</td>\n",
       "      <td>655000</td>\n",
       "      <td>199400</td>\n",
       "      <td>83300</td>\n",
       "      <td>109200</td>\n",
       "      <td>18120</td>\n",
       "      <td>268500</td>\n",
       "      <td>103900</td>\n",
       "      <td>470000</td>\n",
       "      <td>116300</td>\n",
       "      <td>346000</td>\n",
       "    </tr>\n",
       "  </tbody>\n",
       "</table>\n",
       "<p>105 rows × 13 columns</p>\n",
       "</div>"
      ],
      "text/plain": [
       "             삼성전자  SK하이닉스  POSCO홀딩스    LG화학     현대차     기아    LG전자    HMM  \\\n",
       "날짜                                                                          \n",
       "2023-03-02  60800   88100    337000  678000  178500  77800  111400  22450   \n",
       "2023-03-03  60500   87300    332000  703000  176100  78200  110800  22450   \n",
       "2023-03-06  61500   89700    329500  726000  177500  78500  114500  22050   \n",
       "2023-03-07  60700   88900    335000  740000  175100  77600  114400  21500   \n",
       "2023-03-08  60300   86800    329000  715000  174900  78900  117500  21100   \n",
       "...           ...     ...       ...     ...     ...    ...     ...    ...   \n",
       "2023-07-26  69800  113000    630000  728000  198700  82600  116300  17270   \n",
       "2023-07-27  71700  124000    594000  658000  197800  83100  117500  17480   \n",
       "2023-07-28  70600  128000    619000  650000  196800  84200  110600  17610   \n",
       "2023-07-31  69800  123400    642000  648000  196000  82700  108400  17490   \n",
       "2023-08-01  71100  125100    621000  655000  199400  83300  109200  18120   \n",
       "\n",
       "             LG이노텍    키움증권  효성첨단소재      두산   효성티앤씨  \n",
       "날짜                                                  \n",
       "2023-03-02  271500  103700  416000   99700  463000  \n",
       "2023-03-03  270500  101200  442000  101500  465000  \n",
       "2023-03-06  281500  100100  442500  105400  453500  \n",
       "2023-03-07  279000   99300  438000  106500  448500  \n",
       "2023-03-08  273500   98700  424500  104600  434000  \n",
       "...            ...     ...     ...     ...     ...  \n",
       "2023-07-26  271500   92500  451000   85800  337500  \n",
       "2023-07-27  269500   98500  429500   86700  340500  \n",
       "2023-07-28  266500   98200  435000   87800  334500  \n",
       "2023-07-31  264000   97200  475000  106500  339500  \n",
       "2023-08-01  268500  103900  470000  116300  346000  \n",
       "\n",
       "[105 rows x 13 columns]"
      ]
     },
     "execution_count": 191,
     "metadata": {},
     "output_type": "execute_result"
    }
   ],
   "source": [
    "future_data = now_data[(now_data.index >before_data.index.max())&(now_data.index < dt.datetime(2023,8,2))]\n",
    "future_data"
   ]
  },
  {
   "cell_type": "code",
   "execution_count": 192,
   "metadata": {},
   "outputs": [
    {
     "data": {
      "text/html": [
       "<div>\n",
       "<style scoped>\n",
       "    .dataframe tbody tr th:only-of-type {\n",
       "        vertical-align: middle;\n",
       "    }\n",
       "\n",
       "    .dataframe tbody tr th {\n",
       "        vertical-align: top;\n",
       "    }\n",
       "\n",
       "    .dataframe thead th {\n",
       "        text-align: right;\n",
       "    }\n",
       "</style>\n",
       "<table border=\"1\" class=\"dataframe\">\n",
       "  <thead>\n",
       "    <tr style=\"text-align: right;\">\n",
       "      <th></th>\n",
       "      <th>효성티앤씨</th>\n",
       "      <th>POSCO홀딩스</th>\n",
       "      <th>두산</th>\n",
       "      <th>키움증권</th>\n",
       "      <th>LG전자</th>\n",
       "    </tr>\n",
       "    <tr>\n",
       "      <th>날짜</th>\n",
       "      <th></th>\n",
       "      <th></th>\n",
       "      <th></th>\n",
       "      <th></th>\n",
       "      <th></th>\n",
       "    </tr>\n",
       "  </thead>\n",
       "  <tbody>\n",
       "    <tr>\n",
       "      <th>2023-03</th>\n",
       "      <td>463000</td>\n",
       "      <td>337000</td>\n",
       "      <td>99700</td>\n",
       "      <td>103700</td>\n",
       "      <td>111400</td>\n",
       "    </tr>\n",
       "    <tr>\n",
       "      <th>2023-04</th>\n",
       "      <td>438000</td>\n",
       "      <td>392000</td>\n",
       "      <td>96300</td>\n",
       "      <td>101500</td>\n",
       "      <td>113800</td>\n",
       "    </tr>\n",
       "    <tr>\n",
       "      <th>2023-05</th>\n",
       "      <td>412500</td>\n",
       "      <td>382000</td>\n",
       "      <td>94300</td>\n",
       "      <td>91100</td>\n",
       "      <td>109500</td>\n",
       "    </tr>\n",
       "    <tr>\n",
       "      <th>2023-06</th>\n",
       "      <td>379000</td>\n",
       "      <td>361000</td>\n",
       "      <td>97600</td>\n",
       "      <td>93500</td>\n",
       "      <td>123000</td>\n",
       "    </tr>\n",
       "    <tr>\n",
       "      <th>2023-07</th>\n",
       "      <td>380000</td>\n",
       "      <td>402000</td>\n",
       "      <td>90800</td>\n",
       "      <td>89700</td>\n",
       "      <td>127100</td>\n",
       "    </tr>\n",
       "    <tr>\n",
       "      <th>2023-08</th>\n",
       "      <td>346000</td>\n",
       "      <td>621000</td>\n",
       "      <td>116300</td>\n",
       "      <td>103900</td>\n",
       "      <td>109200</td>\n",
       "    </tr>\n",
       "  </tbody>\n",
       "</table>\n",
       "</div>"
      ],
      "text/plain": [
       "          효성티앤씨  POSCO홀딩스      두산    키움증권    LG전자\n",
       "날짜                                               \n",
       "2023-03  463000    337000   99700  103700  111400\n",
       "2023-04  438000    392000   96300  101500  113800\n",
       "2023-05  412500    382000   94300   91100  109500\n",
       "2023-06  379000    361000   97600   93500  123000\n",
       "2023-07  380000    402000   90800   89700  127100\n",
       "2023-08  346000    621000  116300  103900  109200"
      ]
     },
     "execution_count": 192,
     "metadata": {},
     "output_type": "execute_result"
    }
   ],
   "source": [
    "future_data = future_data[stocks].groupby(future_data.index.to_period('M')).first()\n",
    "future_data"
   ]
  },
  {
   "cell_type": "code",
   "execution_count": 193,
   "metadata": {},
   "outputs": [],
   "source": [
    "future_data = (future_data/future_data.iloc[0]-1).drop(index=future_data.index[0])"
   ]
  },
  {
   "cell_type": "code",
   "execution_count": 194,
   "metadata": {},
   "outputs": [
    {
     "data": {
      "text/plain": [
       "array([[0.40528539, 0.35137239, 0.2089782 , 0.01127749, 0.02308653]])"
      ]
     },
     "execution_count": 194,
     "metadata": {},
     "output_type": "execute_result"
    }
   ],
   "source": [
    "port_weigth = max_shape[max_shape.columns[3:]].values\n",
    "port_weigth"
   ]
  },
  {
   "cell_type": "code",
   "execution_count": 195,
   "metadata": {},
   "outputs": [
    {
     "data": {
      "text/plain": [
       "날짜\n",
       "2023-04    0.028593\n",
       "2023-05   -0.010369\n",
       "2023-06   -0.051613\n",
       "2023-07   -0.021806\n",
       "2023-08    0.228057\n",
       "Freq: M, dtype: float64"
      ]
     },
     "execution_count": 195,
     "metadata": {},
     "output_type": "execute_result"
    }
   ],
   "source": [
    "(future_data*port_weigth).sum(axis=1)"
   ]
  },
  {
   "cell_type": "code",
   "execution_count": 196,
   "metadata": {},
   "outputs": [
    {
     "data": {
      "text/plain": [
       "날짜\n",
       "2023-03-02    316.26\n",
       "2023-03-03    316.36\n",
       "2023-03-06    320.94\n",
       "2023-03-07    319.80\n",
       "2023-03-08    315.38\n",
       "               ...  \n",
       "2023-07-26    340.56\n",
       "2023-07-27    344.76\n",
       "2023-07-28    344.03\n",
       "2023-07-31    345.62\n",
       "2023-08-01    351.00\n",
       "Name: 종가, Length: 105, dtype: float64"
      ]
     },
     "execution_count": 196,
     "metadata": {},
     "output_type": "execute_result"
    }
   ],
   "source": [
    "f_kospi =kospi200[(kospi200.index >before_data.index.max())&(kospi200.index < dt.datetime(2023,8,2))]\n",
    "f_kospi"
   ]
  },
  {
   "cell_type": "code",
   "execution_count": 197,
   "metadata": {},
   "outputs": [
    {
     "data": {
      "text/plain": [
       "날짜\n",
       "2023-03    316.26\n",
       "2023-04    320.38\n",
       "2023-05    329.09\n",
       "2023-06    338.08\n",
       "2023-07    343.08\n",
       "2023-08    351.00\n",
       "Freq: M, Name: 종가, dtype: float64"
      ]
     },
     "execution_count": 197,
     "metadata": {},
     "output_type": "execute_result"
    }
   ],
   "source": [
    "f_kospi = f_kospi.groupby(f_kospi.index.to_period('M')).first()\n",
    "f_kospi"
   ]
  },
  {
   "cell_type": "code",
   "execution_count": 198,
   "metadata": {},
   "outputs": [
    {
     "data": {
      "text/plain": [
       "날짜\n",
       "2023-04    0.013027\n",
       "2023-05    0.040568\n",
       "2023-06    0.068994\n",
       "2023-07    0.084804\n",
       "2023-08    0.109846\n",
       "Freq: M, Name: 종가, dtype: float64"
      ]
     },
     "execution_count": 198,
     "metadata": {},
     "output_type": "execute_result"
    }
   ],
   "source": [
    "f_kospi = (f_kospi/f_kospi.iloc[0]-1).drop(index=f_kospi.index[0])\n",
    "f_kospi"
   ]
  },
  {
   "cell_type": "code",
   "execution_count": 199,
   "metadata": {},
   "outputs": [
    {
     "data": {
      "text/html": [
       "<div>\n",
       "<style scoped>\n",
       "    .dataframe tbody tr th:only-of-type {\n",
       "        vertical-align: middle;\n",
       "    }\n",
       "\n",
       "    .dataframe tbody tr th {\n",
       "        vertical-align: top;\n",
       "    }\n",
       "\n",
       "    .dataframe thead th {\n",
       "        text-align: right;\n",
       "    }\n",
       "</style>\n",
       "<table border=\"1\" class=\"dataframe\">\n",
       "  <thead>\n",
       "    <tr style=\"text-align: right;\">\n",
       "      <th></th>\n",
       "      <th>호황</th>\n",
       "      <th>상승</th>\n",
       "      <th>평년</th>\n",
       "      <th>하락</th>\n",
       "      <th>불황</th>\n",
       "      <th>real</th>\n",
       "      <th>KOSPI</th>\n",
       "    </tr>\n",
       "  </thead>\n",
       "  <tbody>\n",
       "    <tr>\n",
       "      <th>1month</th>\n",
       "      <td>-1.641340</td>\n",
       "      <td>1.144656</td>\n",
       "      <td>4.747192</td>\n",
       "      <td>0.652693</td>\n",
       "      <td>-10.844354</td>\n",
       "      <td>2.859347</td>\n",
       "      <td>1.302726</td>\n",
       "    </tr>\n",
       "    <tr>\n",
       "      <th>2month</th>\n",
       "      <td>12.736005</td>\n",
       "      <td>-1.409149</td>\n",
       "      <td>4.294289</td>\n",
       "      <td>-7.106999</td>\n",
       "      <td>-9.365906</td>\n",
       "      <td>-1.036863</td>\n",
       "      <td>4.056789</td>\n",
       "    </tr>\n",
       "    <tr>\n",
       "      <th>3month</th>\n",
       "      <td>22.800953</td>\n",
       "      <td>9.552620</td>\n",
       "      <td>-2.854304</td>\n",
       "      <td>-5.576260</td>\n",
       "      <td>-18.437165</td>\n",
       "      <td>-5.161257</td>\n",
       "      <td>6.899387</td>\n",
       "    </tr>\n",
       "    <tr>\n",
       "      <th>4month</th>\n",
       "      <td>36.152138</td>\n",
       "      <td>4.216892</td>\n",
       "      <td>-5.210321</td>\n",
       "      <td>-6.144932</td>\n",
       "      <td>-17.286872</td>\n",
       "      <td>-2.180550</td>\n",
       "      <td>8.480364</td>\n",
       "    </tr>\n",
       "    <tr>\n",
       "      <th>5month</th>\n",
       "      <td>31.586510</td>\n",
       "      <td>15.983879</td>\n",
       "      <td>2.722372</td>\n",
       "      <td>-8.509064</td>\n",
       "      <td>-18.026757</td>\n",
       "      <td>22.805710</td>\n",
       "      <td>10.984633</td>\n",
       "    </tr>\n",
       "  </tbody>\n",
       "</table>\n",
       "</div>"
      ],
      "text/plain": [
       "               호황         상승        평년        하락         불황       real  \\\n",
       "1month  -1.641340   1.144656  4.747192  0.652693 -10.844354   2.859347   \n",
       "2month  12.736005  -1.409149  4.294289 -7.106999  -9.365906  -1.036863   \n",
       "3month  22.800953   9.552620 -2.854304 -5.576260 -18.437165  -5.161257   \n",
       "4month  36.152138   4.216892 -5.210321 -6.144932 -17.286872  -2.180550   \n",
       "5month  31.586510  15.983879  2.722372 -8.509064 -18.026757  22.805710   \n",
       "\n",
       "            KOSPI  \n",
       "1month   1.302726  \n",
       "2month   4.056789  \n",
       "3month   6.899387  \n",
       "4month   8.480364  \n",
       "5month  10.984633  "
      ]
     },
     "execution_count": 199,
     "metadata": {},
     "output_type": "execute_result"
    }
   ],
   "source": [
    "sim_data['real'] = ((future_data*port_weigth).sum(axis=1)*100).to_list()\n",
    "sim_data['KOSPI'] = (f_kospi*100).to_list()\n",
    "sim_data"
   ]
  },
  {
   "cell_type": "code",
   "execution_count": 200,
   "metadata": {},
   "outputs": [
    {
     "data": {
      "application/vnd.plotly.v1+json": {
       "config": {
        "plotlyServerURL": "https://plot.ly"
       },
       "data": [
        {
         "hovertemplate": "variable=호황<br>index=%{x}<br>value=%{y}<extra></extra>",
         "legendgroup": "호황",
         "line": {
          "color": "#636efa",
          "dash": "solid"
         },
         "marker": {
          "symbol": "circle"
         },
         "mode": "lines",
         "name": "호황",
         "orientation": "v",
         "showlegend": true,
         "type": "scatter",
         "x": [
          "1month",
          "2month",
          "3month",
          "4month",
          "5month"
         ],
         "xaxis": "x",
         "y": [
          -1.6413397674838897,
          12.73600504088241,
          22.800953247130266,
          36.1521383916958,
          31.586509577281657
         ],
         "yaxis": "y"
        },
        {
         "hovertemplate": "variable=상승<br>index=%{x}<br>value=%{y}<extra></extra>",
         "legendgroup": "상승",
         "line": {
          "color": "#EF553B",
          "dash": "solid"
         },
         "marker": {
          "symbol": "circle"
         },
         "mode": "lines",
         "name": "상승",
         "orientation": "v",
         "showlegend": true,
         "type": "scatter",
         "x": [
          "1month",
          "2month",
          "3month",
          "4month",
          "5month"
         ],
         "xaxis": "x",
         "y": [
          1.1446555678992298,
          -1.4091493405383313,
          9.552619900925666,
          4.2168922542169,
          15.983879377428071
         ],
         "yaxis": "y"
        },
        {
         "hovertemplate": "variable=평년<br>index=%{x}<br>value=%{y}<extra></extra>",
         "legendgroup": "평년",
         "line": {
          "color": "#00cc96",
          "dash": "solid"
         },
         "marker": {
          "symbol": "circle"
         },
         "mode": "lines",
         "name": "평년",
         "orientation": "v",
         "showlegend": true,
         "type": "scatter",
         "x": [
          "1month",
          "2month",
          "3month",
          "4month",
          "5month"
         ],
         "xaxis": "x",
         "y": [
          4.747191971342813,
          4.294288790873752,
          -2.8543040154342307,
          -5.210320709663292,
          2.7223722051929915
         ],
         "yaxis": "y"
        },
        {
         "hovertemplate": "variable=하락<br>index=%{x}<br>value=%{y}<extra></extra>",
         "legendgroup": "하락",
         "line": {
          "color": "#ab63fa",
          "dash": "solid"
         },
         "marker": {
          "symbol": "circle"
         },
         "mode": "lines",
         "name": "하락",
         "orientation": "v",
         "showlegend": true,
         "type": "scatter",
         "x": [
          "1month",
          "2month",
          "3month",
          "4month",
          "5month"
         ],
         "xaxis": "x",
         "y": [
          0.6526925312918844,
          -7.1069992043131265,
          -5.576260390768095,
          -6.14493211033711,
          -8.509063972016772
         ],
         "yaxis": "y"
        },
        {
         "hovertemplate": "variable=불황<br>index=%{x}<br>value=%{y}<extra></extra>",
         "legendgroup": "불황",
         "line": {
          "color": "#FFA15A",
          "dash": "solid"
         },
         "marker": {
          "symbol": "circle"
         },
         "mode": "lines",
         "name": "불황",
         "orientation": "v",
         "showlegend": true,
         "type": "scatter",
         "x": [
          "1month",
          "2month",
          "3month",
          "4month",
          "5month"
         ],
         "xaxis": "x",
         "y": [
          -10.84435383267412,
          -9.365906455464334,
          -18.43716479191681,
          -17.286871506832398,
          -18.026756510449164
         ],
         "yaxis": "y"
        },
        {
         "hovertemplate": "variable=real<br>index=%{x}<br>value=%{y}<extra></extra>",
         "legendgroup": "real",
         "line": {
          "color": "#19d3f3",
          "dash": "solid"
         },
         "marker": {
          "symbol": "circle"
         },
         "mode": "lines",
         "name": "real",
         "orientation": "v",
         "showlegend": true,
         "type": "scatter",
         "x": [
          "1month",
          "2month",
          "3month",
          "4month",
          "5month"
         ],
         "xaxis": "x",
         "y": [
          2.8593466798121776,
          -1.0368630782447057,
          -5.1612571298208385,
          -2.1805503163935187,
          22.80571034730019
         ],
         "yaxis": "y"
        },
        {
         "hovertemplate": "variable=KOSPI<br>index=%{x}<br>value=%{y}<extra></extra>",
         "legendgroup": "KOSPI",
         "line": {
          "color": "#FF6692",
          "dash": "solid"
         },
         "marker": {
          "symbol": "circle"
         },
         "mode": "lines",
         "name": "KOSPI",
         "orientation": "v",
         "showlegend": true,
         "type": "scatter",
         "x": [
          "1month",
          "2month",
          "3month",
          "4month",
          "5month"
         ],
         "xaxis": "x",
         "y": [
          1.3027256055144543,
          4.0567887181433,
          6.899386580661471,
          8.480364257256689,
          10.984632896983504
         ],
         "yaxis": "y"
        }
       ],
       "layout": {
        "legend": {
         "title": {
          "text": "variable"
         },
         "tracegroupgap": 0
        },
        "margin": {
         "t": 60
        },
        "template": {
         "data": {
          "bar": [
           {
            "error_x": {
             "color": "#2a3f5f"
            },
            "error_y": {
             "color": "#2a3f5f"
            },
            "marker": {
             "line": {
              "color": "#E5ECF6",
              "width": 0.5
             },
             "pattern": {
              "fillmode": "overlay",
              "size": 10,
              "solidity": 0.2
             }
            },
            "type": "bar"
           }
          ],
          "barpolar": [
           {
            "marker": {
             "line": {
              "color": "#E5ECF6",
              "width": 0.5
             },
             "pattern": {
              "fillmode": "overlay",
              "size": 10,
              "solidity": 0.2
             }
            },
            "type": "barpolar"
           }
          ],
          "carpet": [
           {
            "aaxis": {
             "endlinecolor": "#2a3f5f",
             "gridcolor": "white",
             "linecolor": "white",
             "minorgridcolor": "white",
             "startlinecolor": "#2a3f5f"
            },
            "baxis": {
             "endlinecolor": "#2a3f5f",
             "gridcolor": "white",
             "linecolor": "white",
             "minorgridcolor": "white",
             "startlinecolor": "#2a3f5f"
            },
            "type": "carpet"
           }
          ],
          "choropleth": [
           {
            "colorbar": {
             "outlinewidth": 0,
             "ticks": ""
            },
            "type": "choropleth"
           }
          ],
          "contour": [
           {
            "colorbar": {
             "outlinewidth": 0,
             "ticks": ""
            },
            "colorscale": [
             [
              0,
              "#0d0887"
             ],
             [
              0.1111111111111111,
              "#46039f"
             ],
             [
              0.2222222222222222,
              "#7201a8"
             ],
             [
              0.3333333333333333,
              "#9c179e"
             ],
             [
              0.4444444444444444,
              "#bd3786"
             ],
             [
              0.5555555555555556,
              "#d8576b"
             ],
             [
              0.6666666666666666,
              "#ed7953"
             ],
             [
              0.7777777777777778,
              "#fb9f3a"
             ],
             [
              0.8888888888888888,
              "#fdca26"
             ],
             [
              1,
              "#f0f921"
             ]
            ],
            "type": "contour"
           }
          ],
          "contourcarpet": [
           {
            "colorbar": {
             "outlinewidth": 0,
             "ticks": ""
            },
            "type": "contourcarpet"
           }
          ],
          "heatmap": [
           {
            "colorbar": {
             "outlinewidth": 0,
             "ticks": ""
            },
            "colorscale": [
             [
              0,
              "#0d0887"
             ],
             [
              0.1111111111111111,
              "#46039f"
             ],
             [
              0.2222222222222222,
              "#7201a8"
             ],
             [
              0.3333333333333333,
              "#9c179e"
             ],
             [
              0.4444444444444444,
              "#bd3786"
             ],
             [
              0.5555555555555556,
              "#d8576b"
             ],
             [
              0.6666666666666666,
              "#ed7953"
             ],
             [
              0.7777777777777778,
              "#fb9f3a"
             ],
             [
              0.8888888888888888,
              "#fdca26"
             ],
             [
              1,
              "#f0f921"
             ]
            ],
            "type": "heatmap"
           }
          ],
          "heatmapgl": [
           {
            "colorbar": {
             "outlinewidth": 0,
             "ticks": ""
            },
            "colorscale": [
             [
              0,
              "#0d0887"
             ],
             [
              0.1111111111111111,
              "#46039f"
             ],
             [
              0.2222222222222222,
              "#7201a8"
             ],
             [
              0.3333333333333333,
              "#9c179e"
             ],
             [
              0.4444444444444444,
              "#bd3786"
             ],
             [
              0.5555555555555556,
              "#d8576b"
             ],
             [
              0.6666666666666666,
              "#ed7953"
             ],
             [
              0.7777777777777778,
              "#fb9f3a"
             ],
             [
              0.8888888888888888,
              "#fdca26"
             ],
             [
              1,
              "#f0f921"
             ]
            ],
            "type": "heatmapgl"
           }
          ],
          "histogram": [
           {
            "marker": {
             "pattern": {
              "fillmode": "overlay",
              "size": 10,
              "solidity": 0.2
             }
            },
            "type": "histogram"
           }
          ],
          "histogram2d": [
           {
            "colorbar": {
             "outlinewidth": 0,
             "ticks": ""
            },
            "colorscale": [
             [
              0,
              "#0d0887"
             ],
             [
              0.1111111111111111,
              "#46039f"
             ],
             [
              0.2222222222222222,
              "#7201a8"
             ],
             [
              0.3333333333333333,
              "#9c179e"
             ],
             [
              0.4444444444444444,
              "#bd3786"
             ],
             [
              0.5555555555555556,
              "#d8576b"
             ],
             [
              0.6666666666666666,
              "#ed7953"
             ],
             [
              0.7777777777777778,
              "#fb9f3a"
             ],
             [
              0.8888888888888888,
              "#fdca26"
             ],
             [
              1,
              "#f0f921"
             ]
            ],
            "type": "histogram2d"
           }
          ],
          "histogram2dcontour": [
           {
            "colorbar": {
             "outlinewidth": 0,
             "ticks": ""
            },
            "colorscale": [
             [
              0,
              "#0d0887"
             ],
             [
              0.1111111111111111,
              "#46039f"
             ],
             [
              0.2222222222222222,
              "#7201a8"
             ],
             [
              0.3333333333333333,
              "#9c179e"
             ],
             [
              0.4444444444444444,
              "#bd3786"
             ],
             [
              0.5555555555555556,
              "#d8576b"
             ],
             [
              0.6666666666666666,
              "#ed7953"
             ],
             [
              0.7777777777777778,
              "#fb9f3a"
             ],
             [
              0.8888888888888888,
              "#fdca26"
             ],
             [
              1,
              "#f0f921"
             ]
            ],
            "type": "histogram2dcontour"
           }
          ],
          "mesh3d": [
           {
            "colorbar": {
             "outlinewidth": 0,
             "ticks": ""
            },
            "type": "mesh3d"
           }
          ],
          "parcoords": [
           {
            "line": {
             "colorbar": {
              "outlinewidth": 0,
              "ticks": ""
             }
            },
            "type": "parcoords"
           }
          ],
          "pie": [
           {
            "automargin": true,
            "type": "pie"
           }
          ],
          "scatter": [
           {
            "fillpattern": {
             "fillmode": "overlay",
             "size": 10,
             "solidity": 0.2
            },
            "type": "scatter"
           }
          ],
          "scatter3d": [
           {
            "line": {
             "colorbar": {
              "outlinewidth": 0,
              "ticks": ""
             }
            },
            "marker": {
             "colorbar": {
              "outlinewidth": 0,
              "ticks": ""
             }
            },
            "type": "scatter3d"
           }
          ],
          "scattercarpet": [
           {
            "marker": {
             "colorbar": {
              "outlinewidth": 0,
              "ticks": ""
             }
            },
            "type": "scattercarpet"
           }
          ],
          "scattergeo": [
           {
            "marker": {
             "colorbar": {
              "outlinewidth": 0,
              "ticks": ""
             }
            },
            "type": "scattergeo"
           }
          ],
          "scattergl": [
           {
            "marker": {
             "colorbar": {
              "outlinewidth": 0,
              "ticks": ""
             }
            },
            "type": "scattergl"
           }
          ],
          "scattermapbox": [
           {
            "marker": {
             "colorbar": {
              "outlinewidth": 0,
              "ticks": ""
             }
            },
            "type": "scattermapbox"
           }
          ],
          "scatterpolar": [
           {
            "marker": {
             "colorbar": {
              "outlinewidth": 0,
              "ticks": ""
             }
            },
            "type": "scatterpolar"
           }
          ],
          "scatterpolargl": [
           {
            "marker": {
             "colorbar": {
              "outlinewidth": 0,
              "ticks": ""
             }
            },
            "type": "scatterpolargl"
           }
          ],
          "scatterternary": [
           {
            "marker": {
             "colorbar": {
              "outlinewidth": 0,
              "ticks": ""
             }
            },
            "type": "scatterternary"
           }
          ],
          "surface": [
           {
            "colorbar": {
             "outlinewidth": 0,
             "ticks": ""
            },
            "colorscale": [
             [
              0,
              "#0d0887"
             ],
             [
              0.1111111111111111,
              "#46039f"
             ],
             [
              0.2222222222222222,
              "#7201a8"
             ],
             [
              0.3333333333333333,
              "#9c179e"
             ],
             [
              0.4444444444444444,
              "#bd3786"
             ],
             [
              0.5555555555555556,
              "#d8576b"
             ],
             [
              0.6666666666666666,
              "#ed7953"
             ],
             [
              0.7777777777777778,
              "#fb9f3a"
             ],
             [
              0.8888888888888888,
              "#fdca26"
             ],
             [
              1,
              "#f0f921"
             ]
            ],
            "type": "surface"
           }
          ],
          "table": [
           {
            "cells": {
             "fill": {
              "color": "#EBF0F8"
             },
             "line": {
              "color": "white"
             }
            },
            "header": {
             "fill": {
              "color": "#C8D4E3"
             },
             "line": {
              "color": "white"
             }
            },
            "type": "table"
           }
          ]
         },
         "layout": {
          "annotationdefaults": {
           "arrowcolor": "#2a3f5f",
           "arrowhead": 0,
           "arrowwidth": 1
          },
          "autotypenumbers": "strict",
          "coloraxis": {
           "colorbar": {
            "outlinewidth": 0,
            "ticks": ""
           }
          },
          "colorscale": {
           "diverging": [
            [
             0,
             "#8e0152"
            ],
            [
             0.1,
             "#c51b7d"
            ],
            [
             0.2,
             "#de77ae"
            ],
            [
             0.3,
             "#f1b6da"
            ],
            [
             0.4,
             "#fde0ef"
            ],
            [
             0.5,
             "#f7f7f7"
            ],
            [
             0.6,
             "#e6f5d0"
            ],
            [
             0.7,
             "#b8e186"
            ],
            [
             0.8,
             "#7fbc41"
            ],
            [
             0.9,
             "#4d9221"
            ],
            [
             1,
             "#276419"
            ]
           ],
           "sequential": [
            [
             0,
             "#0d0887"
            ],
            [
             0.1111111111111111,
             "#46039f"
            ],
            [
             0.2222222222222222,
             "#7201a8"
            ],
            [
             0.3333333333333333,
             "#9c179e"
            ],
            [
             0.4444444444444444,
             "#bd3786"
            ],
            [
             0.5555555555555556,
             "#d8576b"
            ],
            [
             0.6666666666666666,
             "#ed7953"
            ],
            [
             0.7777777777777778,
             "#fb9f3a"
            ],
            [
             0.8888888888888888,
             "#fdca26"
            ],
            [
             1,
             "#f0f921"
            ]
           ],
           "sequentialminus": [
            [
             0,
             "#0d0887"
            ],
            [
             0.1111111111111111,
             "#46039f"
            ],
            [
             0.2222222222222222,
             "#7201a8"
            ],
            [
             0.3333333333333333,
             "#9c179e"
            ],
            [
             0.4444444444444444,
             "#bd3786"
            ],
            [
             0.5555555555555556,
             "#d8576b"
            ],
            [
             0.6666666666666666,
             "#ed7953"
            ],
            [
             0.7777777777777778,
             "#fb9f3a"
            ],
            [
             0.8888888888888888,
             "#fdca26"
            ],
            [
             1,
             "#f0f921"
            ]
           ]
          },
          "colorway": [
           "#636efa",
           "#EF553B",
           "#00cc96",
           "#ab63fa",
           "#FFA15A",
           "#19d3f3",
           "#FF6692",
           "#B6E880",
           "#FF97FF",
           "#FECB52"
          ],
          "font": {
           "color": "#2a3f5f"
          },
          "geo": {
           "bgcolor": "white",
           "lakecolor": "white",
           "landcolor": "#E5ECF6",
           "showlakes": true,
           "showland": true,
           "subunitcolor": "white"
          },
          "hoverlabel": {
           "align": "left"
          },
          "hovermode": "closest",
          "mapbox": {
           "style": "light"
          },
          "paper_bgcolor": "white",
          "plot_bgcolor": "#E5ECF6",
          "polar": {
           "angularaxis": {
            "gridcolor": "white",
            "linecolor": "white",
            "ticks": ""
           },
           "bgcolor": "#E5ECF6",
           "radialaxis": {
            "gridcolor": "white",
            "linecolor": "white",
            "ticks": ""
           }
          },
          "scene": {
           "xaxis": {
            "backgroundcolor": "#E5ECF6",
            "gridcolor": "white",
            "gridwidth": 2,
            "linecolor": "white",
            "showbackground": true,
            "ticks": "",
            "zerolinecolor": "white"
           },
           "yaxis": {
            "backgroundcolor": "#E5ECF6",
            "gridcolor": "white",
            "gridwidth": 2,
            "linecolor": "white",
            "showbackground": true,
            "ticks": "",
            "zerolinecolor": "white"
           },
           "zaxis": {
            "backgroundcolor": "#E5ECF6",
            "gridcolor": "white",
            "gridwidth": 2,
            "linecolor": "white",
            "showbackground": true,
            "ticks": "",
            "zerolinecolor": "white"
           }
          },
          "shapedefaults": {
           "line": {
            "color": "#2a3f5f"
           }
          },
          "ternary": {
           "aaxis": {
            "gridcolor": "white",
            "linecolor": "white",
            "ticks": ""
           },
           "baxis": {
            "gridcolor": "white",
            "linecolor": "white",
            "ticks": ""
           },
           "bgcolor": "#E5ECF6",
           "caxis": {
            "gridcolor": "white",
            "linecolor": "white",
            "ticks": ""
           }
          },
          "title": {
           "x": 0.05
          },
          "xaxis": {
           "automargin": true,
           "gridcolor": "white",
           "linecolor": "white",
           "ticks": "",
           "title": {
            "standoff": 15
           },
           "zerolinecolor": "white",
           "zerolinewidth": 2
          },
          "yaxis": {
           "automargin": true,
           "gridcolor": "white",
           "linecolor": "white",
           "ticks": "",
           "title": {
            "standoff": 15
           },
           "zerolinecolor": "white",
           "zerolinewidth": 2
          }
         }
        },
        "xaxis": {
         "anchor": "y",
         "domain": [
          0,
          1
         ],
         "title": {
          "text": "index"
         }
        },
        "yaxis": {
         "anchor": "x",
         "domain": [
          0,
          1
         ],
         "title": {
          "text": "value"
         }
        }
       }
      }
     },
     "metadata": {},
     "output_type": "display_data"
    }
   ],
   "source": [
    "px.line(sim_data)"
   ]
  },
  {
   "cell_type": "code",
   "execution_count": 247,
   "metadata": {},
   "outputs": [],
   "source": [
    "import plotly.express as px\n",
    "def get_simret(balance_df,balance,now_data=None,kospi200=None):\n",
    "    tmp3 = pd.DataFrame()\n",
    "    for i in [0.9,0.75,0.5,0.25,0.1]:\n",
    "        lst = []\n",
    "        idx = balance_df.T[balance_df.iloc[-1] >= balance_df.iloc[-1].quantile(i)][99].sort_values().index[0]\n",
    "        for k in range(19,100,20):\n",
    "            lst.append((balance_df.T.iloc[idx].iloc[k]-balance)/balance*100)\n",
    "        tmp3[f'{100-i*100}%'] = lst\n",
    "\n",
    "    tmp3.index=[f\"{i}month\" for i in range(1,6)]\n",
    "    tmp3.columns =['호황','상승','평년','하락','불황']\n",
    "    if now_data is not None:\n",
    "        future_data = now_data[(now_data.index >before_data.index.max())&(now_data.index < dt.datetime(2023,8,2))]\n",
    "        future_data = future_data[stocks].groupby(future_data.index.to_period('M')).first()\n",
    "        future_data = (future_data/future_data.iloc[0]-1).drop(index=future_data.index[0])\n",
    "        tmp3['real'] = ((future_data*port_weigth).sum(axis=1)*100).to_list()\n",
    "    \n",
    "    if kospi200 is not None:\n",
    "        f_kospi =kospi200[(kospi200.index >before_data.index.max())&(kospi200.index < dt.datetime(2023,8,2))]\n",
    "        f_kospi = f_kospi.groupby(f_kospi.index.to_period('M')).first()\n",
    "        f_kospi = (f_kospi/f_kospi.iloc[0]-1).drop(index=f_kospi.index[0])\n",
    "        tmp3['KOSPI'] = (f_kospi*100).to_list()\n",
    "\n",
    "    return tmp3"
   ]
  },
  {
   "cell_type": "code",
   "execution_count": 248,
   "metadata": {},
   "outputs": [
    {
     "name": "stdout",
     "output_type": "stream",
     "text": [
      "yes\n"
     ]
    },
    {
     "data": {
      "text/html": [
       "<div>\n",
       "<style scoped>\n",
       "    .dataframe tbody tr th:only-of-type {\n",
       "        vertical-align: middle;\n",
       "    }\n",
       "\n",
       "    .dataframe tbody tr th {\n",
       "        vertical-align: top;\n",
       "    }\n",
       "\n",
       "    .dataframe thead th {\n",
       "        text-align: right;\n",
       "    }\n",
       "</style>\n",
       "<table border=\"1\" class=\"dataframe\">\n",
       "  <thead>\n",
       "    <tr style=\"text-align: right;\">\n",
       "      <th></th>\n",
       "      <th>호황</th>\n",
       "      <th>상승</th>\n",
       "      <th>평년</th>\n",
       "      <th>하락</th>\n",
       "      <th>불황</th>\n",
       "      <th>real</th>\n",
       "      <th>KOSPI</th>\n",
       "    </tr>\n",
       "  </thead>\n",
       "  <tbody>\n",
       "    <tr>\n",
       "      <th>1month</th>\n",
       "      <td>12.689740</td>\n",
       "      <td>7.275168</td>\n",
       "      <td>6.811338</td>\n",
       "      <td>-2.424430</td>\n",
       "      <td>-7.969872</td>\n",
       "      <td>2.859347</td>\n",
       "      <td>1.302726</td>\n",
       "    </tr>\n",
       "    <tr>\n",
       "      <th>2month</th>\n",
       "      <td>24.987169</td>\n",
       "      <td>7.239184</td>\n",
       "      <td>7.375187</td>\n",
       "      <td>-7.155935</td>\n",
       "      <td>-2.380065</td>\n",
       "      <td>-1.036863</td>\n",
       "      <td>4.056789</td>\n",
       "    </tr>\n",
       "    <tr>\n",
       "      <th>3month</th>\n",
       "      <td>23.331886</td>\n",
       "      <td>4.063354</td>\n",
       "      <td>5.368493</td>\n",
       "      <td>-6.105185</td>\n",
       "      <td>1.940025</td>\n",
       "      <td>-5.161257</td>\n",
       "      <td>6.899387</td>\n",
       "    </tr>\n",
       "    <tr>\n",
       "      <th>4month</th>\n",
       "      <td>13.873478</td>\n",
       "      <td>0.934130</td>\n",
       "      <td>5.573361</td>\n",
       "      <td>-8.629223</td>\n",
       "      <td>-10.012424</td>\n",
       "      <td>-2.180550</td>\n",
       "      <td>8.480364</td>\n",
       "    </tr>\n",
       "    <tr>\n",
       "      <th>5month</th>\n",
       "      <td>28.733160</td>\n",
       "      <td>16.554223</td>\n",
       "      <td>4.338624</td>\n",
       "      <td>-6.891577</td>\n",
       "      <td>-15.845420</td>\n",
       "      <td>22.805710</td>\n",
       "      <td>10.984633</td>\n",
       "    </tr>\n",
       "  </tbody>\n",
       "</table>\n",
       "</div>"
      ],
      "text/plain": [
       "               호황         상승        평년        하락         불황       real  \\\n",
       "1month  12.689740   7.275168  6.811338 -2.424430  -7.969872   2.859347   \n",
       "2month  24.987169   7.239184  7.375187 -7.155935  -2.380065  -1.036863   \n",
       "3month  23.331886   4.063354  5.368493 -6.105185   1.940025  -5.161257   \n",
       "4month  13.873478   0.934130  5.573361 -8.629223 -10.012424  -2.180550   \n",
       "5month  28.733160  16.554223  4.338624 -6.891577 -15.845420  22.805710   \n",
       "\n",
       "            KOSPI  \n",
       "1month   1.302726  \n",
       "2month   4.056789  \n",
       "3month   6.899387  \n",
       "4month   8.480364  \n",
       "5month  10.984633  "
      ]
     },
     "metadata": {},
     "output_type": "display_data"
    },
    {
     "data": {
      "application/vnd.plotly.v1+json": {
       "config": {
        "plotlyServerURL": "https://plot.ly"
       },
       "data": [
        {
         "hovertemplate": "variable=호황<br>index=%{x}<br>value=%{y}<extra></extra>",
         "legendgroup": "호황",
         "line": {
          "color": "#636efa",
          "dash": "solid"
         },
         "marker": {
          "symbol": "circle"
         },
         "mode": "lines",
         "name": "호황",
         "orientation": "v",
         "showlegend": true,
         "type": "scatter",
         "x": [
          "1month",
          "2month",
          "3month",
          "4month",
          "5month"
         ],
         "xaxis": "x",
         "y": [
          12.689740441293315,
          24.98716891790202,
          23.3318861939152,
          13.873478073580422,
          28.733160096251286
         ],
         "yaxis": "y"
        },
        {
         "hovertemplate": "variable=상승<br>index=%{x}<br>value=%{y}<extra></extra>",
         "legendgroup": "상승",
         "line": {
          "color": "#EF553B",
          "dash": "solid"
         },
         "marker": {
          "symbol": "circle"
         },
         "mode": "lines",
         "name": "상승",
         "orientation": "v",
         "showlegend": true,
         "type": "scatter",
         "x": [
          "1month",
          "2month",
          "3month",
          "4month",
          "5month"
         ],
         "xaxis": "x",
         "y": [
          7.275168426380748,
          7.239183583741915,
          4.0633544179102525,
          0.9341300704445922,
          16.55422265601773
         ],
         "yaxis": "y"
        },
        {
         "hovertemplate": "variable=평년<br>index=%{x}<br>value=%{y}<extra></extra>",
         "legendgroup": "평년",
         "line": {
          "color": "#00cc96",
          "dash": "solid"
         },
         "marker": {
          "symbol": "circle"
         },
         "mode": "lines",
         "name": "평년",
         "orientation": "v",
         "showlegend": true,
         "type": "scatter",
         "x": [
          "1month",
          "2month",
          "3month",
          "4month",
          "5month"
         ],
         "xaxis": "x",
         "y": [
          6.811337577576074,
          7.375186813496053,
          5.368493451991095,
          5.573361025493359,
          4.338624383737147
         ],
         "yaxis": "y"
        },
        {
         "hovertemplate": "variable=하락<br>index=%{x}<br>value=%{y}<extra></extra>",
         "legendgroup": "하락",
         "line": {
          "color": "#ab63fa",
          "dash": "solid"
         },
         "marker": {
          "symbol": "circle"
         },
         "mode": "lines",
         "name": "하락",
         "orientation": "v",
         "showlegend": true,
         "type": "scatter",
         "x": [
          "1month",
          "2month",
          "3month",
          "4month",
          "5month"
         ],
         "xaxis": "x",
         "y": [
          -2.4244299139727956,
          -7.155935341866687,
          -6.10518484012495,
          -8.629223210173823,
          -6.891577254888799
         ],
         "yaxis": "y"
        },
        {
         "hovertemplate": "variable=불황<br>index=%{x}<br>value=%{y}<extra></extra>",
         "legendgroup": "불황",
         "line": {
          "color": "#FFA15A",
          "dash": "solid"
         },
         "marker": {
          "symbol": "circle"
         },
         "mode": "lines",
         "name": "불황",
         "orientation": "v",
         "showlegend": true,
         "type": "scatter",
         "x": [
          "1month",
          "2month",
          "3month",
          "4month",
          "5month"
         ],
         "xaxis": "x",
         "y": [
          -7.969871754939249,
          -2.380065122849366,
          1.9400249995702994,
          -10.012423898060387,
          -15.845419819775131
         ],
         "yaxis": "y"
        },
        {
         "hovertemplate": "variable=real<br>index=%{x}<br>value=%{y}<extra></extra>",
         "legendgroup": "real",
         "line": {
          "color": "#19d3f3",
          "dash": "solid"
         },
         "marker": {
          "symbol": "circle"
         },
         "mode": "lines",
         "name": "real",
         "orientation": "v",
         "showlegend": true,
         "type": "scatter",
         "x": [
          "1month",
          "2month",
          "3month",
          "4month",
          "5month"
         ],
         "xaxis": "x",
         "y": [
          2.8593466798121776,
          -1.0368630782447057,
          -5.1612571298208385,
          -2.1805503163935187,
          22.80571034730019
         ],
         "yaxis": "y"
        },
        {
         "hovertemplate": "variable=KOSPI<br>index=%{x}<br>value=%{y}<extra></extra>",
         "legendgroup": "KOSPI",
         "line": {
          "color": "#FF6692",
          "dash": "solid"
         },
         "marker": {
          "symbol": "circle"
         },
         "mode": "lines",
         "name": "KOSPI",
         "orientation": "v",
         "showlegend": true,
         "type": "scatter",
         "x": [
          "1month",
          "2month",
          "3month",
          "4month",
          "5month"
         ],
         "xaxis": "x",
         "y": [
          1.3027256055144543,
          4.0567887181433,
          6.899386580661471,
          8.480364257256689,
          10.984632896983504
         ],
         "yaxis": "y"
        }
       ],
       "layout": {
        "legend": {
         "title": {
          "text": "variable"
         },
         "tracegroupgap": 0
        },
        "margin": {
         "t": 60
        },
        "template": {
         "data": {
          "bar": [
           {
            "error_x": {
             "color": "#2a3f5f"
            },
            "error_y": {
             "color": "#2a3f5f"
            },
            "marker": {
             "line": {
              "color": "#E5ECF6",
              "width": 0.5
             },
             "pattern": {
              "fillmode": "overlay",
              "size": 10,
              "solidity": 0.2
             }
            },
            "type": "bar"
           }
          ],
          "barpolar": [
           {
            "marker": {
             "line": {
              "color": "#E5ECF6",
              "width": 0.5
             },
             "pattern": {
              "fillmode": "overlay",
              "size": 10,
              "solidity": 0.2
             }
            },
            "type": "barpolar"
           }
          ],
          "carpet": [
           {
            "aaxis": {
             "endlinecolor": "#2a3f5f",
             "gridcolor": "white",
             "linecolor": "white",
             "minorgridcolor": "white",
             "startlinecolor": "#2a3f5f"
            },
            "baxis": {
             "endlinecolor": "#2a3f5f",
             "gridcolor": "white",
             "linecolor": "white",
             "minorgridcolor": "white",
             "startlinecolor": "#2a3f5f"
            },
            "type": "carpet"
           }
          ],
          "choropleth": [
           {
            "colorbar": {
             "outlinewidth": 0,
             "ticks": ""
            },
            "type": "choropleth"
           }
          ],
          "contour": [
           {
            "colorbar": {
             "outlinewidth": 0,
             "ticks": ""
            },
            "colorscale": [
             [
              0,
              "#0d0887"
             ],
             [
              0.1111111111111111,
              "#46039f"
             ],
             [
              0.2222222222222222,
              "#7201a8"
             ],
             [
              0.3333333333333333,
              "#9c179e"
             ],
             [
              0.4444444444444444,
              "#bd3786"
             ],
             [
              0.5555555555555556,
              "#d8576b"
             ],
             [
              0.6666666666666666,
              "#ed7953"
             ],
             [
              0.7777777777777778,
              "#fb9f3a"
             ],
             [
              0.8888888888888888,
              "#fdca26"
             ],
             [
              1,
              "#f0f921"
             ]
            ],
            "type": "contour"
           }
          ],
          "contourcarpet": [
           {
            "colorbar": {
             "outlinewidth": 0,
             "ticks": ""
            },
            "type": "contourcarpet"
           }
          ],
          "heatmap": [
           {
            "colorbar": {
             "outlinewidth": 0,
             "ticks": ""
            },
            "colorscale": [
             [
              0,
              "#0d0887"
             ],
             [
              0.1111111111111111,
              "#46039f"
             ],
             [
              0.2222222222222222,
              "#7201a8"
             ],
             [
              0.3333333333333333,
              "#9c179e"
             ],
             [
              0.4444444444444444,
              "#bd3786"
             ],
             [
              0.5555555555555556,
              "#d8576b"
             ],
             [
              0.6666666666666666,
              "#ed7953"
             ],
             [
              0.7777777777777778,
              "#fb9f3a"
             ],
             [
              0.8888888888888888,
              "#fdca26"
             ],
             [
              1,
              "#f0f921"
             ]
            ],
            "type": "heatmap"
           }
          ],
          "heatmapgl": [
           {
            "colorbar": {
             "outlinewidth": 0,
             "ticks": ""
            },
            "colorscale": [
             [
              0,
              "#0d0887"
             ],
             [
              0.1111111111111111,
              "#46039f"
             ],
             [
              0.2222222222222222,
              "#7201a8"
             ],
             [
              0.3333333333333333,
              "#9c179e"
             ],
             [
              0.4444444444444444,
              "#bd3786"
             ],
             [
              0.5555555555555556,
              "#d8576b"
             ],
             [
              0.6666666666666666,
              "#ed7953"
             ],
             [
              0.7777777777777778,
              "#fb9f3a"
             ],
             [
              0.8888888888888888,
              "#fdca26"
             ],
             [
              1,
              "#f0f921"
             ]
            ],
            "type": "heatmapgl"
           }
          ],
          "histogram": [
           {
            "marker": {
             "pattern": {
              "fillmode": "overlay",
              "size": 10,
              "solidity": 0.2
             }
            },
            "type": "histogram"
           }
          ],
          "histogram2d": [
           {
            "colorbar": {
             "outlinewidth": 0,
             "ticks": ""
            },
            "colorscale": [
             [
              0,
              "#0d0887"
             ],
             [
              0.1111111111111111,
              "#46039f"
             ],
             [
              0.2222222222222222,
              "#7201a8"
             ],
             [
              0.3333333333333333,
              "#9c179e"
             ],
             [
              0.4444444444444444,
              "#bd3786"
             ],
             [
              0.5555555555555556,
              "#d8576b"
             ],
             [
              0.6666666666666666,
              "#ed7953"
             ],
             [
              0.7777777777777778,
              "#fb9f3a"
             ],
             [
              0.8888888888888888,
              "#fdca26"
             ],
             [
              1,
              "#f0f921"
             ]
            ],
            "type": "histogram2d"
           }
          ],
          "histogram2dcontour": [
           {
            "colorbar": {
             "outlinewidth": 0,
             "ticks": ""
            },
            "colorscale": [
             [
              0,
              "#0d0887"
             ],
             [
              0.1111111111111111,
              "#46039f"
             ],
             [
              0.2222222222222222,
              "#7201a8"
             ],
             [
              0.3333333333333333,
              "#9c179e"
             ],
             [
              0.4444444444444444,
              "#bd3786"
             ],
             [
              0.5555555555555556,
              "#d8576b"
             ],
             [
              0.6666666666666666,
              "#ed7953"
             ],
             [
              0.7777777777777778,
              "#fb9f3a"
             ],
             [
              0.8888888888888888,
              "#fdca26"
             ],
             [
              1,
              "#f0f921"
             ]
            ],
            "type": "histogram2dcontour"
           }
          ],
          "mesh3d": [
           {
            "colorbar": {
             "outlinewidth": 0,
             "ticks": ""
            },
            "type": "mesh3d"
           }
          ],
          "parcoords": [
           {
            "line": {
             "colorbar": {
              "outlinewidth": 0,
              "ticks": ""
             }
            },
            "type": "parcoords"
           }
          ],
          "pie": [
           {
            "automargin": true,
            "type": "pie"
           }
          ],
          "scatter": [
           {
            "fillpattern": {
             "fillmode": "overlay",
             "size": 10,
             "solidity": 0.2
            },
            "type": "scatter"
           }
          ],
          "scatter3d": [
           {
            "line": {
             "colorbar": {
              "outlinewidth": 0,
              "ticks": ""
             }
            },
            "marker": {
             "colorbar": {
              "outlinewidth": 0,
              "ticks": ""
             }
            },
            "type": "scatter3d"
           }
          ],
          "scattercarpet": [
           {
            "marker": {
             "colorbar": {
              "outlinewidth": 0,
              "ticks": ""
             }
            },
            "type": "scattercarpet"
           }
          ],
          "scattergeo": [
           {
            "marker": {
             "colorbar": {
              "outlinewidth": 0,
              "ticks": ""
             }
            },
            "type": "scattergeo"
           }
          ],
          "scattergl": [
           {
            "marker": {
             "colorbar": {
              "outlinewidth": 0,
              "ticks": ""
             }
            },
            "type": "scattergl"
           }
          ],
          "scattermapbox": [
           {
            "marker": {
             "colorbar": {
              "outlinewidth": 0,
              "ticks": ""
             }
            },
            "type": "scattermapbox"
           }
          ],
          "scatterpolar": [
           {
            "marker": {
             "colorbar": {
              "outlinewidth": 0,
              "ticks": ""
             }
            },
            "type": "scatterpolar"
           }
          ],
          "scatterpolargl": [
           {
            "marker": {
             "colorbar": {
              "outlinewidth": 0,
              "ticks": ""
             }
            },
            "type": "scatterpolargl"
           }
          ],
          "scatterternary": [
           {
            "marker": {
             "colorbar": {
              "outlinewidth": 0,
              "ticks": ""
             }
            },
            "type": "scatterternary"
           }
          ],
          "surface": [
           {
            "colorbar": {
             "outlinewidth": 0,
             "ticks": ""
            },
            "colorscale": [
             [
              0,
              "#0d0887"
             ],
             [
              0.1111111111111111,
              "#46039f"
             ],
             [
              0.2222222222222222,
              "#7201a8"
             ],
             [
              0.3333333333333333,
              "#9c179e"
             ],
             [
              0.4444444444444444,
              "#bd3786"
             ],
             [
              0.5555555555555556,
              "#d8576b"
             ],
             [
              0.6666666666666666,
              "#ed7953"
             ],
             [
              0.7777777777777778,
              "#fb9f3a"
             ],
             [
              0.8888888888888888,
              "#fdca26"
             ],
             [
              1,
              "#f0f921"
             ]
            ],
            "type": "surface"
           }
          ],
          "table": [
           {
            "cells": {
             "fill": {
              "color": "#EBF0F8"
             },
             "line": {
              "color": "white"
             }
            },
            "header": {
             "fill": {
              "color": "#C8D4E3"
             },
             "line": {
              "color": "white"
             }
            },
            "type": "table"
           }
          ]
         },
         "layout": {
          "annotationdefaults": {
           "arrowcolor": "#2a3f5f",
           "arrowhead": 0,
           "arrowwidth": 1
          },
          "autotypenumbers": "strict",
          "coloraxis": {
           "colorbar": {
            "outlinewidth": 0,
            "ticks": ""
           }
          },
          "colorscale": {
           "diverging": [
            [
             0,
             "#8e0152"
            ],
            [
             0.1,
             "#c51b7d"
            ],
            [
             0.2,
             "#de77ae"
            ],
            [
             0.3,
             "#f1b6da"
            ],
            [
             0.4,
             "#fde0ef"
            ],
            [
             0.5,
             "#f7f7f7"
            ],
            [
             0.6,
             "#e6f5d0"
            ],
            [
             0.7,
             "#b8e186"
            ],
            [
             0.8,
             "#7fbc41"
            ],
            [
             0.9,
             "#4d9221"
            ],
            [
             1,
             "#276419"
            ]
           ],
           "sequential": [
            [
             0,
             "#0d0887"
            ],
            [
             0.1111111111111111,
             "#46039f"
            ],
            [
             0.2222222222222222,
             "#7201a8"
            ],
            [
             0.3333333333333333,
             "#9c179e"
            ],
            [
             0.4444444444444444,
             "#bd3786"
            ],
            [
             0.5555555555555556,
             "#d8576b"
            ],
            [
             0.6666666666666666,
             "#ed7953"
            ],
            [
             0.7777777777777778,
             "#fb9f3a"
            ],
            [
             0.8888888888888888,
             "#fdca26"
            ],
            [
             1,
             "#f0f921"
            ]
           ],
           "sequentialminus": [
            [
             0,
             "#0d0887"
            ],
            [
             0.1111111111111111,
             "#46039f"
            ],
            [
             0.2222222222222222,
             "#7201a8"
            ],
            [
             0.3333333333333333,
             "#9c179e"
            ],
            [
             0.4444444444444444,
             "#bd3786"
            ],
            [
             0.5555555555555556,
             "#d8576b"
            ],
            [
             0.6666666666666666,
             "#ed7953"
            ],
            [
             0.7777777777777778,
             "#fb9f3a"
            ],
            [
             0.8888888888888888,
             "#fdca26"
            ],
            [
             1,
             "#f0f921"
            ]
           ]
          },
          "colorway": [
           "#636efa",
           "#EF553B",
           "#00cc96",
           "#ab63fa",
           "#FFA15A",
           "#19d3f3",
           "#FF6692",
           "#B6E880",
           "#FF97FF",
           "#FECB52"
          ],
          "font": {
           "color": "#2a3f5f"
          },
          "geo": {
           "bgcolor": "white",
           "lakecolor": "white",
           "landcolor": "#E5ECF6",
           "showlakes": true,
           "showland": true,
           "subunitcolor": "white"
          },
          "hoverlabel": {
           "align": "left"
          },
          "hovermode": "closest",
          "mapbox": {
           "style": "light"
          },
          "paper_bgcolor": "white",
          "plot_bgcolor": "#E5ECF6",
          "polar": {
           "angularaxis": {
            "gridcolor": "white",
            "linecolor": "white",
            "ticks": ""
           },
           "bgcolor": "#E5ECF6",
           "radialaxis": {
            "gridcolor": "white",
            "linecolor": "white",
            "ticks": ""
           }
          },
          "scene": {
           "xaxis": {
            "backgroundcolor": "#E5ECF6",
            "gridcolor": "white",
            "gridwidth": 2,
            "linecolor": "white",
            "showbackground": true,
            "ticks": "",
            "zerolinecolor": "white"
           },
           "yaxis": {
            "backgroundcolor": "#E5ECF6",
            "gridcolor": "white",
            "gridwidth": 2,
            "linecolor": "white",
            "showbackground": true,
            "ticks": "",
            "zerolinecolor": "white"
           },
           "zaxis": {
            "backgroundcolor": "#E5ECF6",
            "gridcolor": "white",
            "gridwidth": 2,
            "linecolor": "white",
            "showbackground": true,
            "ticks": "",
            "zerolinecolor": "white"
           }
          },
          "shapedefaults": {
           "line": {
            "color": "#2a3f5f"
           }
          },
          "ternary": {
           "aaxis": {
            "gridcolor": "white",
            "linecolor": "white",
            "ticks": ""
           },
           "baxis": {
            "gridcolor": "white",
            "linecolor": "white",
            "ticks": ""
           },
           "bgcolor": "#E5ECF6",
           "caxis": {
            "gridcolor": "white",
            "linecolor": "white",
            "ticks": ""
           }
          },
          "title": {
           "x": 0.05
          },
          "xaxis": {
           "automargin": true,
           "gridcolor": "white",
           "linecolor": "white",
           "ticks": "",
           "title": {
            "standoff": 15
           },
           "zerolinecolor": "white",
           "zerolinewidth": 2
          },
          "yaxis": {
           "automargin": true,
           "gridcolor": "white",
           "linecolor": "white",
           "ticks": "",
           "title": {
            "standoff": 15
           },
           "zerolinecolor": "white",
           "zerolinewidth": 2
          }
         }
        },
        "xaxis": {
         "anchor": "y",
         "domain": [
          0,
          1
         ],
         "title": {
          "text": "index"
         }
        },
        "yaxis": {
         "anchor": "x",
         "domain": [
          0,
          1
         ],
         "title": {
          "text": "value"
         }
        }
       }
      }
     },
     "metadata": {},
     "output_type": "display_data"
    }
   ],
   "source": [
    "sim_data = get_simret(balance_df,balance,now_data,kospi200)\n",
    "display(sim_data)\n",
    "display(px.line(sim_data))"
   ]
  },
  {
   "cell_type": "markdown",
   "metadata": {},
   "source": [
    "지난 3월~ 8월은 상승장이었습니다. 따라서 시뮬레이션 결과인 상승장의 흐름을 많이 따라간 것을 알 수 있습니다.\n",
    "따라서 향후 저희가 제시하는 포트폴리오를 보시고 시황에 맞게 대응하시면 될 것 같습니다."
   ]
  },
  {
   "cell_type": "code",
   "execution_count": 212,
   "metadata": {},
   "outputs": [],
   "source": [
    "stocks = recommendation[\"Name\"].to_list()"
   ]
  },
  {
   "cell_type": "code",
   "execution_count": 213,
   "metadata": {},
   "outputs": [],
   "source": [
    "daily_ret = now_data[stocks].pct_change()\n",
    "annual_ret = (1+daily_ret.mean())**now_data[stocks].shape[0]-1\n",
    "\n",
    "daily_cov = daily_ret.cov()\n",
    "annual_cov = daily_cov * now_data[stocks].shape[0]"
   ]
  },
  {
   "cell_type": "code",
   "execution_count": 214,
   "metadata": {},
   "outputs": [],
   "source": [
    "tmp2 = pd.DataFrame((annual_ret-0.02)/daily_ret.std()*np.sqrt(252),columns= ['Shape']).sort_values(by='Shape',ascending=False)\n",
    "stocks = list(tmp2.iloc[0:5].index)# 상위 5개 선정\n",
    "daily_ret = before_data[stocks].pct_change()\n",
    "annual_ret = (1+daily_ret.mean())**before_data[stocks].shape[0]-1\n",
    "daily_cov = daily_ret.cov()\n",
    "annual_cov = daily_cov * before_data[stocks].shape[0]\n",
    "rf = 0.0325"
   ]
  },
  {
   "cell_type": "code",
   "execution_count": 215,
   "metadata": {},
   "outputs": [],
   "source": [
    "max_shape,min_risk,tmp2,df = get_portfolio(stocks,annual_ret,annual_cov)"
   ]
  },
  {
   "cell_type": "code",
   "execution_count": 216,
   "metadata": {},
   "outputs": [
    {
     "data": {
      "image/png": "[encoded data removed]",
      "text/plain": [
       "<Figure size 1000x800 with 2 Axes>"
      ]
     },
     "metadata": {},
     "output_type": "display_data"
    }
   ],
   "source": [
    "show_CAPM(df,tmp2,max_shape,min_risk,rf=0.0325)"
   ]
  },
  {
   "cell_type": "code",
   "execution_count": 218,
   "metadata": {},
   "outputs": [
    {
     "name": "stdout",
     "output_type": "stream",
     "text": [
      "채권의 비중 : 0.4825874337145926\n",
      "이 경우 Risk : 0.11366757604639419\n"
     ]
    },
    {
     "data": {
      "application/vnd.plotly.v1+json": {
       "config": {
        "plotlyServerURL": "https://plot.ly"
       },
       "data": [
        {
         "domain": {
          "x": [
           0,
           0.45
          ],
          "y": [
           0,
           1
          ]
         },
         "labels": [
          "POSCO홀딩스",
          "두산",
          "삼성전자",
          "SK하이닉스",
          "키움증권"
         ],
         "name": "기존 포트폴리오",
         "type": "pie",
         "values": [
          0.6014410090020355,
          0.3040551461009857,
          0.016148688513371534,
          0.0041890119548394136,
          0.07416614442876795
         ]
        },
        {
         "domain": {
          "x": [
           0.55,
           1
          ],
          "y": [
           0,
           1
          ]
         },
         "labels": [
          "POSCO홀딩스",
          "두산",
          "삼성전자",
          "SK하이닉스",
          "키움증권",
          "채권"
         ],
         "name": "기대수익 포트폴리오",
         "type": "pie",
         "values": [
          0.311193135937028,
          0.15732195343639552,
          0.008355534365847246,
          0.002167447425753712,
          0.038374495120383004,
          0.4825874337145926
         ]
        }
       ],
       "layout": {
        "annotations": [
         {
          "font": {
           "size": 16
          },
          "showarrow": false,
          "text": "<b>포트폴리오",
          "x": 0.225,
          "xanchor": "center",
          "xref": "paper",
          "y": 1,
          "yanchor": "bottom",
          "yref": "paper"
         },
         {
          "font": {
           "size": 16
          },
          "showarrow": false,
          "text": "<b>기대수익을 위한 포트폴리오<br><sup>자기자본의 48.26%만큼 채권투자</sup>",
          "x": 0.775,
          "xanchor": "center",
          "xref": "paper",
          "y": 1,
          "yanchor": "bottom",
          "yref": "paper"
         }
        ],
        "template": {
         "data": {
          "bar": [
           {
            "error_x": {
             "color": "#2a3f5f"
            },
            "error_y": {
             "color": "#2a3f5f"
            },
            "marker": {
             "line": {
              "color": "#E5ECF6",
              "width": 0.5
             },
             "pattern": {
              "fillmode": "overlay",
              "size": 10,
              "solidity": 0.2
             }
            },
            "type": "bar"
           }
          ],
          "barpolar": [
           {
            "marker": {
             "line": {
              "color": "#E5ECF6",
              "width": 0.5
             },
             "pattern": {
              "fillmode": "overlay",
              "size": 10,
              "solidity": 0.2
             }
            },
            "type": "barpolar"
           }
          ],
          "carpet": [
           {
            "aaxis": {
             "endlinecolor": "#2a3f5f",
             "gridcolor": "white",
             "linecolor": "white",
             "minorgridcolor": "white",
             "startlinecolor": "#2a3f5f"
            },
            "baxis": {
             "endlinecolor": "#2a3f5f",
             "gridcolor": "white",
             "linecolor": "white",
             "minorgridcolor": "white",
             "startlinecolor": "#2a3f5f"
            },
            "type": "carpet"
           }
          ],
          "choropleth": [
           {
            "colorbar": {
             "outlinewidth": 0,
             "ticks": ""
            },
            "type": "choropleth"
           }
          ],
          "contour": [
           {
            "colorbar": {
             "outlinewidth": 0,
             "ticks": ""
            },
            "colorscale": [
             [
              0,
              "#0d0887"
             ],
             [
              0.1111111111111111,
              "#46039f"
             ],
             [
              0.2222222222222222,
              "#7201a8"
             ],
             [
              0.3333333333333333,
              "#9c179e"
             ],
             [
              0.4444444444444444,
              "#bd3786"
             ],
             [
              0.5555555555555556,
              "#d8576b"
             ],
             [
              0.6666666666666666,
              "#ed7953"
             ],
             [
              0.7777777777777778,
              "#fb9f3a"
             ],
             [
              0.8888888888888888,
              "#fdca26"
             ],
             [
              1,
              "#f0f921"
             ]
            ],
            "type": "contour"
           }
          ],
          "contourcarpet": [
           {
            "colorbar": {
             "outlinewidth": 0,
             "ticks": ""
            },
            "type": "contourcarpet"
           }
          ],
          "heatmap": [
           {
            "colorbar": {
             "outlinewidth": 0,
             "ticks": ""
            },
            "colorscale": [
             [
              0,
              "#0d0887"
             ],
             [
              0.1111111111111111,
              "#46039f"
             ],
             [
              0.2222222222222222,
              "#7201a8"
             ],
             [
              0.3333333333333333,
              "#9c179e"
             ],
             [
              0.4444444444444444,
              "#bd3786"
             ],
             [
              0.5555555555555556,
              "#d8576b"
             ],
             [
              0.6666666666666666,
              "#ed7953"
             ],
             [
              0.7777777777777778,
              "#fb9f3a"
             ],
             [
              0.8888888888888888,
              "#fdca26"
             ],
             [
              1,
              "#f0f921"
             ]
            ],
            "type": "heatmap"
           }
          ],
          "heatmapgl": [
           {
            "colorbar": {
             "outlinewidth": 0,
             "ticks": ""
            },
            "colorscale": [
             [
              0,
              "#0d0887"
             ],
             [
              0.1111111111111111,
              "#46039f"
             ],
             [
              0.2222222222222222,
              "#7201a8"
             ],
             [
              0.3333333333333333,
              "#9c179e"
             ],
             [
              0.4444444444444444,
              "#bd3786"
             ],
             [
              0.5555555555555556,
              "#d8576b"
             ],
             [
              0.6666666666666666,
              "#ed7953"
             ],
             [
              0.7777777777777778,
              "#fb9f3a"
             ],
             [
              0.8888888888888888,
              "#fdca26"
             ],
             [
              1,
              "#f0f921"
             ]
            ],
            "type": "heatmapgl"
           }
          ],
          "histogram": [
           {
            "marker": {
             "pattern": {
              "fillmode": "overlay",
              "size": 10,
              "solidity": 0.2
             }
            },
            "type": "histogram"
           }
          ],
          "histogram2d": [
           {
            "colorbar": {
             "outlinewidth": 0,
             "ticks": ""
            },
            "colorscale": [
             [
              0,
              "#0d0887"
             ],
             [
              0.1111111111111111,
              "#46039f"
             ],
             [
              0.2222222222222222,
              "#7201a8"
             ],
             [
              0.3333333333333333,
              "#9c179e"
             ],
             [
              0.4444444444444444,
              "#bd3786"
             ],
             [
              0.5555555555555556,
              "#d8576b"
             ],
             [
              0.6666666666666666,
              "#ed7953"
             ],
             [
              0.7777777777777778,
              "#fb9f3a"
             ],
             [
              0.8888888888888888,
              "#fdca26"
             ],
             [
              1,
              "#f0f921"
             ]
            ],
            "type": "histogram2d"
           }
          ],
          "histogram2dcontour": [
           {
            "colorbar": {
             "outlinewidth": 0,
             "ticks": ""
            },
            "colorscale": [
             [
              0,
              "#0d0887"
             ],
             [
              0.1111111111111111,
              "#46039f"
             ],
             [
              0.2222222222222222,
              "#7201a8"
             ],
             [
              0.3333333333333333,
              "#9c179e"
             ],
             [
              0.4444444444444444,
              "#bd3786"
             ],
             [
              0.5555555555555556,
              "#d8576b"
             ],
             [
              0.6666666666666666,
              "#ed7953"
             ],
             [
              0.7777777777777778,
              "#fb9f3a"
             ],
             [
              0.8888888888888888,
              "#fdca26"
             ],
             [
              1,
              "#f0f921"
             ]
            ],
            "type": "histogram2dcontour"
           }
          ],
          "mesh3d": [
           {
            "colorbar": {
             "outlinewidth": 0,
             "ticks": ""
            },
            "type": "mesh3d"
           }
          ],
          "parcoords": [
           {
            "line": {
             "colorbar": {
              "outlinewidth": 0,
              "ticks": ""
             }
            },
            "type": "parcoords"
           }
          ],
          "pie": [
           {
            "automargin": true,
            "type": "pie"
           }
          ],
          "scatter": [
           {
            "fillpattern": {
             "fillmode": "overlay",
             "size": 10,
             "solidity": 0.2
            },
            "type": "scatter"
           }
          ],
          "scatter3d": [
           {
            "line": {
             "colorbar": {
              "outlinewidth": 0,
              "ticks": ""
             }
            },
            "marker": {
             "colorbar": {
              "outlinewidth": 0,
              "ticks": ""
             }
            },
            "type": "scatter3d"
           }
          ],
          "scattercarpet": [
           {
            "marker": {
             "colorbar": {
              "outlinewidth": 0,
              "ticks": ""
             }
            },
            "type": "scattercarpet"
           }
          ],
          "scattergeo": [
           {
            "marker": {
             "colorbar": {
              "outlinewidth": 0,
              "ticks": ""
             }
            },
            "type": "scattergeo"
           }
          ],
          "scattergl": [
           {
            "marker": {
             "colorbar": {
              "outlinewidth": 0,
              "ticks": ""
             }
            },
            "type": "scattergl"
           }
          ],
          "scattermapbox": [
           {
            "marker": {
             "colorbar": {
              "outlinewidth": 0,
              "ticks": ""
             }
            },
            "type": "scattermapbox"
           }
          ],
          "scatterpolar": [
           {
            "marker": {
             "colorbar": {
              "outlinewidth": 0,
              "ticks": ""
             }
            },
            "type": "scatterpolar"
           }
          ],
          "scatterpolargl": [
           {
            "marker": {
             "colorbar": {
              "outlinewidth": 0,
              "ticks": ""
             }
            },
            "type": "scatterpolargl"
           }
          ],
          "scatterternary": [
           {
            "marker": {
             "colorbar": {
              "outlinewidth": 0,
              "ticks": ""
             }
            },
            "type": "scatterternary"
           }
          ],
          "surface": [
           {
            "colorbar": {
             "outlinewidth": 0,
             "ticks": ""
            },
            "colorscale": [
             [
              0,
              "#0d0887"
             ],
             [
              0.1111111111111111,
              "#46039f"
             ],
             [
              0.2222222222222222,
              "#7201a8"
             ],
             [
              0.3333333333333333,
              "#9c179e"
             ],
             [
              0.4444444444444444,
              "#bd3786"
             ],
             [
              0.5555555555555556,
              "#d8576b"
             ],
             [
              0.6666666666666666,
              "#ed7953"
             ],
             [
              0.7777777777777778,
              "#fb9f3a"
             ],
             [
              0.8888888888888888,
              "#fdca26"
             ],
             [
              1,
              "#f0f921"
             ]
            ],
            "type": "surface"
           }
          ],
          "table": [
           {
            "cells": {
             "fill": {
              "color": "#EBF0F8"
             },
             "line": {
              "color": "white"
             }
            },
            "header": {
             "fill": {
              "color": "#C8D4E3"
             },
             "line": {
              "color": "white"
             }
            },
            "type": "table"
           }
          ]
         },
         "layout": {
          "annotationdefaults": {
           "arrowcolor": "#2a3f5f",
           "arrowhead": 0,
           "arrowwidth": 1
          },
          "autotypenumbers": "strict",
          "coloraxis": {
           "colorbar": {
            "outlinewidth": 0,
            "ticks": ""
           }
          },
          "colorscale": {
           "diverging": [
            [
             0,
             "#8e0152"
            ],
            [
             0.1,
             "#c51b7d"
            ],
            [
             0.2,
             "#de77ae"
            ],
            [
             0.3,
             "#f1b6da"
            ],
            [
             0.4,
             "#fde0ef"
            ],
            [
             0.5,
             "#f7f7f7"
            ],
            [
             0.6,
             "#e6f5d0"
            ],
            [
             0.7,
             "#b8e186"
            ],
            [
             0.8,
             "#7fbc41"
            ],
            [
             0.9,
             "#4d9221"
            ],
            [
             1,
             "#276419"
            ]
           ],
           "sequential": [
            [
             0,
             "#0d0887"
            ],
            [
             0.1111111111111111,
             "#46039f"
            ],
            [
             0.2222222222222222,
             "#7201a8"
            ],
            [
             0.3333333333333333,
             "#9c179e"
            ],
            [
             0.4444444444444444,
             "#bd3786"
            ],
            [
             0.5555555555555556,
             "#d8576b"
            ],
            [
             0.6666666666666666,
             "#ed7953"
            ],
            [
             0.7777777777777778,
             "#fb9f3a"
            ],
            [
             0.8888888888888888,
             "#fdca26"
            ],
            [
             1,
             "#f0f921"
            ]
           ],
           "sequentialminus": [
            [
             0,
             "#0d0887"
            ],
            [
             0.1111111111111111,
             "#46039f"
            ],
            [
             0.2222222222222222,
             "#7201a8"
            ],
            [
             0.3333333333333333,
             "#9c179e"
            ],
            [
             0.4444444444444444,
             "#bd3786"
            ],
            [
             0.5555555555555556,
             "#d8576b"
            ],
            [
             0.6666666666666666,
             "#ed7953"
            ],
            [
             0.7777777777777778,
             "#fb9f3a"
            ],
            [
             0.8888888888888888,
             "#fdca26"
            ],
            [
             1,
             "#f0f921"
            ]
           ]
          },
          "colorway": [
           "#636efa",
           "#EF553B",
           "#00cc96",
           "#ab63fa",
           "#FFA15A",
           "#19d3f3",
           "#FF6692",
           "#B6E880",
           "#FF97FF",
           "#FECB52"
          ],
          "font": {
           "color": "#2a3f5f"
          },
          "geo": {
           "bgcolor": "white",
           "lakecolor": "white",
           "landcolor": "#E5ECF6",
           "showlakes": true,
           "showland": true,
           "subunitcolor": "white"
          },
          "hoverlabel": {
           "align": "left"
          },
          "hovermode": "closest",
          "mapbox": {
           "style": "light"
          },
          "paper_bgcolor": "white",
          "plot_bgcolor": "#E5ECF6",
          "polar": {
           "angularaxis": {
            "gridcolor": "white",
            "linecolor": "white",
            "ticks": ""
           },
           "bgcolor": "#E5ECF6",
           "radialaxis": {
            "gridcolor": "white",
            "linecolor": "white",
            "ticks": ""
           }
          },
          "scene": {
           "xaxis": {
            "backgroundcolor": "#E5ECF6",
            "gridcolor": "white",
            "gridwidth": 2,
            "linecolor": "white",
            "showbackground": true,
            "ticks": "",
            "zerolinecolor": "white"
           },
           "yaxis": {
            "backgroundcolor": "#E5ECF6",
            "gridcolor": "white",
            "gridwidth": 2,
            "linecolor": "white",
            "showbackground": true,
            "ticks": "",
            "zerolinecolor": "white"
           },
           "zaxis": {
            "backgroundcolor": "#E5ECF6",
            "gridcolor": "white",
            "gridwidth": 2,
            "linecolor": "white",
            "showbackground": true,
            "ticks": "",
            "zerolinecolor": "white"
           }
          },
          "shapedefaults": {
           "line": {
            "color": "#2a3f5f"
           }
          },
          "ternary": {
           "aaxis": {
            "gridcolor": "white",
            "linecolor": "white",
            "ticks": ""
           },
           "baxis": {
            "gridcolor": "white",
            "linecolor": "white",
            "ticks": ""
           },
           "bgcolor": "#E5ECF6",
           "caxis": {
            "gridcolor": "white",
            "linecolor": "white",
            "ticks": ""
           }
          },
          "title": {
           "x": 0.05
          },
          "xaxis": {
           "automargin": true,
           "gridcolor": "white",
           "linecolor": "white",
           "ticks": "",
           "title": {
            "standoff": 15
           },
           "zerolinecolor": "white",
           "zerolinewidth": 2
          },
          "yaxis": {
           "automargin": true,
           "gridcolor": "white",
           "linecolor": "white",
           "ticks": "",
           "title": {
            "standoff": 15
           },
           "zerolinecolor": "white",
           "zerolinewidth": 2
          }
         }
        }
       }
      }
     },
     "metadata": {},
     "output_type": "display_data"
    }
   ],
   "source": [
    "show_portfolio(max_shape)"
   ]
  },
  {
   "cell_type": "code",
   "execution_count": 219,
   "metadata": {},
   "outputs": [],
   "source": [
    "balance = 1000000\n",
    "stock_money = max_shape[max_shape.columns[3:]]*balance\n",
    "\n",
    "sim_num = 1000\n",
    "balance_df = monte_sim(sim_num,before_data,stocks,stock_money)\n"
   ]
  },
  {
   "cell_type": "code",
   "execution_count": 221,
   "metadata": {},
   "outputs": [
    {
     "data": {
      "text/html": [
       "<div>\n",
       "<style scoped>\n",
       "    .dataframe tbody tr th:only-of-type {\n",
       "        vertical-align: middle;\n",
       "    }\n",
       "\n",
       "    .dataframe tbody tr th {\n",
       "        vertical-align: top;\n",
       "    }\n",
       "\n",
       "    .dataframe thead th {\n",
       "        text-align: right;\n",
       "    }\n",
       "</style>\n",
       "<table border=\"1\" class=\"dataframe\">\n",
       "  <thead>\n",
       "    <tr style=\"text-align: right;\">\n",
       "      <th></th>\n",
       "      <th>호황</th>\n",
       "      <th>상승</th>\n",
       "      <th>평년</th>\n",
       "      <th>하락</th>\n",
       "      <th>불황</th>\n",
       "    </tr>\n",
       "  </thead>\n",
       "  <tbody>\n",
       "    <tr>\n",
       "      <th>1month</th>\n",
       "      <td>-0.646084</td>\n",
       "      <td>-3.068687</td>\n",
       "      <td>4.469793</td>\n",
       "      <td>-3.163562</td>\n",
       "      <td>-1.917094</td>\n",
       "    </tr>\n",
       "    <tr>\n",
       "      <th>2month</th>\n",
       "      <td>9.424559</td>\n",
       "      <td>11.137900</td>\n",
       "      <td>17.349742</td>\n",
       "      <td>-10.671046</td>\n",
       "      <td>-4.531681</td>\n",
       "    </tr>\n",
       "    <tr>\n",
       "      <th>3month</th>\n",
       "      <td>20.421699</td>\n",
       "      <td>28.612093</td>\n",
       "      <td>19.564644</td>\n",
       "      <td>-4.491409</td>\n",
       "      <td>-9.481919</td>\n",
       "    </tr>\n",
       "    <tr>\n",
       "      <th>4month</th>\n",
       "      <td>24.393159</td>\n",
       "      <td>34.177299</td>\n",
       "      <td>15.759683</td>\n",
       "      <td>-10.940709</td>\n",
       "      <td>-17.801942</td>\n",
       "    </tr>\n",
       "    <tr>\n",
       "      <th>5month</th>\n",
       "      <td>31.349453</td>\n",
       "      <td>18.527167</td>\n",
       "      <td>4.810414</td>\n",
       "      <td>-8.742658</td>\n",
       "      <td>-17.886270</td>\n",
       "    </tr>\n",
       "  </tbody>\n",
       "</table>\n",
       "</div>"
      ],
      "text/plain": [
       "               호황         상승         평년         하락         불황\n",
       "1month  -0.646084  -3.068687   4.469793  -3.163562  -1.917094\n",
       "2month   9.424559  11.137900  17.349742 -10.671046  -4.531681\n",
       "3month  20.421699  28.612093  19.564644  -4.491409  -9.481919\n",
       "4month  24.393159  34.177299  15.759683 -10.940709 -17.801942\n",
       "5month  31.349453  18.527167   4.810414  -8.742658 -17.886270"
      ]
     },
     "metadata": {},
     "output_type": "display_data"
    },
    {
     "data": {
      "application/vnd.plotly.v1+json": {
       "config": {
        "plotlyServerURL": "https://plot.ly"
       },
       "data": [
        {
         "hovertemplate": "variable=호황<br>index=%{x}<br>value=%{y}<extra></extra>",
         "legendgroup": "호황",
         "line": {
          "color": "#636efa",
          "dash": "solid"
         },
         "marker": {
          "symbol": "circle"
         },
         "mode": "lines",
         "name": "호황",
         "orientation": "v",
         "showlegend": true,
         "type": "scatter",
         "x": [
          "1month",
          "2month",
          "3month",
          "4month",
          "5month"
         ],
         "xaxis": "x",
         "y": [
          -0.6460843171683606,
          9.424559235892305,
          20.421698886435806,
          24.393158706145616,
          31.349452502723647
         ],
         "yaxis": "y"
        },
        {
         "hovertemplate": "variable=상승<br>index=%{x}<br>value=%{y}<extra></extra>",
         "legendgroup": "상승",
         "line": {
          "color": "#EF553B",
          "dash": "solid"
         },
         "marker": {
          "symbol": "circle"
         },
         "mode": "lines",
         "name": "상승",
         "orientation": "v",
         "showlegend": true,
         "type": "scatter",
         "x": [
          "1month",
          "2month",
          "3month",
          "4month",
          "5month"
         ],
         "xaxis": "x",
         "y": [
          -3.068686571112729,
          11.137900116998656,
          28.612092965041658,
          34.17729873304735,
          18.52716749906889
         ],
         "yaxis": "y"
        },
        {
         "hovertemplate": "variable=평년<br>index=%{x}<br>value=%{y}<extra></extra>",
         "legendgroup": "평년",
         "line": {
          "color": "#00cc96",
          "dash": "solid"
         },
         "marker": {
          "symbol": "circle"
         },
         "mode": "lines",
         "name": "평년",
         "orientation": "v",
         "showlegend": true,
         "type": "scatter",
         "x": [
          "1month",
          "2month",
          "3month",
          "4month",
          "5month"
         ],
         "xaxis": "x",
         "y": [
          4.46979338400669,
          17.349742400524647,
          19.564644080017484,
          15.759682615609933,
          4.810414337573364
         ],
         "yaxis": "y"
        },
        {
         "hovertemplate": "variable=하락<br>index=%{x}<br>value=%{y}<extra></extra>",
         "legendgroup": "하락",
         "line": {
          "color": "#ab63fa",
          "dash": "solid"
         },
         "marker": {
          "symbol": "circle"
         },
         "mode": "lines",
         "name": "하락",
         "orientation": "v",
         "showlegend": true,
         "type": "scatter",
         "x": [
          "1month",
          "2month",
          "3month",
          "4month",
          "5month"
         ],
         "xaxis": "x",
         "y": [
          -3.1635620947961227,
          -10.67104623950544,
          -4.491409247105231,
          -10.940709232736786,
          -8.742657552331616
         ],
         "yaxis": "y"
        },
        {
         "hovertemplate": "variable=불황<br>index=%{x}<br>value=%{y}<extra></extra>",
         "legendgroup": "불황",
         "line": {
          "color": "#FFA15A",
          "dash": "solid"
         },
         "marker": {
          "symbol": "circle"
         },
         "mode": "lines",
         "name": "불황",
         "orientation": "v",
         "showlegend": true,
         "type": "scatter",
         "x": [
          "1month",
          "2month",
          "3month",
          "4month",
          "5month"
         ],
         "xaxis": "x",
         "y": [
          -1.9170943081270204,
          -4.531681423378771,
          -9.48191856904492,
          -17.801941731066734,
          -17.886269595647942
         ],
         "yaxis": "y"
        }
       ],
       "layout": {
        "legend": {
         "title": {
          "text": "variable"
         },
         "tracegroupgap": 0
        },
        "margin": {
         "t": 60
        },
        "template": {
         "data": {
          "bar": [
           {
            "error_x": {
             "color": "#2a3f5f"
            },
            "error_y": {
             "color": "#2a3f5f"
            },
            "marker": {
             "line": {
              "color": "#E5ECF6",
              "width": 0.5
             },
             "pattern": {
              "fillmode": "overlay",
              "size": 10,
              "solidity": 0.2
             }
            },
            "type": "bar"
           }
          ],
          "barpolar": [
           {
            "marker": {
             "line": {
              "color": "#E5ECF6",
              "width": 0.5
             },
             "pattern": {
              "fillmode": "overlay",
              "size": 10,
              "solidity": 0.2
             }
            },
            "type": "barpolar"
           }
          ],
          "carpet": [
           {
            "aaxis": {
             "endlinecolor": "#2a3f5f",
             "gridcolor": "white",
             "linecolor": "white",
             "minorgridcolor": "white",
             "startlinecolor": "#2a3f5f"
            },
            "baxis": {
             "endlinecolor": "#2a3f5f",
             "gridcolor": "white",
             "linecolor": "white",
             "minorgridcolor": "white",
             "startlinecolor": "#2a3f5f"
            },
            "type": "carpet"
           }
          ],
          "choropleth": [
           {
            "colorbar": {
             "outlinewidth": 0,
             "ticks": ""
            },
            "type": "choropleth"
           }
          ],
          "contour": [
           {
            "colorbar": {
             "outlinewidth": 0,
             "ticks": ""
            },
            "colorscale": [
             [
              0,
              "#0d0887"
             ],
             [
              0.1111111111111111,
              "#46039f"
             ],
             [
              0.2222222222222222,
              "#7201a8"
             ],
             [
              0.3333333333333333,
              "#9c179e"
             ],
             [
              0.4444444444444444,
              "#bd3786"
             ],
             [
              0.5555555555555556,
              "#d8576b"
             ],
             [
              0.6666666666666666,
              "#ed7953"
             ],
             [
              0.7777777777777778,
              "#fb9f3a"
             ],
             [
              0.8888888888888888,
              "#fdca26"
             ],
             [
              1,
              "#f0f921"
             ]
            ],
            "type": "contour"
           }
          ],
          "contourcarpet": [
           {
            "colorbar": {
             "outlinewidth": 0,
             "ticks": ""
            },
            "type": "contourcarpet"
           }
          ],
          "heatmap": [
           {
            "colorbar": {
             "outlinewidth": 0,
             "ticks": ""
            },
            "colorscale": [
             [
              0,
              "#0d0887"
             ],
             [
              0.1111111111111111,
              "#46039f"
             ],
             [
              0.2222222222222222,
              "#7201a8"
             ],
             [
              0.3333333333333333,
              "#9c179e"
             ],
             [
              0.4444444444444444,
              "#bd3786"
             ],
             [
              0.5555555555555556,
              "#d8576b"
             ],
             [
              0.6666666666666666,
              "#ed7953"
             ],
             [
              0.7777777777777778,
              "#fb9f3a"
             ],
             [
              0.8888888888888888,
              "#fdca26"
             ],
             [
              1,
              "#f0f921"
             ]
            ],
            "type": "heatmap"
           }
          ],
          "heatmapgl": [
           {
            "colorbar": {
             "outlinewidth": 0,
             "ticks": ""
            },
            "colorscale": [
             [
              0,
              "#0d0887"
             ],
             [
              0.1111111111111111,
              "#46039f"
             ],
             [
              0.2222222222222222,
              "#7201a8"
             ],
             [
              0.3333333333333333,
              "#9c179e"
             ],
             [
              0.4444444444444444,
              "#bd3786"
             ],
             [
              0.5555555555555556,
              "#d8576b"
             ],
             [
              0.6666666666666666,
              "#ed7953"
             ],
             [
              0.7777777777777778,
              "#fb9f3a"
             ],
             [
              0.8888888888888888,
              "#fdca26"
             ],
             [
              1,
              "#f0f921"
             ]
            ],
            "type": "heatmapgl"
           }
          ],
          "histogram": [
           {
            "marker": {
             "pattern": {
              "fillmode": "overlay",
              "size": 10,
              "solidity": 0.2
             }
            },
            "type": "histogram"
           }
          ],
          "histogram2d": [
           {
            "colorbar": {
             "outlinewidth": 0,
             "ticks": ""
            },
            "colorscale": [
             [
              0,
              "#0d0887"
             ],
             [
              0.1111111111111111,
              "#46039f"
             ],
             [
              0.2222222222222222,
              "#7201a8"
             ],
             [
              0.3333333333333333,
              "#9c179e"
             ],
             [
              0.4444444444444444,
              "#bd3786"
             ],
             [
              0.5555555555555556,
              "#d8576b"
             ],
             [
              0.6666666666666666,
              "#ed7953"
             ],
             [
              0.7777777777777778,
              "#fb9f3a"
             ],
             [
              0.8888888888888888,
              "#fdca26"
             ],
             [
              1,
              "#f0f921"
             ]
            ],
            "type": "histogram2d"
           }
          ],
          "histogram2dcontour": [
           {
            "colorbar": {
             "outlinewidth": 0,
             "ticks": ""
            },
            "colorscale": [
             [
              0,
              "#0d0887"
             ],
             [
              0.1111111111111111,
              "#46039f"
             ],
             [
              0.2222222222222222,
              "#7201a8"
             ],
             [
              0.3333333333333333,
              "#9c179e"
             ],
             [
              0.4444444444444444,
              "#bd3786"
             ],
             [
              0.5555555555555556,
              "#d8576b"
             ],
             [
              0.6666666666666666,
              "#ed7953"
             ],
             [
              0.7777777777777778,
              "#fb9f3a"
             ],
             [
              0.8888888888888888,
              "#fdca26"
             ],
             [
              1,
              "#f0f921"
             ]
            ],
            "type": "histogram2dcontour"
           }
          ],
          "mesh3d": [
           {
            "colorbar": {
             "outlinewidth": 0,
             "ticks": ""
            },
            "type": "mesh3d"
           }
          ],
          "parcoords": [
           {
            "line": {
             "colorbar": {
              "outlinewidth": 0,
              "ticks": ""
             }
            },
            "type": "parcoords"
           }
          ],
          "pie": [
           {
            "automargin": true,
            "type": "pie"
           }
          ],
          "scatter": [
           {
            "fillpattern": {
             "fillmode": "overlay",
             "size": 10,
             "solidity": 0.2
            },
            "type": "scatter"
           }
          ],
          "scatter3d": [
           {
            "line": {
             "colorbar": {
              "outlinewidth": 0,
              "ticks": ""
             }
            },
            "marker": {
             "colorbar": {
              "outlinewidth": 0,
              "ticks": ""
             }
            },
            "type": "scatter3d"
           }
          ],
          "scattercarpet": [
           {
            "marker": {
             "colorbar": {
              "outlinewidth": 0,
              "ticks": ""
             }
            },
            "type": "scattercarpet"
           }
          ],
          "scattergeo": [
           {
            "marker": {
             "colorbar": {
              "outlinewidth": 0,
              "ticks": ""
             }
            },
            "type": "scattergeo"
           }
          ],
          "scattergl": [
           {
            "marker": {
             "colorbar": {
              "outlinewidth": 0,
              "ticks": ""
             }
            },
            "type": "scattergl"
           }
          ],
          "scattermapbox": [
           {
            "marker": {
             "colorbar": {
              "outlinewidth": 0,
              "ticks": ""
             }
            },
            "type": "scattermapbox"
           }
          ],
          "scatterpolar": [
           {
            "marker": {
             "colorbar": {
              "outlinewidth": 0,
              "ticks": ""
             }
            },
            "type": "scatterpolar"
           }
          ],
          "scatterpolargl": [
           {
            "marker": {
             "colorbar": {
              "outlinewidth": 0,
              "ticks": ""
             }
            },
            "type": "scatterpolargl"
           }
          ],
          "scatterternary": [
           {
            "marker": {
             "colorbar": {
              "outlinewidth": 0,
              "ticks": ""
             }
            },
            "type": "scatterternary"
           }
          ],
          "surface": [
           {
            "colorbar": {
             "outlinewidth": 0,
             "ticks": ""
            },
            "colorscale": [
             [
              0,
              "#0d0887"
             ],
             [
              0.1111111111111111,
              "#46039f"
             ],
             [
              0.2222222222222222,
              "#7201a8"
             ],
             [
              0.3333333333333333,
              "#9c179e"
             ],
             [
              0.4444444444444444,
              "#bd3786"
             ],
             [
              0.5555555555555556,
              "#d8576b"
             ],
             [
              0.6666666666666666,
              "#ed7953"
             ],
             [
              0.7777777777777778,
              "#fb9f3a"
             ],
             [
              0.8888888888888888,
              "#fdca26"
             ],
             [
              1,
              "#f0f921"
             ]
            ],
            "type": "surface"
           }
          ],
          "table": [
           {
            "cells": {
             "fill": {
              "color": "#EBF0F8"
             },
             "line": {
              "color": "white"
             }
            },
            "header": {
             "fill": {
              "color": "#C8D4E3"
             },
             "line": {
              "color": "white"
             }
            },
            "type": "table"
           }
          ]
         },
         "layout": {
          "annotationdefaults": {
           "arrowcolor": "#2a3f5f",
           "arrowhead": 0,
           "arrowwidth": 1
          },
          "autotypenumbers": "strict",
          "coloraxis": {
           "colorbar": {
            "outlinewidth": 0,
            "ticks": ""
           }
          },
          "colorscale": {
           "diverging": [
            [
             0,
             "#8e0152"
            ],
            [
             0.1,
             "#c51b7d"
            ],
            [
             0.2,
             "#de77ae"
            ],
            [
             0.3,
             "#f1b6da"
            ],
            [
             0.4,
             "#fde0ef"
            ],
            [
             0.5,
             "#f7f7f7"
            ],
            [
             0.6,
             "#e6f5d0"
            ],
            [
             0.7,
             "#b8e186"
            ],
            [
             0.8,
             "#7fbc41"
            ],
            [
             0.9,
             "#4d9221"
            ],
            [
             1,
             "#276419"
            ]
           ],
           "sequential": [
            [
             0,
             "#0d0887"
            ],
            [
             0.1111111111111111,
             "#46039f"
            ],
            [
             0.2222222222222222,
             "#7201a8"
            ],
            [
             0.3333333333333333,
             "#9c179e"
            ],
            [
             0.4444444444444444,
             "#bd3786"
            ],
            [
             0.5555555555555556,
             "#d8576b"
            ],
            [
             0.6666666666666666,
             "#ed7953"
            ],
            [
             0.7777777777777778,
             "#fb9f3a"
            ],
            [
             0.8888888888888888,
             "#fdca26"
            ],
            [
             1,
             "#f0f921"
            ]
           ],
           "sequentialminus": [
            [
             0,
             "#0d0887"
            ],
            [
             0.1111111111111111,
             "#46039f"
            ],
            [
             0.2222222222222222,
             "#7201a8"
            ],
            [
             0.3333333333333333,
             "#9c179e"
            ],
            [
             0.4444444444444444,
             "#bd3786"
            ],
            [
             0.5555555555555556,
             "#d8576b"
            ],
            [
             0.6666666666666666,
             "#ed7953"
            ],
            [
             0.7777777777777778,
             "#fb9f3a"
            ],
            [
             0.8888888888888888,
             "#fdca26"
            ],
            [
             1,
             "#f0f921"
            ]
           ]
          },
          "colorway": [
           "#636efa",
           "#EF553B",
           "#00cc96",
           "#ab63fa",
           "#FFA15A",
           "#19d3f3",
           "#FF6692",
           "#B6E880",
           "#FF97FF",
           "#FECB52"
          ],
          "font": {
           "color": "#2a3f5f"
          },
          "geo": {
           "bgcolor": "white",
           "lakecolor": "white",
           "landcolor": "#E5ECF6",
           "showlakes": true,
           "showland": true,
           "subunitcolor": "white"
          },
          "hoverlabel": {
           "align": "left"
          },
          "hovermode": "closest",
          "mapbox": {
           "style": "light"
          },
          "paper_bgcolor": "white",
          "plot_bgcolor": "#E5ECF6",
          "polar": {
           "angularaxis": {
            "gridcolor": "white",
            "linecolor": "white",
            "ticks": ""
           },
           "bgcolor": "#E5ECF6",
           "radialaxis": {
            "gridcolor": "white",
            "linecolor": "white",
            "ticks": ""
           }
          },
          "scene": {
           "xaxis": {
            "backgroundcolor": "#E5ECF6",
            "gridcolor": "white",
            "gridwidth": 2,
            "linecolor": "white",
            "showbackground": true,
            "ticks": "",
            "zerolinecolor": "white"
           },
           "yaxis": {
            "backgroundcolor": "#E5ECF6",
            "gridcolor": "white",
            "gridwidth": 2,
            "linecolor": "white",
            "showbackground": true,
            "ticks": "",
            "zerolinecolor": "white"
           },
           "zaxis": {
            "backgroundcolor": "#E5ECF6",
            "gridcolor": "white",
            "gridwidth": 2,
            "linecolor": "white",
            "showbackground": true,
            "ticks": "",
            "zerolinecolor": "white"
           }
          },
          "shapedefaults": {
           "line": {
            "color": "#2a3f5f"
           }
          },
          "ternary": {
           "aaxis": {
            "gridcolor": "white",
            "linecolor": "white",
            "ticks": ""
           },
           "baxis": {
            "gridcolor": "white",
            "linecolor": "white",
            "ticks": ""
           },
           "bgcolor": "#E5ECF6",
           "caxis": {
            "gridcolor": "white",
            "linecolor": "white",
            "ticks": ""
           }
          },
          "title": {
           "x": 0.05
          },
          "xaxis": {
           "automargin": true,
           "gridcolor": "white",
           "linecolor": "white",
           "ticks": "",
           "title": {
            "standoff": 15
           },
           "zerolinecolor": "white",
           "zerolinewidth": 2
          },
          "yaxis": {
           "automargin": true,
           "gridcolor": "white",
           "linecolor": "white",
           "ticks": "",
           "title": {
            "standoff": 15
           },
           "zerolinecolor": "white",
           "zerolinewidth": 2
          }
         }
        },
        "xaxis": {
         "anchor": "y",
         "domain": [
          0,
          1
         ],
         "title": {
          "text": "index"
         }
        },
        "yaxis": {
         "anchor": "x",
         "domain": [
          0,
          1
         ],
         "title": {
          "text": "value"
         }
        }
       }
      }
     },
     "metadata": {},
     "output_type": "display_data"
    }
   ],
   "source": [
    "sim_data2 = get_simret(balance_df,balance,now_data=None,kospi200=None)\n",
    "display(sim_data2)\n",
    "display(px.line(sim_data2))"
   ]
  },
  {
   "cell_type": "code",
   "execution_count": null,
   "metadata": {},
   "outputs": [],
   "source": []
  }
 ],
 "metadata": {
  "kernelspec": {
   "display_name": "elec",
   "language": "python",
   "name": "python3"
  },
  "language_info": {
   "codemirror_mode": {
    "name": "ipython",
    "version": 3
   },
   "file_extension": ".py",
   "mimetype": "text/x-python",
   "name": "python",
   "nbconvert_exporter": "python",
   "pygments_lexer": "ipython3",
   "version": "3.11.4"
  },
  "orig_nbformat": 4
 },
 "nbformat": 4,
 "nbformat_minor": 2
}
