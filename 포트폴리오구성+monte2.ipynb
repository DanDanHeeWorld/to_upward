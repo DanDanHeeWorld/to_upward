{
 "cells": [
  {
   "cell_type": "code",
   "execution_count": 1,
   "metadata": {},
   "outputs": [
    {
     "name": "stderr",
     "output_type": "stream",
     "text": [
      "/opt/homebrew/Caskroom/miniforge/base/envs/elec/lib/python3.11/site-packages/tqdm/auto.py:21: TqdmWarning: IProgress not found. Please update jupyter and ipywidgets. See https://ipywidgets.readthedocs.io/en/stable/user_install.html\n",
      "  from .autonotebook import tqdm as notebook_tqdm\n"
     ]
    }
   ],
   "source": [
    "import pandas as pd\n",
    "import numpy as np\n",
    "from tqdm.auto import tqdm\n",
    "import random\n",
    "import os\n",
    "from pykrx import stock\n",
    "import matplotlib.pyplot as plt\n",
    "import koreanize_matplotlib\n",
    "import warnings\n",
    "warnings.filterwarnings('ignore')\n",
    "\n",
    "def reset_seeds(seed):\n",
    "    random.seed(seed)\n",
    "    os.environ['PYTHONHASHSEED'] = str(seed)\n",
    "    np.random.seed(seed)\n",
    "\n",
    "DATA_PATH = \"/Users/idanhui/python-code/파이널 프로젝트/data/\"\n",
    "SEED = 42"
   ]
  },
  {
   "cell_type": "code",
   "execution_count": 2,
   "metadata": {},
   "outputs": [],
   "source": [
    "data = pd.read_csv(f\"{DATA_PATH}labeled_data_final.csv\")\n",
    "def pad_str(str_list, target_len):\n",
    "\n",
    "  padded_str_list = []\n",
    "  for str in str_list:\n",
    "    if len(str) < target_len:\n",
    "      padded_str = \"0\" * (target_len - len(str)) + str\n",
    "    else:\n",
    "      padded_str = str\n",
    "    padded_str_list.append(padded_str)\n",
    "  return padded_str_list\n",
    "str_list = data.Code.astype(str).to_list()\n",
    "target_len = 6\n",
    "padded_str_list = pad_str(str_list, target_len)\n",
    "\n",
    "data.Code = padded_str_list"
   ]
  },
  {
   "cell_type": "code",
   "execution_count": 3,
   "metadata": {},
   "outputs": [
    {
     "name": "stdout",
     "output_type": "stream",
     "text": [
      "20220904 20230904\n"
     ]
    }
   ],
   "source": [
    "import datetime as dt\n",
    "\n",
    "end = dt.datetime.today().date().strftime(\"%Y%m%d\")\n",
    "start = (dt.datetime.today().date() - dt.timedelta(365)).strftime(\"%Y%m%d\")\n",
    "# end = dt.datetime(2022,12,31).strftime(\"%Y%m%d\")\n",
    "# start = (dt.datetime(2022,12,31) - dt.timedelta(180)).strftime(\"%Y%m%d\")\n",
    "print(start,end)"
   ]
  },
  {
   "cell_type": "code",
   "execution_count": 4,
   "metadata": {},
   "outputs": [
    {
     "data": {
      "text/html": [
       "<div>\n",
       "<style scoped>\n",
       "    .dataframe tbody tr th:only-of-type {\n",
       "        vertical-align: middle;\n",
       "    }\n",
       "\n",
       "    .dataframe tbody tr th {\n",
       "        vertical-align: top;\n",
       "    }\n",
       "\n",
       "    .dataframe thead th {\n",
       "        text-align: right;\n",
       "    }\n",
       "</style>\n",
       "<table border=\"1\" class=\"dataframe\">\n",
       "  <thead>\n",
       "    <tr style=\"text-align: right;\">\n",
       "      <th></th>\n",
       "      <th>Code</th>\n",
       "      <th>Name</th>\n",
       "      <th>Market</th>\n",
       "      <th>recommendationKey</th>\n",
       "      <th>sharesOutstanding</th>\n",
       "      <th>averageVolume10days</th>\n",
       "      <th>averageVolume</th>\n",
       "      <th>heldPercentInstitutions</th>\n",
       "      <th>shortRatio</th>\n",
       "      <th>sharesPercentSharesOut</th>\n",
       "      <th>...</th>\n",
       "      <th>5년평균dividendYield</th>\n",
       "      <th>EBITDAPS</th>\n",
       "      <th>동종업계_대비_PER</th>\n",
       "      <th>dividend</th>\n",
       "      <th>growth</th>\n",
       "      <th>value</th>\n",
       "      <th>business</th>\n",
       "      <th>finance</th>\n",
       "      <th>performance</th>\n",
       "      <th>volitality</th>\n",
       "    </tr>\n",
       "  </thead>\n",
       "  <tbody>\n",
       "    <tr>\n",
       "      <th>0</th>\n",
       "      <td>005930</td>\n",
       "      <td>삼성전자</td>\n",
       "      <td>KOSPI</td>\n",
       "      <td>4.0</td>\n",
       "      <td>5.969780e+09</td>\n",
       "      <td>15819172.0</td>\n",
       "      <td>13878613.0</td>\n",
       "      <td>0.47631</td>\n",
       "      <td>4.28</td>\n",
       "      <td>0.000124</td>\n",
       "      <td>...</td>\n",
       "      <td>2.870</td>\n",
       "      <td>12143.0</td>\n",
       "      <td>-1.04</td>\n",
       "      <td>C</td>\n",
       "      <td>C</td>\n",
       "      <td>D</td>\n",
       "      <td>B</td>\n",
       "      <td>F</td>\n",
       "      <td>A+</td>\n",
       "      <td>C</td>\n",
       "    </tr>\n",
       "    <tr>\n",
       "      <th>2</th>\n",
       "      <td>000660</td>\n",
       "      <td>SK하이닉스</td>\n",
       "      <td>KOSPI</td>\n",
       "      <td>4.0</td>\n",
       "      <td>7.082170e+08</td>\n",
       "      <td>4628225.0</td>\n",
       "      <td>3960678.0</td>\n",
       "      <td>0.40008</td>\n",
       "      <td>2.00</td>\n",
       "      <td>0.000072</td>\n",
       "      <td>...</td>\n",
       "      <td>1.462</td>\n",
       "      <td>28792.0</td>\n",
       "      <td>26.96</td>\n",
       "      <td>D</td>\n",
       "      <td>C</td>\n",
       "      <td>C</td>\n",
       "      <td>C</td>\n",
       "      <td>H</td>\n",
       "      <td>A</td>\n",
       "      <td>B</td>\n",
       "    </tr>\n",
       "    <tr>\n",
       "      <th>4</th>\n",
       "      <td>005490</td>\n",
       "      <td>POSCO홀딩스</td>\n",
       "      <td>KOSPI</td>\n",
       "      <td>3.9</td>\n",
       "      <td>7.587620e+07</td>\n",
       "      <td>2944335.0</td>\n",
       "      <td>1697713.0</td>\n",
       "      <td>0.30222</td>\n",
       "      <td>8.45</td>\n",
       "      <td>0.001327</td>\n",
       "      <td>...</td>\n",
       "      <td>4.364</td>\n",
       "      <td>99067.0</td>\n",
       "      <td>8.11</td>\n",
       "      <td>B</td>\n",
       "      <td>C</td>\n",
       "      <td>D</td>\n",
       "      <td>B</td>\n",
       "      <td>G</td>\n",
       "      <td>B</td>\n",
       "      <td>B</td>\n",
       "    </tr>\n",
       "    <tr>\n",
       "      <th>5</th>\n",
       "      <td>051910</td>\n",
       "      <td>LG화학</td>\n",
       "      <td>KOSPI</td>\n",
       "      <td>4.0</td>\n",
       "      <td>7.059230e+07</td>\n",
       "      <td>399881.0</td>\n",
       "      <td>287432.0</td>\n",
       "      <td>0.36433</td>\n",
       "      <td>6.50</td>\n",
       "      <td>0.000188</td>\n",
       "      <td>...</td>\n",
       "      <td>1.438</td>\n",
       "      <td>81652.0</td>\n",
       "      <td>14.63</td>\n",
       "      <td>D</td>\n",
       "      <td>C</td>\n",
       "      <td>D</td>\n",
       "      <td>B</td>\n",
       "      <td>G</td>\n",
       "      <td>B</td>\n",
       "      <td>C</td>\n",
       "    </tr>\n",
       "    <tr>\n",
       "      <th>7</th>\n",
       "      <td>005380</td>\n",
       "      <td>현대차</td>\n",
       "      <td>KOSPI</td>\n",
       "      <td>4.0</td>\n",
       "      <td>2.028760e+08</td>\n",
       "      <td>699789.0</td>\n",
       "      <td>594572.0</td>\n",
       "      <td>0.22792</td>\n",
       "      <td>4.89</td>\n",
       "      <td>0.000088</td>\n",
       "      <td>...</td>\n",
       "      <td>3.058</td>\n",
       "      <td>53685.0</td>\n",
       "      <td>-2.62</td>\n",
       "      <td>C</td>\n",
       "      <td>B</td>\n",
       "      <td>E</td>\n",
       "      <td>C</td>\n",
       "      <td>B</td>\n",
       "      <td>A</td>\n",
       "      <td>C</td>\n",
       "    </tr>\n",
       "    <tr>\n",
       "      <th>10</th>\n",
       "      <td>000270</td>\n",
       "      <td>기아</td>\n",
       "      <td>KOSPI</td>\n",
       "      <td>4.0</td>\n",
       "      <td>3.950820e+08</td>\n",
       "      <td>1446978.0</td>\n",
       "      <td>1229388.0</td>\n",
       "      <td>0.27907</td>\n",
       "      <td>17.01</td>\n",
       "      <td>0.000407</td>\n",
       "      <td>...</td>\n",
       "      <td>3.284</td>\n",
       "      <td>23820.0</td>\n",
       "      <td>-3.41</td>\n",
       "      <td>C</td>\n",
       "      <td>B</td>\n",
       "      <td>E</td>\n",
       "      <td>B</td>\n",
       "      <td>G</td>\n",
       "      <td>A</td>\n",
       "      <td>C</td>\n",
       "    </tr>\n",
       "    <tr>\n",
       "      <th>18</th>\n",
       "      <td>066570</td>\n",
       "      <td>LG전자</td>\n",
       "      <td>KOSPI</td>\n",
       "      <td>4.0</td>\n",
       "      <td>1.628850e+08</td>\n",
       "      <td>1065618.0</td>\n",
       "      <td>825302.0</td>\n",
       "      <td>0.26213</td>\n",
       "      <td>11.11</td>\n",
       "      <td>0.000518</td>\n",
       "      <td>...</td>\n",
       "      <td>0.912</td>\n",
       "      <td>36144.0</td>\n",
       "      <td>6.18</td>\n",
       "      <td>E</td>\n",
       "      <td>C</td>\n",
       "      <td>D</td>\n",
       "      <td>C</td>\n",
       "      <td>F</td>\n",
       "      <td>A</td>\n",
       "      <td>C</td>\n",
       "    </tr>\n",
       "    <tr>\n",
       "      <th>39</th>\n",
       "      <td>011200</td>\n",
       "      <td>HMM</td>\n",
       "      <td>KOSPI</td>\n",
       "      <td>3.2</td>\n",
       "      <td>4.890390e+08</td>\n",
       "      <td>1838939.0</td>\n",
       "      <td>2279608.0</td>\n",
       "      <td>0.30701</td>\n",
       "      <td>7.00</td>\n",
       "      <td>0.000117</td>\n",
       "      <td>...</td>\n",
       "      <td>3.430</td>\n",
       "      <td>22066.0</td>\n",
       "      <td>-1.80</td>\n",
       "      <td>C</td>\n",
       "      <td>C</td>\n",
       "      <td>E</td>\n",
       "      <td>A</td>\n",
       "      <td>H</td>\n",
       "      <td>A</td>\n",
       "      <td>A</td>\n",
       "    </tr>\n",
       "    <tr>\n",
       "      <th>58</th>\n",
       "      <td>011070</td>\n",
       "      <td>LG이노텍</td>\n",
       "      <td>KOSPI</td>\n",
       "      <td>4.0</td>\n",
       "      <td>2.366450e+07</td>\n",
       "      <td>235885.0</td>\n",
       "      <td>179614.0</td>\n",
       "      <td>0.28444</td>\n",
       "      <td>6.32</td>\n",
       "      <td>0.000281</td>\n",
       "      <td>...</td>\n",
       "      <td>0.680</td>\n",
       "      <td>91158.0</td>\n",
       "      <td>-3.29</td>\n",
       "      <td>E</td>\n",
       "      <td>C</td>\n",
       "      <td>E</td>\n",
       "      <td>B</td>\n",
       "      <td>H</td>\n",
       "      <td>B</td>\n",
       "      <td>C</td>\n",
       "    </tr>\n",
       "    <tr>\n",
       "      <th>109</th>\n",
       "      <td>039490</td>\n",
       "      <td>키움증권</td>\n",
       "      <td>KOSPI</td>\n",
       "      <td>4.0</td>\n",
       "      <td>2.481950e+07</td>\n",
       "      <td>106650.0</td>\n",
       "      <td>70016.0</td>\n",
       "      <td>0.31125</td>\n",
       "      <td>3.37</td>\n",
       "      <td>0.000165</td>\n",
       "      <td>...</td>\n",
       "      <td>1.676</td>\n",
       "      <td>161107.0</td>\n",
       "      <td>-0.58</td>\n",
       "      <td>D</td>\n",
       "      <td>B</td>\n",
       "      <td>E</td>\n",
       "      <td>A</td>\n",
       "      <td>F</td>\n",
       "      <td>B</td>\n",
       "      <td>C</td>\n",
       "    </tr>\n",
       "    <tr>\n",
       "      <th>123</th>\n",
       "      <td>298050</td>\n",
       "      <td>효성첨단소재</td>\n",
       "      <td>KOSPI</td>\n",
       "      <td>4.0</td>\n",
       "      <td>4.468020e+06</td>\n",
       "      <td>44898.0</td>\n",
       "      <td>36340.0</td>\n",
       "      <td>0.16986</td>\n",
       "      <td>9.14</td>\n",
       "      <td>0.000277</td>\n",
       "      <td>...</td>\n",
       "      <td>3.090</td>\n",
       "      <td>111743.0</td>\n",
       "      <td>4.44</td>\n",
       "      <td>C</td>\n",
       "      <td>C</td>\n",
       "      <td>D</td>\n",
       "      <td>B</td>\n",
       "      <td>H</td>\n",
       "      <td>B</td>\n",
       "      <td>A</td>\n",
       "    </tr>\n",
       "    <tr>\n",
       "      <th>126</th>\n",
       "      <td>000150</td>\n",
       "      <td>두산</td>\n",
       "      <td>KOSPI</td>\n",
       "      <td>4.0</td>\n",
       "      <td>1.352300e+07</td>\n",
       "      <td>658877.0</td>\n",
       "      <td>187241.0</td>\n",
       "      <td>0.16583</td>\n",
       "      <td>2.00</td>\n",
       "      <td>0.000307</td>\n",
       "      <td>...</td>\n",
       "      <td>0.530</td>\n",
       "      <td>81455.0</td>\n",
       "      <td>-5.53</td>\n",
       "      <td>E</td>\n",
       "      <td>B</td>\n",
       "      <td>E</td>\n",
       "      <td>C</td>\n",
       "      <td>H</td>\n",
       "      <td>B</td>\n",
       "      <td>C</td>\n",
       "    </tr>\n",
       "    <tr>\n",
       "      <th>144</th>\n",
       "      <td>298020</td>\n",
       "      <td>효성티앤씨</td>\n",
       "      <td>KOSPI</td>\n",
       "      <td>4.0</td>\n",
       "      <td>4.315690e+06</td>\n",
       "      <td>28801.0</td>\n",
       "      <td>27215.0</td>\n",
       "      <td>0.17997</td>\n",
       "      <td>3.02</td>\n",
       "      <td>0.000156</td>\n",
       "      <td>...</td>\n",
       "      <td>3.332</td>\n",
       "      <td>83355.0</td>\n",
       "      <td>114.41</td>\n",
       "      <td>C</td>\n",
       "      <td>C</td>\n",
       "      <td>D</td>\n",
       "      <td>C</td>\n",
       "      <td>H</td>\n",
       "      <td>B</td>\n",
       "      <td>C</td>\n",
       "    </tr>\n",
       "  </tbody>\n",
       "</table>\n",
       "<p>13 rows × 72 columns</p>\n",
       "</div>"
      ],
      "text/plain": [
       "       Code      Name Market recommendationKey  sharesOutstanding  \\\n",
       "0    005930      삼성전자  KOSPI               4.0       5.969780e+09   \n",
       "2    000660    SK하이닉스  KOSPI               4.0       7.082170e+08   \n",
       "4    005490  POSCO홀딩스  KOSPI               3.9       7.587620e+07   \n",
       "5    051910      LG화학  KOSPI               4.0       7.059230e+07   \n",
       "7    005380       현대차  KOSPI               4.0       2.028760e+08   \n",
       "10   000270        기아  KOSPI               4.0       3.950820e+08   \n",
       "18   066570      LG전자  KOSPI               4.0       1.628850e+08   \n",
       "39   011200       HMM  KOSPI               3.2       4.890390e+08   \n",
       "58   011070     LG이노텍  KOSPI               4.0       2.366450e+07   \n",
       "109  039490      키움증권  KOSPI               4.0       2.481950e+07   \n",
       "123  298050    효성첨단소재  KOSPI               4.0       4.468020e+06   \n",
       "126  000150        두산  KOSPI               4.0       1.352300e+07   \n",
       "144  298020     효성티앤씨  KOSPI               4.0       4.315690e+06   \n",
       "\n",
       "     averageVolume10days  averageVolume  heldPercentInstitutions  shortRatio  \\\n",
       "0             15819172.0     13878613.0                  0.47631        4.28   \n",
       "2              4628225.0      3960678.0                  0.40008        2.00   \n",
       "4              2944335.0      1697713.0                  0.30222        8.45   \n",
       "5               399881.0       287432.0                  0.36433        6.50   \n",
       "7               699789.0       594572.0                  0.22792        4.89   \n",
       "10             1446978.0      1229388.0                  0.27907       17.01   \n",
       "18             1065618.0       825302.0                  0.26213       11.11   \n",
       "39             1838939.0      2279608.0                  0.30701        7.00   \n",
       "58              235885.0       179614.0                  0.28444        6.32   \n",
       "109             106650.0        70016.0                  0.31125        3.37   \n",
       "123              44898.0        36340.0                  0.16986        9.14   \n",
       "126             658877.0       187241.0                  0.16583        2.00   \n",
       "144              28801.0        27215.0                  0.17997        3.02   \n",
       "\n",
       "     sharesPercentSharesOut  ...  5년평균dividendYield  EBITDAPS  동종업계_대비_PER  \\\n",
       "0                  0.000124  ...              2.870   12143.0        -1.04   \n",
       "2                  0.000072  ...              1.462   28792.0        26.96   \n",
       "4                  0.001327  ...              4.364   99067.0         8.11   \n",
       "5                  0.000188  ...              1.438   81652.0        14.63   \n",
       "7                  0.000088  ...              3.058   53685.0        -2.62   \n",
       "10                 0.000407  ...              3.284   23820.0        -3.41   \n",
       "18                 0.000518  ...              0.912   36144.0         6.18   \n",
       "39                 0.000117  ...              3.430   22066.0        -1.80   \n",
       "58                 0.000281  ...              0.680   91158.0        -3.29   \n",
       "109                0.000165  ...              1.676  161107.0        -0.58   \n",
       "123                0.000277  ...              3.090  111743.0         4.44   \n",
       "126                0.000307  ...              0.530   81455.0        -5.53   \n",
       "144                0.000156  ...              3.332   83355.0       114.41   \n",
       "\n",
       "     dividend  growth  value  business  finance  performance  volitality  \n",
       "0           C       C      D         B        F           A+           C  \n",
       "2           D       C      C         C        H            A           B  \n",
       "4           B       C      D         B        G            B           B  \n",
       "5           D       C      D         B        G            B           C  \n",
       "7           C       B      E         C        B            A           C  \n",
       "10          C       B      E         B        G            A           C  \n",
       "18          E       C      D         C        F            A           C  \n",
       "39          C       C      E         A        H            A           A  \n",
       "58          E       C      E         B        H            B           C  \n",
       "109         D       B      E         A        F            B           C  \n",
       "123         C       C      D         B        H            B           A  \n",
       "126         E       B      E         C        H            B           C  \n",
       "144         C       C      D         C        H            B           C  \n",
       "\n",
       "[13 rows x 72 columns]"
      ]
     },
     "execution_count": 4,
     "metadata": {},
     "output_type": "execute_result"
    }
   ],
   "source": [
    "recommendation= data[((data['business'] == \"A\")|(data['business'] == \"B\")|(data['business'] == \"C\"))&\n",
    " ((data['performance'] == \"A\")|(data['performance'] == \"B\")|(data['performance'] == \"A+\")|(data['performance'] == \"C\"))&\n",
    "  ((data['volitality'] == \"A\")|(data['volitality'] == \"B\")|(data['volitality'] == \"A+\")|(data['volitality'] == \"C\"))]\n",
    "recommendation"
   ]
  },
  {
   "cell_type": "code",
   "execution_count": 14,
   "metadata": {},
   "outputs": [],
   "source": [
    "stocks = recommendation[\"Name\"].to_list()"
   ]
  },
  {
   "cell_type": "code",
   "execution_count": 15,
   "metadata": {},
   "outputs": [],
   "source": [
    "def get_close(data,start,end):\n",
    "    tmp = pd.DataFrame()\n",
    "    for n in stocks:\n",
    "        tmp[n] = stock.get_market_ohlcv(start, end, data[data['Name'] == n]['Code'])['종가']\n",
    "    return tmp"
   ]
  },
  {
   "cell_type": "code",
   "execution_count": 16,
   "metadata": {},
   "outputs": [
    {
     "data": {
      "text/html": [
       "<div>\n",
       "<style scoped>\n",
       "    .dataframe tbody tr th:only-of-type {\n",
       "        vertical-align: middle;\n",
       "    }\n",
       "\n",
       "    .dataframe tbody tr th {\n",
       "        vertical-align: top;\n",
       "    }\n",
       "\n",
       "    .dataframe thead th {\n",
       "        text-align: right;\n",
       "    }\n",
       "</style>\n",
       "<table border=\"1\" class=\"dataframe\">\n",
       "  <thead>\n",
       "    <tr style=\"text-align: right;\">\n",
       "      <th></th>\n",
       "      <th>삼성전자</th>\n",
       "      <th>SK하이닉스</th>\n",
       "      <th>POSCO홀딩스</th>\n",
       "      <th>LG화학</th>\n",
       "      <th>현대차</th>\n",
       "      <th>기아</th>\n",
       "      <th>LG전자</th>\n",
       "      <th>HMM</th>\n",
       "      <th>LG이노텍</th>\n",
       "      <th>키움증권</th>\n",
       "      <th>효성첨단소재</th>\n",
       "      <th>두산</th>\n",
       "      <th>효성티앤씨</th>\n",
       "    </tr>\n",
       "    <tr>\n",
       "      <th>날짜</th>\n",
       "      <th></th>\n",
       "      <th></th>\n",
       "      <th></th>\n",
       "      <th></th>\n",
       "      <th></th>\n",
       "      <th></th>\n",
       "      <th></th>\n",
       "      <th></th>\n",
       "      <th></th>\n",
       "      <th></th>\n",
       "      <th></th>\n",
       "      <th></th>\n",
       "      <th></th>\n",
       "    </tr>\n",
       "  </thead>\n",
       "  <tbody>\n",
       "    <tr>\n",
       "      <th>2022-09-05</th>\n",
       "      <td>57100</td>\n",
       "      <td>91100</td>\n",
       "      <td>252500</td>\n",
       "      <td>616000</td>\n",
       "      <td>200000</td>\n",
       "      <td>81000</td>\n",
       "      <td>97200</td>\n",
       "      <td>20600</td>\n",
       "      <td>338000</td>\n",
       "      <td>82400</td>\n",
       "      <td>408000</td>\n",
       "      <td>76900</td>\n",
       "      <td>300000</td>\n",
       "    </tr>\n",
       "    <tr>\n",
       "      <th>2022-09-06</th>\n",
       "      <td>57100</td>\n",
       "      <td>91800</td>\n",
       "      <td>252500</td>\n",
       "      <td>619000</td>\n",
       "      <td>201000</td>\n",
       "      <td>81400</td>\n",
       "      <td>96800</td>\n",
       "      <td>20400</td>\n",
       "      <td>336000</td>\n",
       "      <td>81900</td>\n",
       "      <td>429500</td>\n",
       "      <td>76200</td>\n",
       "      <td>304500</td>\n",
       "    </tr>\n",
       "    <tr>\n",
       "      <th>2022-09-07</th>\n",
       "      <td>56000</td>\n",
       "      <td>90400</td>\n",
       "      <td>246000</td>\n",
       "      <td>623000</td>\n",
       "      <td>202000</td>\n",
       "      <td>82300</td>\n",
       "      <td>94400</td>\n",
       "      <td>19650</td>\n",
       "      <td>332000</td>\n",
       "      <td>79800</td>\n",
       "      <td>422500</td>\n",
       "      <td>72600</td>\n",
       "      <td>300000</td>\n",
       "    </tr>\n",
       "    <tr>\n",
       "      <th>2022-09-08</th>\n",
       "      <td>55600</td>\n",
       "      <td>90400</td>\n",
       "      <td>241500</td>\n",
       "      <td>644000</td>\n",
       "      <td>200000</td>\n",
       "      <td>80900</td>\n",
       "      <td>93800</td>\n",
       "      <td>20000</td>\n",
       "      <td>337500</td>\n",
       "      <td>80900</td>\n",
       "      <td>419500</td>\n",
       "      <td>72100</td>\n",
       "      <td>304500</td>\n",
       "    </tr>\n",
       "    <tr>\n",
       "      <th>2022-09-13</th>\n",
       "      <td>58100</td>\n",
       "      <td>94800</td>\n",
       "      <td>248000</td>\n",
       "      <td>665000</td>\n",
       "      <td>200500</td>\n",
       "      <td>81300</td>\n",
       "      <td>97900</td>\n",
       "      <td>21050</td>\n",
       "      <td>364000</td>\n",
       "      <td>85900</td>\n",
       "      <td>430000</td>\n",
       "      <td>73500</td>\n",
       "      <td>312500</td>\n",
       "    </tr>\n",
       "    <tr>\n",
       "      <th>...</th>\n",
       "      <td>...</td>\n",
       "      <td>...</td>\n",
       "      <td>...</td>\n",
       "      <td>...</td>\n",
       "      <td>...</td>\n",
       "      <td>...</td>\n",
       "      <td>...</td>\n",
       "      <td>...</td>\n",
       "      <td>...</td>\n",
       "      <td>...</td>\n",
       "      <td>...</td>\n",
       "      <td>...</td>\n",
       "      <td>...</td>\n",
       "    </tr>\n",
       "    <tr>\n",
       "      <th>2023-08-29</th>\n",
       "      <td>66800</td>\n",
       "      <td>118600</td>\n",
       "      <td>583000</td>\n",
       "      <td>560000</td>\n",
       "      <td>186700</td>\n",
       "      <td>80200</td>\n",
       "      <td>99600</td>\n",
       "      <td>17500</td>\n",
       "      <td>264500</td>\n",
       "      <td>102300</td>\n",
       "      <td>444500</td>\n",
       "      <td>114100</td>\n",
       "      <td>324500</td>\n",
       "    </tr>\n",
       "    <tr>\n",
       "      <th>2023-08-30</th>\n",
       "      <td>67100</td>\n",
       "      <td>119400</td>\n",
       "      <td>580000</td>\n",
       "      <td>576000</td>\n",
       "      <td>187800</td>\n",
       "      <td>80400</td>\n",
       "      <td>100100</td>\n",
       "      <td>17030</td>\n",
       "      <td>268000</td>\n",
       "      <td>102700</td>\n",
       "      <td>447000</td>\n",
       "      <td>113500</td>\n",
       "      <td>326500</td>\n",
       "    </tr>\n",
       "    <tr>\n",
       "      <th>2023-08-31</th>\n",
       "      <td>66900</td>\n",
       "      <td>121800</td>\n",
       "      <td>579000</td>\n",
       "      <td>583000</td>\n",
       "      <td>189100</td>\n",
       "      <td>80200</td>\n",
       "      <td>98500</td>\n",
       "      <td>16660</td>\n",
       "      <td>270000</td>\n",
       "      <td>103300</td>\n",
       "      <td>452000</td>\n",
       "      <td>117600</td>\n",
       "      <td>331000</td>\n",
       "    </tr>\n",
       "    <tr>\n",
       "      <th>2023-09-01</th>\n",
       "      <td>71000</td>\n",
       "      <td>120000</td>\n",
       "      <td>560000</td>\n",
       "      <td>570000</td>\n",
       "      <td>187400</td>\n",
       "      <td>79700</td>\n",
       "      <td>99600</td>\n",
       "      <td>16600</td>\n",
       "      <td>268500</td>\n",
       "      <td>99800</td>\n",
       "      <td>436000</td>\n",
       "      <td>113500</td>\n",
       "      <td>326000</td>\n",
       "    </tr>\n",
       "    <tr>\n",
       "      <th>2023-09-04</th>\n",
       "      <td>71400</td>\n",
       "      <td>117000</td>\n",
       "      <td>563000</td>\n",
       "      <td>581000</td>\n",
       "      <td>186500</td>\n",
       "      <td>79700</td>\n",
       "      <td>101400</td>\n",
       "      <td>16680</td>\n",
       "      <td>269500</td>\n",
       "      <td>101500</td>\n",
       "      <td>451500</td>\n",
       "      <td>113800</td>\n",
       "      <td>360000</td>\n",
       "    </tr>\n",
       "  </tbody>\n",
       "</table>\n",
       "<p>248 rows × 13 columns</p>\n",
       "</div>"
      ],
      "text/plain": [
       "             삼성전자  SK하이닉스  POSCO홀딩스    LG화학     현대차     기아    LG전자    HMM  \\\n",
       "날짜                                                                          \n",
       "2022-09-05  57100   91100    252500  616000  200000  81000   97200  20600   \n",
       "2022-09-06  57100   91800    252500  619000  201000  81400   96800  20400   \n",
       "2022-09-07  56000   90400    246000  623000  202000  82300   94400  19650   \n",
       "2022-09-08  55600   90400    241500  644000  200000  80900   93800  20000   \n",
       "2022-09-13  58100   94800    248000  665000  200500  81300   97900  21050   \n",
       "...           ...     ...       ...     ...     ...    ...     ...    ...   \n",
       "2023-08-29  66800  118600    583000  560000  186700  80200   99600  17500   \n",
       "2023-08-30  67100  119400    580000  576000  187800  80400  100100  17030   \n",
       "2023-08-31  66900  121800    579000  583000  189100  80200   98500  16660   \n",
       "2023-09-01  71000  120000    560000  570000  187400  79700   99600  16600   \n",
       "2023-09-04  71400  117000    563000  581000  186500  79700  101400  16680   \n",
       "\n",
       "             LG이노텍    키움증권  효성첨단소재      두산   효성티앤씨  \n",
       "날짜                                                  \n",
       "2022-09-05  338000   82400  408000   76900  300000  \n",
       "2022-09-06  336000   81900  429500   76200  304500  \n",
       "2022-09-07  332000   79800  422500   72600  300000  \n",
       "2022-09-08  337500   80900  419500   72100  304500  \n",
       "2022-09-13  364000   85900  430000   73500  312500  \n",
       "...            ...     ...     ...     ...     ...  \n",
       "2023-08-29  264500  102300  444500  114100  324500  \n",
       "2023-08-30  268000  102700  447000  113500  326500  \n",
       "2023-08-31  270000  103300  452000  117600  331000  \n",
       "2023-09-01  268500   99800  436000  113500  326000  \n",
       "2023-09-04  269500  101500  451500  113800  360000  \n",
       "\n",
       "[248 rows x 13 columns]"
      ]
     },
     "execution_count": 16,
     "metadata": {},
     "output_type": "execute_result"
    }
   ],
   "source": [
    "tmp = get_close(data,start,end)\n",
    "tmp"
   ]
  },
  {
   "cell_type": "code",
   "execution_count": 17,
   "metadata": {},
   "outputs": [],
   "source": [
    "daily_ret = tmp[stocks].pct_change()\n",
    "annual_ret = (1+daily_ret.mean())**tmp[stocks].shape[0]-1\n",
    "\n",
    "daily_cov = daily_ret.cov()\n",
    "annual_cov = daily_cov * tmp[stocks].shape[0]"
   ]
  },
  {
   "cell_type": "code",
   "execution_count": 18,
   "metadata": {},
   "outputs": [],
   "source": [
    "tmp2 = pd.DataFrame((annual_ret-0.02)/daily_ret.std()*np.sqrt(252),columns= ['Shape']).sort_values(by='Shape',ascending=False)\n",
    "stocks = list(tmp2.iloc[0:5].index)# 상위 5개 선정\n",
    "daily_ret = tmp[stocks].pct_change()\n",
    "annual_ret = (1+daily_ret.mean())**tmp[stocks].shape[0]-1\n",
    "daily_cov = daily_ret.cov()\n",
    "annual_cov = daily_cov * tmp[stocks].shape[0]\n",
    "rf = 0.0325\n",
    "# 개별 shape 말고 고객에게 제시하는 주식 중 고객이 선택한 주식과 상관계수가 낮은 기업으로 포트폴리오를 구성해주는 것은 어떨까?"
   ]
  },
  {
   "cell_type": "code",
   "execution_count": 20,
   "metadata": {},
   "outputs": [],
   "source": [
    "def get_portfolio(stocks,annual_ret,annual_cov):\n",
    "  port_ret = []\n",
    "  port_risk = []\n",
    "  port_weights = []\n",
    "  shape_ratio = []\n",
    "\n",
    "  for i in range(30000):\n",
    "\n",
    "      weights = np.random.random(len(stocks))\n",
    "      weights /= np.sum(weights)\n",
    "\n",
    "\n",
    "      returns = np.dot(weights, annual_ret)\n",
    "\n",
    "\n",
    "      risk = np.sqrt(np.dot(weights.T, np.dot(annual_cov, weights)))\n",
    "\n",
    "      port_ret.append(returns)\n",
    "      port_risk.append(risk)\n",
    "      port_weights.append(weights)\n",
    "      shape_ratio.append(returns/risk)\n",
    "\n",
    "  portfolio = {'Returns' : port_ret, 'Risk' : port_risk, 'Shape' : shape_ratio}\n",
    "  for j, s in enumerate(stocks):\n",
    "      portfolio[s] = [weight[j] for weight in port_weights]\n",
    "\n",
    "  df = pd.DataFrame(portfolio)\n",
    "\n",
    "  max_shape = df.loc[df['Shape'] == df['Shape'].max()]\n",
    "  min_risk = df.loc[df['Risk'] == df['Risk'].min()]\n",
    "  tmp2 = df.groupby('Risk')[['Returns']].max().reset_index()\n",
    "\n",
    "  best_ret = tmp2.loc[0,'Returns']\n",
    "  for i in range(tmp2.shape[0]):\n",
    "    if tmp2.loc[i,'Returns']<best_ret:\n",
    "      tmp2.drop(index=i,inplace=True)\n",
    "    else:\n",
    "      best_ret = tmp2.loc[i,'Returns']\n",
    "  return max_shape,min_risk,tmp2,df"
   ]
  },
  {
   "cell_type": "code",
   "execution_count": 21,
   "metadata": {},
   "outputs": [],
   "source": [
    "max_shape,min_risk,tmp2,df = get_portfolio(stocks,annual_ret,annual_cov)"
   ]
  },
  {
   "cell_type": "code",
   "execution_count": 22,
   "metadata": {},
   "outputs": [],
   "source": [
    "def show_CAPM(df, tmp2, max_shape, min_risk, rf=0.035):\n",
    "    df.plot.scatter(x='Risk', y='Returns', c='Shape', cmap='viridis', edgecolors='k', figsize=(10,8), grid=True)\n",
    "    plt.plot(tmp2['Risk'], tmp2['Returns'], label='Efficient Frontier', linewidth=5,color='red')\n",
    "    plt.scatter(max_shape['Risk'], max_shape['Returns'], label='Max_Shape', marker='*',s=500)\n",
    "    plt.scatter(min_risk['Risk'], min_risk['Returns'], label='Min_risk', marker='*', s=500)\n",
    "    plt.plot([0, max_shape['Risk'].iloc[0], 0.5], [rf, max_shape['Returns'].iloc[0], (max_shape['Returns'].iloc[0] - rf) / max_shape['Risk'].iloc[0] * 0.5 + rf], label='New EF', linewidth=2,color='green')\n",
    "    plt.xlabel('Risk')\n",
    "    plt.ylabel('Expected Return')\n",
    "    plt.title('Efficient Frontier Graph')\n",
    "    plt.legend()\n",
    "    plt.show()"
   ]
  },
  {
   "cell_type": "code",
   "execution_count": 23,
   "metadata": {},
   "outputs": [
    {
     "data": {
      "image/png": "[encoded data removed]",
      "text/plain": [
       "<Figure size 1000x800 with 2 Axes>"
      ]
     },
     "metadata": {},
     "output_type": "display_data"
    }
   ],
   "source": [
    "show_CAPM(df,tmp2,max_shape,min_risk,rf=0.035)"
   ]
  },
  {
   "cell_type": "code",
   "execution_count": 24,
   "metadata": {},
   "outputs": [],
   "source": [
    "def show_portfolio(max_shape):\n",
    "    import plotly.graph_objects as go\n",
    "    from plotly.subplots import make_subplots\n",
    "    import sympy\n",
    "    exp_ret = float(input(\"원하는 기대수익률은 얼마인가?\"))/100\n",
    "    w = sympy.Symbol('w')\n",
    "\n",
    "    equation = w*0.02 + (1-w)*max_shape['Returns'].values[0] - exp_ret\n",
    "\n",
    "    solution = sympy.solve(equation, w)\n",
    "    solution = float(solution[0])\n",
    "    if solution < 0 :\n",
    "        print(f\"차입 비중 : {-solution}\")\n",
    "        print(f\"이 경우 Risk : {(1-solution)*max_shape['Risk'].iloc[0]}\")\n",
    "    else : \n",
    "        print(f\"채권의 비중 : {solution}\")\n",
    "        print(f\"이 경우 Risk : {(1-solution)*max_shape['Risk'].iloc[0]}\")\n",
    "        \n",
    "    if solution >= 0:\n",
    "\n",
    "        fig = make_subplots(rows=1, cols=2, specs=[[{\"type\": \"pie\"}, {\"type\": \"pie\"}]],subplot_titles=(\"<b>포트폴리오\", f\"<b>기대수익을 위한 포트폴리오<br><sup>자기자본의 {solution*100:0.4}%만큼 채권투자</sup>\"))\n",
    "\n",
    "\n",
    "        fig.add_trace(go.Pie(\n",
    "            values=list(max_shape.values[0][-5:]),\n",
    "            labels=list(max_shape.columns[-5:]),\n",
    "            domain=dict(x=[0, 0.5]),\n",
    "            name=\"기존 포트폴리오\"),\n",
    "            row=1, col=1)\n",
    "\n",
    "        fig.add_trace(go.Pie(\n",
    "            values=list(max_shape.values[0][-5:]* (1-float(solution)))+[float(solution)] ,\n",
    "            labels=list(max_shape.columns[-5:]) + ['채권'],\n",
    "            domain=dict(x=[0.5, 1.0]),\n",
    "            name=\"기대수익 포트폴리오\"),\n",
    "            row=1, col=2)\n",
    "\n",
    "        fig.show()\n",
    "\n",
    "    else:\n",
    "        fig = make_subplots(rows=1, cols=2, specs=[[{\"type\": \"pie\"}, {\"type\": \"pie\"}]],subplot_titles=(\"<b>포트폴리오\", f\"<b>투자금 비중</b><br><sup>자기자본의 {-solution*100:0.4}%만큼 차입</sup>\"))\n",
    "\n",
    "\n",
    "        fig.add_trace(go.Pie(\n",
    "            values=list(max_shape.values[0][-5:]),\n",
    "            labels=list(max_shape.columns[-5:]),\n",
    "            domain=dict(x=[0, 0.5])),\n",
    "            row=1, col=1)\n",
    "\n",
    "        fig.add_trace(go.Pie(\n",
    "            values=[1/(1-solution),1-(1/(1-solution))] ,\n",
    "            labels=['자기자본','차입금'],\n",
    "            domain=dict(x=[0.5, 1.0])),\n",
    "            row=1, col=2)\n",
    "\n",
    "        fig.show()"
   ]
  },
  {
   "cell_type": "code",
   "execution_count": 26,
   "metadata": {},
   "outputs": [
    {
     "name": "stdout",
     "output_type": "stream",
     "text": [
      "채권의 비중 : 0.7217361670144788\n",
      "이 경우 Risk : 0.08146208803045077\n"
     ]
    },
    {
     "data": {
      "application/vnd.plotly.v1+json": {
       "config": {
        "plotlyServerURL": "https://plot.ly"
       },
       "data": [
        {
         "domain": {
          "x": [
           0,
           0.45
          ],
          "y": [
           0,
           1
          ]
         },
         "labels": [
          "POSCO홀딩스",
          "두산",
          "삼성전자",
          "SK하이닉스",
          "키움증권"
         ],
         "name": "기존 포트폴리오",
         "type": "pie",
         "values": [
          0.5727372107958709,
          0.12248803242955716,
          0.12008269576135838,
          0.17697434994449757,
          0.007717711068716007
         ]
        },
        {
         "domain": {
          "x": [
           0.55,
           1
          ],
          "y": [
           0,
           1
          ]
         },
         "labels": [
          "POSCO홀딩스",
          "두산",
          "삼성전자",
          "SK하이닉스",
          "키움증권",
          "채권"
         ],
         "name": "기대수익 포트폴리오",
         "type": "pie",
         "values": [
          0.15937205156949544,
          0.03408398939870339,
          0.03341467119778978,
          0.049245560955676844,
          0.002147559863855699,
          0.7217361670144788
         ]
        }
       ],
       "layout": {
        "annotations": [
         {
          "font": {
           "size": 16
          },
          "showarrow": false,
          "text": "<b>포트폴리오",
          "x": 0.225,
          "xanchor": "center",
          "xref": "paper",
          "y": 1,
          "yanchor": "bottom",
          "yref": "paper"
         },
         {
          "font": {
           "size": 16
          },
          "showarrow": false,
          "text": "<b>기대수익을 위한 포트폴리오<br><sup>자기자본의 72.17%만큼 채권투자</sup>",
          "x": 0.775,
          "xanchor": "center",
          "xref": "paper",
          "y": 1,
          "yanchor": "bottom",
          "yref": "paper"
         }
        ],
        "template": {
         "data": {
          "bar": [
           {
            "error_x": {
             "color": "#2a3f5f"
            },
            "error_y": {
             "color": "#2a3f5f"
            },
            "marker": {
             "line": {
              "color": "#E5ECF6",
              "width": 0.5
             },
             "pattern": {
              "fillmode": "overlay",
              "size": 10,
              "solidity": 0.2
             }
            },
            "type": "bar"
           }
          ],
          "barpolar": [
           {
            "marker": {
             "line": {
              "color": "#E5ECF6",
              "width": 0.5
             },
             "pattern": {
              "fillmode": "overlay",
              "size": 10,
              "solidity": 0.2
             }
            },
            "type": "barpolar"
           }
          ],
          "carpet": [
           {
            "aaxis": {
             "endlinecolor": "#2a3f5f",
             "gridcolor": "white",
             "linecolor": "white",
             "minorgridcolor": "white",
             "startlinecolor": "#2a3f5f"
            },
            "baxis": {
             "endlinecolor": "#2a3f5f",
             "gridcolor": "white",
             "linecolor": "white",
             "minorgridcolor": "white",
             "startlinecolor": "#2a3f5f"
            },
            "type": "carpet"
           }
          ],
          "choropleth": [
           {
            "colorbar": {
             "outlinewidth": 0,
             "ticks": ""
            },
            "type": "choropleth"
           }
          ],
          "contour": [
           {
            "colorbar": {
             "outlinewidth": 0,
             "ticks": ""
            },
            "colorscale": [
             [
              0,
              "#0d0887"
             ],
             [
              0.1111111111111111,
              "#46039f"
             ],
             [
              0.2222222222222222,
              "#7201a8"
             ],
             [
              0.3333333333333333,
              "#9c179e"
             ],
             [
              0.4444444444444444,
              "#bd3786"
             ],
             [
              0.5555555555555556,
              "#d8576b"
             ],
             [
              0.6666666666666666,
              "#ed7953"
             ],
             [
              0.7777777777777778,
              "#fb9f3a"
             ],
             [
              0.8888888888888888,
              "#fdca26"
             ],
             [
              1,
              "#f0f921"
             ]
            ],
            "type": "contour"
           }
          ],
          "contourcarpet": [
           {
            "colorbar": {
             "outlinewidth": 0,
             "ticks": ""
            },
            "type": "contourcarpet"
           }
          ],
          "heatmap": [
           {
            "colorbar": {
             "outlinewidth": 0,
             "ticks": ""
            },
            "colorscale": [
             [
              0,
              "#0d0887"
             ],
             [
              0.1111111111111111,
              "#46039f"
             ],
             [
              0.2222222222222222,
              "#7201a8"
             ],
             [
              0.3333333333333333,
              "#9c179e"
             ],
             [
              0.4444444444444444,
              "#bd3786"
             ],
             [
              0.5555555555555556,
              "#d8576b"
             ],
             [
              0.6666666666666666,
              "#ed7953"
             ],
             [
              0.7777777777777778,
              "#fb9f3a"
             ],
             [
              0.8888888888888888,
              "#fdca26"
             ],
             [
              1,
              "#f0f921"
             ]
            ],
            "type": "heatmap"
           }
          ],
          "heatmapgl": [
           {
            "colorbar": {
             "outlinewidth": 0,
             "ticks": ""
            },
            "colorscale": [
             [
              0,
              "#0d0887"
             ],
             [
              0.1111111111111111,
              "#46039f"
             ],
             [
              0.2222222222222222,
              "#7201a8"
             ],
             [
              0.3333333333333333,
              "#9c179e"
             ],
             [
              0.4444444444444444,
              "#bd3786"
             ],
             [
              0.5555555555555556,
              "#d8576b"
             ],
             [
              0.6666666666666666,
              "#ed7953"
             ],
             [
              0.7777777777777778,
              "#fb9f3a"
             ],
             [
              0.8888888888888888,
              "#fdca26"
             ],
             [
              1,
              "#f0f921"
             ]
            ],
            "type": "heatmapgl"
           }
          ],
          "histogram": [
           {
            "marker": {
             "pattern": {
              "fillmode": "overlay",
              "size": 10,
              "solidity": 0.2
             }
            },
            "type": "histogram"
           }
          ],
          "histogram2d": [
           {
            "colorbar": {
             "outlinewidth": 0,
             "ticks": ""
            },
            "colorscale": [
             [
              0,
              "#0d0887"
             ],
             [
              0.1111111111111111,
              "#46039f"
             ],
             [
              0.2222222222222222,
              "#7201a8"
             ],
             [
              0.3333333333333333,
              "#9c179e"
             ],
             [
              0.4444444444444444,
              "#bd3786"
             ],
             [
              0.5555555555555556,
              "#d8576b"
             ],
             [
              0.6666666666666666,
              "#ed7953"
             ],
             [
              0.7777777777777778,
              "#fb9f3a"
             ],
             [
              0.8888888888888888,
              "#fdca26"
             ],
             [
              1,
              "#f0f921"
             ]
            ],
            "type": "histogram2d"
           }
          ],
          "histogram2dcontour": [
           {
            "colorbar": {
             "outlinewidth": 0,
             "ticks": ""
            },
            "colorscale": [
             [
              0,
              "#0d0887"
             ],
             [
              0.1111111111111111,
              "#46039f"
             ],
             [
              0.2222222222222222,
              "#7201a8"
             ],
             [
              0.3333333333333333,
              "#9c179e"
             ],
             [
              0.4444444444444444,
              "#bd3786"
             ],
             [
              0.5555555555555556,
              "#d8576b"
             ],
             [
              0.6666666666666666,
              "#ed7953"
             ],
             [
              0.7777777777777778,
              "#fb9f3a"
             ],
             [
              0.8888888888888888,
              "#fdca26"
             ],
             [
              1,
              "#f0f921"
             ]
            ],
            "type": "histogram2dcontour"
           }
          ],
          "mesh3d": [
           {
            "colorbar": {
             "outlinewidth": 0,
             "ticks": ""
            },
            "type": "mesh3d"
           }
          ],
          "parcoords": [
           {
            "line": {
             "colorbar": {
              "outlinewidth": 0,
              "ticks": ""
             }
            },
            "type": "parcoords"
           }
          ],
          "pie": [
           {
            "automargin": true,
            "type": "pie"
           }
          ],
          "scatter": [
           {
            "fillpattern": {
             "fillmode": "overlay",
             "size": 10,
             "solidity": 0.2
            },
            "type": "scatter"
           }
          ],
          "scatter3d": [
           {
            "line": {
             "colorbar": {
              "outlinewidth": 0,
              "ticks": ""
             }
            },
            "marker": {
             "colorbar": {
              "outlinewidth": 0,
              "ticks": ""
             }
            },
            "type": "scatter3d"
           }
          ],
          "scattercarpet": [
           {
            "marker": {
             "colorbar": {
              "outlinewidth": 0,
              "ticks": ""
             }
            },
            "type": "scattercarpet"
           }
          ],
          "scattergeo": [
           {
            "marker": {
             "colorbar": {
              "outlinewidth": 0,
              "ticks": ""
             }
            },
            "type": "scattergeo"
           }
          ],
          "scattergl": [
           {
            "marker": {
             "colorbar": {
              "outlinewidth": 0,
              "ticks": ""
             }
            },
            "type": "scattergl"
           }
          ],
          "scattermapbox": [
           {
            "marker": {
             "colorbar": {
              "outlinewidth": 0,
              "ticks": ""
             }
            },
            "type": "scattermapbox"
           }
          ],
          "scatterpolar": [
           {
            "marker": {
             "colorbar": {
              "outlinewidth": 0,
              "ticks": ""
             }
            },
            "type": "scatterpolar"
           }
          ],
          "scatterpolargl": [
           {
            "marker": {
             "colorbar": {
              "outlinewidth": 0,
              "ticks": ""
             }
            },
            "type": "scatterpolargl"
           }
          ],
          "scatterternary": [
           {
            "marker": {
             "colorbar": {
              "outlinewidth": 0,
              "ticks": ""
             }
            },
            "type": "scatterternary"
           }
          ],
          "surface": [
           {
            "colorbar": {
             "outlinewidth": 0,
             "ticks": ""
            },
            "colorscale": [
             [
              0,
              "#0d0887"
             ],
             [
              0.1111111111111111,
              "#46039f"
             ],
             [
              0.2222222222222222,
              "#7201a8"
             ],
             [
              0.3333333333333333,
              "#9c179e"
             ],
             [
              0.4444444444444444,
              "#bd3786"
             ],
             [
              0.5555555555555556,
              "#d8576b"
             ],
             [
              0.6666666666666666,
              "#ed7953"
             ],
             [
              0.7777777777777778,
              "#fb9f3a"
             ],
             [
              0.8888888888888888,
              "#fdca26"
             ],
             [
              1,
              "#f0f921"
             ]
            ],
            "type": "surface"
           }
          ],
          "table": [
           {
            "cells": {
             "fill": {
              "color": "#EBF0F8"
             },
             "line": {
              "color": "white"
             }
            },
            "header": {
             "fill": {
              "color": "#C8D4E3"
             },
             "line": {
              "color": "white"
             }
            },
            "type": "table"
           }
          ]
         },
         "layout": {
          "annotationdefaults": {
           "arrowcolor": "#2a3f5f",
           "arrowhead": 0,
           "arrowwidth": 1
          },
          "autotypenumbers": "strict",
          "coloraxis": {
           "colorbar": {
            "outlinewidth": 0,
            "ticks": ""
           }
          },
          "colorscale": {
           "diverging": [
            [
             0,
             "#8e0152"
            ],
            [
             0.1,
             "#c51b7d"
            ],
            [
             0.2,
             "#de77ae"
            ],
            [
             0.3,
             "#f1b6da"
            ],
            [
             0.4,
             "#fde0ef"
            ],
            [
             0.5,
             "#f7f7f7"
            ],
            [
             0.6,
             "#e6f5d0"
            ],
            [
             0.7,
             "#b8e186"
            ],
            [
             0.8,
             "#7fbc41"
            ],
            [
             0.9,
             "#4d9221"
            ],
            [
             1,
             "#276419"
            ]
           ],
           "sequential": [
            [
             0,
             "#0d0887"
            ],
            [
             0.1111111111111111,
             "#46039f"
            ],
            [
             0.2222222222222222,
             "#7201a8"
            ],
            [
             0.3333333333333333,
             "#9c179e"
            ],
            [
             0.4444444444444444,
             "#bd3786"
            ],
            [
             0.5555555555555556,
             "#d8576b"
            ],
            [
             0.6666666666666666,
             "#ed7953"
            ],
            [
             0.7777777777777778,
             "#fb9f3a"
            ],
            [
             0.8888888888888888,
             "#fdca26"
            ],
            [
             1,
             "#f0f921"
            ]
           ],
           "sequentialminus": [
            [
             0,
             "#0d0887"
            ],
            [
             0.1111111111111111,
             "#46039f"
            ],
            [
             0.2222222222222222,
             "#7201a8"
            ],
            [
             0.3333333333333333,
             "#9c179e"
            ],
            [
             0.4444444444444444,
             "#bd3786"
            ],
            [
             0.5555555555555556,
             "#d8576b"
            ],
            [
             0.6666666666666666,
             "#ed7953"
            ],
            [
             0.7777777777777778,
             "#fb9f3a"
            ],
            [
             0.8888888888888888,
             "#fdca26"
            ],
            [
             1,
             "#f0f921"
            ]
           ]
          },
          "colorway": [
           "#636efa",
           "#EF553B",
           "#00cc96",
           "#ab63fa",
           "#FFA15A",
           "#19d3f3",
           "#FF6692",
           "#B6E880",
           "#FF97FF",
           "#FECB52"
          ],
          "font": {
           "color": "#2a3f5f"
          },
          "geo": {
           "bgcolor": "white",
           "lakecolor": "white",
           "landcolor": "#E5ECF6",
           "showlakes": true,
           "showland": true,
           "subunitcolor": "white"
          },
          "hoverlabel": {
           "align": "left"
          },
          "hovermode": "closest",
          "mapbox": {
           "style": "light"
          },
          "paper_bgcolor": "white",
          "plot_bgcolor": "#E5ECF6",
          "polar": {
           "angularaxis": {
            "gridcolor": "white",
            "linecolor": "white",
            "ticks": ""
           },
           "bgcolor": "#E5ECF6",
           "radialaxis": {
            "gridcolor": "white",
            "linecolor": "white",
            "ticks": ""
           }
          },
          "scene": {
           "xaxis": {
            "backgroundcolor": "#E5ECF6",
            "gridcolor": "white",
            "gridwidth": 2,
            "linecolor": "white",
            "showbackground": true,
            "ticks": "",
            "zerolinecolor": "white"
           },
           "yaxis": {
            "backgroundcolor": "#E5ECF6",
            "gridcolor": "white",
            "gridwidth": 2,
            "linecolor": "white",
            "showbackground": true,
            "ticks": "",
            "zerolinecolor": "white"
           },
           "zaxis": {
            "backgroundcolor": "#E5ECF6",
            "gridcolor": "white",
            "gridwidth": 2,
            "linecolor": "white",
            "showbackground": true,
            "ticks": "",
            "zerolinecolor": "white"
           }
          },
          "shapedefaults": {
           "line": {
            "color": "#2a3f5f"
           }
          },
          "ternary": {
           "aaxis": {
            "gridcolor": "white",
            "linecolor": "white",
            "ticks": ""
           },
           "baxis": {
            "gridcolor": "white",
            "linecolor": "white",
            "ticks": ""
           },
           "bgcolor": "#E5ECF6",
           "caxis": {
            "gridcolor": "white",
            "linecolor": "white",
            "ticks": ""
           }
          },
          "title": {
           "x": 0.05
          },
          "xaxis": {
           "automargin": true,
           "gridcolor": "white",
           "linecolor": "white",
           "ticks": "",
           "title": {
            "standoff": 15
           },
           "zerolinecolor": "white",
           "zerolinewidth": 2
          },
          "yaxis": {
           "automargin": true,
           "gridcolor": "white",
           "linecolor": "white",
           "ticks": "",
           "title": {
            "standoff": 15
           },
           "zerolinecolor": "white",
           "zerolinewidth": 2
          }
         }
        }
       }
      }
     },
     "metadata": {},
     "output_type": "display_data"
    }
   ],
   "source": [
    "show_portfolio(max_shape)"
   ]
  },
  {
   "cell_type": "code",
   "execution_count": 27,
   "metadata": {},
   "outputs": [],
   "source": [
    "def geometric_brownian_motion(tmp,S0, T=100, dt=1/100):\n",
    "    \"\"\"\n",
    "    S0: 초기값\n",
    "    mu: 평균\n",
    "    sigma: 표준 편차\n",
    "    T: 시뮬레이션 시간\n",
    "    dt: 시간 간격\n",
    "    \"\"\"\n",
    "\n",
    "    # Brownian motion\n",
    "    W = np.random.normal(0, 1, (T, 1))\n",
    "\n",
    "    daily_returns = tmp.pct_change().dropna()\n",
    "\n",
    "    # 연간 수익률\n",
    "    mean_return = daily_returns.mean()\n",
    "    annual_return =((1 + mean_return) ** T) - 1\n",
    "\n",
    "    # 변동성 계산\n",
    "    mu = annual_return/T\n",
    "    sigma = daily_returns.std()\n",
    "    \n",
    "    X = np.zeros((T, 1))\n",
    "    X[0] = S0\n",
    "    for t in range(1, T):\n",
    "        X[t] = X[t - 1] * np.exp((mu - sigma ** 2 / 2) * dt + sigma * W[t])\n",
    "\n",
    "    return X\n",
    "    \n",
    "def monte_sim(sim_num,tmp,stocks,stock_money,day=100):\n",
    "    sim_num = sim_num\n",
    "    balance_df = pd.DataFrame(np.zeros((sim_num,day)))\n",
    "    for i in range(len(stocks)):\n",
    "        X = []\n",
    "        for k in range(sim_num):\n",
    "            X.append(geometric_brownian_motion(tmp[stocks[i]],stock_money[stocks[i]].iloc[0]))\n",
    "        balance_df += pd.DataFrame(np.array(X).reshape(sim_num,day))\n",
    "    return balance_df.T"
   ]
  },
  {
   "cell_type": "code",
   "execution_count": 28,
   "metadata": {},
   "outputs": [
    {
     "data": {
      "text/html": [
       "<div>\n",
       "<style scoped>\n",
       "    .dataframe tbody tr th:only-of-type {\n",
       "        vertical-align: middle;\n",
       "    }\n",
       "\n",
       "    .dataframe tbody tr th {\n",
       "        vertical-align: top;\n",
       "    }\n",
       "\n",
       "    .dataframe thead th {\n",
       "        text-align: right;\n",
       "    }\n",
       "</style>\n",
       "<table border=\"1\" class=\"dataframe\">\n",
       "  <thead>\n",
       "    <tr style=\"text-align: right;\">\n",
       "      <th></th>\n",
       "      <th>POSCO홀딩스</th>\n",
       "      <th>두산</th>\n",
       "      <th>삼성전자</th>\n",
       "      <th>SK하이닉스</th>\n",
       "      <th>키움증권</th>\n",
       "    </tr>\n",
       "  </thead>\n",
       "  <tbody>\n",
       "    <tr>\n",
       "      <th>16685</th>\n",
       "      <td>572737.210796</td>\n",
       "      <td>122488.03243</td>\n",
       "      <td>120082.695761</td>\n",
       "      <td>176974.349944</td>\n",
       "      <td>7717.711069</td>\n",
       "    </tr>\n",
       "  </tbody>\n",
       "</table>\n",
       "</div>"
      ],
      "text/plain": [
       "            POSCO홀딩스            두산           삼성전자         SK하이닉스         키움증권\n",
       "16685  572737.210796  122488.03243  120082.695761  176974.349944  7717.711069"
      ]
     },
     "execution_count": 28,
     "metadata": {},
     "output_type": "execute_result"
    }
   ],
   "source": [
    "balance = 1000000\n",
    "stock_money = max_shape[max_shape.columns[3:]]*balance\n",
    "stock_money"
   ]
  },
  {
   "cell_type": "code",
   "execution_count": 29,
   "metadata": {},
   "outputs": [
    {
     "data": {
      "text/html": [
       "<div>\n",
       "<style scoped>\n",
       "    .dataframe tbody tr th:only-of-type {\n",
       "        vertical-align: middle;\n",
       "    }\n",
       "\n",
       "    .dataframe tbody tr th {\n",
       "        vertical-align: top;\n",
       "    }\n",
       "\n",
       "    .dataframe thead th {\n",
       "        text-align: right;\n",
       "    }\n",
       "</style>\n",
       "<table border=\"1\" class=\"dataframe\">\n",
       "  <thead>\n",
       "    <tr style=\"text-align: right;\">\n",
       "      <th></th>\n",
       "      <th>0</th>\n",
       "      <th>1</th>\n",
       "      <th>2</th>\n",
       "      <th>3</th>\n",
       "      <th>4</th>\n",
       "      <th>5</th>\n",
       "      <th>6</th>\n",
       "      <th>7</th>\n",
       "      <th>8</th>\n",
       "      <th>9</th>\n",
       "      <th>...</th>\n",
       "      <th>990</th>\n",
       "      <th>991</th>\n",
       "      <th>992</th>\n",
       "      <th>993</th>\n",
       "      <th>994</th>\n",
       "      <th>995</th>\n",
       "      <th>996</th>\n",
       "      <th>997</th>\n",
       "      <th>998</th>\n",
       "      <th>999</th>\n",
       "    </tr>\n",
       "  </thead>\n",
       "  <tbody>\n",
       "    <tr>\n",
       "      <th>0</th>\n",
       "      <td>1.000000e+06</td>\n",
       "      <td>1000000.000000</td>\n",
       "      <td>1.000000e+06</td>\n",
       "      <td>1.000000e+06</td>\n",
       "      <td>1.000000e+06</td>\n",
       "      <td>1.000000e+06</td>\n",
       "      <td>1.000000e+06</td>\n",
       "      <td>1.000000e+06</td>\n",
       "      <td>1.000000e+06</td>\n",
       "      <td>1.000000e+06</td>\n",
       "      <td>...</td>\n",
       "      <td>1.000000e+06</td>\n",
       "      <td>1.000000e+06</td>\n",
       "      <td>1.000000e+06</td>\n",
       "      <td>1.000000e+06</td>\n",
       "      <td>1000000.000000</td>\n",
       "      <td>1.000000e+06</td>\n",
       "      <td>1000000.000000</td>\n",
       "      <td>1.000000e+06</td>\n",
       "      <td>1.000000e+06</td>\n",
       "      <td>1.000000e+06</td>\n",
       "    </tr>\n",
       "    <tr>\n",
       "      <th>1</th>\n",
       "      <td>9.982516e+05</td>\n",
       "      <td>997389.341814</td>\n",
       "      <td>1.004058e+06</td>\n",
       "      <td>1.008012e+06</td>\n",
       "      <td>9.868871e+05</td>\n",
       "      <td>1.003931e+06</td>\n",
       "      <td>1.021447e+06</td>\n",
       "      <td>1.039146e+06</td>\n",
       "      <td>9.856132e+05</td>\n",
       "      <td>1.010401e+06</td>\n",
       "      <td>...</td>\n",
       "      <td>1.001767e+06</td>\n",
       "      <td>9.991631e+05</td>\n",
       "      <td>1.000550e+06</td>\n",
       "      <td>9.979395e+05</td>\n",
       "      <td>987897.895486</td>\n",
       "      <td>9.939923e+05</td>\n",
       "      <td>954307.101001</td>\n",
       "      <td>9.829250e+05</td>\n",
       "      <td>9.912998e+05</td>\n",
       "      <td>9.953871e+05</td>\n",
       "    </tr>\n",
       "    <tr>\n",
       "      <th>2</th>\n",
       "      <td>1.016064e+06</td>\n",
       "      <td>973301.607611</td>\n",
       "      <td>1.000233e+06</td>\n",
       "      <td>1.002967e+06</td>\n",
       "      <td>9.689073e+05</td>\n",
       "      <td>1.035241e+06</td>\n",
       "      <td>9.984584e+05</td>\n",
       "      <td>1.038072e+06</td>\n",
       "      <td>9.776319e+05</td>\n",
       "      <td>9.825336e+05</td>\n",
       "      <td>...</td>\n",
       "      <td>1.013509e+06</td>\n",
       "      <td>1.012181e+06</td>\n",
       "      <td>1.002516e+06</td>\n",
       "      <td>1.033794e+06</td>\n",
       "      <td>964467.069565</td>\n",
       "      <td>9.743152e+05</td>\n",
       "      <td>977762.311443</td>\n",
       "      <td>9.952713e+05</td>\n",
       "      <td>1.014960e+06</td>\n",
       "      <td>1.023898e+06</td>\n",
       "    </tr>\n",
       "    <tr>\n",
       "      <th>3</th>\n",
       "      <td>9.996812e+05</td>\n",
       "      <td>957624.415519</td>\n",
       "      <td>9.895313e+05</td>\n",
       "      <td>9.723740e+05</td>\n",
       "      <td>9.562367e+05</td>\n",
       "      <td>1.035650e+06</td>\n",
       "      <td>1.028021e+06</td>\n",
       "      <td>1.052677e+06</td>\n",
       "      <td>9.567904e+05</td>\n",
       "      <td>1.018341e+06</td>\n",
       "      <td>...</td>\n",
       "      <td>9.929598e+05</td>\n",
       "      <td>1.019909e+06</td>\n",
       "      <td>9.971355e+05</td>\n",
       "      <td>1.075992e+06</td>\n",
       "      <td>975519.136631</td>\n",
       "      <td>9.941634e+05</td>\n",
       "      <td>960946.992211</td>\n",
       "      <td>9.807359e+05</td>\n",
       "      <td>1.037822e+06</td>\n",
       "      <td>1.069231e+06</td>\n",
       "    </tr>\n",
       "    <tr>\n",
       "      <th>4</th>\n",
       "      <td>9.773391e+05</td>\n",
       "      <td>975523.813058</td>\n",
       "      <td>9.750567e+05</td>\n",
       "      <td>9.517540e+05</td>\n",
       "      <td>9.753706e+05</td>\n",
       "      <td>1.036475e+06</td>\n",
       "      <td>1.048064e+06</td>\n",
       "      <td>1.048976e+06</td>\n",
       "      <td>9.528248e+05</td>\n",
       "      <td>1.048338e+06</td>\n",
       "      <td>...</td>\n",
       "      <td>9.884892e+05</td>\n",
       "      <td>1.032724e+06</td>\n",
       "      <td>1.020621e+06</td>\n",
       "      <td>1.058838e+06</td>\n",
       "      <td>992679.457929</td>\n",
       "      <td>1.018783e+06</td>\n",
       "      <td>979083.712042</td>\n",
       "      <td>9.591334e+05</td>\n",
       "      <td>1.029632e+06</td>\n",
       "      <td>1.042066e+06</td>\n",
       "    </tr>\n",
       "    <tr>\n",
       "      <th>...</th>\n",
       "      <td>...</td>\n",
       "      <td>...</td>\n",
       "      <td>...</td>\n",
       "      <td>...</td>\n",
       "      <td>...</td>\n",
       "      <td>...</td>\n",
       "      <td>...</td>\n",
       "      <td>...</td>\n",
       "      <td>...</td>\n",
       "      <td>...</td>\n",
       "      <td>...</td>\n",
       "      <td>...</td>\n",
       "      <td>...</td>\n",
       "      <td>...</td>\n",
       "      <td>...</td>\n",
       "      <td>...</td>\n",
       "      <td>...</td>\n",
       "      <td>...</td>\n",
       "      <td>...</td>\n",
       "      <td>...</td>\n",
       "      <td>...</td>\n",
       "    </tr>\n",
       "    <tr>\n",
       "      <th>95</th>\n",
       "      <td>9.601512e+05</td>\n",
       "      <td>747862.976978</td>\n",
       "      <td>9.263264e+05</td>\n",
       "      <td>1.133519e+06</td>\n",
       "      <td>1.043127e+06</td>\n",
       "      <td>1.062289e+06</td>\n",
       "      <td>1.378117e+06</td>\n",
       "      <td>8.191460e+05</td>\n",
       "      <td>1.183500e+06</td>\n",
       "      <td>9.941834e+05</td>\n",
       "      <td>...</td>\n",
       "      <td>1.331518e+06</td>\n",
       "      <td>7.897380e+05</td>\n",
       "      <td>6.330393e+05</td>\n",
       "      <td>1.269999e+06</td>\n",
       "      <td>819095.843891</td>\n",
       "      <td>9.526890e+05</td>\n",
       "      <td>823855.103725</td>\n",
       "      <td>9.496863e+05</td>\n",
       "      <td>9.383259e+05</td>\n",
       "      <td>1.322173e+06</td>\n",
       "    </tr>\n",
       "    <tr>\n",
       "      <th>96</th>\n",
       "      <td>9.462842e+05</td>\n",
       "      <td>748462.312670</td>\n",
       "      <td>9.275164e+05</td>\n",
       "      <td>1.113963e+06</td>\n",
       "      <td>1.037764e+06</td>\n",
       "      <td>1.077746e+06</td>\n",
       "      <td>1.329884e+06</td>\n",
       "      <td>8.353937e+05</td>\n",
       "      <td>1.177827e+06</td>\n",
       "      <td>9.856725e+05</td>\n",
       "      <td>...</td>\n",
       "      <td>1.330071e+06</td>\n",
       "      <td>7.896039e+05</td>\n",
       "      <td>6.269556e+05</td>\n",
       "      <td>1.295644e+06</td>\n",
       "      <td>845995.272684</td>\n",
       "      <td>9.579916e+05</td>\n",
       "      <td>831999.259689</td>\n",
       "      <td>9.481176e+05</td>\n",
       "      <td>9.410453e+05</td>\n",
       "      <td>1.338534e+06</td>\n",
       "    </tr>\n",
       "    <tr>\n",
       "      <th>97</th>\n",
       "      <td>9.337018e+05</td>\n",
       "      <td>724475.984179</td>\n",
       "      <td>9.402288e+05</td>\n",
       "      <td>1.122128e+06</td>\n",
       "      <td>1.045676e+06</td>\n",
       "      <td>1.110030e+06</td>\n",
       "      <td>1.260123e+06</td>\n",
       "      <td>8.292960e+05</td>\n",
       "      <td>1.196935e+06</td>\n",
       "      <td>9.870083e+05</td>\n",
       "      <td>...</td>\n",
       "      <td>1.290894e+06</td>\n",
       "      <td>7.686290e+05</td>\n",
       "      <td>6.344315e+05</td>\n",
       "      <td>1.303438e+06</td>\n",
       "      <td>830347.319497</td>\n",
       "      <td>9.516486e+05</td>\n",
       "      <td>848624.478694</td>\n",
       "      <td>9.987177e+05</td>\n",
       "      <td>9.259952e+05</td>\n",
       "      <td>1.265702e+06</td>\n",
       "    </tr>\n",
       "    <tr>\n",
       "      <th>98</th>\n",
       "      <td>9.316433e+05</td>\n",
       "      <td>713728.674555</td>\n",
       "      <td>9.410196e+05</td>\n",
       "      <td>1.097559e+06</td>\n",
       "      <td>1.053371e+06</td>\n",
       "      <td>1.080277e+06</td>\n",
       "      <td>1.289449e+06</td>\n",
       "      <td>8.105554e+05</td>\n",
       "      <td>1.161799e+06</td>\n",
       "      <td>9.780716e+05</td>\n",
       "      <td>...</td>\n",
       "      <td>1.319150e+06</td>\n",
       "      <td>7.695313e+05</td>\n",
       "      <td>6.322662e+05</td>\n",
       "      <td>1.271848e+06</td>\n",
       "      <td>862031.944723</td>\n",
       "      <td>9.397171e+05</td>\n",
       "      <td>856715.991526</td>\n",
       "      <td>9.974041e+05</td>\n",
       "      <td>9.098274e+05</td>\n",
       "      <td>1.255605e+06</td>\n",
       "    </tr>\n",
       "    <tr>\n",
       "      <th>99</th>\n",
       "      <td>9.113429e+05</td>\n",
       "      <td>742049.818423</td>\n",
       "      <td>9.383138e+05</td>\n",
       "      <td>1.101015e+06</td>\n",
       "      <td>1.037912e+06</td>\n",
       "      <td>1.072607e+06</td>\n",
       "      <td>1.267156e+06</td>\n",
       "      <td>8.187479e+05</td>\n",
       "      <td>1.175388e+06</td>\n",
       "      <td>9.879139e+05</td>\n",
       "      <td>...</td>\n",
       "      <td>1.345918e+06</td>\n",
       "      <td>7.648685e+05</td>\n",
       "      <td>6.340799e+05</td>\n",
       "      <td>1.258159e+06</td>\n",
       "      <td>830041.499638</td>\n",
       "      <td>9.321024e+05</td>\n",
       "      <td>845515.790054</td>\n",
       "      <td>1.002392e+06</td>\n",
       "      <td>9.060462e+05</td>\n",
       "      <td>1.228711e+06</td>\n",
       "    </tr>\n",
       "  </tbody>\n",
       "</table>\n",
       "<p>100 rows × 1000 columns</p>\n",
       "</div>"
      ],
      "text/plain": [
       "             0               1             2             3             4    \\\n",
       "0   1.000000e+06  1000000.000000  1.000000e+06  1.000000e+06  1.000000e+06   \n",
       "1   9.982516e+05   997389.341814  1.004058e+06  1.008012e+06  9.868871e+05   \n",
       "2   1.016064e+06   973301.607611  1.000233e+06  1.002967e+06  9.689073e+05   \n",
       "3   9.996812e+05   957624.415519  9.895313e+05  9.723740e+05  9.562367e+05   \n",
       "4   9.773391e+05   975523.813058  9.750567e+05  9.517540e+05  9.753706e+05   \n",
       "..           ...             ...           ...           ...           ...   \n",
       "95  9.601512e+05   747862.976978  9.263264e+05  1.133519e+06  1.043127e+06   \n",
       "96  9.462842e+05   748462.312670  9.275164e+05  1.113963e+06  1.037764e+06   \n",
       "97  9.337018e+05   724475.984179  9.402288e+05  1.122128e+06  1.045676e+06   \n",
       "98  9.316433e+05   713728.674555  9.410196e+05  1.097559e+06  1.053371e+06   \n",
       "99  9.113429e+05   742049.818423  9.383138e+05  1.101015e+06  1.037912e+06   \n",
       "\n",
       "             5             6             7             8             9    ...  \\\n",
       "0   1.000000e+06  1.000000e+06  1.000000e+06  1.000000e+06  1.000000e+06  ...   \n",
       "1   1.003931e+06  1.021447e+06  1.039146e+06  9.856132e+05  1.010401e+06  ...   \n",
       "2   1.035241e+06  9.984584e+05  1.038072e+06  9.776319e+05  9.825336e+05  ...   \n",
       "3   1.035650e+06  1.028021e+06  1.052677e+06  9.567904e+05  1.018341e+06  ...   \n",
       "4   1.036475e+06  1.048064e+06  1.048976e+06  9.528248e+05  1.048338e+06  ...   \n",
       "..           ...           ...           ...           ...           ...  ...   \n",
       "95  1.062289e+06  1.378117e+06  8.191460e+05  1.183500e+06  9.941834e+05  ...   \n",
       "96  1.077746e+06  1.329884e+06  8.353937e+05  1.177827e+06  9.856725e+05  ...   \n",
       "97  1.110030e+06  1.260123e+06  8.292960e+05  1.196935e+06  9.870083e+05  ...   \n",
       "98  1.080277e+06  1.289449e+06  8.105554e+05  1.161799e+06  9.780716e+05  ...   \n",
       "99  1.072607e+06  1.267156e+06  8.187479e+05  1.175388e+06  9.879139e+05  ...   \n",
       "\n",
       "             990           991           992           993             994  \\\n",
       "0   1.000000e+06  1.000000e+06  1.000000e+06  1.000000e+06  1000000.000000   \n",
       "1   1.001767e+06  9.991631e+05  1.000550e+06  9.979395e+05   987897.895486   \n",
       "2   1.013509e+06  1.012181e+06  1.002516e+06  1.033794e+06   964467.069565   \n",
       "3   9.929598e+05  1.019909e+06  9.971355e+05  1.075992e+06   975519.136631   \n",
       "4   9.884892e+05  1.032724e+06  1.020621e+06  1.058838e+06   992679.457929   \n",
       "..           ...           ...           ...           ...             ...   \n",
       "95  1.331518e+06  7.897380e+05  6.330393e+05  1.269999e+06   819095.843891   \n",
       "96  1.330071e+06  7.896039e+05  6.269556e+05  1.295644e+06   845995.272684   \n",
       "97  1.290894e+06  7.686290e+05  6.344315e+05  1.303438e+06   830347.319497   \n",
       "98  1.319150e+06  7.695313e+05  6.322662e+05  1.271848e+06   862031.944723   \n",
       "99  1.345918e+06  7.648685e+05  6.340799e+05  1.258159e+06   830041.499638   \n",
       "\n",
       "             995             996           997           998           999  \n",
       "0   1.000000e+06  1000000.000000  1.000000e+06  1.000000e+06  1.000000e+06  \n",
       "1   9.939923e+05   954307.101001  9.829250e+05  9.912998e+05  9.953871e+05  \n",
       "2   9.743152e+05   977762.311443  9.952713e+05  1.014960e+06  1.023898e+06  \n",
       "3   9.941634e+05   960946.992211  9.807359e+05  1.037822e+06  1.069231e+06  \n",
       "4   1.018783e+06   979083.712042  9.591334e+05  1.029632e+06  1.042066e+06  \n",
       "..           ...             ...           ...           ...           ...  \n",
       "95  9.526890e+05   823855.103725  9.496863e+05  9.383259e+05  1.322173e+06  \n",
       "96  9.579916e+05   831999.259689  9.481176e+05  9.410453e+05  1.338534e+06  \n",
       "97  9.516486e+05   848624.478694  9.987177e+05  9.259952e+05  1.265702e+06  \n",
       "98  9.397171e+05   856715.991526  9.974041e+05  9.098274e+05  1.255605e+06  \n",
       "99  9.321024e+05   845515.790054  1.002392e+06  9.060462e+05  1.228711e+06  \n",
       "\n",
       "[100 rows x 1000 columns]"
      ]
     },
     "execution_count": 29,
     "metadata": {},
     "output_type": "execute_result"
    }
   ],
   "source": [
    "sim_num = 1000\n",
    "balance_df = monte_sim(sim_num,tmp,stocks,stock_money)\n",
    "balance_df"
   ]
  },
  {
   "cell_type": "code",
   "execution_count": 34,
   "metadata": {},
   "outputs": [
    {
     "data": {
      "image/png": "[encoded data removed]",
      "text/plain": [
       "<Figure size 640x480 with 1 Axes>"
      ]
     },
     "metadata": {},
     "output_type": "display_data"
    }
   ],
   "source": [
    "plt.hist(balance_df.iloc[99])\n",
    "plt.show()"
   ]
  },
  {
   "cell_type": "code",
   "execution_count": 38,
   "metadata": {},
   "outputs": [
    {
     "data": {
      "text/html": [
       "<div>\n",
       "<style scoped>\n",
       "    .dataframe tbody tr th:only-of-type {\n",
       "        vertical-align: middle;\n",
       "    }\n",
       "\n",
       "    .dataframe tbody tr th {\n",
       "        vertical-align: top;\n",
       "    }\n",
       "\n",
       "    .dataframe thead th {\n",
       "        text-align: right;\n",
       "    }\n",
       "</style>\n",
       "<table border=\"1\" class=\"dataframe\">\n",
       "  <thead>\n",
       "    <tr style=\"text-align: right;\">\n",
       "      <th></th>\n",
       "      <th>포트폴리오가치</th>\n",
       "    </tr>\n",
       "  </thead>\n",
       "  <tbody>\n",
       "    <tr>\n",
       "      <th>50%</th>\n",
       "      <td>1,026,177.87</td>\n",
       "    </tr>\n",
       "    <tr>\n",
       "      <th>90%</th>\n",
       "      <td>1,286,422.87</td>\n",
       "    </tr>\n",
       "  </tbody>\n",
       "</table>\n",
       "</div>"
      ],
      "text/plain": [
       "         포트폴리오가치\n",
       "50% 1,026,177.87\n",
       "90% 1,286,422.87"
      ]
     },
     "execution_count": 38,
     "metadata": {},
     "output_type": "execute_result"
    }
   ],
   "source": [
    "pd.set_option('display.float_format', lambda x: f'{x:,.2f}') \n",
    "pd.DataFrame(balance_df.iloc[99].quantile([0.5,0.9]).to_numpy(),columns=['포트폴리오가치'],index=['50%','90%'])"
   ]
  },
  {
   "cell_type": "code",
   "execution_count": null,
   "metadata": {},
   "outputs": [],
   "source": []
  }
 ],
 "metadata": {
  "kernelspec": {
   "display_name": "elec",
   "language": "python",
   "name": "python3"
  },
  "language_info": {
   "codemirror_mode": {
    "name": "ipython",
    "version": 3
   },
   "file_extension": ".py",
   "mimetype": "text/x-python",
   "name": "python",
   "nbconvert_exporter": "python",
   "pygments_lexer": "ipython3",
   "version": "3.11.4"
  },
  "orig_nbformat": 4
 },
 "nbformat": 4,
 "nbformat_minor": 2
}
