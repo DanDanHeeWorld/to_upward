{
 "cells": [
  {
   "cell_type": "code",
   "execution_count": 1,
   "metadata": {},
   "outputs": [
    {
     "name": "stderr",
     "output_type": "stream",
     "text": [
      "/opt/homebrew/Caskroom/miniforge/base/envs/elec/lib/python3.11/site-packages/tqdm/auto.py:21: TqdmWarning: IProgress not found. Please update jupyter and ipywidgets. See https://ipywidgets.readthedocs.io/en/stable/user_install.html\n",
      "  from .autonotebook import tqdm as notebook_tqdm\n"
     ]
    }
   ],
   "source": [
    "import pandas as pd\n",
    "import numpy as np\n",
    "from tqdm.auto import tqdm\n",
    "import random\n",
    "import os\n",
    "from pykrx import stock\n",
    "import matplotlib.pyplot as plt\n",
    "import koreanize_matplotlib\n",
    "import warnings\n",
    "warnings.filterwarnings('ignore')\n",
    "import yfinance as yf\n",
    "\n",
    "def reset_seeds(seed):\n",
    "    random.seed(seed)\n",
    "    os.environ['PYTHONHASHSEED'] = str(seed)\n",
    "    np.random.seed(seed)\n",
    "\n",
    "DATA_PATH = \"/Users/idanhui/python-code/파이널 프로젝트/data/\"\n",
    "SEED = 42"
   ]
  },
  {
   "cell_type": "code",
   "execution_count": 2,
   "metadata": {},
   "outputs": [],
   "source": [
    "import to_upward"
   ]
  },
  {
   "cell_type": "code",
   "execution_count": 3,
   "metadata": {},
   "outputs": [],
   "source": [
    "data = pd.read_csv(f\"{DATA_PATH}labeled_data_final.csv\")\n",
    "def pad_str(str_list, target_len):\n",
    "\n",
    "  padded_str_list = []\n",
    "  for str in str_list:\n",
    "    if len(str) < target_len:\n",
    "      padded_str = \"0\" * (target_len - len(str)) + str\n",
    "    else:\n",
    "      padded_str = str\n",
    "    padded_str_list.append(padded_str)\n",
    "  return padded_str_list\n",
    "str_list = data.Code.astype(str).to_list()\n",
    "target_len = 6\n",
    "padded_str_list = pad_str(str_list, target_len)\n",
    "\n",
    "data.Code = padded_str_list"
   ]
  },
  {
   "cell_type": "code",
   "execution_count": 4,
   "metadata": {},
   "outputs": [
    {
     "name": "stdout",
     "output_type": "stream",
     "text": [
      "20220912 20230912\n"
     ]
    }
   ],
   "source": [
    "import datetime as dt\n",
    "end_03 = dt.datetime(2023,3,1).strftime(\"%Y%m%d\")\n",
    "start_03 = (dt.datetime.today().date() - dt.timedelta(365)).strftime(\"%Y%m%d\")\n",
    "end = dt.datetime.today().date().strftime(\"%Y%m%d\")\n",
    "start = (dt.datetime.today().date() - dt.timedelta(365)).strftime(\"%Y%m%d\")\n",
    "# end = dt.datetime(2022,12,31).strftime(\"%Y%m%d\")\n",
    "# start = (dt.datetime(2022,12,31) - dt.timedelta(180)).strftime(\"%Y%m%d\")\n",
    "print(start,end)"
   ]
  },
  {
   "cell_type": "code",
   "execution_count": 5,
   "metadata": {},
   "outputs": [
    {
     "data": {
      "text/html": [
       "<div>\n",
       "<style scoped>\n",
       "    .dataframe tbody tr th:only-of-type {\n",
       "        vertical-align: middle;\n",
       "    }\n",
       "\n",
       "    .dataframe tbody tr th {\n",
       "        vertical-align: top;\n",
       "    }\n",
       "\n",
       "    .dataframe thead th {\n",
       "        text-align: right;\n",
       "    }\n",
       "</style>\n",
       "<table border=\"1\" class=\"dataframe\">\n",
       "  <thead>\n",
       "    <tr style=\"text-align: right;\">\n",
       "      <th></th>\n",
       "      <th>Code</th>\n",
       "      <th>Name</th>\n",
       "      <th>Market</th>\n",
       "      <th>recommendationKey</th>\n",
       "      <th>sharesOutstanding</th>\n",
       "      <th>averageVolume10days</th>\n",
       "      <th>averageVolume</th>\n",
       "      <th>heldPercentInstitutions</th>\n",
       "      <th>shortRatio</th>\n",
       "      <th>sharesPercentSharesOut</th>\n",
       "      <th>...</th>\n",
       "      <th>5년평균dividendYield</th>\n",
       "      <th>EBITDAPS</th>\n",
       "      <th>동종업계_대비_PER</th>\n",
       "      <th>dividend</th>\n",
       "      <th>growth</th>\n",
       "      <th>value</th>\n",
       "      <th>business</th>\n",
       "      <th>finance</th>\n",
       "      <th>performance</th>\n",
       "      <th>volitality</th>\n",
       "    </tr>\n",
       "  </thead>\n",
       "  <tbody>\n",
       "    <tr>\n",
       "      <th>0</th>\n",
       "      <td>005930</td>\n",
       "      <td>삼성전자</td>\n",
       "      <td>KOSPI</td>\n",
       "      <td>4.0</td>\n",
       "      <td>5.969780e+09</td>\n",
       "      <td>15819172.0</td>\n",
       "      <td>13878613.0</td>\n",
       "      <td>0.47631</td>\n",
       "      <td>4.28</td>\n",
       "      <td>0.000124</td>\n",
       "      <td>...</td>\n",
       "      <td>2.870</td>\n",
       "      <td>12143.0</td>\n",
       "      <td>-1.04</td>\n",
       "      <td>C</td>\n",
       "      <td>C</td>\n",
       "      <td>D</td>\n",
       "      <td>B</td>\n",
       "      <td>F</td>\n",
       "      <td>A+</td>\n",
       "      <td>C</td>\n",
       "    </tr>\n",
       "    <tr>\n",
       "      <th>2</th>\n",
       "      <td>000660</td>\n",
       "      <td>SK하이닉스</td>\n",
       "      <td>KOSPI</td>\n",
       "      <td>4.0</td>\n",
       "      <td>7.082170e+08</td>\n",
       "      <td>4628225.0</td>\n",
       "      <td>3960678.0</td>\n",
       "      <td>0.40008</td>\n",
       "      <td>2.00</td>\n",
       "      <td>0.000072</td>\n",
       "      <td>...</td>\n",
       "      <td>1.462</td>\n",
       "      <td>28792.0</td>\n",
       "      <td>26.96</td>\n",
       "      <td>D</td>\n",
       "      <td>C</td>\n",
       "      <td>C</td>\n",
       "      <td>C</td>\n",
       "      <td>H</td>\n",
       "      <td>A</td>\n",
       "      <td>B</td>\n",
       "    </tr>\n",
       "    <tr>\n",
       "      <th>4</th>\n",
       "      <td>005490</td>\n",
       "      <td>POSCO홀딩스</td>\n",
       "      <td>KOSPI</td>\n",
       "      <td>3.9</td>\n",
       "      <td>7.587620e+07</td>\n",
       "      <td>2944335.0</td>\n",
       "      <td>1697713.0</td>\n",
       "      <td>0.30222</td>\n",
       "      <td>8.45</td>\n",
       "      <td>0.001327</td>\n",
       "      <td>...</td>\n",
       "      <td>4.364</td>\n",
       "      <td>99067.0</td>\n",
       "      <td>8.11</td>\n",
       "      <td>B</td>\n",
       "      <td>C</td>\n",
       "      <td>D</td>\n",
       "      <td>B</td>\n",
       "      <td>G</td>\n",
       "      <td>B</td>\n",
       "      <td>B</td>\n",
       "    </tr>\n",
       "    <tr>\n",
       "      <th>5</th>\n",
       "      <td>051910</td>\n",
       "      <td>LG화학</td>\n",
       "      <td>KOSPI</td>\n",
       "      <td>4.0</td>\n",
       "      <td>7.059230e+07</td>\n",
       "      <td>399881.0</td>\n",
       "      <td>287432.0</td>\n",
       "      <td>0.36433</td>\n",
       "      <td>6.50</td>\n",
       "      <td>0.000188</td>\n",
       "      <td>...</td>\n",
       "      <td>1.438</td>\n",
       "      <td>81652.0</td>\n",
       "      <td>14.63</td>\n",
       "      <td>D</td>\n",
       "      <td>C</td>\n",
       "      <td>D</td>\n",
       "      <td>B</td>\n",
       "      <td>G</td>\n",
       "      <td>B</td>\n",
       "      <td>C</td>\n",
       "    </tr>\n",
       "    <tr>\n",
       "      <th>7</th>\n",
       "      <td>005380</td>\n",
       "      <td>현대차</td>\n",
       "      <td>KOSPI</td>\n",
       "      <td>4.0</td>\n",
       "      <td>2.028760e+08</td>\n",
       "      <td>699789.0</td>\n",
       "      <td>594572.0</td>\n",
       "      <td>0.22792</td>\n",
       "      <td>4.89</td>\n",
       "      <td>0.000088</td>\n",
       "      <td>...</td>\n",
       "      <td>3.058</td>\n",
       "      <td>53685.0</td>\n",
       "      <td>-2.62</td>\n",
       "      <td>C</td>\n",
       "      <td>B</td>\n",
       "      <td>E</td>\n",
       "      <td>C</td>\n",
       "      <td>B</td>\n",
       "      <td>A</td>\n",
       "      <td>C</td>\n",
       "    </tr>\n",
       "    <tr>\n",
       "      <th>10</th>\n",
       "      <td>000270</td>\n",
       "      <td>기아</td>\n",
       "      <td>KOSPI</td>\n",
       "      <td>4.0</td>\n",
       "      <td>3.950820e+08</td>\n",
       "      <td>1446978.0</td>\n",
       "      <td>1229388.0</td>\n",
       "      <td>0.27907</td>\n",
       "      <td>17.01</td>\n",
       "      <td>0.000407</td>\n",
       "      <td>...</td>\n",
       "      <td>3.284</td>\n",
       "      <td>23820.0</td>\n",
       "      <td>-3.41</td>\n",
       "      <td>C</td>\n",
       "      <td>B</td>\n",
       "      <td>E</td>\n",
       "      <td>B</td>\n",
       "      <td>G</td>\n",
       "      <td>A</td>\n",
       "      <td>C</td>\n",
       "    </tr>\n",
       "    <tr>\n",
       "      <th>18</th>\n",
       "      <td>066570</td>\n",
       "      <td>LG전자</td>\n",
       "      <td>KOSPI</td>\n",
       "      <td>4.0</td>\n",
       "      <td>1.628850e+08</td>\n",
       "      <td>1065618.0</td>\n",
       "      <td>825302.0</td>\n",
       "      <td>0.26213</td>\n",
       "      <td>11.11</td>\n",
       "      <td>0.000518</td>\n",
       "      <td>...</td>\n",
       "      <td>0.912</td>\n",
       "      <td>36144.0</td>\n",
       "      <td>6.18</td>\n",
       "      <td>E</td>\n",
       "      <td>C</td>\n",
       "      <td>D</td>\n",
       "      <td>C</td>\n",
       "      <td>F</td>\n",
       "      <td>A</td>\n",
       "      <td>C</td>\n",
       "    </tr>\n",
       "    <tr>\n",
       "      <th>39</th>\n",
       "      <td>011200</td>\n",
       "      <td>HMM</td>\n",
       "      <td>KOSPI</td>\n",
       "      <td>3.2</td>\n",
       "      <td>4.890390e+08</td>\n",
       "      <td>1838939.0</td>\n",
       "      <td>2279608.0</td>\n",
       "      <td>0.30701</td>\n",
       "      <td>7.00</td>\n",
       "      <td>0.000117</td>\n",
       "      <td>...</td>\n",
       "      <td>3.430</td>\n",
       "      <td>22066.0</td>\n",
       "      <td>-1.80</td>\n",
       "      <td>C</td>\n",
       "      <td>C</td>\n",
       "      <td>E</td>\n",
       "      <td>A</td>\n",
       "      <td>H</td>\n",
       "      <td>A</td>\n",
       "      <td>A</td>\n",
       "    </tr>\n",
       "    <tr>\n",
       "      <th>58</th>\n",
       "      <td>011070</td>\n",
       "      <td>LG이노텍</td>\n",
       "      <td>KOSPI</td>\n",
       "      <td>4.0</td>\n",
       "      <td>2.366450e+07</td>\n",
       "      <td>235885.0</td>\n",
       "      <td>179614.0</td>\n",
       "      <td>0.28444</td>\n",
       "      <td>6.32</td>\n",
       "      <td>0.000281</td>\n",
       "      <td>...</td>\n",
       "      <td>0.680</td>\n",
       "      <td>91158.0</td>\n",
       "      <td>-3.29</td>\n",
       "      <td>E</td>\n",
       "      <td>C</td>\n",
       "      <td>E</td>\n",
       "      <td>B</td>\n",
       "      <td>H</td>\n",
       "      <td>B</td>\n",
       "      <td>C</td>\n",
       "    </tr>\n",
       "    <tr>\n",
       "      <th>109</th>\n",
       "      <td>039490</td>\n",
       "      <td>키움증권</td>\n",
       "      <td>KOSPI</td>\n",
       "      <td>4.0</td>\n",
       "      <td>2.481950e+07</td>\n",
       "      <td>106650.0</td>\n",
       "      <td>70016.0</td>\n",
       "      <td>0.31125</td>\n",
       "      <td>3.37</td>\n",
       "      <td>0.000165</td>\n",
       "      <td>...</td>\n",
       "      <td>1.676</td>\n",
       "      <td>161107.0</td>\n",
       "      <td>-0.58</td>\n",
       "      <td>D</td>\n",
       "      <td>B</td>\n",
       "      <td>E</td>\n",
       "      <td>A</td>\n",
       "      <td>F</td>\n",
       "      <td>B</td>\n",
       "      <td>C</td>\n",
       "    </tr>\n",
       "    <tr>\n",
       "      <th>123</th>\n",
       "      <td>298050</td>\n",
       "      <td>효성첨단소재</td>\n",
       "      <td>KOSPI</td>\n",
       "      <td>4.0</td>\n",
       "      <td>4.468020e+06</td>\n",
       "      <td>44898.0</td>\n",
       "      <td>36340.0</td>\n",
       "      <td>0.16986</td>\n",
       "      <td>9.14</td>\n",
       "      <td>0.000277</td>\n",
       "      <td>...</td>\n",
       "      <td>3.090</td>\n",
       "      <td>111743.0</td>\n",
       "      <td>4.44</td>\n",
       "      <td>C</td>\n",
       "      <td>C</td>\n",
       "      <td>D</td>\n",
       "      <td>B</td>\n",
       "      <td>H</td>\n",
       "      <td>B</td>\n",
       "      <td>A</td>\n",
       "    </tr>\n",
       "    <tr>\n",
       "      <th>126</th>\n",
       "      <td>000150</td>\n",
       "      <td>두산</td>\n",
       "      <td>KOSPI</td>\n",
       "      <td>4.0</td>\n",
       "      <td>1.352300e+07</td>\n",
       "      <td>658877.0</td>\n",
       "      <td>187241.0</td>\n",
       "      <td>0.16583</td>\n",
       "      <td>2.00</td>\n",
       "      <td>0.000307</td>\n",
       "      <td>...</td>\n",
       "      <td>0.530</td>\n",
       "      <td>81455.0</td>\n",
       "      <td>-5.53</td>\n",
       "      <td>E</td>\n",
       "      <td>B</td>\n",
       "      <td>E</td>\n",
       "      <td>C</td>\n",
       "      <td>H</td>\n",
       "      <td>B</td>\n",
       "      <td>C</td>\n",
       "    </tr>\n",
       "    <tr>\n",
       "      <th>144</th>\n",
       "      <td>298020</td>\n",
       "      <td>효성티앤씨</td>\n",
       "      <td>KOSPI</td>\n",
       "      <td>4.0</td>\n",
       "      <td>4.315690e+06</td>\n",
       "      <td>28801.0</td>\n",
       "      <td>27215.0</td>\n",
       "      <td>0.17997</td>\n",
       "      <td>3.02</td>\n",
       "      <td>0.000156</td>\n",
       "      <td>...</td>\n",
       "      <td>3.332</td>\n",
       "      <td>83355.0</td>\n",
       "      <td>114.41</td>\n",
       "      <td>C</td>\n",
       "      <td>C</td>\n",
       "      <td>D</td>\n",
       "      <td>C</td>\n",
       "      <td>H</td>\n",
       "      <td>B</td>\n",
       "      <td>C</td>\n",
       "    </tr>\n",
       "  </tbody>\n",
       "</table>\n",
       "<p>13 rows × 72 columns</p>\n",
       "</div>"
      ],
      "text/plain": [
       "       Code      Name Market recommendationKey  sharesOutstanding  \\\n",
       "0    005930      삼성전자  KOSPI               4.0       5.969780e+09   \n",
       "2    000660    SK하이닉스  KOSPI               4.0       7.082170e+08   \n",
       "4    005490  POSCO홀딩스  KOSPI               3.9       7.587620e+07   \n",
       "5    051910      LG화학  KOSPI               4.0       7.059230e+07   \n",
       "7    005380       현대차  KOSPI               4.0       2.028760e+08   \n",
       "10   000270        기아  KOSPI               4.0       3.950820e+08   \n",
       "18   066570      LG전자  KOSPI               4.0       1.628850e+08   \n",
       "39   011200       HMM  KOSPI               3.2       4.890390e+08   \n",
       "58   011070     LG이노텍  KOSPI               4.0       2.366450e+07   \n",
       "109  039490      키움증권  KOSPI               4.0       2.481950e+07   \n",
       "123  298050    효성첨단소재  KOSPI               4.0       4.468020e+06   \n",
       "126  000150        두산  KOSPI               4.0       1.352300e+07   \n",
       "144  298020     효성티앤씨  KOSPI               4.0       4.315690e+06   \n",
       "\n",
       "     averageVolume10days  averageVolume  heldPercentInstitutions  shortRatio  \\\n",
       "0             15819172.0     13878613.0                  0.47631        4.28   \n",
       "2              4628225.0      3960678.0                  0.40008        2.00   \n",
       "4              2944335.0      1697713.0                  0.30222        8.45   \n",
       "5               399881.0       287432.0                  0.36433        6.50   \n",
       "7               699789.0       594572.0                  0.22792        4.89   \n",
       "10             1446978.0      1229388.0                  0.27907       17.01   \n",
       "18             1065618.0       825302.0                  0.26213       11.11   \n",
       "39             1838939.0      2279608.0                  0.30701        7.00   \n",
       "58              235885.0       179614.0                  0.28444        6.32   \n",
       "109             106650.0        70016.0                  0.31125        3.37   \n",
       "123              44898.0        36340.0                  0.16986        9.14   \n",
       "126             658877.0       187241.0                  0.16583        2.00   \n",
       "144              28801.0        27215.0                  0.17997        3.02   \n",
       "\n",
       "     sharesPercentSharesOut  ...  5년평균dividendYield  EBITDAPS  동종업계_대비_PER  \\\n",
       "0                  0.000124  ...              2.870   12143.0        -1.04   \n",
       "2                  0.000072  ...              1.462   28792.0        26.96   \n",
       "4                  0.001327  ...              4.364   99067.0         8.11   \n",
       "5                  0.000188  ...              1.438   81652.0        14.63   \n",
       "7                  0.000088  ...              3.058   53685.0        -2.62   \n",
       "10                 0.000407  ...              3.284   23820.0        -3.41   \n",
       "18                 0.000518  ...              0.912   36144.0         6.18   \n",
       "39                 0.000117  ...              3.430   22066.0        -1.80   \n",
       "58                 0.000281  ...              0.680   91158.0        -3.29   \n",
       "109                0.000165  ...              1.676  161107.0        -0.58   \n",
       "123                0.000277  ...              3.090  111743.0         4.44   \n",
       "126                0.000307  ...              0.530   81455.0        -5.53   \n",
       "144                0.000156  ...              3.332   83355.0       114.41   \n",
       "\n",
       "     dividend  growth  value  business  finance  performance  volitality  \n",
       "0           C       C      D         B        F           A+           C  \n",
       "2           D       C      C         C        H            A           B  \n",
       "4           B       C      D         B        G            B           B  \n",
       "5           D       C      D         B        G            B           C  \n",
       "7           C       B      E         C        B            A           C  \n",
       "10          C       B      E         B        G            A           C  \n",
       "18          E       C      D         C        F            A           C  \n",
       "39          C       C      E         A        H            A           A  \n",
       "58          E       C      E         B        H            B           C  \n",
       "109         D       B      E         A        F            B           C  \n",
       "123         C       C      D         B        H            B           A  \n",
       "126         E       B      E         C        H            B           C  \n",
       "144         C       C      D         C        H            B           C  \n",
       "\n",
       "[13 rows x 72 columns]"
      ]
     },
     "execution_count": 5,
     "metadata": {},
     "output_type": "execute_result"
    }
   ],
   "source": [
    "recommendation= data[((data['business'] == \"A\")|(data['business'] == \"B\")|(data['business'] == \"C\"))&\n",
    " ((data['performance'] == \"A\")|(data['performance'] == \"B\")|(data['performance'] == \"A+\")|(data['performance'] == \"C\"))&\n",
    "  ((data['volitality'] == \"A\")|(data['volitality'] == \"B\")|(data['volitality'] == \"A+\")|(data['volitality'] == \"C\"))]\n",
    "recommendation"
   ]
  },
  {
   "cell_type": "code",
   "execution_count": 6,
   "metadata": {},
   "outputs": [],
   "source": [
    "stocks = recommendation[\"Name\"].to_list()"
   ]
  },
  {
   "cell_type": "code",
   "execution_count": 7,
   "metadata": {},
   "outputs": [
    {
     "data": {
      "text/plain": [
       "['삼성전자',\n",
       " 'SK하이닉스',\n",
       " 'POSCO홀딩스',\n",
       " 'LG화학',\n",
       " '현대차',\n",
       " '기아',\n",
       " 'LG전자',\n",
       " 'HMM',\n",
       " 'LG이노텍',\n",
       " '키움증권',\n",
       " '효성첨단소재',\n",
       " '두산',\n",
       " '효성티앤씨']"
      ]
     },
     "execution_count": 7,
     "metadata": {},
     "output_type": "execute_result"
    }
   ],
   "source": [
    "stocks"
   ]
  },
  {
   "cell_type": "code",
   "execution_count": 8,
   "metadata": {},
   "outputs": [],
   "source": [
    "def get_close(data,stocks,start,end): # stocks 전역변수 수정\n",
    "    tmp = pd.DataFrame()\n",
    "    for n in stocks:\n",
    "        tmp[n] = stock.get_market_ohlcv(start, end, data[data['Name'] == n]['Code'])['종가']\n",
    "    return tmp"
   ]
  },
  {
   "cell_type": "code",
   "execution_count": 9,
   "metadata": {},
   "outputs": [
    {
     "data": {
      "text/html": [
       "<div>\n",
       "<style scoped>\n",
       "    .dataframe tbody tr th:only-of-type {\n",
       "        vertical-align: middle;\n",
       "    }\n",
       "\n",
       "    .dataframe tbody tr th {\n",
       "        vertical-align: top;\n",
       "    }\n",
       "\n",
       "    .dataframe thead th {\n",
       "        text-align: right;\n",
       "    }\n",
       "</style>\n",
       "<table border=\"1\" class=\"dataframe\">\n",
       "  <thead>\n",
       "    <tr style=\"text-align: right;\">\n",
       "      <th></th>\n",
       "      <th>삼성전자</th>\n",
       "      <th>SK하이닉스</th>\n",
       "      <th>POSCO홀딩스</th>\n",
       "      <th>LG화학</th>\n",
       "      <th>현대차</th>\n",
       "      <th>기아</th>\n",
       "      <th>LG전자</th>\n",
       "      <th>HMM</th>\n",
       "      <th>LG이노텍</th>\n",
       "      <th>키움증권</th>\n",
       "      <th>효성첨단소재</th>\n",
       "      <th>두산</th>\n",
       "      <th>효성티앤씨</th>\n",
       "    </tr>\n",
       "    <tr>\n",
       "      <th>날짜</th>\n",
       "      <th></th>\n",
       "      <th></th>\n",
       "      <th></th>\n",
       "      <th></th>\n",
       "      <th></th>\n",
       "      <th></th>\n",
       "      <th></th>\n",
       "      <th></th>\n",
       "      <th></th>\n",
       "      <th></th>\n",
       "      <th></th>\n",
       "      <th></th>\n",
       "      <th></th>\n",
       "    </tr>\n",
       "  </thead>\n",
       "  <tbody>\n",
       "    <tr>\n",
       "      <th>2022-09-13</th>\n",
       "      <td>58100</td>\n",
       "      <td>94800</td>\n",
       "      <td>248000</td>\n",
       "      <td>665000</td>\n",
       "      <td>200500</td>\n",
       "      <td>81300</td>\n",
       "      <td>97900</td>\n",
       "      <td>21050</td>\n",
       "      <td>364000</td>\n",
       "      <td>85900</td>\n",
       "      <td>430000</td>\n",
       "      <td>73500</td>\n",
       "      <td>312500</td>\n",
       "    </tr>\n",
       "    <tr>\n",
       "      <th>2022-09-14</th>\n",
       "      <td>56800</td>\n",
       "      <td>93000</td>\n",
       "      <td>239500</td>\n",
       "      <td>663000</td>\n",
       "      <td>198500</td>\n",
       "      <td>80300</td>\n",
       "      <td>94000</td>\n",
       "      <td>20750</td>\n",
       "      <td>348000</td>\n",
       "      <td>84600</td>\n",
       "      <td>418500</td>\n",
       "      <td>71300</td>\n",
       "      <td>303500</td>\n",
       "    </tr>\n",
       "    <tr>\n",
       "      <th>2022-09-15</th>\n",
       "      <td>56000</td>\n",
       "      <td>92000</td>\n",
       "      <td>235000</td>\n",
       "      <td>658000</td>\n",
       "      <td>198000</td>\n",
       "      <td>80000</td>\n",
       "      <td>92000</td>\n",
       "      <td>21050</td>\n",
       "      <td>344000</td>\n",
       "      <td>84300</td>\n",
       "      <td>424000</td>\n",
       "      <td>80400</td>\n",
       "      <td>308000</td>\n",
       "    </tr>\n",
       "    <tr>\n",
       "      <th>2022-09-16</th>\n",
       "      <td>56200</td>\n",
       "      <td>91200</td>\n",
       "      <td>230500</td>\n",
       "      <td>635000</td>\n",
       "      <td>201000</td>\n",
       "      <td>81100</td>\n",
       "      <td>90600</td>\n",
       "      <td>20600</td>\n",
       "      <td>332500</td>\n",
       "      <td>82900</td>\n",
       "      <td>409000</td>\n",
       "      <td>84100</td>\n",
       "      <td>306500</td>\n",
       "    </tr>\n",
       "    <tr>\n",
       "      <th>2022-09-19</th>\n",
       "      <td>56400</td>\n",
       "      <td>90000</td>\n",
       "      <td>231000</td>\n",
       "      <td>635000</td>\n",
       "      <td>201500</td>\n",
       "      <td>80800</td>\n",
       "      <td>90400</td>\n",
       "      <td>19850</td>\n",
       "      <td>334000</td>\n",
       "      <td>81900</td>\n",
       "      <td>395000</td>\n",
       "      <td>76100</td>\n",
       "      <td>298000</td>\n",
       "    </tr>\n",
       "    <tr>\n",
       "      <th>...</th>\n",
       "      <td>...</td>\n",
       "      <td>...</td>\n",
       "      <td>...</td>\n",
       "      <td>...</td>\n",
       "      <td>...</td>\n",
       "      <td>...</td>\n",
       "      <td>...</td>\n",
       "      <td>...</td>\n",
       "      <td>...</td>\n",
       "      <td>...</td>\n",
       "      <td>...</td>\n",
       "      <td>...</td>\n",
       "      <td>...</td>\n",
       "    </tr>\n",
       "    <tr>\n",
       "      <th>2023-02-22</th>\n",
       "      <td>61100</td>\n",
       "      <td>89100</td>\n",
       "      <td>332000</td>\n",
       "      <td>666000</td>\n",
       "      <td>174200</td>\n",
       "      <td>74500</td>\n",
       "      <td>111100</td>\n",
       "      <td>21950</td>\n",
       "      <td>286000</td>\n",
       "      <td>103600</td>\n",
       "      <td>417500</td>\n",
       "      <td>85600</td>\n",
       "      <td>467000</td>\n",
       "    </tr>\n",
       "    <tr>\n",
       "      <th>2023-02-23</th>\n",
       "      <td>62000</td>\n",
       "      <td>92700</td>\n",
       "      <td>331500</td>\n",
       "      <td>668000</td>\n",
       "      <td>176200</td>\n",
       "      <td>76400</td>\n",
       "      <td>114700</td>\n",
       "      <td>22800</td>\n",
       "      <td>290500</td>\n",
       "      <td>107100</td>\n",
       "      <td>426500</td>\n",
       "      <td>91100</td>\n",
       "      <td>470000</td>\n",
       "    </tr>\n",
       "    <tr>\n",
       "      <th>2023-02-24</th>\n",
       "      <td>61300</td>\n",
       "      <td>91000</td>\n",
       "      <td>322000</td>\n",
       "      <td>669000</td>\n",
       "      <td>173900</td>\n",
       "      <td>75300</td>\n",
       "      <td>113400</td>\n",
       "      <td>23050</td>\n",
       "      <td>283000</td>\n",
       "      <td>106100</td>\n",
       "      <td>417500</td>\n",
       "      <td>90400</td>\n",
       "      <td>461500</td>\n",
       "    </tr>\n",
       "    <tr>\n",
       "      <th>2023-02-27</th>\n",
       "      <td>60500</td>\n",
       "      <td>90000</td>\n",
       "      <td>319000</td>\n",
       "      <td>657000</td>\n",
       "      <td>173300</td>\n",
       "      <td>76000</td>\n",
       "      <td>112700</td>\n",
       "      <td>22650</td>\n",
       "      <td>283500</td>\n",
       "      <td>105300</td>\n",
       "      <td>405000</td>\n",
       "      <td>100000</td>\n",
       "      <td>458000</td>\n",
       "    </tr>\n",
       "    <tr>\n",
       "      <th>2023-02-28</th>\n",
       "      <td>60600</td>\n",
       "      <td>89400</td>\n",
       "      <td>318000</td>\n",
       "      <td>680000</td>\n",
       "      <td>176300</td>\n",
       "      <td>75300</td>\n",
       "      <td>111200</td>\n",
       "      <td>22550</td>\n",
       "      <td>277000</td>\n",
       "      <td>103200</td>\n",
       "      <td>411000</td>\n",
       "      <td>101000</td>\n",
       "      <td>457500</td>\n",
       "    </tr>\n",
       "  </tbody>\n",
       "</table>\n",
       "<p>116 rows × 13 columns</p>\n",
       "</div>"
      ],
      "text/plain": [
       "             삼성전자  SK하이닉스  POSCO홀딩스    LG화학     현대차     기아    LG전자    HMM  \\\n",
       "날짜                                                                          \n",
       "2022-09-13  58100   94800    248000  665000  200500  81300   97900  21050   \n",
       "2022-09-14  56800   93000    239500  663000  198500  80300   94000  20750   \n",
       "2022-09-15  56000   92000    235000  658000  198000  80000   92000  21050   \n",
       "2022-09-16  56200   91200    230500  635000  201000  81100   90600  20600   \n",
       "2022-09-19  56400   90000    231000  635000  201500  80800   90400  19850   \n",
       "...           ...     ...       ...     ...     ...    ...     ...    ...   \n",
       "2023-02-22  61100   89100    332000  666000  174200  74500  111100  21950   \n",
       "2023-02-23  62000   92700    331500  668000  176200  76400  114700  22800   \n",
       "2023-02-24  61300   91000    322000  669000  173900  75300  113400  23050   \n",
       "2023-02-27  60500   90000    319000  657000  173300  76000  112700  22650   \n",
       "2023-02-28  60600   89400    318000  680000  176300  75300  111200  22550   \n",
       "\n",
       "             LG이노텍    키움증권  효성첨단소재      두산   효성티앤씨  \n",
       "날짜                                                  \n",
       "2022-09-13  364000   85900  430000   73500  312500  \n",
       "2022-09-14  348000   84600  418500   71300  303500  \n",
       "2022-09-15  344000   84300  424000   80400  308000  \n",
       "2022-09-16  332500   82900  409000   84100  306500  \n",
       "2022-09-19  334000   81900  395000   76100  298000  \n",
       "...            ...     ...     ...     ...     ...  \n",
       "2023-02-22  286000  103600  417500   85600  467000  \n",
       "2023-02-23  290500  107100  426500   91100  470000  \n",
       "2023-02-24  283000  106100  417500   90400  461500  \n",
       "2023-02-27  283500  105300  405000  100000  458000  \n",
       "2023-02-28  277000  103200  411000  101000  457500  \n",
       "\n",
       "[116 rows x 13 columns]"
      ]
     },
     "execution_count": 9,
     "metadata": {},
     "output_type": "execute_result"
    }
   ],
   "source": [
    "before_data = get_close(data,stocks,start_03,end_03)\n",
    "before_data"
   ]
  },
  {
   "cell_type": "code",
   "execution_count": 10,
   "metadata": {},
   "outputs": [
    {
     "data": {
      "text/html": [
       "<div>\n",
       "<style scoped>\n",
       "    .dataframe tbody tr th:only-of-type {\n",
       "        vertical-align: middle;\n",
       "    }\n",
       "\n",
       "    .dataframe tbody tr th {\n",
       "        vertical-align: top;\n",
       "    }\n",
       "\n",
       "    .dataframe thead th {\n",
       "        text-align: right;\n",
       "    }\n",
       "</style>\n",
       "<table border=\"1\" class=\"dataframe\">\n",
       "  <thead>\n",
       "    <tr style=\"text-align: right;\">\n",
       "      <th></th>\n",
       "      <th>삼성전자</th>\n",
       "      <th>SK하이닉스</th>\n",
       "      <th>POSCO홀딩스</th>\n",
       "      <th>LG화학</th>\n",
       "      <th>현대차</th>\n",
       "      <th>기아</th>\n",
       "      <th>LG전자</th>\n",
       "      <th>HMM</th>\n",
       "      <th>LG이노텍</th>\n",
       "      <th>키움증권</th>\n",
       "      <th>효성첨단소재</th>\n",
       "      <th>두산</th>\n",
       "      <th>효성티앤씨</th>\n",
       "    </tr>\n",
       "    <tr>\n",
       "      <th>날짜</th>\n",
       "      <th></th>\n",
       "      <th></th>\n",
       "      <th></th>\n",
       "      <th></th>\n",
       "      <th></th>\n",
       "      <th></th>\n",
       "      <th></th>\n",
       "      <th></th>\n",
       "      <th></th>\n",
       "      <th></th>\n",
       "      <th></th>\n",
       "      <th></th>\n",
       "      <th></th>\n",
       "    </tr>\n",
       "  </thead>\n",
       "  <tbody>\n",
       "    <tr>\n",
       "      <th>2022-09-13</th>\n",
       "      <td>58100</td>\n",
       "      <td>94800</td>\n",
       "      <td>248000</td>\n",
       "      <td>665000</td>\n",
       "      <td>200500</td>\n",
       "      <td>81300</td>\n",
       "      <td>97900</td>\n",
       "      <td>21050</td>\n",
       "      <td>364000</td>\n",
       "      <td>85900</td>\n",
       "      <td>430000</td>\n",
       "      <td>73500</td>\n",
       "      <td>312500</td>\n",
       "    </tr>\n",
       "    <tr>\n",
       "      <th>2022-09-14</th>\n",
       "      <td>56800</td>\n",
       "      <td>93000</td>\n",
       "      <td>239500</td>\n",
       "      <td>663000</td>\n",
       "      <td>198500</td>\n",
       "      <td>80300</td>\n",
       "      <td>94000</td>\n",
       "      <td>20750</td>\n",
       "      <td>348000</td>\n",
       "      <td>84600</td>\n",
       "      <td>418500</td>\n",
       "      <td>71300</td>\n",
       "      <td>303500</td>\n",
       "    </tr>\n",
       "    <tr>\n",
       "      <th>2022-09-15</th>\n",
       "      <td>56000</td>\n",
       "      <td>92000</td>\n",
       "      <td>235000</td>\n",
       "      <td>658000</td>\n",
       "      <td>198000</td>\n",
       "      <td>80000</td>\n",
       "      <td>92000</td>\n",
       "      <td>21050</td>\n",
       "      <td>344000</td>\n",
       "      <td>84300</td>\n",
       "      <td>424000</td>\n",
       "      <td>80400</td>\n",
       "      <td>308000</td>\n",
       "    </tr>\n",
       "    <tr>\n",
       "      <th>2022-09-16</th>\n",
       "      <td>56200</td>\n",
       "      <td>91200</td>\n",
       "      <td>230500</td>\n",
       "      <td>635000</td>\n",
       "      <td>201000</td>\n",
       "      <td>81100</td>\n",
       "      <td>90600</td>\n",
       "      <td>20600</td>\n",
       "      <td>332500</td>\n",
       "      <td>82900</td>\n",
       "      <td>409000</td>\n",
       "      <td>84100</td>\n",
       "      <td>306500</td>\n",
       "    </tr>\n",
       "    <tr>\n",
       "      <th>2022-09-19</th>\n",
       "      <td>56400</td>\n",
       "      <td>90000</td>\n",
       "      <td>231000</td>\n",
       "      <td>635000</td>\n",
       "      <td>201500</td>\n",
       "      <td>80800</td>\n",
       "      <td>90400</td>\n",
       "      <td>19850</td>\n",
       "      <td>334000</td>\n",
       "      <td>81900</td>\n",
       "      <td>395000</td>\n",
       "      <td>76100</td>\n",
       "      <td>298000</td>\n",
       "    </tr>\n",
       "    <tr>\n",
       "      <th>...</th>\n",
       "      <td>...</td>\n",
       "      <td>...</td>\n",
       "      <td>...</td>\n",
       "      <td>...</td>\n",
       "      <td>...</td>\n",
       "      <td>...</td>\n",
       "      <td>...</td>\n",
       "      <td>...</td>\n",
       "      <td>...</td>\n",
       "      <td>...</td>\n",
       "      <td>...</td>\n",
       "      <td>...</td>\n",
       "      <td>...</td>\n",
       "    </tr>\n",
       "    <tr>\n",
       "      <th>2023-09-06</th>\n",
       "      <td>70000</td>\n",
       "      <td>118200</td>\n",
       "      <td>580000</td>\n",
       "      <td>585000</td>\n",
       "      <td>186700</td>\n",
       "      <td>78900</td>\n",
       "      <td>100500</td>\n",
       "      <td>16580</td>\n",
       "      <td>269000</td>\n",
       "      <td>98400</td>\n",
       "      <td>451500</td>\n",
       "      <td>108000</td>\n",
       "      <td>361500</td>\n",
       "    </tr>\n",
       "    <tr>\n",
       "      <th>2023-09-07</th>\n",
       "      <td>70400</td>\n",
       "      <td>118500</td>\n",
       "      <td>568000</td>\n",
       "      <td>577000</td>\n",
       "      <td>187200</td>\n",
       "      <td>78300</td>\n",
       "      <td>99800</td>\n",
       "      <td>16600</td>\n",
       "      <td>252500</td>\n",
       "      <td>99200</td>\n",
       "      <td>452000</td>\n",
       "      <td>106500</td>\n",
       "      <td>364500</td>\n",
       "    </tr>\n",
       "    <tr>\n",
       "      <th>2023-09-08</th>\n",
       "      <td>70300</td>\n",
       "      <td>113700</td>\n",
       "      <td>583000</td>\n",
       "      <td>564000</td>\n",
       "      <td>185700</td>\n",
       "      <td>77800</td>\n",
       "      <td>98800</td>\n",
       "      <td>16810</td>\n",
       "      <td>244500</td>\n",
       "      <td>102100</td>\n",
       "      <td>451000</td>\n",
       "      <td>116800</td>\n",
       "      <td>360500</td>\n",
       "    </tr>\n",
       "    <tr>\n",
       "      <th>2023-09-11</th>\n",
       "      <td>70800</td>\n",
       "      <td>115900</td>\n",
       "      <td>570000</td>\n",
       "      <td>561000</td>\n",
       "      <td>185500</td>\n",
       "      <td>77600</td>\n",
       "      <td>99200</td>\n",
       "      <td>16640</td>\n",
       "      <td>248500</td>\n",
       "      <td>101100</td>\n",
       "      <td>456500</td>\n",
       "      <td>149100</td>\n",
       "      <td>368000</td>\n",
       "    </tr>\n",
       "    <tr>\n",
       "      <th>2023-09-12</th>\n",
       "      <td>70600</td>\n",
       "      <td>117200</td>\n",
       "      <td>551000</td>\n",
       "      <td>557000</td>\n",
       "      <td>186300</td>\n",
       "      <td>77900</td>\n",
       "      <td>99700</td>\n",
       "      <td>16490</td>\n",
       "      <td>247500</td>\n",
       "      <td>100200</td>\n",
       "      <td>462000</td>\n",
       "      <td>139800</td>\n",
       "      <td>370000</td>\n",
       "    </tr>\n",
       "  </tbody>\n",
       "</table>\n",
       "<p>250 rows × 13 columns</p>\n",
       "</div>"
      ],
      "text/plain": [
       "             삼성전자  SK하이닉스  POSCO홀딩스    LG화학     현대차     기아    LG전자    HMM  \\\n",
       "날짜                                                                          \n",
       "2022-09-13  58100   94800    248000  665000  200500  81300   97900  21050   \n",
       "2022-09-14  56800   93000    239500  663000  198500  80300   94000  20750   \n",
       "2022-09-15  56000   92000    235000  658000  198000  80000   92000  21050   \n",
       "2022-09-16  56200   91200    230500  635000  201000  81100   90600  20600   \n",
       "2022-09-19  56400   90000    231000  635000  201500  80800   90400  19850   \n",
       "...           ...     ...       ...     ...     ...    ...     ...    ...   \n",
       "2023-09-06  70000  118200    580000  585000  186700  78900  100500  16580   \n",
       "2023-09-07  70400  118500    568000  577000  187200  78300   99800  16600   \n",
       "2023-09-08  70300  113700    583000  564000  185700  77800   98800  16810   \n",
       "2023-09-11  70800  115900    570000  561000  185500  77600   99200  16640   \n",
       "2023-09-12  70600  117200    551000  557000  186300  77900   99700  16490   \n",
       "\n",
       "             LG이노텍    키움증권  효성첨단소재      두산   효성티앤씨  \n",
       "날짜                                                  \n",
       "2022-09-13  364000   85900  430000   73500  312500  \n",
       "2022-09-14  348000   84600  418500   71300  303500  \n",
       "2022-09-15  344000   84300  424000   80400  308000  \n",
       "2022-09-16  332500   82900  409000   84100  306500  \n",
       "2022-09-19  334000   81900  395000   76100  298000  \n",
       "...            ...     ...     ...     ...     ...  \n",
       "2023-09-06  269000   98400  451500  108000  361500  \n",
       "2023-09-07  252500   99200  452000  106500  364500  \n",
       "2023-09-08  244500  102100  451000  116800  360500  \n",
       "2023-09-11  248500  101100  456500  149100  368000  \n",
       "2023-09-12  247500  100200  462000  139800  370000  \n",
       "\n",
       "[250 rows x 13 columns]"
      ]
     },
     "execution_count": 10,
     "metadata": {},
     "output_type": "execute_result"
    }
   ],
   "source": [
    "now_data = get_close(data,stocks,start,end)\n",
    "now_data"
   ]
  },
  {
   "cell_type": "code",
   "execution_count": 11,
   "metadata": {},
   "outputs": [
    {
     "data": {
      "text/plain": [
       "날짜\n",
       "2022-09-13    318.56\n",
       "2022-09-14    312.74\n",
       "2022-09-15    310.63\n",
       "2022-09-16    308.69\n",
       "2022-09-19    306.49\n",
       "               ...  \n",
       "2023-09-06    337.85\n",
       "2023-09-07    336.74\n",
       "2023-09-08    336.40\n",
       "2023-09-11    337.58\n",
       "2023-09-12    336.40\n",
       "Name: 종가, Length: 250, dtype: float64"
      ]
     },
     "metadata": {},
     "output_type": "display_data"
    }
   ],
   "source": [
    "kospi200 = stock.get_index_ohlcv_by_date(start_03, end, \"1028\")['종가']\n",
    "display(kospi200)"
   ]
  },
  {
   "cell_type": "code",
   "execution_count": 12,
   "metadata": {},
   "outputs": [],
   "source": [
    "daily_ret = before_data[stocks].pct_change()\n",
    "annual_ret = (1+daily_ret.mean())**before_data[stocks].shape[0]-1\n",
    "\n",
    "daily_cov = daily_ret.cov()\n",
    "annual_cov = daily_cov * before_data[stocks].shape[0]"
   ]
  },
  {
   "cell_type": "code",
   "execution_count": 13,
   "metadata": {},
   "outputs": [],
   "source": [
    "tmp2 = pd.DataFrame((annual_ret-0.02)/daily_ret.std()*np.sqrt(252),columns= ['Shape']).sort_values(by='Shape',ascending=False)\n",
    "stocks = list(tmp2.iloc[0:5].index)# 상위 5개 선정\n",
    "daily_ret = before_data[stocks].pct_change()\n",
    "annual_ret = (1+daily_ret.mean())**before_data[stocks].shape[0]-1\n",
    "daily_cov = daily_ret.cov()\n",
    "annual_cov = daily_cov * before_data[stocks].shape[0]\n",
    "rf = 0.0325\n",
    "# 개별 shape 말고 고객에게 제시하는 주식 중 고객이 선택한 주식과 상관계수가 낮은 기업으로 포트폴리오를 구성해주는 것은 어떨까?"
   ]
  },
  {
   "cell_type": "code",
   "execution_count": 14,
   "metadata": {},
   "outputs": [],
   "source": [
    "import scipy.optimize as sco\n",
    "def stat(weights,annual_cov,annual_ret):\n",
    "    returns = np.dot(weights, annual_ret)\n",
    "    risk = np.sqrt(np.dot(weights.T, np.dot(annual_cov, weights)))\n",
    "    return [risk,returns]\n",
    "\n",
    "class Effective_frontier:\n",
    "    def __init__(self,annual_cov,annual_ret):\n",
    "        self.annual_cov = annual_cov\n",
    "        self.annual_ret = annual_ret\n",
    "\n",
    "    def ef(self,weight):\n",
    "        return stat(weight,self.annual_cov,self.annual_ret)[0]**2\n",
    "    \n",
    "# def effective_frontier(weight):\n",
    "#     return stat(weight,annual_cov,annual_ret)[0]**2\n",
    "\n",
    "def get_portfolio(stocks,annual_ret,annual_cov):\n",
    "    port_ret = []\n",
    "    port_risk = []\n",
    "    port_weights = []\n",
    "    shape_ratio = []\n",
    "\n",
    "    for i in range(5000):\n",
    "\n",
    "        weights = np.random.random(len(stocks))\n",
    "        weights /= np.sum(weights)\n",
    "\n",
    "\n",
    "        returns = np.dot(weights, annual_ret)\n",
    "\n",
    "        risk = np.sqrt(np.dot(weights.T, np.dot(annual_cov, weights)))\n",
    "\n",
    "        port_ret.append(returns)\n",
    "        port_risk.append(risk)\n",
    "        port_weights.append(weights)\n",
    "        shape_ratio.append(returns/risk)\n",
    "\n",
    "    portfolio = {'Returns' : port_ret, 'Risk' : port_risk, 'Shape' : shape_ratio}\n",
    "    for j, s in enumerate(stocks):\n",
    "        portfolio[s] = [weight[j] for weight in port_weights]\n",
    "\n",
    "    df = pd.DataFrame(portfolio)\n",
    "\n",
    "    max_shape = df.loc[df['Shape'] == df['Shape'].max()]\n",
    "    min_risk = df.loc[df['Risk'] == df['Risk'].min()]\n",
    "\n",
    "    weight = np.random.random(len(stocks))\n",
    "    weight = weight/np.sum(weight)\n",
    "    #최적화 \n",
    "    bnds = tuple((0,1) for x in range(len(stocks)))\n",
    "    T_return = np.linspace(df['Returns'].min(),df['Returns'].max(),50) #수익률 구간 0~20%  \n",
    "    T_vol = []           #목표 수익률별 최저분산 포트폴리오의 표준편차가 들어갈 벡터\n",
    "\n",
    "    ef = Effective_frontier(annual_cov,annual_ret)\n",
    "    for r in T_return :\n",
    "        cons = ({'type' : 'eq', 'fun' : lambda x : np.sum(x) - 1},   #np.sum(x) = 비중의 총합   \n",
    "                    {'type' : 'eq', 'fun' : lambda x : stat(x,annual_cov,annual_ret)[1] - r }) #Tr = 목표 수익률 \n",
    "        opts = sco.minimize(ef.ef, weight, method = 'SLSQP', bounds = bnds, constraints = cons) #제한 수익률에서 분산 minimize\n",
    "        T_vol.append(np.sqrt(opts['fun']))\n",
    "        \n",
    "    tmp2 = pd.DataFrame({'Returns': T_return, 'Risk':T_vol})\n",
    "\n",
    "    return max_shape,min_risk,tmp2,df"
   ]
  },
  {
   "cell_type": "code",
   "execution_count": 15,
   "metadata": {},
   "outputs": [],
   "source": [
    "max_shape,min_risk,tmp2,df = get_portfolio(stocks,annual_ret,annual_cov)"
   ]
  },
  {
   "cell_type": "code",
   "execution_count": 16,
   "metadata": {},
   "outputs": [],
   "source": [
    "def show_CAPM(df, tmp2, max_shape, min_risk, rf=0.0325):\n",
    "    df.plot.scatter(x='Risk', y='Returns', c='Shape', cmap='viridis', edgecolors='k', figsize=(10,8), grid=True)\n",
    "    plt.plot(tmp2['Risk'], tmp2['Returns'], label='Efficient Frontier', linewidth=5,color='red')\n",
    "    plt.scatter(max_shape['Risk'], max_shape['Returns'], label='Max_Shape', marker='*',s=500)\n",
    "    plt.scatter(min_risk['Risk'], min_risk['Returns'], label='Min_risk', marker='*', s=500)\n",
    "    plt.plot([0, max_shape['Risk'].iloc[0], 0.5], [rf, max_shape['Returns'].iloc[0], (max_shape['Returns'].iloc[0] - rf) / max_shape['Risk'].iloc[0] * 0.5 + rf], label='New EF', linewidth=2,color='green')\n",
    "    plt.xlabel('Risk')\n",
    "    plt.ylabel('Expected Return')\n",
    "    plt.title('Efficient Frontier Graph')\n",
    "    plt.legend()\n",
    "    plt.show()"
   ]
  },
  {
   "cell_type": "code",
   "execution_count": 17,
   "metadata": {},
   "outputs": [
    {
     "data": {
      "image/png": "[encoded data removed]",
      "text/plain": [
       "<Figure size 1000x800 with 2 Axes>"
      ]
     },
     "metadata": {},
     "output_type": "display_data"
    }
   ],
   "source": [
    "show_CAPM(df,tmp2,max_shape,min_risk,rf=0.0325)"
   ]
  },
  {
   "cell_type": "code",
   "execution_count": 23,
   "metadata": {},
   "outputs": [],
   "source": [
    "def show_portfolio(max_shape):\n",
    "    import plotly.graph_objects as go\n",
    "    from plotly.subplots import make_subplots\n",
    "    import sympy\n",
    "    exp_ret = float(input(\"원하는 기대수익률은 얼마인가?\"))/100\n",
    "    w = sympy.Symbol('w')\n",
    "\n",
    "    equation = w*0.02 + (1-w)*max_shape['Returns'].values[0] - exp_ret\n",
    "\n",
    "    solution = sympy.solve(equation, w)\n",
    "    solution = float(solution[0])\n",
    "    if solution < 0 :\n",
    "        print(f\"차입 비중 : {-solution}\")\n",
    "        print(f\"이 경우 Risk : {(1-solution)*max_shape['Risk'].iloc[0]}\")\n",
    "    else : \n",
    "        print(f\"채권의 비중 : {solution}\")\n",
    "        print(f\"이 경우 Risk : {(1-solution)*max_shape['Risk'].iloc[0]}\")\n",
    "        \n",
    "    if solution >= 0:\n",
    "\n",
    "        fig = make_subplots(rows=2, cols=1, specs=[[{\"type\": \"pie\"}], [{\"type\": \"pie\"}]],subplot_titles=(\"<b>포트폴리오\", f\"<b>기대수익을 위한 포트폴리오<br><sup>자기자본의 {solution*100:0.4}%만큼 채권투자</sup>\"))\n",
    "        fig.update_layout(width=400, height=600) \n",
    "        fig.add_trace(go.Pie(\n",
    "            values=list(max_shape.values[0][-5:]),\n",
    "            labels=list(max_shape.columns[-5:]),\n",
    "            domain=dict(x=[0, 0.5]),\n",
    "            name=\"기존 포트폴리오\"),\n",
    "            row=1, col=1)\n",
    "\n",
    "        fig.add_trace(go.Pie(\n",
    "            values=list(max_shape.values[0][-5:]* (1-float(solution)))+[float(solution)] ,\n",
    "            labels=list(max_shape.columns[-5:]) + ['채권'],\n",
    "            domain=dict(x=[0.5, 1.0]),\n",
    "            name=\"기대수익 포트폴리오\"),\n",
    "            row=2, col=1)\n",
    "\n",
    "        return fig, solution\n",
    "\n",
    "    else:\n",
    "        fig = make_subplots(rows=2, cols=1, specs=[[{\"type\": \"pie\"}], [{\"type\": \"pie\"}]],subplot_titles=(\"<b>포트폴리오\", f\"<b>투자금 비중</b><br><sup>자기자본의 {-solution*100:0.4}%만큼 차입</sup>\"))\n",
    "\n",
    "        fig.update_layout(width=400, height=600) \n",
    "        fig.add_trace(go.Pie(\n",
    "            values=list(max_shape.values[0][-5:]),\n",
    "            labels=list(max_shape.columns[-5:]),\n",
    "            domain=dict(x=[0, 0.5])),\n",
    "            row=1, col=1)\n",
    "\n",
    "        fig.add_trace(go.Pie(\n",
    "            values=[1/(1-solution),1-(1/(1-solution))] ,\n",
    "            labels=['자기자본','차입금'],\n",
    "            domain=dict(x=[0.5, 1.0])),\n",
    "            row=2, col=1)\n",
    "\n",
    "        return fig, solution"
   ]
  },
  {
   "cell_type": "code",
   "execution_count": 24,
   "metadata": {},
   "outputs": [
    {
     "name": "stdout",
     "output_type": "stream",
     "text": [
      "채권의 비중 : 0.58944315460322\n",
      "이 경우 Risk : 0.09453100438371136\n"
     ]
    }
   ],
   "source": [
    "fig, solution = show_portfolio(max_shape)"
   ]
  },
  {
   "cell_type": "code",
   "execution_count": 25,
   "metadata": {},
   "outputs": [
    {
     "data": {
      "application/vnd.plotly.v1+json": {
       "config": {
        "plotlyServerURL": "https://plot.ly"
       },
       "data": [
        {
         "domain": {
          "x": [
           0,
           1
          ],
          "y": [
           0.625,
           1
          ]
         },
         "labels": [
          "효성티앤씨",
          "POSCO홀딩스",
          "두산",
          "키움증권",
          "LG전자"
         ],
         "name": "기존 포트폴리오",
         "type": "pie",
         "values": [
          0.40912414490488885,
          0.29739121553061176,
          0.24735245946091736,
          0.026563298878451297,
          0.019568881225130626
         ]
        },
        {
         "domain": {
          "x": [
           0,
           1
          ],
          "y": [
           0,
           0.375
          ]
         },
         "labels": [
          "효성티앤씨",
          "POSCO홀딩스",
          "두산",
          "키움증권",
          "LG전자",
          "채권"
         ],
         "name": "기대수익 포트폴리오",
         "type": "pie",
         "values": [
          0.16796871830780624,
          0.12209599929696184,
          0.10155224545740912,
          0.010905744190868788,
          0.008034138143733905,
          0.58944315460322
         ]
        }
       ],
       "layout": {
        "annotations": [
         {
          "font": {
           "size": 16
          },
          "showarrow": false,
          "text": "<b>포트폴리오",
          "x": 0.5,
          "xanchor": "center",
          "xref": "paper",
          "y": 1,
          "yanchor": "bottom",
          "yref": "paper"
         },
         {
          "font": {
           "size": 16
          },
          "showarrow": false,
          "text": "<b>기대수익을 위한 포트폴리오<br><sup>자기자본의 58.94%만큼 채권투자</sup>",
          "x": 0.5,
          "xanchor": "center",
          "xref": "paper",
          "y": 0.375,
          "yanchor": "bottom",
          "yref": "paper"
         }
        ],
        "height": 600,
        "template": {
         "data": {
          "bar": [
           {
            "error_x": {
             "color": "#2a3f5f"
            },
            "error_y": {
             "color": "#2a3f5f"
            },
            "marker": {
             "line": {
              "color": "#E5ECF6",
              "width": 0.5
             },
             "pattern": {
              "fillmode": "overlay",
              "size": 10,
              "solidity": 0.2
             }
            },
            "type": "bar"
           }
          ],
          "barpolar": [
           {
            "marker": {
             "line": {
              "color": "#E5ECF6",
              "width": 0.5
             },
             "pattern": {
              "fillmode": "overlay",
              "size": 10,
              "solidity": 0.2
             }
            },
            "type": "barpolar"
           }
          ],
          "carpet": [
           {
            "aaxis": {
             "endlinecolor": "#2a3f5f",
             "gridcolor": "white",
             "linecolor": "white",
             "minorgridcolor": "white",
             "startlinecolor": "#2a3f5f"
            },
            "baxis": {
             "endlinecolor": "#2a3f5f",
             "gridcolor": "white",
             "linecolor": "white",
             "minorgridcolor": "white",
             "startlinecolor": "#2a3f5f"
            },
            "type": "carpet"
           }
          ],
          "choropleth": [
           {
            "colorbar": {
             "outlinewidth": 0,
             "ticks": ""
            },
            "type": "choropleth"
           }
          ],
          "contour": [
           {
            "colorbar": {
             "outlinewidth": 0,
             "ticks": ""
            },
            "colorscale": [
             [
              0,
              "#0d0887"
             ],
             [
              0.1111111111111111,
              "#46039f"
             ],
             [
              0.2222222222222222,
              "#7201a8"
             ],
             [
              0.3333333333333333,
              "#9c179e"
             ],
             [
              0.4444444444444444,
              "#bd3786"
             ],
             [
              0.5555555555555556,
              "#d8576b"
             ],
             [
              0.6666666666666666,
              "#ed7953"
             ],
             [
              0.7777777777777778,
              "#fb9f3a"
             ],
             [
              0.8888888888888888,
              "#fdca26"
             ],
             [
              1,
              "#f0f921"
             ]
            ],
            "type": "contour"
           }
          ],
          "contourcarpet": [
           {
            "colorbar": {
             "outlinewidth": 0,
             "ticks": ""
            },
            "type": "contourcarpet"
           }
          ],
          "heatmap": [
           {
            "colorbar": {
             "outlinewidth": 0,
             "ticks": ""
            },
            "colorscale": [
             [
              0,
              "#0d0887"
             ],
             [
              0.1111111111111111,
              "#46039f"
             ],
             [
              0.2222222222222222,
              "#7201a8"
             ],
             [
              0.3333333333333333,
              "#9c179e"
             ],
             [
              0.4444444444444444,
              "#bd3786"
             ],
             [
              0.5555555555555556,
              "#d8576b"
             ],
             [
              0.6666666666666666,
              "#ed7953"
             ],
             [
              0.7777777777777778,
              "#fb9f3a"
             ],
             [
              0.8888888888888888,
              "#fdca26"
             ],
             [
              1,
              "#f0f921"
             ]
            ],
            "type": "heatmap"
           }
          ],
          "heatmapgl": [
           {
            "colorbar": {
             "outlinewidth": 0,
             "ticks": ""
            },
            "colorscale": [
             [
              0,
              "#0d0887"
             ],
             [
              0.1111111111111111,
              "#46039f"
             ],
             [
              0.2222222222222222,
              "#7201a8"
             ],
             [
              0.3333333333333333,
              "#9c179e"
             ],
             [
              0.4444444444444444,
              "#bd3786"
             ],
             [
              0.5555555555555556,
              "#d8576b"
             ],
             [
              0.6666666666666666,
              "#ed7953"
             ],
             [
              0.7777777777777778,
              "#fb9f3a"
             ],
             [
              0.8888888888888888,
              "#fdca26"
             ],
             [
              1,
              "#f0f921"
             ]
            ],
            "type": "heatmapgl"
           }
          ],
          "histogram": [
           {
            "marker": {
             "pattern": {
              "fillmode": "overlay",
              "size": 10,
              "solidity": 0.2
             }
            },
            "type": "histogram"
           }
          ],
          "histogram2d": [
           {
            "colorbar": {
             "outlinewidth": 0,
             "ticks": ""
            },
            "colorscale": [
             [
              0,
              "#0d0887"
             ],
             [
              0.1111111111111111,
              "#46039f"
             ],
             [
              0.2222222222222222,
              "#7201a8"
             ],
             [
              0.3333333333333333,
              "#9c179e"
             ],
             [
              0.4444444444444444,
              "#bd3786"
             ],
             [
              0.5555555555555556,
              "#d8576b"
             ],
             [
              0.6666666666666666,
              "#ed7953"
             ],
             [
              0.7777777777777778,
              "#fb9f3a"
             ],
             [
              0.8888888888888888,
              "#fdca26"
             ],
             [
              1,
              "#f0f921"
             ]
            ],
            "type": "histogram2d"
           }
          ],
          "histogram2dcontour": [
           {
            "colorbar": {
             "outlinewidth": 0,
             "ticks": ""
            },
            "colorscale": [
             [
              0,
              "#0d0887"
             ],
             [
              0.1111111111111111,
              "#46039f"
             ],
             [
              0.2222222222222222,
              "#7201a8"
             ],
             [
              0.3333333333333333,
              "#9c179e"
             ],
             [
              0.4444444444444444,
              "#bd3786"
             ],
             [
              0.5555555555555556,
              "#d8576b"
             ],
             [
              0.6666666666666666,
              "#ed7953"
             ],
             [
              0.7777777777777778,
              "#fb9f3a"
             ],
             [
              0.8888888888888888,
              "#fdca26"
             ],
             [
              1,
              "#f0f921"
             ]
            ],
            "type": "histogram2dcontour"
           }
          ],
          "mesh3d": [
           {
            "colorbar": {
             "outlinewidth": 0,
             "ticks": ""
            },
            "type": "mesh3d"
           }
          ],
          "parcoords": [
           {
            "line": {
             "colorbar": {
              "outlinewidth": 0,
              "ticks": ""
             }
            },
            "type": "parcoords"
           }
          ],
          "pie": [
           {
            "automargin": true,
            "type": "pie"
           }
          ],
          "scatter": [
           {
            "fillpattern": {
             "fillmode": "overlay",
             "size": 10,
             "solidity": 0.2
            },
            "type": "scatter"
           }
          ],
          "scatter3d": [
           {
            "line": {
             "colorbar": {
              "outlinewidth": 0,
              "ticks": ""
             }
            },
            "marker": {
             "colorbar": {
              "outlinewidth": 0,
              "ticks": ""
             }
            },
            "type": "scatter3d"
           }
          ],
          "scattercarpet": [
           {
            "marker": {
             "colorbar": {
              "outlinewidth": 0,
              "ticks": ""
             }
            },
            "type": "scattercarpet"
           }
          ],
          "scattergeo": [
           {
            "marker": {
             "colorbar": {
              "outlinewidth": 0,
              "ticks": ""
             }
            },
            "type": "scattergeo"
           }
          ],
          "scattergl": [
           {
            "marker": {
             "colorbar": {
              "outlinewidth": 0,
              "ticks": ""
             }
            },
            "type": "scattergl"
           }
          ],
          "scattermapbox": [
           {
            "marker": {
             "colorbar": {
              "outlinewidth": 0,
              "ticks": ""
             }
            },
            "type": "scattermapbox"
           }
          ],
          "scatterpolar": [
           {
            "marker": {
             "colorbar": {
              "outlinewidth": 0,
              "ticks": ""
             }
            },
            "type": "scatterpolar"
           }
          ],
          "scatterpolargl": [
           {
            "marker": {
             "colorbar": {
              "outlinewidth": 0,
              "ticks": ""
             }
            },
            "type": "scatterpolargl"
           }
          ],
          "scatterternary": [
           {
            "marker": {
             "colorbar": {
              "outlinewidth": 0,
              "ticks": ""
             }
            },
            "type": "scatterternary"
           }
          ],
          "surface": [
           {
            "colorbar": {
             "outlinewidth": 0,
             "ticks": ""
            },
            "colorscale": [
             [
              0,
              "#0d0887"
             ],
             [
              0.1111111111111111,
              "#46039f"
             ],
             [
              0.2222222222222222,
              "#7201a8"
             ],
             [
              0.3333333333333333,
              "#9c179e"
             ],
             [
              0.4444444444444444,
              "#bd3786"
             ],
             [
              0.5555555555555556,
              "#d8576b"
             ],
             [
              0.6666666666666666,
              "#ed7953"
             ],
             [
              0.7777777777777778,
              "#fb9f3a"
             ],
             [
              0.8888888888888888,
              "#fdca26"
             ],
             [
              1,
              "#f0f921"
             ]
            ],
            "type": "surface"
           }
          ],
          "table": [
           {
            "cells": {
             "fill": {
              "color": "#EBF0F8"
             },
             "line": {
              "color": "white"
             }
            },
            "header": {
             "fill": {
              "color": "#C8D4E3"
             },
             "line": {
              "color": "white"
             }
            },
            "type": "table"
           }
          ]
         },
         "layout": {
          "annotationdefaults": {
           "arrowcolor": "#2a3f5f",
           "arrowhead": 0,
           "arrowwidth": 1
          },
          "autotypenumbers": "strict",
          "coloraxis": {
           "colorbar": {
            "outlinewidth": 0,
            "ticks": ""
           }
          },
          "colorscale": {
           "diverging": [
            [
             0,
             "#8e0152"
            ],
            [
             0.1,
             "#c51b7d"
            ],
            [
             0.2,
             "#de77ae"
            ],
            [
             0.3,
             "#f1b6da"
            ],
            [
             0.4,
             "#fde0ef"
            ],
            [
             0.5,
             "#f7f7f7"
            ],
            [
             0.6,
             "#e6f5d0"
            ],
            [
             0.7,
             "#b8e186"
            ],
            [
             0.8,
             "#7fbc41"
            ],
            [
             0.9,
             "#4d9221"
            ],
            [
             1,
             "#276419"
            ]
           ],
           "sequential": [
            [
             0,
             "#0d0887"
            ],
            [
             0.1111111111111111,
             "#46039f"
            ],
            [
             0.2222222222222222,
             "#7201a8"
            ],
            [
             0.3333333333333333,
             "#9c179e"
            ],
            [
             0.4444444444444444,
             "#bd3786"
            ],
            [
             0.5555555555555556,
             "#d8576b"
            ],
            [
             0.6666666666666666,
             "#ed7953"
            ],
            [
             0.7777777777777778,
             "#fb9f3a"
            ],
            [
             0.8888888888888888,
             "#fdca26"
            ],
            [
             1,
             "#f0f921"
            ]
           ],
           "sequentialminus": [
            [
             0,
             "#0d0887"
            ],
            [
             0.1111111111111111,
             "#46039f"
            ],
            [
             0.2222222222222222,
             "#7201a8"
            ],
            [
             0.3333333333333333,
             "#9c179e"
            ],
            [
             0.4444444444444444,
             "#bd3786"
            ],
            [
             0.5555555555555556,
             "#d8576b"
            ],
            [
             0.6666666666666666,
             "#ed7953"
            ],
            [
             0.7777777777777778,
             "#fb9f3a"
            ],
            [
             0.8888888888888888,
             "#fdca26"
            ],
            [
             1,
             "#f0f921"
            ]
           ]
          },
          "colorway": [
           "#636efa",
           "#EF553B",
           "#00cc96",
           "#ab63fa",
           "#FFA15A",
           "#19d3f3",
           "#FF6692",
           "#B6E880",
           "#FF97FF",
           "#FECB52"
          ],
          "font": {
           "color": "#2a3f5f"
          },
          "geo": {
           "bgcolor": "white",
           "lakecolor": "white",
           "landcolor": "#E5ECF6",
           "showlakes": true,
           "showland": true,
           "subunitcolor": "white"
          },
          "hoverlabel": {
           "align": "left"
          },
          "hovermode": "closest",
          "mapbox": {
           "style": "light"
          },
          "paper_bgcolor": "white",
          "plot_bgcolor": "#E5ECF6",
          "polar": {
           "angularaxis": {
            "gridcolor": "white",
            "linecolor": "white",
            "ticks": ""
           },
           "bgcolor": "#E5ECF6",
           "radialaxis": {
            "gridcolor": "white",
            "linecolor": "white",
            "ticks": ""
           }
          },
          "scene": {
           "xaxis": {
            "backgroundcolor": "#E5ECF6",
            "gridcolor": "white",
            "gridwidth": 2,
            "linecolor": "white",
            "showbackground": true,
            "ticks": "",
            "zerolinecolor": "white"
           },
           "yaxis": {
            "backgroundcolor": "#E5ECF6",
            "gridcolor": "white",
            "gridwidth": 2,
            "linecolor": "white",
            "showbackground": true,
            "ticks": "",
            "zerolinecolor": "white"
           },
           "zaxis": {
            "backgroundcolor": "#E5ECF6",
            "gridcolor": "white",
            "gridwidth": 2,
            "linecolor": "white",
            "showbackground": true,
            "ticks": "",
            "zerolinecolor": "white"
           }
          },
          "shapedefaults": {
           "line": {
            "color": "#2a3f5f"
           }
          },
          "ternary": {
           "aaxis": {
            "gridcolor": "white",
            "linecolor": "white",
            "ticks": ""
           },
           "baxis": {
            "gridcolor": "white",
            "linecolor": "white",
            "ticks": ""
           },
           "bgcolor": "#E5ECF6",
           "caxis": {
            "gridcolor": "white",
            "linecolor": "white",
            "ticks": ""
           }
          },
          "title": {
           "x": 0.05
          },
          "xaxis": {
           "automargin": true,
           "gridcolor": "white",
           "linecolor": "white",
           "ticks": "",
           "title": {
            "standoff": 15
           },
           "zerolinecolor": "white",
           "zerolinewidth": 2
          },
          "yaxis": {
           "automargin": true,
           "gridcolor": "white",
           "linecolor": "white",
           "ticks": "",
           "title": {
            "standoff": 15
           },
           "zerolinecolor": "white",
           "zerolinewidth": 2
          }
         }
        },
        "width": 400
       }
      }
     },
     "metadata": {},
     "output_type": "display_data"
    }
   ],
   "source": [
    "fig.show()"
   ]
  },
  {
   "cell_type": "code",
   "execution_count": 26,
   "metadata": {},
   "outputs": [],
   "source": [
    "def geometric_brownian_motion(tmp,S0, T=100, dt=1/100):\n",
    "    \"\"\"\n",
    "    S0: 초기값\n",
    "    mu: 평균\n",
    "    sigma: 표준 편차\n",
    "    T: 시뮬레이션 시간\n",
    "    dt: 시간 간격\n",
    "    \"\"\"\n",
    "\n",
    "    # Brownian motion\n",
    "    W = np.random.normal(0, 1, (T, 1))\n",
    "\n",
    "    daily_returns = tmp.pct_change().dropna()\n",
    "\n",
    "    # 연간 수익률\n",
    "    mean_return = daily_returns.mean()\n",
    "    annual_return =((1 + mean_return) ** T) - 1\n",
    "\n",
    "    # 변동성 계산\n",
    "    mu = annual_return/T\n",
    "    sigma = daily_returns.std()\n",
    "    \n",
    "    X = np.zeros((T, 1))\n",
    "    X[0] = S0\n",
    "    for t in range(1, T):\n",
    "        X[t] = X[t - 1] * np.exp((mu - sigma ** 2 / 2) * dt + sigma * W[t])\n",
    "\n",
    "    return X\n",
    "    \n",
    "def monte_sim(sim_num,tmp,stocks,stock_money,day=100):\n",
    "    sim_num = sim_num\n",
    "    balance_df = pd.DataFrame(np.zeros((sim_num,day)))\n",
    "    for i in range(len(stocks)):\n",
    "        X = []\n",
    "        for k in range(sim_num):\n",
    "            X.append(geometric_brownian_motion(tmp[stocks[i]],stock_money[stocks[i]].iloc[0]))\n",
    "        balance_df += pd.DataFrame(np.array(X).reshape(sim_num,day))\n",
    "    return balance_df.T"
   ]
  },
  {
   "cell_type": "code",
   "execution_count": 27,
   "metadata": {},
   "outputs": [
    {
     "data": {
      "text/html": [
       "<div>\n",
       "<style scoped>\n",
       "    .dataframe tbody tr th:only-of-type {\n",
       "        vertical-align: middle;\n",
       "    }\n",
       "\n",
       "    .dataframe tbody tr th {\n",
       "        vertical-align: top;\n",
       "    }\n",
       "\n",
       "    .dataframe thead th {\n",
       "        text-align: right;\n",
       "    }\n",
       "</style>\n",
       "<table border=\"1\" class=\"dataframe\">\n",
       "  <thead>\n",
       "    <tr style=\"text-align: right;\">\n",
       "      <th></th>\n",
       "      <th>효성티앤씨</th>\n",
       "      <th>POSCO홀딩스</th>\n",
       "      <th>두산</th>\n",
       "      <th>키움증권</th>\n",
       "      <th>LG전자</th>\n",
       "    </tr>\n",
       "  </thead>\n",
       "  <tbody>\n",
       "    <tr>\n",
       "      <th>4999</th>\n",
       "      <td>409124.144905</td>\n",
       "      <td>297391.215531</td>\n",
       "      <td>247352.459461</td>\n",
       "      <td>26563.298878</td>\n",
       "      <td>19568.881225</td>\n",
       "    </tr>\n",
       "  </tbody>\n",
       "</table>\n",
       "</div>"
      ],
      "text/plain": [
       "              효성티앤씨       POSCO홀딩스             두산          키움증권          LG전자\n",
       "4999  409124.144905  297391.215531  247352.459461  26563.298878  19568.881225"
      ]
     },
     "execution_count": 27,
     "metadata": {},
     "output_type": "execute_result"
    }
   ],
   "source": [
    "balance = 1000000\n",
    "stock_money = max_shape[max_shape.columns[3:]]*balance\n",
    "stock_money"
   ]
  },
  {
   "cell_type": "code",
   "execution_count": 28,
   "metadata": {},
   "outputs": [
    {
     "data": {
      "text/html": [
       "<div>\n",
       "<style scoped>\n",
       "    .dataframe tbody tr th:only-of-type {\n",
       "        vertical-align: middle;\n",
       "    }\n",
       "\n",
       "    .dataframe tbody tr th {\n",
       "        vertical-align: top;\n",
       "    }\n",
       "\n",
       "    .dataframe thead th {\n",
       "        text-align: right;\n",
       "    }\n",
       "</style>\n",
       "<table border=\"1\" class=\"dataframe\">\n",
       "  <thead>\n",
       "    <tr style=\"text-align: right;\">\n",
       "      <th></th>\n",
       "      <th>0</th>\n",
       "      <th>1</th>\n",
       "      <th>2</th>\n",
       "      <th>3</th>\n",
       "      <th>4</th>\n",
       "      <th>5</th>\n",
       "      <th>6</th>\n",
       "      <th>7</th>\n",
       "      <th>8</th>\n",
       "      <th>9</th>\n",
       "      <th>...</th>\n",
       "      <th>990</th>\n",
       "      <th>991</th>\n",
       "      <th>992</th>\n",
       "      <th>993</th>\n",
       "      <th>994</th>\n",
       "      <th>995</th>\n",
       "      <th>996</th>\n",
       "      <th>997</th>\n",
       "      <th>998</th>\n",
       "      <th>999</th>\n",
       "    </tr>\n",
       "  </thead>\n",
       "  <tbody>\n",
       "    <tr>\n",
       "      <th>0</th>\n",
       "      <td>1.000000e+06</td>\n",
       "      <td>1.000000e+06</td>\n",
       "      <td>1.000000e+06</td>\n",
       "      <td>1.000000e+06</td>\n",
       "      <td>1.000000e+06</td>\n",
       "      <td>1.000000e+06</td>\n",
       "      <td>1.000000e+06</td>\n",
       "      <td>1.000000e+06</td>\n",
       "      <td>1.000000e+06</td>\n",
       "      <td>1.000000e+06</td>\n",
       "      <td>...</td>\n",
       "      <td>1.000000e+06</td>\n",
       "      <td>1.000000e+06</td>\n",
       "      <td>1000000.000000</td>\n",
       "      <td>1.000000e+06</td>\n",
       "      <td>1000000.000000</td>\n",
       "      <td>1.000000e+06</td>\n",
       "      <td>1.000000e+06</td>\n",
       "      <td>1.000000e+06</td>\n",
       "      <td>1000000.000000</td>\n",
       "      <td>1.000000e+06</td>\n",
       "    </tr>\n",
       "    <tr>\n",
       "      <th>1</th>\n",
       "      <td>1.023825e+06</td>\n",
       "      <td>9.980647e+05</td>\n",
       "      <td>9.933020e+05</td>\n",
       "      <td>9.981893e+05</td>\n",
       "      <td>9.654610e+05</td>\n",
       "      <td>1.014404e+06</td>\n",
       "      <td>1.035592e+06</td>\n",
       "      <td>1.003492e+06</td>\n",
       "      <td>1.020737e+06</td>\n",
       "      <td>1.007083e+06</td>\n",
       "      <td>...</td>\n",
       "      <td>1.004195e+06</td>\n",
       "      <td>9.901576e+05</td>\n",
       "      <td>978131.129415</td>\n",
       "      <td>1.000112e+06</td>\n",
       "      <td>987091.479271</td>\n",
       "      <td>1.016756e+06</td>\n",
       "      <td>9.712882e+05</td>\n",
       "      <td>1.036438e+06</td>\n",
       "      <td>993947.422955</td>\n",
       "      <td>1.000168e+06</td>\n",
       "    </tr>\n",
       "    <tr>\n",
       "      <th>2</th>\n",
       "      <td>1.017869e+06</td>\n",
       "      <td>9.974745e+05</td>\n",
       "      <td>1.010636e+06</td>\n",
       "      <td>1.006354e+06</td>\n",
       "      <td>9.820614e+05</td>\n",
       "      <td>1.012452e+06</td>\n",
       "      <td>1.025076e+06</td>\n",
       "      <td>1.008924e+06</td>\n",
       "      <td>1.041579e+06</td>\n",
       "      <td>1.029975e+06</td>\n",
       "      <td>...</td>\n",
       "      <td>9.957742e+05</td>\n",
       "      <td>9.940701e+05</td>\n",
       "      <td>963593.784015</td>\n",
       "      <td>9.908939e+05</td>\n",
       "      <td>984041.845157</td>\n",
       "      <td>1.046892e+06</td>\n",
       "      <td>9.965053e+05</td>\n",
       "      <td>1.056333e+06</td>\n",
       "      <td>948130.767845</td>\n",
       "      <td>1.000559e+06</td>\n",
       "    </tr>\n",
       "    <tr>\n",
       "      <th>3</th>\n",
       "      <td>1.018901e+06</td>\n",
       "      <td>1.031715e+06</td>\n",
       "      <td>1.028174e+06</td>\n",
       "      <td>1.033832e+06</td>\n",
       "      <td>9.970071e+05</td>\n",
       "      <td>1.002195e+06</td>\n",
       "      <td>1.029601e+06</td>\n",
       "      <td>1.003575e+06</td>\n",
       "      <td>1.050503e+06</td>\n",
       "      <td>1.040470e+06</td>\n",
       "      <td>...</td>\n",
       "      <td>9.849811e+05</td>\n",
       "      <td>1.024327e+06</td>\n",
       "      <td>928742.728507</td>\n",
       "      <td>1.013093e+06</td>\n",
       "      <td>946036.070453</td>\n",
       "      <td>1.029998e+06</td>\n",
       "      <td>1.019450e+06</td>\n",
       "      <td>1.061183e+06</td>\n",
       "      <td>947251.669096</td>\n",
       "      <td>1.014519e+06</td>\n",
       "    </tr>\n",
       "    <tr>\n",
       "      <th>4</th>\n",
       "      <td>9.786142e+05</td>\n",
       "      <td>1.061070e+06</td>\n",
       "      <td>1.045241e+06</td>\n",
       "      <td>1.040241e+06</td>\n",
       "      <td>1.020346e+06</td>\n",
       "      <td>1.008054e+06</td>\n",
       "      <td>1.057549e+06</td>\n",
       "      <td>1.032152e+06</td>\n",
       "      <td>1.031205e+06</td>\n",
       "      <td>1.033824e+06</td>\n",
       "      <td>...</td>\n",
       "      <td>9.976502e+05</td>\n",
       "      <td>1.014578e+06</td>\n",
       "      <td>942003.401639</td>\n",
       "      <td>1.008985e+06</td>\n",
       "      <td>962670.404364</td>\n",
       "      <td>1.000916e+06</td>\n",
       "      <td>1.029719e+06</td>\n",
       "      <td>1.083979e+06</td>\n",
       "      <td>948095.764525</td>\n",
       "      <td>1.032544e+06</td>\n",
       "    </tr>\n",
       "    <tr>\n",
       "      <th>...</th>\n",
       "      <td>...</td>\n",
       "      <td>...</td>\n",
       "      <td>...</td>\n",
       "      <td>...</td>\n",
       "      <td>...</td>\n",
       "      <td>...</td>\n",
       "      <td>...</td>\n",
       "      <td>...</td>\n",
       "      <td>...</td>\n",
       "      <td>...</td>\n",
       "      <td>...</td>\n",
       "      <td>...</td>\n",
       "      <td>...</td>\n",
       "      <td>...</td>\n",
       "      <td>...</td>\n",
       "      <td>...</td>\n",
       "      <td>...</td>\n",
       "      <td>...</td>\n",
       "      <td>...</td>\n",
       "      <td>...</td>\n",
       "      <td>...</td>\n",
       "    </tr>\n",
       "    <tr>\n",
       "      <th>95</th>\n",
       "      <td>1.126675e+06</td>\n",
       "      <td>1.249602e+06</td>\n",
       "      <td>9.879924e+05</td>\n",
       "      <td>9.793017e+05</td>\n",
       "      <td>1.008658e+06</td>\n",
       "      <td>7.982348e+05</td>\n",
       "      <td>1.389179e+06</td>\n",
       "      <td>9.128242e+05</td>\n",
       "      <td>9.134965e+05</td>\n",
       "      <td>1.318341e+06</td>\n",
       "      <td>...</td>\n",
       "      <td>1.074960e+06</td>\n",
       "      <td>1.209279e+06</td>\n",
       "      <td>782460.552332</td>\n",
       "      <td>1.300320e+06</td>\n",
       "      <td>931970.891558</td>\n",
       "      <td>1.165344e+06</td>\n",
       "      <td>1.186221e+06</td>\n",
       "      <td>1.262127e+06</td>\n",
       "      <td>851896.173151</td>\n",
       "      <td>1.118717e+06</td>\n",
       "    </tr>\n",
       "    <tr>\n",
       "      <th>96</th>\n",
       "      <td>1.157942e+06</td>\n",
       "      <td>1.260334e+06</td>\n",
       "      <td>1.024068e+06</td>\n",
       "      <td>9.975382e+05</td>\n",
       "      <td>9.923419e+05</td>\n",
       "      <td>8.005076e+05</td>\n",
       "      <td>1.330388e+06</td>\n",
       "      <td>9.310462e+05</td>\n",
       "      <td>8.996304e+05</td>\n",
       "      <td>1.275061e+06</td>\n",
       "      <td>...</td>\n",
       "      <td>1.070911e+06</td>\n",
       "      <td>1.196522e+06</td>\n",
       "      <td>780082.256396</td>\n",
       "      <td>1.309349e+06</td>\n",
       "      <td>942411.309404</td>\n",
       "      <td>1.166626e+06</td>\n",
       "      <td>1.152907e+06</td>\n",
       "      <td>1.236288e+06</td>\n",
       "      <td>843715.812025</td>\n",
       "      <td>1.116183e+06</td>\n",
       "    </tr>\n",
       "    <tr>\n",
       "      <th>97</th>\n",
       "      <td>1.161026e+06</td>\n",
       "      <td>1.232175e+06</td>\n",
       "      <td>1.014350e+06</td>\n",
       "      <td>1.001481e+06</td>\n",
       "      <td>9.906548e+05</td>\n",
       "      <td>7.859275e+05</td>\n",
       "      <td>1.328771e+06</td>\n",
       "      <td>9.168280e+05</td>\n",
       "      <td>8.935099e+05</td>\n",
       "      <td>1.238058e+06</td>\n",
       "      <td>...</td>\n",
       "      <td>1.107332e+06</td>\n",
       "      <td>1.245345e+06</td>\n",
       "      <td>768797.755356</td>\n",
       "      <td>1.322562e+06</td>\n",
       "      <td>942393.181931</td>\n",
       "      <td>1.168258e+06</td>\n",
       "      <td>1.159091e+06</td>\n",
       "      <td>1.231669e+06</td>\n",
       "      <td>861912.365180</td>\n",
       "      <td>1.103236e+06</td>\n",
       "    </tr>\n",
       "    <tr>\n",
       "      <th>98</th>\n",
       "      <td>1.136210e+06</td>\n",
       "      <td>1.254548e+06</td>\n",
       "      <td>1.016054e+06</td>\n",
       "      <td>1.018936e+06</td>\n",
       "      <td>9.951810e+05</td>\n",
       "      <td>7.731735e+05</td>\n",
       "      <td>1.346181e+06</td>\n",
       "      <td>9.139038e+05</td>\n",
       "      <td>8.646235e+05</td>\n",
       "      <td>1.243833e+06</td>\n",
       "      <td>...</td>\n",
       "      <td>1.106649e+06</td>\n",
       "      <td>1.193209e+06</td>\n",
       "      <td>757291.373830</td>\n",
       "      <td>1.275611e+06</td>\n",
       "      <td>933193.161452</td>\n",
       "      <td>1.166027e+06</td>\n",
       "      <td>1.171884e+06</td>\n",
       "      <td>1.223473e+06</td>\n",
       "      <td>853347.873416</td>\n",
       "      <td>1.086117e+06</td>\n",
       "    </tr>\n",
       "    <tr>\n",
       "      <th>99</th>\n",
       "      <td>1.138652e+06</td>\n",
       "      <td>1.241336e+06</td>\n",
       "      <td>1.015747e+06</td>\n",
       "      <td>1.020302e+06</td>\n",
       "      <td>9.632197e+05</td>\n",
       "      <td>7.868147e+05</td>\n",
       "      <td>1.302942e+06</td>\n",
       "      <td>9.077946e+05</td>\n",
       "      <td>8.513035e+05</td>\n",
       "      <td>1.245132e+06</td>\n",
       "      <td>...</td>\n",
       "      <td>1.124865e+06</td>\n",
       "      <td>1.193614e+06</td>\n",
       "      <td>765989.662726</td>\n",
       "      <td>1.295813e+06</td>\n",
       "      <td>938201.430414</td>\n",
       "      <td>1.191604e+06</td>\n",
       "      <td>1.149316e+06</td>\n",
       "      <td>1.210143e+06</td>\n",
       "      <td>847440.542603</td>\n",
       "      <td>1.091606e+06</td>\n",
       "    </tr>\n",
       "  </tbody>\n",
       "</table>\n",
       "<p>100 rows × 1000 columns</p>\n",
       "</div>"
      ],
      "text/plain": [
       "             0             1             2             3             4    \\\n",
       "0   1.000000e+06  1.000000e+06  1.000000e+06  1.000000e+06  1.000000e+06   \n",
       "1   1.023825e+06  9.980647e+05  9.933020e+05  9.981893e+05  9.654610e+05   \n",
       "2   1.017869e+06  9.974745e+05  1.010636e+06  1.006354e+06  9.820614e+05   \n",
       "3   1.018901e+06  1.031715e+06  1.028174e+06  1.033832e+06  9.970071e+05   \n",
       "4   9.786142e+05  1.061070e+06  1.045241e+06  1.040241e+06  1.020346e+06   \n",
       "..           ...           ...           ...           ...           ...   \n",
       "95  1.126675e+06  1.249602e+06  9.879924e+05  9.793017e+05  1.008658e+06   \n",
       "96  1.157942e+06  1.260334e+06  1.024068e+06  9.975382e+05  9.923419e+05   \n",
       "97  1.161026e+06  1.232175e+06  1.014350e+06  1.001481e+06  9.906548e+05   \n",
       "98  1.136210e+06  1.254548e+06  1.016054e+06  1.018936e+06  9.951810e+05   \n",
       "99  1.138652e+06  1.241336e+06  1.015747e+06  1.020302e+06  9.632197e+05   \n",
       "\n",
       "             5             6             7             8             9    ...  \\\n",
       "0   1.000000e+06  1.000000e+06  1.000000e+06  1.000000e+06  1.000000e+06  ...   \n",
       "1   1.014404e+06  1.035592e+06  1.003492e+06  1.020737e+06  1.007083e+06  ...   \n",
       "2   1.012452e+06  1.025076e+06  1.008924e+06  1.041579e+06  1.029975e+06  ...   \n",
       "3   1.002195e+06  1.029601e+06  1.003575e+06  1.050503e+06  1.040470e+06  ...   \n",
       "4   1.008054e+06  1.057549e+06  1.032152e+06  1.031205e+06  1.033824e+06  ...   \n",
       "..           ...           ...           ...           ...           ...  ...   \n",
       "95  7.982348e+05  1.389179e+06  9.128242e+05  9.134965e+05  1.318341e+06  ...   \n",
       "96  8.005076e+05  1.330388e+06  9.310462e+05  8.996304e+05  1.275061e+06  ...   \n",
       "97  7.859275e+05  1.328771e+06  9.168280e+05  8.935099e+05  1.238058e+06  ...   \n",
       "98  7.731735e+05  1.346181e+06  9.139038e+05  8.646235e+05  1.243833e+06  ...   \n",
       "99  7.868147e+05  1.302942e+06  9.077946e+05  8.513035e+05  1.245132e+06  ...   \n",
       "\n",
       "             990           991             992           993             994  \\\n",
       "0   1.000000e+06  1.000000e+06  1000000.000000  1.000000e+06  1000000.000000   \n",
       "1   1.004195e+06  9.901576e+05   978131.129415  1.000112e+06   987091.479271   \n",
       "2   9.957742e+05  9.940701e+05   963593.784015  9.908939e+05   984041.845157   \n",
       "3   9.849811e+05  1.024327e+06   928742.728507  1.013093e+06   946036.070453   \n",
       "4   9.976502e+05  1.014578e+06   942003.401639  1.008985e+06   962670.404364   \n",
       "..           ...           ...             ...           ...             ...   \n",
       "95  1.074960e+06  1.209279e+06   782460.552332  1.300320e+06   931970.891558   \n",
       "96  1.070911e+06  1.196522e+06   780082.256396  1.309349e+06   942411.309404   \n",
       "97  1.107332e+06  1.245345e+06   768797.755356  1.322562e+06   942393.181931   \n",
       "98  1.106649e+06  1.193209e+06   757291.373830  1.275611e+06   933193.161452   \n",
       "99  1.124865e+06  1.193614e+06   765989.662726  1.295813e+06   938201.430414   \n",
       "\n",
       "             995           996           997             998           999  \n",
       "0   1.000000e+06  1.000000e+06  1.000000e+06  1000000.000000  1.000000e+06  \n",
       "1   1.016756e+06  9.712882e+05  1.036438e+06   993947.422955  1.000168e+06  \n",
       "2   1.046892e+06  9.965053e+05  1.056333e+06   948130.767845  1.000559e+06  \n",
       "3   1.029998e+06  1.019450e+06  1.061183e+06   947251.669096  1.014519e+06  \n",
       "4   1.000916e+06  1.029719e+06  1.083979e+06   948095.764525  1.032544e+06  \n",
       "..           ...           ...           ...             ...           ...  \n",
       "95  1.165344e+06  1.186221e+06  1.262127e+06   851896.173151  1.118717e+06  \n",
       "96  1.166626e+06  1.152907e+06  1.236288e+06   843715.812025  1.116183e+06  \n",
       "97  1.168258e+06  1.159091e+06  1.231669e+06   861912.365180  1.103236e+06  \n",
       "98  1.166027e+06  1.171884e+06  1.223473e+06   853347.873416  1.086117e+06  \n",
       "99  1.191604e+06  1.149316e+06  1.210143e+06   847440.542603  1.091606e+06  \n",
       "\n",
       "[100 rows x 1000 columns]"
      ]
     },
     "execution_count": 28,
     "metadata": {},
     "output_type": "execute_result"
    }
   ],
   "source": [
    "sim_num = 1000\n",
    "balance_df = monte_sim(sim_num,before_data,stocks,stock_money)\n",
    "balance_df"
   ]
  },
  {
   "cell_type": "code",
   "execution_count": 29,
   "metadata": {},
   "outputs": [
    {
     "data": {
      "image/png": "[encoded data removed]",
      "text/plain": [
       "<Figure size 640x480 with 1 Axes>"
      ]
     },
     "metadata": {},
     "output_type": "display_data"
    }
   ],
   "source": [
    "plt.hist(balance_df.iloc[99])\n",
    "plt.show()"
   ]
  },
  {
   "cell_type": "code",
   "execution_count": 30,
   "metadata": {},
   "outputs": [],
   "source": [
    "import plotly.express as px\n",
    "def get_simret(balance_df,balance,port_weigth,solution,now_data=None,kospi200=None):\n",
    "    tmp3 = pd.DataFrame()\n",
    "    for i in [0.9,0.75,0.5,0.25,0.1]:\n",
    "        lst = []\n",
    "        idx = balance_df.T[balance_df.iloc[-1] >= balance_df.iloc[-1].quantile(i)][99].sort_values().index[0]\n",
    "        for k in range(19,100,20):\n",
    "            lst.append((balance_df.T.iloc[idx].iloc[k]-balance)/balance*100)\n",
    "        tmp3[f'{100-i*100}%'] = lst\n",
    "\n",
    "    tmp3.index=[f\"{i}month\" for i in range(1,6)]\n",
    "    tmp3.columns =['호황','상승','평년','하락','불황']\n",
    "    if now_data is not None:\n",
    "        future_data = now_data[(now_data.index >before_data.index.max())&(now_data.index < dt.datetime(2023,8,2))]\n",
    "        future_data = future_data[stocks].groupby(future_data.index.to_period('M')).first()\n",
    "        future_data = (future_data/future_data.iloc[0]-1).drop(index=future_data.index[0])\n",
    "        tmp3['real'] = ((future_data*port_weigth).sum(axis=1)*100).to_list()\n",
    "    tmp3 = tmp3*(1-solution) + rf*solution*100\n",
    "    if kospi200 is not None:\n",
    "        f_kospi =kospi200[(kospi200.index >before_data.index.max())&(kospi200.index < dt.datetime(2023,8,2))]\n",
    "        f_kospi = f_kospi.groupby(f_kospi.index.to_period('M')).first()\n",
    "        f_kospi = (f_kospi/f_kospi.iloc[0]-1).drop(index=f_kospi.index[0])\n",
    "        tmp3['KOSPI'] = (f_kospi*100).to_list()\n",
    "\n",
    "    return tmp3"
   ]
  },
  {
   "cell_type": "code",
   "execution_count": 31,
   "metadata": {},
   "outputs": [
    {
     "data": {
      "text/plain": [
       "array([[0.40912414, 0.29739122, 0.24735246, 0.0265633 , 0.01956888]])"
      ]
     },
     "execution_count": 31,
     "metadata": {},
     "output_type": "execute_result"
    }
   ],
   "source": [
    "port_weigth = max_shape[max_shape.columns[3:]].values\n",
    "port_weigth"
   ]
  },
  {
   "cell_type": "code",
   "execution_count": 32,
   "metadata": {},
   "outputs": [
    {
     "data": {
      "text/html": [
       "<div>\n",
       "<style scoped>\n",
       "    .dataframe tbody tr th:only-of-type {\n",
       "        vertical-align: middle;\n",
       "    }\n",
       "\n",
       "    .dataframe tbody tr th {\n",
       "        vertical-align: top;\n",
       "    }\n",
       "\n",
       "    .dataframe thead th {\n",
       "        text-align: right;\n",
       "    }\n",
       "</style>\n",
       "<table border=\"1\" class=\"dataframe\">\n",
       "  <thead>\n",
       "    <tr style=\"text-align: right;\">\n",
       "      <th></th>\n",
       "      <th>호황</th>\n",
       "      <th>상승</th>\n",
       "      <th>평년</th>\n",
       "      <th>하락</th>\n",
       "      <th>불황</th>\n",
       "      <th>real</th>\n",
       "      <th>KOSPI</th>\n",
       "    </tr>\n",
       "  </thead>\n",
       "  <tbody>\n",
       "    <tr>\n",
       "      <th>1month</th>\n",
       "      <td>1.504750</td>\n",
       "      <td>6.009856</td>\n",
       "      <td>5.748828</td>\n",
       "      <td>1.264847</td>\n",
       "      <td>-2.948639</td>\n",
       "      <td>2.649252</td>\n",
       "      <td>1.302726</td>\n",
       "    </tr>\n",
       "    <tr>\n",
       "      <th>2month</th>\n",
       "      <td>5.613674</td>\n",
       "      <td>9.491676</td>\n",
       "      <td>2.921733</td>\n",
       "      <td>0.439889</td>\n",
       "      <td>-10.198005</td>\n",
       "      <td>1.017752</td>\n",
       "      <td>4.056789</td>\n",
       "    </tr>\n",
       "    <tr>\n",
       "      <th>3month</th>\n",
       "      <td>8.082262</td>\n",
       "      <td>17.888040</td>\n",
       "      <td>1.693946</td>\n",
       "      <td>-4.368607</td>\n",
       "      <td>-11.407622</td>\n",
       "      <td>-0.499676</td>\n",
       "      <td>6.899387</td>\n",
       "    </tr>\n",
       "    <tr>\n",
       "      <th>4month</th>\n",
       "      <td>10.766297</td>\n",
       "      <td>10.049714</td>\n",
       "      <td>0.325977</td>\n",
       "      <td>-1.155278</td>\n",
       "      <td>-11.121546</td>\n",
       "      <td>0.319016</td>\n",
       "      <td>8.480364</td>\n",
       "    </tr>\n",
       "    <tr>\n",
       "      <th>5month</th>\n",
       "      <td>13.245977</td>\n",
       "      <td>8.329161</td>\n",
       "      <td>3.364703</td>\n",
       "      <td>-1.377247</td>\n",
       "      <td>-5.352784</td>\n",
       "      <td>9.637597</td>\n",
       "      <td>10.984633</td>\n",
       "    </tr>\n",
       "  </tbody>\n",
       "</table>\n",
       "</div>"
      ],
      "text/plain": [
       "               호황         상승        평년        하락         불황      real  \\\n",
       "1month   1.504750   6.009856  5.748828  1.264847  -2.948639  2.649252   \n",
       "2month   5.613674   9.491676  2.921733  0.439889 -10.198005  1.017752   \n",
       "3month   8.082262  17.888040  1.693946 -4.368607 -11.407622 -0.499676   \n",
       "4month  10.766297  10.049714  0.325977 -1.155278 -11.121546  0.319016   \n",
       "5month  13.245977   8.329161  3.364703 -1.377247  -5.352784  9.637597   \n",
       "\n",
       "            KOSPI  \n",
       "1month   1.302726  \n",
       "2month   4.056789  \n",
       "3month   6.899387  \n",
       "4month   8.480364  \n",
       "5month  10.984633  "
      ]
     },
     "metadata": {},
     "output_type": "display_data"
    },
    {
     "data": {
      "application/vnd.plotly.v1+json": {
       "config": {
        "plotlyServerURL": "https://plot.ly"
       },
       "data": [
        {
         "hovertemplate": "variable=호황<br>index=%{x}<br>value=%{y}<extra></extra>",
         "legendgroup": "호황",
         "line": {
          "color": "#636efa",
          "dash": "solid"
         },
         "marker": {
          "symbol": "circle"
         },
         "mode": "lines",
         "name": "호황",
         "orientation": "v",
         "showlegend": true,
         "type": "scatter",
         "x": [
          "1month",
          "2month",
          "3month",
          "4month",
          "5month"
         ],
         "xaxis": "x",
         "y": [
          1.5047501639515997,
          5.613674108281449,
          8.082261706355926,
          10.76629677569564,
          13.24597689729031
         ],
         "yaxis": "y"
        },
        {
         "hovertemplate": "variable=상승<br>index=%{x}<br>value=%{y}<extra></extra>",
         "legendgroup": "상승",
         "line": {
          "color": "#EF553B",
          "dash": "solid"
         },
         "marker": {
          "symbol": "circle"
         },
         "mode": "lines",
         "name": "상승",
         "orientation": "v",
         "showlegend": true,
         "type": "scatter",
         "x": [
          "1month",
          "2month",
          "3month",
          "4month",
          "5month"
         ],
         "xaxis": "x",
         "y": [
          6.009855621762981,
          9.491676435526,
          17.888040418756553,
          10.049713937751113,
          8.329161247902531
         ],
         "yaxis": "y"
        },
        {
         "hovertemplate": "variable=평년<br>index=%{x}<br>value=%{y}<extra></extra>",
         "legendgroup": "평년",
         "line": {
          "color": "#00cc96",
          "dash": "solid"
         },
         "marker": {
          "symbol": "circle"
         },
         "mode": "lines",
         "name": "평년",
         "orientation": "v",
         "showlegend": true,
         "type": "scatter",
         "x": [
          "1month",
          "2month",
          "3month",
          "4month",
          "5month"
         ],
         "xaxis": "x",
         "y": [
          5.7488284275082275,
          2.921733223113047,
          1.6939457976741936,
          0.32597656065421843,
          3.3647028999580555
         ],
         "yaxis": "y"
        },
        {
         "hovertemplate": "variable=하락<br>index=%{x}<br>value=%{y}<extra></extra>",
         "legendgroup": "하락",
         "line": {
          "color": "#ab63fa",
          "dash": "solid"
         },
         "marker": {
          "symbol": "circle"
         },
         "mode": "lines",
         "name": "하락",
         "orientation": "v",
         "showlegend": true,
         "type": "scatter",
         "x": [
          "1month",
          "2month",
          "3month",
          "4month",
          "5month"
         ],
         "xaxis": "x",
         "y": [
          1.2648472568377767,
          0.4398885579323293,
          -4.368606685088551,
          -1.1552783086392848,
          -1.3772466704587845
         ],
         "yaxis": "y"
        },
        {
         "hovertemplate": "variable=불황<br>index=%{x}<br>value=%{y}<extra></extra>",
         "legendgroup": "불황",
         "line": {
          "color": "#FFA15A",
          "dash": "solid"
         },
         "marker": {
          "symbol": "circle"
         },
         "mode": "lines",
         "name": "불황",
         "orientation": "v",
         "showlegend": true,
         "type": "scatter",
         "x": [
          "1month",
          "2month",
          "3month",
          "4month",
          "5month"
         ],
         "xaxis": "x",
         "y": [
          -2.9486386864623024,
          -10.198005356891073,
          -11.407621572720078,
          -11.121546321829165,
          -5.352783985509236
         ],
         "yaxis": "y"
        },
        {
         "hovertemplate": "variable=real<br>index=%{x}<br>value=%{y}<extra></extra>",
         "legendgroup": "real",
         "line": {
          "color": "#19d3f3",
          "dash": "solid"
         },
         "marker": {
          "symbol": "circle"
         },
         "mode": "lines",
         "name": "real",
         "orientation": "v",
         "showlegend": true,
         "type": "scatter",
         "x": [
          "1month",
          "2month",
          "3month",
          "4month",
          "5month"
         ],
         "xaxis": "x",
         "y": [
          2.649251974977298,
          1.017751550455833,
          -0.49967612317983123,
          0.31901589030980726,
          9.637596933827668
         ],
         "yaxis": "y"
        },
        {
         "hovertemplate": "variable=KOSPI<br>index=%{x}<br>value=%{y}<extra></extra>",
         "legendgroup": "KOSPI",
         "line": {
          "color": "#FF6692",
          "dash": "solid"
         },
         "marker": {
          "symbol": "circle"
         },
         "mode": "lines",
         "name": "KOSPI",
         "orientation": "v",
         "showlegend": true,
         "type": "scatter",
         "x": [
          "1month",
          "2month",
          "3month",
          "4month",
          "5month"
         ],
         "xaxis": "x",
         "y": [
          1.3027256055144543,
          4.0567887181433,
          6.899386580661471,
          8.480364257256689,
          10.984632896983504
         ],
         "yaxis": "y"
        }
       ],
       "layout": {
        "legend": {
         "title": {
          "text": "variable"
         },
         "tracegroupgap": 0
        },
        "margin": {
         "t": 60
        },
        "template": {
         "data": {
          "bar": [
           {
            "error_x": {
             "color": "#2a3f5f"
            },
            "error_y": {
             "color": "#2a3f5f"
            },
            "marker": {
             "line": {
              "color": "#E5ECF6",
              "width": 0.5
             },
             "pattern": {
              "fillmode": "overlay",
              "size": 10,
              "solidity": 0.2
             }
            },
            "type": "bar"
           }
          ],
          "barpolar": [
           {
            "marker": {
             "line": {
              "color": "#E5ECF6",
              "width": 0.5
             },
             "pattern": {
              "fillmode": "overlay",
              "size": 10,
              "solidity": 0.2
             }
            },
            "type": "barpolar"
           }
          ],
          "carpet": [
           {
            "aaxis": {
             "endlinecolor": "#2a3f5f",
             "gridcolor": "white",
             "linecolor": "white",
             "minorgridcolor": "white",
             "startlinecolor": "#2a3f5f"
            },
            "baxis": {
             "endlinecolor": "#2a3f5f",
             "gridcolor": "white",
             "linecolor": "white",
             "minorgridcolor": "white",
             "startlinecolor": "#2a3f5f"
            },
            "type": "carpet"
           }
          ],
          "choropleth": [
           {
            "colorbar": {
             "outlinewidth": 0,
             "ticks": ""
            },
            "type": "choropleth"
           }
          ],
          "contour": [
           {
            "colorbar": {
             "outlinewidth": 0,
             "ticks": ""
            },
            "colorscale": [
             [
              0,
              "#0d0887"
             ],
             [
              0.1111111111111111,
              "#46039f"
             ],
             [
              0.2222222222222222,
              "#7201a8"
             ],
             [
              0.3333333333333333,
              "#9c179e"
             ],
             [
              0.4444444444444444,
              "#bd3786"
             ],
             [
              0.5555555555555556,
              "#d8576b"
             ],
             [
              0.6666666666666666,
              "#ed7953"
             ],
             [
              0.7777777777777778,
              "#fb9f3a"
             ],
             [
              0.8888888888888888,
              "#fdca26"
             ],
             [
              1,
              "#f0f921"
             ]
            ],
            "type": "contour"
           }
          ],
          "contourcarpet": [
           {
            "colorbar": {
             "outlinewidth": 0,
             "ticks": ""
            },
            "type": "contourcarpet"
           }
          ],
          "heatmap": [
           {
            "colorbar": {
             "outlinewidth": 0,
             "ticks": ""
            },
            "colorscale": [
             [
              0,
              "#0d0887"
             ],
             [
              0.1111111111111111,
              "#46039f"
             ],
             [
              0.2222222222222222,
              "#7201a8"
             ],
             [
              0.3333333333333333,
              "#9c179e"
             ],
             [
              0.4444444444444444,
              "#bd3786"
             ],
             [
              0.5555555555555556,
              "#d8576b"
             ],
             [
              0.6666666666666666,
              "#ed7953"
             ],
             [
              0.7777777777777778,
              "#fb9f3a"
             ],
             [
              0.8888888888888888,
              "#fdca26"
             ],
             [
              1,
              "#f0f921"
             ]
            ],
            "type": "heatmap"
           }
          ],
          "heatmapgl": [
           {
            "colorbar": {
             "outlinewidth": 0,
             "ticks": ""
            },
            "colorscale": [
             [
              0,
              "#0d0887"
             ],
             [
              0.1111111111111111,
              "#46039f"
             ],
             [
              0.2222222222222222,
              "#7201a8"
             ],
             [
              0.3333333333333333,
              "#9c179e"
             ],
             [
              0.4444444444444444,
              "#bd3786"
             ],
             [
              0.5555555555555556,
              "#d8576b"
             ],
             [
              0.6666666666666666,
              "#ed7953"
             ],
             [
              0.7777777777777778,
              "#fb9f3a"
             ],
             [
              0.8888888888888888,
              "#fdca26"
             ],
             [
              1,
              "#f0f921"
             ]
            ],
            "type": "heatmapgl"
           }
          ],
          "histogram": [
           {
            "marker": {
             "pattern": {
              "fillmode": "overlay",
              "size": 10,
              "solidity": 0.2
             }
            },
            "type": "histogram"
           }
          ],
          "histogram2d": [
           {
            "colorbar": {
             "outlinewidth": 0,
             "ticks": ""
            },
            "colorscale": [
             [
              0,
              "#0d0887"
             ],
             [
              0.1111111111111111,
              "#46039f"
             ],
             [
              0.2222222222222222,
              "#7201a8"
             ],
             [
              0.3333333333333333,
              "#9c179e"
             ],
             [
              0.4444444444444444,
              "#bd3786"
             ],
             [
              0.5555555555555556,
              "#d8576b"
             ],
             [
              0.6666666666666666,
              "#ed7953"
             ],
             [
              0.7777777777777778,
              "#fb9f3a"
             ],
             [
              0.8888888888888888,
              "#fdca26"
             ],
             [
              1,
              "#f0f921"
             ]
            ],
            "type": "histogram2d"
           }
          ],
          "histogram2dcontour": [
           {
            "colorbar": {
             "outlinewidth": 0,
             "ticks": ""
            },
            "colorscale": [
             [
              0,
              "#0d0887"
             ],
             [
              0.1111111111111111,
              "#46039f"
             ],
             [
              0.2222222222222222,
              "#7201a8"
             ],
             [
              0.3333333333333333,
              "#9c179e"
             ],
             [
              0.4444444444444444,
              "#bd3786"
             ],
             [
              0.5555555555555556,
              "#d8576b"
             ],
             [
              0.6666666666666666,
              "#ed7953"
             ],
             [
              0.7777777777777778,
              "#fb9f3a"
             ],
             [
              0.8888888888888888,
              "#fdca26"
             ],
             [
              1,
              "#f0f921"
             ]
            ],
            "type": "histogram2dcontour"
           }
          ],
          "mesh3d": [
           {
            "colorbar": {
             "outlinewidth": 0,
             "ticks": ""
            },
            "type": "mesh3d"
           }
          ],
          "parcoords": [
           {
            "line": {
             "colorbar": {
              "outlinewidth": 0,
              "ticks": ""
             }
            },
            "type": "parcoords"
           }
          ],
          "pie": [
           {
            "automargin": true,
            "type": "pie"
           }
          ],
          "scatter": [
           {
            "fillpattern": {
             "fillmode": "overlay",
             "size": 10,
             "solidity": 0.2
            },
            "type": "scatter"
           }
          ],
          "scatter3d": [
           {
            "line": {
             "colorbar": {
              "outlinewidth": 0,
              "ticks": ""
             }
            },
            "marker": {
             "colorbar": {
              "outlinewidth": 0,
              "ticks": ""
             }
            },
            "type": "scatter3d"
           }
          ],
          "scattercarpet": [
           {
            "marker": {
             "colorbar": {
              "outlinewidth": 0,
              "ticks": ""
             }
            },
            "type": "scattercarpet"
           }
          ],
          "scattergeo": [
           {
            "marker": {
             "colorbar": {
              "outlinewidth": 0,
              "ticks": ""
             }
            },
            "type": "scattergeo"
           }
          ],
          "scattergl": [
           {
            "marker": {
             "colorbar": {
              "outlinewidth": 0,
              "ticks": ""
             }
            },
            "type": "scattergl"
           }
          ],
          "scattermapbox": [
           {
            "marker": {
             "colorbar": {
              "outlinewidth": 0,
              "ticks": ""
             }
            },
            "type": "scattermapbox"
           }
          ],
          "scatterpolar": [
           {
            "marker": {
             "colorbar": {
              "outlinewidth": 0,
              "ticks": ""
             }
            },
            "type": "scatterpolar"
           }
          ],
          "scatterpolargl": [
           {
            "marker": {
             "colorbar": {
              "outlinewidth": 0,
              "ticks": ""
             }
            },
            "type": "scatterpolargl"
           }
          ],
          "scatterternary": [
           {
            "marker": {
             "colorbar": {
              "outlinewidth": 0,
              "ticks": ""
             }
            },
            "type": "scatterternary"
           }
          ],
          "surface": [
           {
            "colorbar": {
             "outlinewidth": 0,
             "ticks": ""
            },
            "colorscale": [
             [
              0,
              "#0d0887"
             ],
             [
              0.1111111111111111,
              "#46039f"
             ],
             [
              0.2222222222222222,
              "#7201a8"
             ],
             [
              0.3333333333333333,
              "#9c179e"
             ],
             [
              0.4444444444444444,
              "#bd3786"
             ],
             [
              0.5555555555555556,
              "#d8576b"
             ],
             [
              0.6666666666666666,
              "#ed7953"
             ],
             [
              0.7777777777777778,
              "#fb9f3a"
             ],
             [
              0.8888888888888888,
              "#fdca26"
             ],
             [
              1,
              "#f0f921"
             ]
            ],
            "type": "surface"
           }
          ],
          "table": [
           {
            "cells": {
             "fill": {
              "color": "#EBF0F8"
             },
             "line": {
              "color": "white"
             }
            },
            "header": {
             "fill": {
              "color": "#C8D4E3"
             },
             "line": {
              "color": "white"
             }
            },
            "type": "table"
           }
          ]
         },
         "layout": {
          "annotationdefaults": {
           "arrowcolor": "#2a3f5f",
           "arrowhead": 0,
           "arrowwidth": 1
          },
          "autotypenumbers": "strict",
          "coloraxis": {
           "colorbar": {
            "outlinewidth": 0,
            "ticks": ""
           }
          },
          "colorscale": {
           "diverging": [
            [
             0,
             "#8e0152"
            ],
            [
             0.1,
             "#c51b7d"
            ],
            [
             0.2,
             "#de77ae"
            ],
            [
             0.3,
             "#f1b6da"
            ],
            [
             0.4,
             "#fde0ef"
            ],
            [
             0.5,
             "#f7f7f7"
            ],
            [
             0.6,
             "#e6f5d0"
            ],
            [
             0.7,
             "#b8e186"
            ],
            [
             0.8,
             "#7fbc41"
            ],
            [
             0.9,
             "#4d9221"
            ],
            [
             1,
             "#276419"
            ]
           ],
           "sequential": [
            [
             0,
             "#0d0887"
            ],
            [
             0.1111111111111111,
             "#46039f"
            ],
            [
             0.2222222222222222,
             "#7201a8"
            ],
            [
             0.3333333333333333,
             "#9c179e"
            ],
            [
             0.4444444444444444,
             "#bd3786"
            ],
            [
             0.5555555555555556,
             "#d8576b"
            ],
            [
             0.6666666666666666,
             "#ed7953"
            ],
            [
             0.7777777777777778,
             "#fb9f3a"
            ],
            [
             0.8888888888888888,
             "#fdca26"
            ],
            [
             1,
             "#f0f921"
            ]
           ],
           "sequentialminus": [
            [
             0,
             "#0d0887"
            ],
            [
             0.1111111111111111,
             "#46039f"
            ],
            [
             0.2222222222222222,
             "#7201a8"
            ],
            [
             0.3333333333333333,
             "#9c179e"
            ],
            [
             0.4444444444444444,
             "#bd3786"
            ],
            [
             0.5555555555555556,
             "#d8576b"
            ],
            [
             0.6666666666666666,
             "#ed7953"
            ],
            [
             0.7777777777777778,
             "#fb9f3a"
            ],
            [
             0.8888888888888888,
             "#fdca26"
            ],
            [
             1,
             "#f0f921"
            ]
           ]
          },
          "colorway": [
           "#636efa",
           "#EF553B",
           "#00cc96",
           "#ab63fa",
           "#FFA15A",
           "#19d3f3",
           "#FF6692",
           "#B6E880",
           "#FF97FF",
           "#FECB52"
          ],
          "font": {
           "color": "#2a3f5f"
          },
          "geo": {
           "bgcolor": "white",
           "lakecolor": "white",
           "landcolor": "#E5ECF6",
           "showlakes": true,
           "showland": true,
           "subunitcolor": "white"
          },
          "hoverlabel": {
           "align": "left"
          },
          "hovermode": "closest",
          "mapbox": {
           "style": "light"
          },
          "paper_bgcolor": "white",
          "plot_bgcolor": "#E5ECF6",
          "polar": {
           "angularaxis": {
            "gridcolor": "white",
            "linecolor": "white",
            "ticks": ""
           },
           "bgcolor": "#E5ECF6",
           "radialaxis": {
            "gridcolor": "white",
            "linecolor": "white",
            "ticks": ""
           }
          },
          "scene": {
           "xaxis": {
            "backgroundcolor": "#E5ECF6",
            "gridcolor": "white",
            "gridwidth": 2,
            "linecolor": "white",
            "showbackground": true,
            "ticks": "",
            "zerolinecolor": "white"
           },
           "yaxis": {
            "backgroundcolor": "#E5ECF6",
            "gridcolor": "white",
            "gridwidth": 2,
            "linecolor": "white",
            "showbackground": true,
            "ticks": "",
            "zerolinecolor": "white"
           },
           "zaxis": {
            "backgroundcolor": "#E5ECF6",
            "gridcolor": "white",
            "gridwidth": 2,
            "linecolor": "white",
            "showbackground": true,
            "ticks": "",
            "zerolinecolor": "white"
           }
          },
          "shapedefaults": {
           "line": {
            "color": "#2a3f5f"
           }
          },
          "ternary": {
           "aaxis": {
            "gridcolor": "white",
            "linecolor": "white",
            "ticks": ""
           },
           "baxis": {
            "gridcolor": "white",
            "linecolor": "white",
            "ticks": ""
           },
           "bgcolor": "#E5ECF6",
           "caxis": {
            "gridcolor": "white",
            "linecolor": "white",
            "ticks": ""
           }
          },
          "title": {
           "x": 0.05
          },
          "xaxis": {
           "automargin": true,
           "gridcolor": "white",
           "linecolor": "white",
           "ticks": "",
           "title": {
            "standoff": 15
           },
           "zerolinecolor": "white",
           "zerolinewidth": 2
          },
          "yaxis": {
           "automargin": true,
           "gridcolor": "white",
           "linecolor": "white",
           "ticks": "",
           "title": {
            "standoff": 15
           },
           "zerolinecolor": "white",
           "zerolinewidth": 2
          }
         }
        },
        "xaxis": {
         "anchor": "y",
         "domain": [
          0,
          1
         ],
         "title": {
          "text": "index"
         }
        },
        "yaxis": {
         "anchor": "x",
         "domain": [
          0,
          1
         ],
         "title": {
          "text": "value"
         }
        }
       }
      }
     },
     "metadata": {},
     "output_type": "display_data"
    }
   ],
   "source": [
    "sim_data = get_simret(balance_df,balance,port_weigth,solution,now_data,kospi200)\n",
    "display(sim_data)\n",
    "display(px.line(sim_data))"
   ]
  },
  {
   "cell_type": "markdown",
   "metadata": {},
   "source": [
    "지난 3월~ 8월은 상승장이었습니다. 따라서 시뮬레이션 결과인 상승장의 흐름을 많이 따라간 것을 알 수 있습니다.\n",
    "따라서 향후 저희가 제시하는 포트폴리오를 보시고 시황에 맞게 대응하시면 될 것 같습니다."
   ]
  },
  {
   "cell_type": "code",
   "execution_count": 33,
   "metadata": {},
   "outputs": [],
   "source": [
    "stocks = recommendation[\"Name\"].to_list()"
   ]
  },
  {
   "cell_type": "code",
   "execution_count": 34,
   "metadata": {},
   "outputs": [],
   "source": [
    "daily_ret = now_data[stocks].pct_change()\n",
    "annual_ret = (1+daily_ret.mean())**now_data[stocks].shape[0]-1\n",
    "\n",
    "daily_cov = daily_ret.cov()\n",
    "annual_cov = daily_cov * now_data[stocks].shape[0]"
   ]
  },
  {
   "cell_type": "code",
   "execution_count": 35,
   "metadata": {},
   "outputs": [],
   "source": [
    "tmp2 = pd.DataFrame((annual_ret-0.02)/daily_ret.std()*np.sqrt(252),columns= ['Shape']).sort_values(by='Shape',ascending=False)\n",
    "stocks = list(tmp2.iloc[0:5].index)# 상위 5개 선정\n",
    "daily_ret = before_data[stocks].pct_change()\n",
    "annual_ret = (1+daily_ret.mean())**before_data[stocks].shape[0]-1\n",
    "daily_cov = daily_ret.cov()\n",
    "annual_cov = daily_cov * before_data[stocks].shape[0]\n",
    "rf = 0.0325"
   ]
  },
  {
   "cell_type": "code",
   "execution_count": 36,
   "metadata": {},
   "outputs": [],
   "source": [
    "max_shape,min_risk,tmp2,df = get_portfolio(stocks,annual_ret,annual_cov)"
   ]
  },
  {
   "cell_type": "code",
   "execution_count": 37,
   "metadata": {},
   "outputs": [
    {
     "data": {
      "image/png": "[encoded data removed]",
      "text/plain": [
       "<Figure size 1000x800 with 2 Axes>"
      ]
     },
     "metadata": {},
     "output_type": "display_data"
    }
   ],
   "source": [
    "show_CAPM(df,tmp2,max_shape,min_risk,rf=0.0325)"
   ]
  },
  {
   "cell_type": "code",
   "execution_count": 39,
   "metadata": {},
   "outputs": [
    {
     "name": "stdout",
     "output_type": "stream",
     "text": [
      "채권의 비중 : 0.5945257555465299\n",
      "이 경우 Risk : 0.0941947386169674\n"
     ]
    }
   ],
   "source": [
    "fig,solution = show_portfolio(max_shape)"
   ]
  },
  {
   "cell_type": "code",
   "execution_count": 40,
   "metadata": {},
   "outputs": [],
   "source": [
    "balance = 1000000\n",
    "stock_money = max_shape[max_shape.columns[3:]]*balance\n",
    "\n",
    "sim_num = 1000\n",
    "balance_df = monte_sim(sim_num,before_data,stocks,stock_money)\n"
   ]
  },
  {
   "cell_type": "code",
   "execution_count": 41,
   "metadata": {},
   "outputs": [
    {
     "data": {
      "text/plain": [
       "array([[0.31954602, 0.232726  , 0.00534017, 0.00476338, 0.43762443]])"
      ]
     },
     "execution_count": 41,
     "metadata": {},
     "output_type": "execute_result"
    }
   ],
   "source": [
    "port_weigth = max_shape[max_shape.columns[3:]].values\n",
    "port_weigth"
   ]
  },
  {
   "cell_type": "code",
   "execution_count": 42,
   "metadata": {},
   "outputs": [
    {
     "data": {
      "text/html": [
       "<div>\n",
       "<style scoped>\n",
       "    .dataframe tbody tr th:only-of-type {\n",
       "        vertical-align: middle;\n",
       "    }\n",
       "\n",
       "    .dataframe tbody tr th {\n",
       "        vertical-align: top;\n",
       "    }\n",
       "\n",
       "    .dataframe thead th {\n",
       "        text-align: right;\n",
       "    }\n",
       "</style>\n",
       "<table border=\"1\" class=\"dataframe\">\n",
       "  <thead>\n",
       "    <tr style=\"text-align: right;\">\n",
       "      <th></th>\n",
       "      <th>호황</th>\n",
       "      <th>상승</th>\n",
       "      <th>평년</th>\n",
       "      <th>하락</th>\n",
       "      <th>불황</th>\n",
       "    </tr>\n",
       "  </thead>\n",
       "  <tbody>\n",
       "    <tr>\n",
       "      <th>1month</th>\n",
       "      <td>-0.480572</td>\n",
       "      <td>6.326197</td>\n",
       "      <td>2.052061</td>\n",
       "      <td>1.622717</td>\n",
       "      <td>5.794479</td>\n",
       "    </tr>\n",
       "    <tr>\n",
       "      <th>2month</th>\n",
       "      <td>4.566294</td>\n",
       "      <td>12.478248</td>\n",
       "      <td>2.445919</td>\n",
       "      <td>-0.519369</td>\n",
       "      <td>0.231508</td>\n",
       "    </tr>\n",
       "    <tr>\n",
       "      <th>3month</th>\n",
       "      <td>3.458350</td>\n",
       "      <td>11.217378</td>\n",
       "      <td>-2.379538</td>\n",
       "      <td>-4.780111</td>\n",
       "      <td>-3.591957</td>\n",
       "    </tr>\n",
       "    <tr>\n",
       "      <th>4month</th>\n",
       "      <td>5.729404</td>\n",
       "      <td>4.345551</td>\n",
       "      <td>-1.557362</td>\n",
       "      <td>-0.361041</td>\n",
       "      <td>-4.196725</td>\n",
       "    </tr>\n",
       "    <tr>\n",
       "      <th>5month</th>\n",
       "      <td>15.046208</td>\n",
       "      <td>9.235351</td>\n",
       "      <td>3.274804</td>\n",
       "      <td>-1.409305</td>\n",
       "      <td>-5.484253</td>\n",
       "    </tr>\n",
       "  </tbody>\n",
       "</table>\n",
       "</div>"
      ],
      "text/plain": [
       "               호황         상승        평년        하락        불황\n",
       "1month  -0.480572   6.326197  2.052061  1.622717  5.794479\n",
       "2month   4.566294  12.478248  2.445919 -0.519369  0.231508\n",
       "3month   3.458350  11.217378 -2.379538 -4.780111 -3.591957\n",
       "4month   5.729404   4.345551 -1.557362 -0.361041 -4.196725\n",
       "5month  15.046208   9.235351  3.274804 -1.409305 -5.484253"
      ]
     },
     "metadata": {},
     "output_type": "display_data"
    },
    {
     "data": {
      "application/vnd.plotly.v1+json": {
       "config": {
        "plotlyServerURL": "https://plot.ly"
       },
       "data": [
        {
         "hovertemplate": "variable=호황<br>index=%{x}<br>value=%{y}<extra></extra>",
         "legendgroup": "호황",
         "line": {
          "color": "#636efa",
          "dash": "solid"
         },
         "marker": {
          "symbol": "circle"
         },
         "mode": "lines",
         "name": "호황",
         "orientation": "v",
         "showlegend": true,
         "type": "scatter",
         "x": [
          "1month",
          "2month",
          "3month",
          "4month",
          "5month"
         ],
         "xaxis": "x",
         "y": [
          -0.4805720653931034,
          4.5662937372245835,
          3.4583502170843685,
          5.729404064802119,
          15.046208045541354
         ],
         "yaxis": "y"
        },
        {
         "hovertemplate": "variable=상승<br>index=%{x}<br>value=%{y}<extra></extra>",
         "legendgroup": "상승",
         "line": {
          "color": "#EF553B",
          "dash": "solid"
         },
         "marker": {
          "symbol": "circle"
         },
         "mode": "lines",
         "name": "상승",
         "orientation": "v",
         "showlegend": true,
         "type": "scatter",
         "x": [
          "1month",
          "2month",
          "3month",
          "4month",
          "5month"
         ],
         "xaxis": "x",
         "y": [
          6.326197486208869,
          12.478247729533683,
          11.217377879740269,
          4.345550672894321,
          9.235350976048615
         ],
         "yaxis": "y"
        },
        {
         "hovertemplate": "variable=평년<br>index=%{x}<br>value=%{y}<extra></extra>",
         "legendgroup": "평년",
         "line": {
          "color": "#00cc96",
          "dash": "solid"
         },
         "marker": {
          "symbol": "circle"
         },
         "mode": "lines",
         "name": "평년",
         "orientation": "v",
         "showlegend": true,
         "type": "scatter",
         "x": [
          "1month",
          "2month",
          "3month",
          "4month",
          "5month"
         ],
         "xaxis": "x",
         "y": [
          2.0520611404388376,
          2.4459185335114295,
          -2.379538231296069,
          -1.5573620129109846,
          3.2748040994471648
         ],
         "yaxis": "y"
        },
        {
         "hovertemplate": "variable=하락<br>index=%{x}<br>value=%{y}<extra></extra>",
         "legendgroup": "하락",
         "line": {
          "color": "#ab63fa",
          "dash": "solid"
         },
         "marker": {
          "symbol": "circle"
         },
         "mode": "lines",
         "name": "하락",
         "orientation": "v",
         "showlegend": true,
         "type": "scatter",
         "x": [
          "1month",
          "2month",
          "3month",
          "4month",
          "5month"
         ],
         "xaxis": "x",
         "y": [
          1.6227168581744897,
          -0.5193687733189862,
          -4.780111442375597,
          -0.36104128969715577,
          -1.4093047129003966
         ],
         "yaxis": "y"
        },
        {
         "hovertemplate": "variable=불황<br>index=%{x}<br>value=%{y}<extra></extra>",
         "legendgroup": "불황",
         "line": {
          "color": "#FFA15A",
          "dash": "solid"
         },
         "marker": {
          "symbol": "circle"
         },
         "mode": "lines",
         "name": "불황",
         "orientation": "v",
         "showlegend": true,
         "type": "scatter",
         "x": [
          "1month",
          "2month",
          "3month",
          "4month",
          "5month"
         ],
         "xaxis": "x",
         "y": [
          5.794479257605515,
          0.23150807497864223,
          -3.5919570579528997,
          -4.196725270008741,
          -5.484252717303129
         ],
         "yaxis": "y"
        }
       ],
       "layout": {
        "legend": {
         "title": {
          "text": "variable"
         },
         "tracegroupgap": 0
        },
        "margin": {
         "t": 60
        },
        "template": {
         "data": {
          "bar": [
           {
            "error_x": {
             "color": "#2a3f5f"
            },
            "error_y": {
             "color": "#2a3f5f"
            },
            "marker": {
             "line": {
              "color": "#E5ECF6",
              "width": 0.5
             },
             "pattern": {
              "fillmode": "overlay",
              "size": 10,
              "solidity": 0.2
             }
            },
            "type": "bar"
           }
          ],
          "barpolar": [
           {
            "marker": {
             "line": {
              "color": "#E5ECF6",
              "width": 0.5
             },
             "pattern": {
              "fillmode": "overlay",
              "size": 10,
              "solidity": 0.2
             }
            },
            "type": "barpolar"
           }
          ],
          "carpet": [
           {
            "aaxis": {
             "endlinecolor": "#2a3f5f",
             "gridcolor": "white",
             "linecolor": "white",
             "minorgridcolor": "white",
             "startlinecolor": "#2a3f5f"
            },
            "baxis": {
             "endlinecolor": "#2a3f5f",
             "gridcolor": "white",
             "linecolor": "white",
             "minorgridcolor": "white",
             "startlinecolor": "#2a3f5f"
            },
            "type": "carpet"
           }
          ],
          "choropleth": [
           {
            "colorbar": {
             "outlinewidth": 0,
             "ticks": ""
            },
            "type": "choropleth"
           }
          ],
          "contour": [
           {
            "colorbar": {
             "outlinewidth": 0,
             "ticks": ""
            },
            "colorscale": [
             [
              0,
              "#0d0887"
             ],
             [
              0.1111111111111111,
              "#46039f"
             ],
             [
              0.2222222222222222,
              "#7201a8"
             ],
             [
              0.3333333333333333,
              "#9c179e"
             ],
             [
              0.4444444444444444,
              "#bd3786"
             ],
             [
              0.5555555555555556,
              "#d8576b"
             ],
             [
              0.6666666666666666,
              "#ed7953"
             ],
             [
              0.7777777777777778,
              "#fb9f3a"
             ],
             [
              0.8888888888888888,
              "#fdca26"
             ],
             [
              1,
              "#f0f921"
             ]
            ],
            "type": "contour"
           }
          ],
          "contourcarpet": [
           {
            "colorbar": {
             "outlinewidth": 0,
             "ticks": ""
            },
            "type": "contourcarpet"
           }
          ],
          "heatmap": [
           {
            "colorbar": {
             "outlinewidth": 0,
             "ticks": ""
            },
            "colorscale": [
             [
              0,
              "#0d0887"
             ],
             [
              0.1111111111111111,
              "#46039f"
             ],
             [
              0.2222222222222222,
              "#7201a8"
             ],
             [
              0.3333333333333333,
              "#9c179e"
             ],
             [
              0.4444444444444444,
              "#bd3786"
             ],
             [
              0.5555555555555556,
              "#d8576b"
             ],
             [
              0.6666666666666666,
              "#ed7953"
             ],
             [
              0.7777777777777778,
              "#fb9f3a"
             ],
             [
              0.8888888888888888,
              "#fdca26"
             ],
             [
              1,
              "#f0f921"
             ]
            ],
            "type": "heatmap"
           }
          ],
          "heatmapgl": [
           {
            "colorbar": {
             "outlinewidth": 0,
             "ticks": ""
            },
            "colorscale": [
             [
              0,
              "#0d0887"
             ],
             [
              0.1111111111111111,
              "#46039f"
             ],
             [
              0.2222222222222222,
              "#7201a8"
             ],
             [
              0.3333333333333333,
              "#9c179e"
             ],
             [
              0.4444444444444444,
              "#bd3786"
             ],
             [
              0.5555555555555556,
              "#d8576b"
             ],
             [
              0.6666666666666666,
              "#ed7953"
             ],
             [
              0.7777777777777778,
              "#fb9f3a"
             ],
             [
              0.8888888888888888,
              "#fdca26"
             ],
             [
              1,
              "#f0f921"
             ]
            ],
            "type": "heatmapgl"
           }
          ],
          "histogram": [
           {
            "marker": {
             "pattern": {
              "fillmode": "overlay",
              "size": 10,
              "solidity": 0.2
             }
            },
            "type": "histogram"
           }
          ],
          "histogram2d": [
           {
            "colorbar": {
             "outlinewidth": 0,
             "ticks": ""
            },
            "colorscale": [
             [
              0,
              "#0d0887"
             ],
             [
              0.1111111111111111,
              "#46039f"
             ],
             [
              0.2222222222222222,
              "#7201a8"
             ],
             [
              0.3333333333333333,
              "#9c179e"
             ],
             [
              0.4444444444444444,
              "#bd3786"
             ],
             [
              0.5555555555555556,
              "#d8576b"
             ],
             [
              0.6666666666666666,
              "#ed7953"
             ],
             [
              0.7777777777777778,
              "#fb9f3a"
             ],
             [
              0.8888888888888888,
              "#fdca26"
             ],
             [
              1,
              "#f0f921"
             ]
            ],
            "type": "histogram2d"
           }
          ],
          "histogram2dcontour": [
           {
            "colorbar": {
             "outlinewidth": 0,
             "ticks": ""
            },
            "colorscale": [
             [
              0,
              "#0d0887"
             ],
             [
              0.1111111111111111,
              "#46039f"
             ],
             [
              0.2222222222222222,
              "#7201a8"
             ],
             [
              0.3333333333333333,
              "#9c179e"
             ],
             [
              0.4444444444444444,
              "#bd3786"
             ],
             [
              0.5555555555555556,
              "#d8576b"
             ],
             [
              0.6666666666666666,
              "#ed7953"
             ],
             [
              0.7777777777777778,
              "#fb9f3a"
             ],
             [
              0.8888888888888888,
              "#fdca26"
             ],
             [
              1,
              "#f0f921"
             ]
            ],
            "type": "histogram2dcontour"
           }
          ],
          "mesh3d": [
           {
            "colorbar": {
             "outlinewidth": 0,
             "ticks": ""
            },
            "type": "mesh3d"
           }
          ],
          "parcoords": [
           {
            "line": {
             "colorbar": {
              "outlinewidth": 0,
              "ticks": ""
             }
            },
            "type": "parcoords"
           }
          ],
          "pie": [
           {
            "automargin": true,
            "type": "pie"
           }
          ],
          "scatter": [
           {
            "fillpattern": {
             "fillmode": "overlay",
             "size": 10,
             "solidity": 0.2
            },
            "type": "scatter"
           }
          ],
          "scatter3d": [
           {
            "line": {
             "colorbar": {
              "outlinewidth": 0,
              "ticks": ""
             }
            },
            "marker": {
             "colorbar": {
              "outlinewidth": 0,
              "ticks": ""
             }
            },
            "type": "scatter3d"
           }
          ],
          "scattercarpet": [
           {
            "marker": {
             "colorbar": {
              "outlinewidth": 0,
              "ticks": ""
             }
            },
            "type": "scattercarpet"
           }
          ],
          "scattergeo": [
           {
            "marker": {
             "colorbar": {
              "outlinewidth": 0,
              "ticks": ""
             }
            },
            "type": "scattergeo"
           }
          ],
          "scattergl": [
           {
            "marker": {
             "colorbar": {
              "outlinewidth": 0,
              "ticks": ""
             }
            },
            "type": "scattergl"
           }
          ],
          "scattermapbox": [
           {
            "marker": {
             "colorbar": {
              "outlinewidth": 0,
              "ticks": ""
             }
            },
            "type": "scattermapbox"
           }
          ],
          "scatterpolar": [
           {
            "marker": {
             "colorbar": {
              "outlinewidth": 0,
              "ticks": ""
             }
            },
            "type": "scatterpolar"
           }
          ],
          "scatterpolargl": [
           {
            "marker": {
             "colorbar": {
              "outlinewidth": 0,
              "ticks": ""
             }
            },
            "type": "scatterpolargl"
           }
          ],
          "scatterternary": [
           {
            "marker": {
             "colorbar": {
              "outlinewidth": 0,
              "ticks": ""
             }
            },
            "type": "scatterternary"
           }
          ],
          "surface": [
           {
            "colorbar": {
             "outlinewidth": 0,
             "ticks": ""
            },
            "colorscale": [
             [
              0,
              "#0d0887"
             ],
             [
              0.1111111111111111,
              "#46039f"
             ],
             [
              0.2222222222222222,
              "#7201a8"
             ],
             [
              0.3333333333333333,
              "#9c179e"
             ],
             [
              0.4444444444444444,
              "#bd3786"
             ],
             [
              0.5555555555555556,
              "#d8576b"
             ],
             [
              0.6666666666666666,
              "#ed7953"
             ],
             [
              0.7777777777777778,
              "#fb9f3a"
             ],
             [
              0.8888888888888888,
              "#fdca26"
             ],
             [
              1,
              "#f0f921"
             ]
            ],
            "type": "surface"
           }
          ],
          "table": [
           {
            "cells": {
             "fill": {
              "color": "#EBF0F8"
             },
             "line": {
              "color": "white"
             }
            },
            "header": {
             "fill": {
              "color": "#C8D4E3"
             },
             "line": {
              "color": "white"
             }
            },
            "type": "table"
           }
          ]
         },
         "layout": {
          "annotationdefaults": {
           "arrowcolor": "#2a3f5f",
           "arrowhead": 0,
           "arrowwidth": 1
          },
          "autotypenumbers": "strict",
          "coloraxis": {
           "colorbar": {
            "outlinewidth": 0,
            "ticks": ""
           }
          },
          "colorscale": {
           "diverging": [
            [
             0,
             "#8e0152"
            ],
            [
             0.1,
             "#c51b7d"
            ],
            [
             0.2,
             "#de77ae"
            ],
            [
             0.3,
             "#f1b6da"
            ],
            [
             0.4,
             "#fde0ef"
            ],
            [
             0.5,
             "#f7f7f7"
            ],
            [
             0.6,
             "#e6f5d0"
            ],
            [
             0.7,
             "#b8e186"
            ],
            [
             0.8,
             "#7fbc41"
            ],
            [
             0.9,
             "#4d9221"
            ],
            [
             1,
             "#276419"
            ]
           ],
           "sequential": [
            [
             0,
             "#0d0887"
            ],
            [
             0.1111111111111111,
             "#46039f"
            ],
            [
             0.2222222222222222,
             "#7201a8"
            ],
            [
             0.3333333333333333,
             "#9c179e"
            ],
            [
             0.4444444444444444,
             "#bd3786"
            ],
            [
             0.5555555555555556,
             "#d8576b"
            ],
            [
             0.6666666666666666,
             "#ed7953"
            ],
            [
             0.7777777777777778,
             "#fb9f3a"
            ],
            [
             0.8888888888888888,
             "#fdca26"
            ],
            [
             1,
             "#f0f921"
            ]
           ],
           "sequentialminus": [
            [
             0,
             "#0d0887"
            ],
            [
             0.1111111111111111,
             "#46039f"
            ],
            [
             0.2222222222222222,
             "#7201a8"
            ],
            [
             0.3333333333333333,
             "#9c179e"
            ],
            [
             0.4444444444444444,
             "#bd3786"
            ],
            [
             0.5555555555555556,
             "#d8576b"
            ],
            [
             0.6666666666666666,
             "#ed7953"
            ],
            [
             0.7777777777777778,
             "#fb9f3a"
            ],
            [
             0.8888888888888888,
             "#fdca26"
            ],
            [
             1,
             "#f0f921"
            ]
           ]
          },
          "colorway": [
           "#636efa",
           "#EF553B",
           "#00cc96",
           "#ab63fa",
           "#FFA15A",
           "#19d3f3",
           "#FF6692",
           "#B6E880",
           "#FF97FF",
           "#FECB52"
          ],
          "font": {
           "color": "#2a3f5f"
          },
          "geo": {
           "bgcolor": "white",
           "lakecolor": "white",
           "landcolor": "#E5ECF6",
           "showlakes": true,
           "showland": true,
           "subunitcolor": "white"
          },
          "hoverlabel": {
           "align": "left"
          },
          "hovermode": "closest",
          "mapbox": {
           "style": "light"
          },
          "paper_bgcolor": "white",
          "plot_bgcolor": "#E5ECF6",
          "polar": {
           "angularaxis": {
            "gridcolor": "white",
            "linecolor": "white",
            "ticks": ""
           },
           "bgcolor": "#E5ECF6",
           "radialaxis": {
            "gridcolor": "white",
            "linecolor": "white",
            "ticks": ""
           }
          },
          "scene": {
           "xaxis": {
            "backgroundcolor": "#E5ECF6",
            "gridcolor": "white",
            "gridwidth": 2,
            "linecolor": "white",
            "showbackground": true,
            "ticks": "",
            "zerolinecolor": "white"
           },
           "yaxis": {
            "backgroundcolor": "#E5ECF6",
            "gridcolor": "white",
            "gridwidth": 2,
            "linecolor": "white",
            "showbackground": true,
            "ticks": "",
            "zerolinecolor": "white"
           },
           "zaxis": {
            "backgroundcolor": "#E5ECF6",
            "gridcolor": "white",
            "gridwidth": 2,
            "linecolor": "white",
            "showbackground": true,
            "ticks": "",
            "zerolinecolor": "white"
           }
          },
          "shapedefaults": {
           "line": {
            "color": "#2a3f5f"
           }
          },
          "ternary": {
           "aaxis": {
            "gridcolor": "white",
            "linecolor": "white",
            "ticks": ""
           },
           "baxis": {
            "gridcolor": "white",
            "linecolor": "white",
            "ticks": ""
           },
           "bgcolor": "#E5ECF6",
           "caxis": {
            "gridcolor": "white",
            "linecolor": "white",
            "ticks": ""
           }
          },
          "title": {
           "x": 0.05
          },
          "xaxis": {
           "automargin": true,
           "gridcolor": "white",
           "linecolor": "white",
           "ticks": "",
           "title": {
            "standoff": 15
           },
           "zerolinecolor": "white",
           "zerolinewidth": 2
          },
          "yaxis": {
           "automargin": true,
           "gridcolor": "white",
           "linecolor": "white",
           "ticks": "",
           "title": {
            "standoff": 15
           },
           "zerolinecolor": "white",
           "zerolinewidth": 2
          }
         }
        },
        "xaxis": {
         "anchor": "y",
         "domain": [
          0,
          1
         ],
         "title": {
          "text": "index"
         }
        },
        "yaxis": {
         "anchor": "x",
         "domain": [
          0,
          1
         ],
         "title": {
          "text": "value"
         }
        }
       }
      }
     },
     "metadata": {},
     "output_type": "display_data"
    }
   ],
   "source": [
    "sim_data2 = get_simret(balance_df,balance,port_weigth,solution,now_data=None,kospi200=None)\n",
    "display(sim_data2)\n",
    "display(px.line(sim_data2))"
   ]
  },
  {
   "cell_type": "code",
   "execution_count": null,
   "metadata": {},
   "outputs": [],
   "source": []
  }
 ],
 "metadata": {
  "kernelspec": {
   "display_name": "elec",
   "language": "python",
   "name": "python3"
  },
  "language_info": {
   "codemirror_mode": {
    "name": "ipython",
    "version": 3
   },
   "file_extension": ".py",
   "mimetype": "text/x-python",
   "name": "python",
   "nbconvert_exporter": "python",
   "pygments_lexer": "ipython3",
   "version": "3.11.4"
  },
  "orig_nbformat": 4
 },
 "nbformat": 4,
 "nbformat_minor": 2
}
