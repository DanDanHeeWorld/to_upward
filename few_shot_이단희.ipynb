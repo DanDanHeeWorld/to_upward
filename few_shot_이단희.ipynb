{
 "cells": [
  {
   "cell_type": "code",
   "execution_count": 1,
   "metadata": {},
   "outputs": [
    {
     "name": "stderr",
     "output_type": "stream",
     "text": [
      "/opt/homebrew/Caskroom/miniforge/base/envs/elec/lib/python3.11/site-packages/tqdm/auto.py:21: TqdmWarning: IProgress not found. Please update jupyter and ipywidgets. See https://ipywidgets.readthedocs.io/en/stable/user_install.html\n",
      "  from .autonotebook import tqdm as notebook_tqdm\n"
     ]
    }
   ],
   "source": [
    "import pandas as pd\n",
    "import numpy as np\n",
    "from tqdm.auto import tqdm\n",
    "import random\n",
    "import os\n",
    "from pykrx import stock\n",
    "import matplotlib.pyplot as plt\n",
    "import koreanize_matplotlib\n",
    "import warnings\n",
    "import datetime as dt\n",
    "warnings.filterwarnings('ignore')\n",
    "\n",
    "def reset_seeds(seed):\n",
    "    random.seed(seed)\n",
    "    os.environ['PYTHONHASHSEED'] = str(seed)\n",
    "    np.random.seed(seed)\n",
    "\n",
    "DATA_PATH = \"/Users/idanhui/python-code/파이널 프로젝트/data/\"\n",
    "SEED = 42"
   ]
  },
  {
   "cell_type": "code",
   "execution_count": 2,
   "metadata": {},
   "outputs": [],
   "source": [
    "import to_upward"
   ]
  },
  {
   "cell_type": "code",
   "execution_count": 3,
   "metadata": {},
   "outputs": [],
   "source": [
    "data = pd.read_csv(f\"{DATA_PATH}labeled_data_final2.csv\")"
   ]
  },
  {
   "cell_type": "code",
   "execution_count": 4,
   "metadata": {},
   "outputs": [],
   "source": [
    "str_list = data.Code.astype(str).to_list()\n",
    "target_len = 6\n",
    "padded_str_list = to_upward.pad_str(str_list, target_len)\n",
    "\n",
    "data.Code = padded_str_list"
   ]
  },
  {
   "cell_type": "code",
   "execution_count": 23,
   "metadata": {},
   "outputs": [],
   "source": [
    "info = ['목표주가','recommendationKey','추정EPS','추정PER','동종업계ROE','동종업계enterpriseToEbitda','동종업계dividendYield','동종업계trailingEps','동종업계trailingPE']\n",
    "volitality = ['marketCap','fiftyDayAverage','twoHundredDayAverage','52WeekChange','ytdReturn','fiveYearAverageReturn','beta']\n",
    "performance = ['totalRevenue','grossProfits','revenuePerShare','ebitdaMargins','EBITDAPS']\n",
    "finance = ['debtToEquity','operatingCashflow','freeCashflow','totalCashPerShare','currentRatio','quickRatio','totalCash','totalDebt','BPS']\n",
    "business = ['returnOnAssets','returnOnEquity','grossMargins','operatingMargins','profitMargins']\n",
    "value = ['priceToBook','enterpriseValue','enterpriseToRevenue','enterpriseToEbitda','trailingEps','priceToSalesTrailing12Months','trailingPE']\n",
    "dividend = ['dividendYield','dividendRate','5년평균dividendYield']\n",
    "growth = ['revenueGrowth','earningsGrowth','earningsQuarterlyGrowth','revenueQuarterlyGrowth','heldPercentInsiders']"
   ]
  },
  {
   "cell_type": "code",
   "execution_count": 18,
   "metadata": {},
   "outputs": [],
   "source": [
    "data2 = data[[\"Name\",'동종업계trailingPE','동종업계enterpriseToEbitda','동종업계trailingEps','value']+value]"
   ]
  },
  {
   "cell_type": "code",
   "execution_count": 20,
   "metadata": {},
   "outputs": [
    {
     "data": {
      "text/plain": [
       "{'Name': 'LG에너지솔루션',\n",
       " '동종업계trailingPE': 9.59,\n",
       " '동종업계enterpriseToEbitda': 5.49,\n",
       " '동종업계trailingEps': 27936.99,\n",
       " 'value': 'A',\n",
       " 'priceToBook': 5.44,\n",
       " 'enterpriseValue': 135256086675456.0,\n",
       " 'enterpriseToRevenue': 4.508,\n",
       " 'enterpriseToEbitda': 34.66,\n",
       " 'trailingEps': 3306,\n",
       " 'priceToSalesTrailing12Months': 4.440976,\n",
       " 'trailingPE': 167.27}"
      ]
     },
     "execution_count": 20,
     "metadata": {},
     "output_type": "execute_result"
    }
   ],
   "source": [
    "data2.iloc[1].to_dict()"
   ]
  },
  {
   "cell_type": "code",
   "execution_count": 15,
   "metadata": {},
   "outputs": [
    {
     "data": {
      "text/plain": [
       "{'Name': 'POSCO홀딩스',\n",
       " '동종업계trailingPE': 6.29,\n",
       " '동종업계enterpriseToEbitda': 4.67,\n",
       " '동종업계trailingEps': 11392.07,\n",
       " 'value': 'C',\n",
       " 'priceToBook': 0.43,\n",
       " 'enterpriseValue': 59612682256384.0,\n",
       " 'enterpriseToRevenue': 0.72,\n",
       " 'enterpriseToEbitda': 4.09,\n",
       " 'trailingEps': 41456,\n",
       " 'priceToSalesTrailing12Months': 0.54804105,\n",
       " 'trailingPE': 14.4}"
      ]
     },
     "execution_count": 15,
     "metadata": {},
     "output_type": "execute_result"
    }
   ],
   "source": [
    "data2.iloc[4].to_dict()"
   ]
  },
  {
   "cell_type": "markdown",
   "metadata": {},
   "source": [
    "## volitality"
   ]
  },
  {
   "cell_type": "code",
   "execution_count": 24,
   "metadata": {},
   "outputs": [],
   "source": [
    "data2 = data2 = data[['Name']+volitality+['volitality']]"
   ]
  },
  {
   "cell_type": "code",
   "execution_count": 25,
   "metadata": {},
   "outputs": [
    {
     "name": "stdout",
     "output_type": "stream",
     "text": [
      "Name : 삼성전자\n",
      "marketCap : 452548859265024.0\n",
      "fiftyDayAverage : 71160.0\n",
      "twoHundredDayAverage : 64285.0\n",
      "52WeekChange : 15.025042999999998\n",
      "ytdReturn : 24.59\n",
      "fiveYearAverageReturn : 16.247999999999998\n",
      "beta : 0.95\n",
      "volitality : C\n"
     ]
    }
   ],
   "source": [
    "data2.iloc[0].to_dict()\n",
    "for k,v in data2.iloc[0].to_dict().items():\n",
    "    print(f\"{k} : {v}\")"
   ]
  },
  {
   "cell_type": "code",
   "execution_count": 27,
   "metadata": {},
   "outputs": [
    {
     "name": "stdout",
     "output_type": "stream",
     "text": [
      "Name : SK하이닉스\n",
      "marketCap : 84220793847808.0\n",
      "fiftyDayAverage : 116016.0\n",
      "twoHundredDayAverage : 94370.5\n",
      "52WeekChange : 27.009642\n",
      "ytdReturn : 58.0\n",
      "fiveYearAverageReturn : 21.454\n",
      "beta : 1.17\n",
      "volitality : B\n"
     ]
    }
   ],
   "source": [
    "for k,v in data2.iloc[2].to_dict().items():\n",
    "    print(f\"{k} : {v}\")"
   ]
  },
  {
   "cell_type": "markdown",
   "metadata": {},
   "source": [
    "## performance"
   ]
  },
  {
   "cell_type": "code",
   "execution_count": 32,
   "metadata": {},
   "outputs": [],
   "source": [
    "data2 = data2 = data[['Name']+performance+['performance']]"
   ]
  },
  {
   "cell_type": "code",
   "execution_count": 44,
   "metadata": {},
   "outputs": [
    {
     "name": "stdout",
     "output_type": "stream",
     "text": [
      "Name : SK하이닉스\n",
      "totalRevenue : 446216.0\n",
      "grossProfits : 68094.0\n",
      "revenuePerShare : 54607.414\n",
      "ebitdaMargins : 0.38006002\n",
      "EBITDAPS : 28792.0\n",
      "performance : A\n"
     ]
    }
   ],
   "source": [
    "lst = []\n",
    "for k,v in data2.iloc[2].to_dict().items():\n",
    "    print(f\"{k} : {v}\")\n",
    "    lst.append(f\"{k} : {v}\")"
   ]
  },
  {
   "cell_type": "markdown",
   "metadata": {},
   "source": [
    "## Finance"
   ]
  },
  {
   "cell_type": "code",
   "execution_count": 51,
   "metadata": {},
   "outputs": [],
   "source": [
    "data2 = data2 = data[['Name']+finance+['finance']]"
   ]
  },
  {
   "cell_type": "code",
   "execution_count": 52,
   "metadata": {},
   "outputs": [
    {
     "name": "stdout",
     "output_type": "stream",
     "text": [
      "Name : POSCO홀딩스\n",
      "debtToEquity : 68.91725343046548\n",
      "operatingCashflow : 61868.0\n",
      "freeCashflow : -3431.0\n",
      "totalCashPerShare : 106137.36586703078\n",
      "currentRatio : 2.198\n",
      "quickRatio : 1.437\n",
      "totalCash : 80533.0\n",
      "totalDebt : 401494.0\n",
      "BPS : 692323\n",
      "동종업계ROE : 7.69\n",
      "finance : G\n"
     ]
    }
   ],
   "source": [
    "lst = []\n",
    "for k,v in data2.iloc[4].to_dict().items():\n",
    "    print(f\"{k} : {v}\")\n",
    "    lst.append(f\"{k} : {v}\")"
   ]
  },
  {
   "cell_type": "markdown",
   "metadata": {},
   "source": [
    "## business"
   ]
  },
  {
   "cell_type": "code",
   "execution_count": 58,
   "metadata": {},
   "outputs": [],
   "source": [
    "data2 = data2 = data[['Name']+business+['business']]"
   ]
  },
  {
   "cell_type": "code",
   "execution_count": 59,
   "metadata": {},
   "outputs": [
    {
     "name": "stdout",
     "output_type": "stream",
     "text": [
      "Name : 삼성SDI\n",
      "returnOnAssets : 7.27\n",
      "returnOnEquity : 12.52\n",
      "grossMargins : 0.20143\n",
      "operatingMargins : 0.08685\n",
      "profitMargins : 0.09495\n",
      "business : B\n"
     ]
    }
   ],
   "source": [
    "lst = []\n",
    "for k,v in data2.iloc[6].to_dict().items():\n",
    "    print(f\"{k} : {v}\")\n",
    "    lst.append(f\"{k} : {v}\")"
   ]
  },
  {
   "cell_type": "code",
   "execution_count": null,
   "metadata": {},
   "outputs": [],
   "source": []
  }
 ],
 "metadata": {
  "kernelspec": {
   "display_name": "elec",
   "language": "python",
   "name": "python3"
  },
  "language_info": {
   "codemirror_mode": {
    "name": "ipython",
    "version": 3
   },
   "file_extension": ".py",
   "mimetype": "text/x-python",
   "name": "python",
   "nbconvert_exporter": "python",
   "pygments_lexer": "ipython3",
   "version": "3.11.4"
  },
  "orig_nbformat": 4
 },
 "nbformat": 4,
 "nbformat_minor": 2
}
