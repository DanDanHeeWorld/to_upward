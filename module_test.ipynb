{
 "cells": [
  {
   "cell_type": "code",
   "execution_count": 18,
   "metadata": {},
   "outputs": [],
   "source": [
    "import pandas as pd\n",
    "import numpy as np\n",
    "from tqdm.auto import tqdm\n",
    "import random\n",
    "import os\n",
    "from pykrx import stock\n",
    "import matplotlib.pyplot as plt\n",
    "import koreanize_matplotlib\n",
    "import warnings\n",
    "import datetime as dt\n",
    "warnings.filterwarnings('ignore')\n",
    "\n",
    "def reset_seeds(seed):\n",
    "    random.seed(seed)\n",
    "    os.environ['PYTHONHASHSEED'] = str(seed)\n",
    "    np.random.seed(seed)\n",
    "\n",
    "DATA_PATH = \"/Users/idanhui/python-code/파이널 프로젝트/data/\"\n",
    "SEED = 42"
   ]
  },
  {
   "cell_type": "code",
   "execution_count": 19,
   "metadata": {},
   "outputs": [],
   "source": [
    "import to_upward"
   ]
  },
  {
   "cell_type": "code",
   "execution_count": 20,
   "metadata": {},
   "outputs": [],
   "source": [
    "data = pd.read_csv(f\"{DATA_PATH}labeled_data_final.csv\")"
   ]
  },
  {
   "cell_type": "code",
   "execution_count": 21,
   "metadata": {},
   "outputs": [],
   "source": [
    "str_list = data.Code.astype(str).to_list()\n",
    "target_len = 6\n",
    "padded_str_list = to_upward.pad_str(str_list, target_len)\n",
    "\n",
    "data.Code = padded_str_list"
   ]
  },
  {
   "cell_type": "code",
   "execution_count": 22,
   "metadata": {},
   "outputs": [
    {
     "name": "stdout",
     "output_type": "stream",
     "text": [
      "20220904 20230904\n"
     ]
    }
   ],
   "source": [
    "end = dt.datetime.today().date().strftime(\"%Y%m%d\")\n",
    "start = (dt.datetime.today().date() - dt.timedelta(365)).strftime(\"%Y%m%d\")\n",
    "# end = dt.datetime(2022,12,31).strftime(\"%Y%m%d\")\n",
    "# start = (dt.datetime(2022,12,31) - dt.timedelta(180)).strftime(\"%Y%m%d\")\n",
    "print(start,end)"
   ]
  },
  {
   "cell_type": "code",
   "execution_count": 23,
   "metadata": {},
   "outputs": [
    {
     "data": {
      "text/html": [
       "<div>\n",
       "<style scoped>\n",
       "    .dataframe tbody tr th:only-of-type {\n",
       "        vertical-align: middle;\n",
       "    }\n",
       "\n",
       "    .dataframe tbody tr th {\n",
       "        vertical-align: top;\n",
       "    }\n",
       "\n",
       "    .dataframe thead th {\n",
       "        text-align: right;\n",
       "    }\n",
       "</style>\n",
       "<table border=\"1\" class=\"dataframe\">\n",
       "  <thead>\n",
       "    <tr style=\"text-align: right;\">\n",
       "      <th></th>\n",
       "      <th>Code</th>\n",
       "      <th>Name</th>\n",
       "      <th>Market</th>\n",
       "      <th>recommendationKey</th>\n",
       "      <th>sharesOutstanding</th>\n",
       "      <th>averageVolume10days</th>\n",
       "      <th>averageVolume</th>\n",
       "      <th>heldPercentInstitutions</th>\n",
       "      <th>shortRatio</th>\n",
       "      <th>sharesPercentSharesOut</th>\n",
       "      <th>...</th>\n",
       "      <th>5년평균dividendYield</th>\n",
       "      <th>EBITDAPS</th>\n",
       "      <th>동종업계_대비_PER</th>\n",
       "      <th>dividend</th>\n",
       "      <th>growth</th>\n",
       "      <th>value</th>\n",
       "      <th>business</th>\n",
       "      <th>finance</th>\n",
       "      <th>performance</th>\n",
       "      <th>volitality</th>\n",
       "    </tr>\n",
       "  </thead>\n",
       "  <tbody>\n",
       "    <tr>\n",
       "      <th>0</th>\n",
       "      <td>005930</td>\n",
       "      <td>삼성전자</td>\n",
       "      <td>KOSPI</td>\n",
       "      <td>4.0</td>\n",
       "      <td>5,969,780,224.00</td>\n",
       "      <td>15,819,172.00</td>\n",
       "      <td>13,878,613.00</td>\n",
       "      <td>0.48</td>\n",
       "      <td>4.28</td>\n",
       "      <td>0.00</td>\n",
       "      <td>...</td>\n",
       "      <td>2.87</td>\n",
       "      <td>12,143.00</td>\n",
       "      <td>-1.04</td>\n",
       "      <td>C</td>\n",
       "      <td>C</td>\n",
       "      <td>D</td>\n",
       "      <td>B</td>\n",
       "      <td>F</td>\n",
       "      <td>A+</td>\n",
       "      <td>C</td>\n",
       "    </tr>\n",
       "    <tr>\n",
       "      <th>2</th>\n",
       "      <td>000660</td>\n",
       "      <td>SK하이닉스</td>\n",
       "      <td>KOSPI</td>\n",
       "      <td>4.0</td>\n",
       "      <td>708,217,024.00</td>\n",
       "      <td>4,628,225.00</td>\n",
       "      <td>3,960,678.00</td>\n",
       "      <td>0.40</td>\n",
       "      <td>2.00</td>\n",
       "      <td>0.00</td>\n",
       "      <td>...</td>\n",
       "      <td>1.46</td>\n",
       "      <td>28,792.00</td>\n",
       "      <td>26.96</td>\n",
       "      <td>D</td>\n",
       "      <td>C</td>\n",
       "      <td>C</td>\n",
       "      <td>C</td>\n",
       "      <td>H</td>\n",
       "      <td>A</td>\n",
       "      <td>B</td>\n",
       "    </tr>\n",
       "    <tr>\n",
       "      <th>4</th>\n",
       "      <td>005490</td>\n",
       "      <td>POSCO홀딩스</td>\n",
       "      <td>KOSPI</td>\n",
       "      <td>3.9</td>\n",
       "      <td>75,876,200.00</td>\n",
       "      <td>2,944,335.00</td>\n",
       "      <td>1,697,713.00</td>\n",
       "      <td>0.30</td>\n",
       "      <td>8.45</td>\n",
       "      <td>0.00</td>\n",
       "      <td>...</td>\n",
       "      <td>4.36</td>\n",
       "      <td>99,067.00</td>\n",
       "      <td>8.11</td>\n",
       "      <td>B</td>\n",
       "      <td>C</td>\n",
       "      <td>D</td>\n",
       "      <td>B</td>\n",
       "      <td>G</td>\n",
       "      <td>B</td>\n",
       "      <td>B</td>\n",
       "    </tr>\n",
       "    <tr>\n",
       "      <th>5</th>\n",
       "      <td>051910</td>\n",
       "      <td>LG화학</td>\n",
       "      <td>KOSPI</td>\n",
       "      <td>4.0</td>\n",
       "      <td>70,592,304.00</td>\n",
       "      <td>399,881.00</td>\n",
       "      <td>287,432.00</td>\n",
       "      <td>0.36</td>\n",
       "      <td>6.50</td>\n",
       "      <td>0.00</td>\n",
       "      <td>...</td>\n",
       "      <td>1.44</td>\n",
       "      <td>81,652.00</td>\n",
       "      <td>14.63</td>\n",
       "      <td>D</td>\n",
       "      <td>C</td>\n",
       "      <td>D</td>\n",
       "      <td>B</td>\n",
       "      <td>G</td>\n",
       "      <td>B</td>\n",
       "      <td>C</td>\n",
       "    </tr>\n",
       "    <tr>\n",
       "      <th>7</th>\n",
       "      <td>005380</td>\n",
       "      <td>현대차</td>\n",
       "      <td>KOSPI</td>\n",
       "      <td>4.0</td>\n",
       "      <td>202,876,000.00</td>\n",
       "      <td>699,789.00</td>\n",
       "      <td>594,572.00</td>\n",
       "      <td>0.23</td>\n",
       "      <td>4.89</td>\n",
       "      <td>0.00</td>\n",
       "      <td>...</td>\n",
       "      <td>3.06</td>\n",
       "      <td>53,685.00</td>\n",
       "      <td>-2.62</td>\n",
       "      <td>C</td>\n",
       "      <td>B</td>\n",
       "      <td>E</td>\n",
       "      <td>C</td>\n",
       "      <td>B</td>\n",
       "      <td>A</td>\n",
       "      <td>C</td>\n",
       "    </tr>\n",
       "    <tr>\n",
       "      <th>10</th>\n",
       "      <td>000270</td>\n",
       "      <td>기아</td>\n",
       "      <td>KOSPI</td>\n",
       "      <td>4.0</td>\n",
       "      <td>395,081,984.00</td>\n",
       "      <td>1,446,978.00</td>\n",
       "      <td>1,229,388.00</td>\n",
       "      <td>0.28</td>\n",
       "      <td>17.01</td>\n",
       "      <td>0.00</td>\n",
       "      <td>...</td>\n",
       "      <td>3.28</td>\n",
       "      <td>23,820.00</td>\n",
       "      <td>-3.41</td>\n",
       "      <td>C</td>\n",
       "      <td>B</td>\n",
       "      <td>E</td>\n",
       "      <td>B</td>\n",
       "      <td>G</td>\n",
       "      <td>A</td>\n",
       "      <td>C</td>\n",
       "    </tr>\n",
       "    <tr>\n",
       "      <th>18</th>\n",
       "      <td>066570</td>\n",
       "      <td>LG전자</td>\n",
       "      <td>KOSPI</td>\n",
       "      <td>4.0</td>\n",
       "      <td>162,884,992.00</td>\n",
       "      <td>1,065,618.00</td>\n",
       "      <td>825,302.00</td>\n",
       "      <td>0.26</td>\n",
       "      <td>11.11</td>\n",
       "      <td>0.00</td>\n",
       "      <td>...</td>\n",
       "      <td>0.91</td>\n",
       "      <td>36,144.00</td>\n",
       "      <td>6.18</td>\n",
       "      <td>E</td>\n",
       "      <td>C</td>\n",
       "      <td>D</td>\n",
       "      <td>C</td>\n",
       "      <td>F</td>\n",
       "      <td>A</td>\n",
       "      <td>C</td>\n",
       "    </tr>\n",
       "    <tr>\n",
       "      <th>39</th>\n",
       "      <td>011200</td>\n",
       "      <td>HMM</td>\n",
       "      <td>KOSPI</td>\n",
       "      <td>3.2</td>\n",
       "      <td>489,039,008.00</td>\n",
       "      <td>1,838,939.00</td>\n",
       "      <td>2,279,608.00</td>\n",
       "      <td>0.31</td>\n",
       "      <td>7.00</td>\n",
       "      <td>0.00</td>\n",
       "      <td>...</td>\n",
       "      <td>3.43</td>\n",
       "      <td>22,066.00</td>\n",
       "      <td>-1.80</td>\n",
       "      <td>C</td>\n",
       "      <td>C</td>\n",
       "      <td>E</td>\n",
       "      <td>A</td>\n",
       "      <td>H</td>\n",
       "      <td>A</td>\n",
       "      <td>A</td>\n",
       "    </tr>\n",
       "    <tr>\n",
       "      <th>58</th>\n",
       "      <td>011070</td>\n",
       "      <td>LG이노텍</td>\n",
       "      <td>KOSPI</td>\n",
       "      <td>4.0</td>\n",
       "      <td>23,664,500.00</td>\n",
       "      <td>235,885.00</td>\n",
       "      <td>179,614.00</td>\n",
       "      <td>0.28</td>\n",
       "      <td>6.32</td>\n",
       "      <td>0.00</td>\n",
       "      <td>...</td>\n",
       "      <td>0.68</td>\n",
       "      <td>91,158.00</td>\n",
       "      <td>-3.29</td>\n",
       "      <td>E</td>\n",
       "      <td>C</td>\n",
       "      <td>E</td>\n",
       "      <td>B</td>\n",
       "      <td>H</td>\n",
       "      <td>B</td>\n",
       "      <td>C</td>\n",
       "    </tr>\n",
       "    <tr>\n",
       "      <th>109</th>\n",
       "      <td>039490</td>\n",
       "      <td>키움증권</td>\n",
       "      <td>KOSPI</td>\n",
       "      <td>4.0</td>\n",
       "      <td>24,819,500.00</td>\n",
       "      <td>106,650.00</td>\n",
       "      <td>70,016.00</td>\n",
       "      <td>0.31</td>\n",
       "      <td>3.37</td>\n",
       "      <td>0.00</td>\n",
       "      <td>...</td>\n",
       "      <td>1.68</td>\n",
       "      <td>161,107.00</td>\n",
       "      <td>-0.58</td>\n",
       "      <td>D</td>\n",
       "      <td>B</td>\n",
       "      <td>E</td>\n",
       "      <td>A</td>\n",
       "      <td>F</td>\n",
       "      <td>B</td>\n",
       "      <td>C</td>\n",
       "    </tr>\n",
       "    <tr>\n",
       "      <th>123</th>\n",
       "      <td>298050</td>\n",
       "      <td>효성첨단소재</td>\n",
       "      <td>KOSPI</td>\n",
       "      <td>4.0</td>\n",
       "      <td>4,468,020.00</td>\n",
       "      <td>44,898.00</td>\n",
       "      <td>36,340.00</td>\n",
       "      <td>0.17</td>\n",
       "      <td>9.14</td>\n",
       "      <td>0.00</td>\n",
       "      <td>...</td>\n",
       "      <td>3.09</td>\n",
       "      <td>111,743.00</td>\n",
       "      <td>4.44</td>\n",
       "      <td>C</td>\n",
       "      <td>C</td>\n",
       "      <td>D</td>\n",
       "      <td>B</td>\n",
       "      <td>H</td>\n",
       "      <td>B</td>\n",
       "      <td>A</td>\n",
       "    </tr>\n",
       "    <tr>\n",
       "      <th>126</th>\n",
       "      <td>000150</td>\n",
       "      <td>두산</td>\n",
       "      <td>KOSPI</td>\n",
       "      <td>4.0</td>\n",
       "      <td>13,523,000.00</td>\n",
       "      <td>658,877.00</td>\n",
       "      <td>187,241.00</td>\n",
       "      <td>0.17</td>\n",
       "      <td>2.00</td>\n",
       "      <td>0.00</td>\n",
       "      <td>...</td>\n",
       "      <td>0.53</td>\n",
       "      <td>81,455.00</td>\n",
       "      <td>-5.53</td>\n",
       "      <td>E</td>\n",
       "      <td>B</td>\n",
       "      <td>E</td>\n",
       "      <td>C</td>\n",
       "      <td>H</td>\n",
       "      <td>B</td>\n",
       "      <td>C</td>\n",
       "    </tr>\n",
       "    <tr>\n",
       "      <th>144</th>\n",
       "      <td>298020</td>\n",
       "      <td>효성티앤씨</td>\n",
       "      <td>KOSPI</td>\n",
       "      <td>4.0</td>\n",
       "      <td>4,315,690.00</td>\n",
       "      <td>28,801.00</td>\n",
       "      <td>27,215.00</td>\n",
       "      <td>0.18</td>\n",
       "      <td>3.02</td>\n",
       "      <td>0.00</td>\n",
       "      <td>...</td>\n",
       "      <td>3.33</td>\n",
       "      <td>83,355.00</td>\n",
       "      <td>114.41</td>\n",
       "      <td>C</td>\n",
       "      <td>C</td>\n",
       "      <td>D</td>\n",
       "      <td>C</td>\n",
       "      <td>H</td>\n",
       "      <td>B</td>\n",
       "      <td>C</td>\n",
       "    </tr>\n",
       "  </tbody>\n",
       "</table>\n",
       "<p>13 rows × 72 columns</p>\n",
       "</div>"
      ],
      "text/plain": [
       "       Code      Name Market recommendationKey  sharesOutstanding  \\\n",
       "0    005930      삼성전자  KOSPI               4.0   5,969,780,224.00   \n",
       "2    000660    SK하이닉스  KOSPI               4.0     708,217,024.00   \n",
       "4    005490  POSCO홀딩스  KOSPI               3.9      75,876,200.00   \n",
       "5    051910      LG화학  KOSPI               4.0      70,592,304.00   \n",
       "7    005380       현대차  KOSPI               4.0     202,876,000.00   \n",
       "10   000270        기아  KOSPI               4.0     395,081,984.00   \n",
       "18   066570      LG전자  KOSPI               4.0     162,884,992.00   \n",
       "39   011200       HMM  KOSPI               3.2     489,039,008.00   \n",
       "58   011070     LG이노텍  KOSPI               4.0      23,664,500.00   \n",
       "109  039490      키움증권  KOSPI               4.0      24,819,500.00   \n",
       "123  298050    효성첨단소재  KOSPI               4.0       4,468,020.00   \n",
       "126  000150        두산  KOSPI               4.0      13,523,000.00   \n",
       "144  298020     효성티앤씨  KOSPI               4.0       4,315,690.00   \n",
       "\n",
       "     averageVolume10days  averageVolume  heldPercentInstitutions  shortRatio  \\\n",
       "0          15,819,172.00  13,878,613.00                     0.48        4.28   \n",
       "2           4,628,225.00   3,960,678.00                     0.40        2.00   \n",
       "4           2,944,335.00   1,697,713.00                     0.30        8.45   \n",
       "5             399,881.00     287,432.00                     0.36        6.50   \n",
       "7             699,789.00     594,572.00                     0.23        4.89   \n",
       "10          1,446,978.00   1,229,388.00                     0.28       17.01   \n",
       "18          1,065,618.00     825,302.00                     0.26       11.11   \n",
       "39          1,838,939.00   2,279,608.00                     0.31        7.00   \n",
       "58            235,885.00     179,614.00                     0.28        6.32   \n",
       "109           106,650.00      70,016.00                     0.31        3.37   \n",
       "123            44,898.00      36,340.00                     0.17        9.14   \n",
       "126           658,877.00     187,241.00                     0.17        2.00   \n",
       "144            28,801.00      27,215.00                     0.18        3.02   \n",
       "\n",
       "     sharesPercentSharesOut  ...  5년평균dividendYield   EBITDAPS  동종업계_대비_PER  \\\n",
       "0                      0.00  ...               2.87  12,143.00        -1.04   \n",
       "2                      0.00  ...               1.46  28,792.00        26.96   \n",
       "4                      0.00  ...               4.36  99,067.00         8.11   \n",
       "5                      0.00  ...               1.44  81,652.00        14.63   \n",
       "7                      0.00  ...               3.06  53,685.00        -2.62   \n",
       "10                     0.00  ...               3.28  23,820.00        -3.41   \n",
       "18                     0.00  ...               0.91  36,144.00         6.18   \n",
       "39                     0.00  ...               3.43  22,066.00        -1.80   \n",
       "58                     0.00  ...               0.68  91,158.00        -3.29   \n",
       "109                    0.00  ...               1.68 161,107.00        -0.58   \n",
       "123                    0.00  ...               3.09 111,743.00         4.44   \n",
       "126                    0.00  ...               0.53  81,455.00        -5.53   \n",
       "144                    0.00  ...               3.33  83,355.00       114.41   \n",
       "\n",
       "     dividend  growth  value  business  finance  performance  volitality  \n",
       "0           C       C      D         B        F           A+           C  \n",
       "2           D       C      C         C        H            A           B  \n",
       "4           B       C      D         B        G            B           B  \n",
       "5           D       C      D         B        G            B           C  \n",
       "7           C       B      E         C        B            A           C  \n",
       "10          C       B      E         B        G            A           C  \n",
       "18          E       C      D         C        F            A           C  \n",
       "39          C       C      E         A        H            A           A  \n",
       "58          E       C      E         B        H            B           C  \n",
       "109         D       B      E         A        F            B           C  \n",
       "123         C       C      D         B        H            B           A  \n",
       "126         E       B      E         C        H            B           C  \n",
       "144         C       C      D         C        H            B           C  \n",
       "\n",
       "[13 rows x 72 columns]"
      ]
     },
     "execution_count": 23,
     "metadata": {},
     "output_type": "execute_result"
    }
   ],
   "source": [
    "recommendation= data[((data['business'] == \"A\")|(data['business'] == \"B\")|(data['business'] == \"C\"))&\n",
    " ((data['performance'] == \"A\")|(data['performance'] == \"B\")|(data['performance'] == \"A+\")|(data['performance'] == \"C\"))&\n",
    "  ((data['volitality'] == \"A\")|(data['volitality'] == \"B\")|(data['volitality'] == \"A+\")|(data['volitality'] == \"C\"))]\n",
    "recommendation"
   ]
  },
  {
   "cell_type": "code",
   "execution_count": 24,
   "metadata": {},
   "outputs": [],
   "source": [
    "stocks = recommendation[\"Name\"].to_list()"
   ]
  },
  {
   "cell_type": "code",
   "execution_count": 25,
   "metadata": {},
   "outputs": [
    {
     "data": {
      "text/html": [
       "<div>\n",
       "<style scoped>\n",
       "    .dataframe tbody tr th:only-of-type {\n",
       "        vertical-align: middle;\n",
       "    }\n",
       "\n",
       "    .dataframe tbody tr th {\n",
       "        vertical-align: top;\n",
       "    }\n",
       "\n",
       "    .dataframe thead th {\n",
       "        text-align: right;\n",
       "    }\n",
       "</style>\n",
       "<table border=\"1\" class=\"dataframe\">\n",
       "  <thead>\n",
       "    <tr style=\"text-align: right;\">\n",
       "      <th></th>\n",
       "      <th>삼성전자</th>\n",
       "      <th>SK하이닉스</th>\n",
       "      <th>POSCO홀딩스</th>\n",
       "      <th>LG화학</th>\n",
       "      <th>현대차</th>\n",
       "      <th>기아</th>\n",
       "      <th>LG전자</th>\n",
       "      <th>HMM</th>\n",
       "      <th>LG이노텍</th>\n",
       "      <th>키움증권</th>\n",
       "      <th>효성첨단소재</th>\n",
       "      <th>두산</th>\n",
       "      <th>효성티앤씨</th>\n",
       "    </tr>\n",
       "    <tr>\n",
       "      <th>날짜</th>\n",
       "      <th></th>\n",
       "      <th></th>\n",
       "      <th></th>\n",
       "      <th></th>\n",
       "      <th></th>\n",
       "      <th></th>\n",
       "      <th></th>\n",
       "      <th></th>\n",
       "      <th></th>\n",
       "      <th></th>\n",
       "      <th></th>\n",
       "      <th></th>\n",
       "      <th></th>\n",
       "    </tr>\n",
       "  </thead>\n",
       "  <tbody>\n",
       "    <tr>\n",
       "      <th>2022-09-05</th>\n",
       "      <td>57100</td>\n",
       "      <td>91100</td>\n",
       "      <td>252500</td>\n",
       "      <td>616000</td>\n",
       "      <td>200000</td>\n",
       "      <td>81000</td>\n",
       "      <td>97200</td>\n",
       "      <td>20600</td>\n",
       "      <td>338000</td>\n",
       "      <td>82400</td>\n",
       "      <td>408000</td>\n",
       "      <td>76900</td>\n",
       "      <td>300000</td>\n",
       "    </tr>\n",
       "    <tr>\n",
       "      <th>2022-09-06</th>\n",
       "      <td>57100</td>\n",
       "      <td>91800</td>\n",
       "      <td>252500</td>\n",
       "      <td>619000</td>\n",
       "      <td>201000</td>\n",
       "      <td>81400</td>\n",
       "      <td>96800</td>\n",
       "      <td>20400</td>\n",
       "      <td>336000</td>\n",
       "      <td>81900</td>\n",
       "      <td>429500</td>\n",
       "      <td>76200</td>\n",
       "      <td>304500</td>\n",
       "    </tr>\n",
       "    <tr>\n",
       "      <th>2022-09-07</th>\n",
       "      <td>56000</td>\n",
       "      <td>90400</td>\n",
       "      <td>246000</td>\n",
       "      <td>623000</td>\n",
       "      <td>202000</td>\n",
       "      <td>82300</td>\n",
       "      <td>94400</td>\n",
       "      <td>19650</td>\n",
       "      <td>332000</td>\n",
       "      <td>79800</td>\n",
       "      <td>422500</td>\n",
       "      <td>72600</td>\n",
       "      <td>300000</td>\n",
       "    </tr>\n",
       "    <tr>\n",
       "      <th>2022-09-08</th>\n",
       "      <td>55600</td>\n",
       "      <td>90400</td>\n",
       "      <td>241500</td>\n",
       "      <td>644000</td>\n",
       "      <td>200000</td>\n",
       "      <td>80900</td>\n",
       "      <td>93800</td>\n",
       "      <td>20000</td>\n",
       "      <td>337500</td>\n",
       "      <td>80900</td>\n",
       "      <td>419500</td>\n",
       "      <td>72100</td>\n",
       "      <td>304500</td>\n",
       "    </tr>\n",
       "    <tr>\n",
       "      <th>2022-09-13</th>\n",
       "      <td>58100</td>\n",
       "      <td>94800</td>\n",
       "      <td>248000</td>\n",
       "      <td>665000</td>\n",
       "      <td>200500</td>\n",
       "      <td>81300</td>\n",
       "      <td>97900</td>\n",
       "      <td>21050</td>\n",
       "      <td>364000</td>\n",
       "      <td>85900</td>\n",
       "      <td>430000</td>\n",
       "      <td>73500</td>\n",
       "      <td>312500</td>\n",
       "    </tr>\n",
       "    <tr>\n",
       "      <th>...</th>\n",
       "      <td>...</td>\n",
       "      <td>...</td>\n",
       "      <td>...</td>\n",
       "      <td>...</td>\n",
       "      <td>...</td>\n",
       "      <td>...</td>\n",
       "      <td>...</td>\n",
       "      <td>...</td>\n",
       "      <td>...</td>\n",
       "      <td>...</td>\n",
       "      <td>...</td>\n",
       "      <td>...</td>\n",
       "      <td>...</td>\n",
       "    </tr>\n",
       "    <tr>\n",
       "      <th>2023-08-29</th>\n",
       "      <td>66800</td>\n",
       "      <td>118600</td>\n",
       "      <td>583000</td>\n",
       "      <td>560000</td>\n",
       "      <td>186700</td>\n",
       "      <td>80200</td>\n",
       "      <td>99600</td>\n",
       "      <td>17500</td>\n",
       "      <td>264500</td>\n",
       "      <td>102300</td>\n",
       "      <td>444500</td>\n",
       "      <td>114100</td>\n",
       "      <td>324500</td>\n",
       "    </tr>\n",
       "    <tr>\n",
       "      <th>2023-08-30</th>\n",
       "      <td>67100</td>\n",
       "      <td>119400</td>\n",
       "      <td>580000</td>\n",
       "      <td>576000</td>\n",
       "      <td>187800</td>\n",
       "      <td>80400</td>\n",
       "      <td>100100</td>\n",
       "      <td>17030</td>\n",
       "      <td>268000</td>\n",
       "      <td>102700</td>\n",
       "      <td>447000</td>\n",
       "      <td>113500</td>\n",
       "      <td>326500</td>\n",
       "    </tr>\n",
       "    <tr>\n",
       "      <th>2023-08-31</th>\n",
       "      <td>66900</td>\n",
       "      <td>121800</td>\n",
       "      <td>579000</td>\n",
       "      <td>583000</td>\n",
       "      <td>189100</td>\n",
       "      <td>80200</td>\n",
       "      <td>98500</td>\n",
       "      <td>16660</td>\n",
       "      <td>270000</td>\n",
       "      <td>103300</td>\n",
       "      <td>452000</td>\n",
       "      <td>117600</td>\n",
       "      <td>331000</td>\n",
       "    </tr>\n",
       "    <tr>\n",
       "      <th>2023-09-01</th>\n",
       "      <td>71000</td>\n",
       "      <td>120000</td>\n",
       "      <td>560000</td>\n",
       "      <td>570000</td>\n",
       "      <td>187400</td>\n",
       "      <td>79700</td>\n",
       "      <td>99600</td>\n",
       "      <td>16600</td>\n",
       "      <td>268500</td>\n",
       "      <td>99800</td>\n",
       "      <td>436000</td>\n",
       "      <td>113500</td>\n",
       "      <td>326000</td>\n",
       "    </tr>\n",
       "    <tr>\n",
       "      <th>2023-09-04</th>\n",
       "      <td>71000</td>\n",
       "      <td>118800</td>\n",
       "      <td>594000</td>\n",
       "      <td>586000</td>\n",
       "      <td>186600</td>\n",
       "      <td>79600</td>\n",
       "      <td>102000</td>\n",
       "      <td>16770</td>\n",
       "      <td>268500</td>\n",
       "      <td>102800</td>\n",
       "      <td>464000</td>\n",
       "      <td>111800</td>\n",
       "      <td>368500</td>\n",
       "    </tr>\n",
       "  </tbody>\n",
       "</table>\n",
       "<p>248 rows × 13 columns</p>\n",
       "</div>"
      ],
      "text/plain": [
       "             삼성전자  SK하이닉스  POSCO홀딩스    LG화학     현대차     기아    LG전자    HMM  \\\n",
       "날짜                                                                          \n",
       "2022-09-05  57100   91100    252500  616000  200000  81000   97200  20600   \n",
       "2022-09-06  57100   91800    252500  619000  201000  81400   96800  20400   \n",
       "2022-09-07  56000   90400    246000  623000  202000  82300   94400  19650   \n",
       "2022-09-08  55600   90400    241500  644000  200000  80900   93800  20000   \n",
       "2022-09-13  58100   94800    248000  665000  200500  81300   97900  21050   \n",
       "...           ...     ...       ...     ...     ...    ...     ...    ...   \n",
       "2023-08-29  66800  118600    583000  560000  186700  80200   99600  17500   \n",
       "2023-08-30  67100  119400    580000  576000  187800  80400  100100  17030   \n",
       "2023-08-31  66900  121800    579000  583000  189100  80200   98500  16660   \n",
       "2023-09-01  71000  120000    560000  570000  187400  79700   99600  16600   \n",
       "2023-09-04  71000  118800    594000  586000  186600  79600  102000  16770   \n",
       "\n",
       "             LG이노텍    키움증권  효성첨단소재      두산   효성티앤씨  \n",
       "날짜                                                  \n",
       "2022-09-05  338000   82400  408000   76900  300000  \n",
       "2022-09-06  336000   81900  429500   76200  304500  \n",
       "2022-09-07  332000   79800  422500   72600  300000  \n",
       "2022-09-08  337500   80900  419500   72100  304500  \n",
       "2022-09-13  364000   85900  430000   73500  312500  \n",
       "...            ...     ...     ...     ...     ...  \n",
       "2023-08-29  264500  102300  444500  114100  324500  \n",
       "2023-08-30  268000  102700  447000  113500  326500  \n",
       "2023-08-31  270000  103300  452000  117600  331000  \n",
       "2023-09-01  268500   99800  436000  113500  326000  \n",
       "2023-09-04  268500  102800  464000  111800  368500  \n",
       "\n",
       "[248 rows x 13 columns]"
      ]
     },
     "execution_count": 25,
     "metadata": {},
     "output_type": "execute_result"
    }
   ],
   "source": [
    "tmp = to_upward.get_close(data,stocks,start,end)\n",
    "tmp"
   ]
  },
  {
   "cell_type": "code",
   "execution_count": 26,
   "metadata": {},
   "outputs": [],
   "source": [
    "daily_ret = tmp[stocks].pct_change()\n",
    "annual_ret = (1+daily_ret.mean())**tmp[stocks].shape[0]-1\n",
    "\n",
    "daily_cov = daily_ret.cov()\n",
    "annual_cov = daily_cov * tmp[stocks].shape[0]"
   ]
  },
  {
   "cell_type": "markdown",
   "metadata": {},
   "source": [
    "# 최대 Shape 예시"
   ]
  },
  {
   "cell_type": "code",
   "execution_count": 27,
   "metadata": {},
   "outputs": [],
   "source": [
    "tmp2 = pd.DataFrame((annual_ret-0.02)/daily_ret.std()*np.sqrt(252),columns= ['Shape']).sort_values(by='Shape',ascending=False)\n",
    "stocks = list(tmp2.iloc[0:5].index)# 상위 5개 선정\n",
    "daily_ret = tmp[stocks].pct_change()\n",
    "annual_ret = (1+daily_ret.mean())**tmp[stocks].shape[0]-1\n",
    "daily_cov = daily_ret.cov()\n",
    "annual_cov = daily_cov * tmp[stocks].shape[0]\n",
    "rf = 0.0325"
   ]
  },
  {
   "cell_type": "code",
   "execution_count": 28,
   "metadata": {},
   "outputs": [],
   "source": [
    "max_shape,min_risk,tmp2,df =to_upward.get_portfolio(stocks,annual_ret,annual_cov)"
   ]
  },
  {
   "cell_type": "code",
   "execution_count": 29,
   "metadata": {},
   "outputs": [
    {
     "data": {
      "image/png": "[encoded data removed]",
      "text/plain": [
       "<Figure size 1000x800 with 2 Axes>"
      ]
     },
     "metadata": {},
     "output_type": "display_data"
    }
   ],
   "source": [
    "to_upward.show_CAPM(df,tmp2,max_shape,min_risk,rf=rf)"
   ]
  },
  {
   "cell_type": "code",
   "execution_count": 30,
   "metadata": {},
   "outputs": [
    {
     "name": "stdout",
     "output_type": "stream",
     "text": [
      "채권의 비중 : 0.6746075011274515\n",
      "이 경우 Risk : 0.102631323021675\n"
     ]
    },
    {
     "data": {
      "application/vnd.plotly.v1+json": {
       "config": {
        "plotlyServerURL": "https://plot.ly"
       },
       "data": [
        {
         "domain": {
          "x": [
           0,
           0.45
          ],
          "y": [
           0,
           1
          ]
         },
         "labels": [
          "POSCO홀딩스",
          "두산",
          "삼성전자",
          "SK하이닉스",
          "키움증권"
         ],
         "name": "기존 포트폴리오",
         "type": "pie",
         "values": [
          0.636937901611527,
          0.13039822812135698,
          0.10154446257336007,
          0.12363432361779952,
          0.007485084075956353
         ]
        },
        {
         "domain": {
          "x": [
           0.55,
           1
          ],
          "y": [
           0,
           1
          ]
         },
         "labels": [
          "POSCO홀딩스",
          "두산",
          "삼성전자",
          "SK하이닉스",
          "키움증권",
          "채권"
         ],
         "name": "기대수익 포트폴리오",
         "type": "pie",
         "values": [
          0.2072548154320122,
          0.04243060529696097,
          0.03304180642341561,
          0.04022968150841313,
          0.0024355902117465583,
          0.6746075011274515
         ]
        }
       ],
       "layout": {
        "annotations": [
         {
          "font": {
           "size": 16
          },
          "showarrow": false,
          "text": "<b>포트폴리오",
          "x": 0.225,
          "xanchor": "center",
          "xref": "paper",
          "y": 1,
          "yanchor": "bottom",
          "yref": "paper"
         },
         {
          "font": {
           "size": 16
          },
          "showarrow": false,
          "text": "<b>기대수익을 위한 포트폴리오<br><sup>자기자본의 67.46%만큼 채권투자</sup>",
          "x": 0.775,
          "xanchor": "center",
          "xref": "paper",
          "y": 1,
          "yanchor": "bottom",
          "yref": "paper"
         }
        ],
        "template": {
         "data": {
          "bar": [
           {
            "error_x": {
             "color": "#2a3f5f"
            },
            "error_y": {
             "color": "#2a3f5f"
            },
            "marker": {
             "line": {
              "color": "#E5ECF6",
              "width": 0.5
             },
             "pattern": {
              "fillmode": "overlay",
              "size": 10,
              "solidity": 0.2
             }
            },
            "type": "bar"
           }
          ],
          "barpolar": [
           {
            "marker": {
             "line": {
              "color": "#E5ECF6",
              "width": 0.5
             },
             "pattern": {
              "fillmode": "overlay",
              "size": 10,
              "solidity": 0.2
             }
            },
            "type": "barpolar"
           }
          ],
          "carpet": [
           {
            "aaxis": {
             "endlinecolor": "#2a3f5f",
             "gridcolor": "white",
             "linecolor": "white",
             "minorgridcolor": "white",
             "startlinecolor": "#2a3f5f"
            },
            "baxis": {
             "endlinecolor": "#2a3f5f",
             "gridcolor": "white",
             "linecolor": "white",
             "minorgridcolor": "white",
             "startlinecolor": "#2a3f5f"
            },
            "type": "carpet"
           }
          ],
          "choropleth": [
           {
            "colorbar": {
             "outlinewidth": 0,
             "ticks": ""
            },
            "type": "choropleth"
           }
          ],
          "contour": [
           {
            "colorbar": {
             "outlinewidth": 0,
             "ticks": ""
            },
            "colorscale": [
             [
              0,
              "#0d0887"
             ],
             [
              0.1111111111111111,
              "#46039f"
             ],
             [
              0.2222222222222222,
              "#7201a8"
             ],
             [
              0.3333333333333333,
              "#9c179e"
             ],
             [
              0.4444444444444444,
              "#bd3786"
             ],
             [
              0.5555555555555556,
              "#d8576b"
             ],
             [
              0.6666666666666666,
              "#ed7953"
             ],
             [
              0.7777777777777778,
              "#fb9f3a"
             ],
             [
              0.8888888888888888,
              "#fdca26"
             ],
             [
              1,
              "#f0f921"
             ]
            ],
            "type": "contour"
           }
          ],
          "contourcarpet": [
           {
            "colorbar": {
             "outlinewidth": 0,
             "ticks": ""
            },
            "type": "contourcarpet"
           }
          ],
          "heatmap": [
           {
            "colorbar": {
             "outlinewidth": 0,
             "ticks": ""
            },
            "colorscale": [
             [
              0,
              "#0d0887"
             ],
             [
              0.1111111111111111,
              "#46039f"
             ],
             [
              0.2222222222222222,
              "#7201a8"
             ],
             [
              0.3333333333333333,
              "#9c179e"
             ],
             [
              0.4444444444444444,
              "#bd3786"
             ],
             [
              0.5555555555555556,
              "#d8576b"
             ],
             [
              0.6666666666666666,
              "#ed7953"
             ],
             [
              0.7777777777777778,
              "#fb9f3a"
             ],
             [
              0.8888888888888888,
              "#fdca26"
             ],
             [
              1,
              "#f0f921"
             ]
            ],
            "type": "heatmap"
           }
          ],
          "heatmapgl": [
           {
            "colorbar": {
             "outlinewidth": 0,
             "ticks": ""
            },
            "colorscale": [
             [
              0,
              "#0d0887"
             ],
             [
              0.1111111111111111,
              "#46039f"
             ],
             [
              0.2222222222222222,
              "#7201a8"
             ],
             [
              0.3333333333333333,
              "#9c179e"
             ],
             [
              0.4444444444444444,
              "#bd3786"
             ],
             [
              0.5555555555555556,
              "#d8576b"
             ],
             [
              0.6666666666666666,
              "#ed7953"
             ],
             [
              0.7777777777777778,
              "#fb9f3a"
             ],
             [
              0.8888888888888888,
              "#fdca26"
             ],
             [
              1,
              "#f0f921"
             ]
            ],
            "type": "heatmapgl"
           }
          ],
          "histogram": [
           {
            "marker": {
             "pattern": {
              "fillmode": "overlay",
              "size": 10,
              "solidity": 0.2
             }
            },
            "type": "histogram"
           }
          ],
          "histogram2d": [
           {
            "colorbar": {
             "outlinewidth": 0,
             "ticks": ""
            },
            "colorscale": [
             [
              0,
              "#0d0887"
             ],
             [
              0.1111111111111111,
              "#46039f"
             ],
             [
              0.2222222222222222,
              "#7201a8"
             ],
             [
              0.3333333333333333,
              "#9c179e"
             ],
             [
              0.4444444444444444,
              "#bd3786"
             ],
             [
              0.5555555555555556,
              "#d8576b"
             ],
             [
              0.6666666666666666,
              "#ed7953"
             ],
             [
              0.7777777777777778,
              "#fb9f3a"
             ],
             [
              0.8888888888888888,
              "#fdca26"
             ],
             [
              1,
              "#f0f921"
             ]
            ],
            "type": "histogram2d"
           }
          ],
          "histogram2dcontour": [
           {
            "colorbar": {
             "outlinewidth": 0,
             "ticks": ""
            },
            "colorscale": [
             [
              0,
              "#0d0887"
             ],
             [
              0.1111111111111111,
              "#46039f"
             ],
             [
              0.2222222222222222,
              "#7201a8"
             ],
             [
              0.3333333333333333,
              "#9c179e"
             ],
             [
              0.4444444444444444,
              "#bd3786"
             ],
             [
              0.5555555555555556,
              "#d8576b"
             ],
             [
              0.6666666666666666,
              "#ed7953"
             ],
             [
              0.7777777777777778,
              "#fb9f3a"
             ],
             [
              0.8888888888888888,
              "#fdca26"
             ],
             [
              1,
              "#f0f921"
             ]
            ],
            "type": "histogram2dcontour"
           }
          ],
          "mesh3d": [
           {
            "colorbar": {
             "outlinewidth": 0,
             "ticks": ""
            },
            "type": "mesh3d"
           }
          ],
          "parcoords": [
           {
            "line": {
             "colorbar": {
              "outlinewidth": 0,
              "ticks": ""
             }
            },
            "type": "parcoords"
           }
          ],
          "pie": [
           {
            "automargin": true,
            "type": "pie"
           }
          ],
          "scatter": [
           {
            "fillpattern": {
             "fillmode": "overlay",
             "size": 10,
             "solidity": 0.2
            },
            "type": "scatter"
           }
          ],
          "scatter3d": [
           {
            "line": {
             "colorbar": {
              "outlinewidth": 0,
              "ticks": ""
             }
            },
            "marker": {
             "colorbar": {
              "outlinewidth": 0,
              "ticks": ""
             }
            },
            "type": "scatter3d"
           }
          ],
          "scattercarpet": [
           {
            "marker": {
             "colorbar": {
              "outlinewidth": 0,
              "ticks": ""
             }
            },
            "type": "scattercarpet"
           }
          ],
          "scattergeo": [
           {
            "marker": {
             "colorbar": {
              "outlinewidth": 0,
              "ticks": ""
             }
            },
            "type": "scattergeo"
           }
          ],
          "scattergl": [
           {
            "marker": {
             "colorbar": {
              "outlinewidth": 0,
              "ticks": ""
             }
            },
            "type": "scattergl"
           }
          ],
          "scattermapbox": [
           {
            "marker": {
             "colorbar": {
              "outlinewidth": 0,
              "ticks": ""
             }
            },
            "type": "scattermapbox"
           }
          ],
          "scatterpolar": [
           {
            "marker": {
             "colorbar": {
              "outlinewidth": 0,
              "ticks": ""
             }
            },
            "type": "scatterpolar"
           }
          ],
          "scatterpolargl": [
           {
            "marker": {
             "colorbar": {
              "outlinewidth": 0,
              "ticks": ""
             }
            },
            "type": "scatterpolargl"
           }
          ],
          "scatterternary": [
           {
            "marker": {
             "colorbar": {
              "outlinewidth": 0,
              "ticks": ""
             }
            },
            "type": "scatterternary"
           }
          ],
          "surface": [
           {
            "colorbar": {
             "outlinewidth": 0,
             "ticks": ""
            },
            "colorscale": [
             [
              0,
              "#0d0887"
             ],
             [
              0.1111111111111111,
              "#46039f"
             ],
             [
              0.2222222222222222,
              "#7201a8"
             ],
             [
              0.3333333333333333,
              "#9c179e"
             ],
             [
              0.4444444444444444,
              "#bd3786"
             ],
             [
              0.5555555555555556,
              "#d8576b"
             ],
             [
              0.6666666666666666,
              "#ed7953"
             ],
             [
              0.7777777777777778,
              "#fb9f3a"
             ],
             [
              0.8888888888888888,
              "#fdca26"
             ],
             [
              1,
              "#f0f921"
             ]
            ],
            "type": "surface"
           }
          ],
          "table": [
           {
            "cells": {
             "fill": {
              "color": "#EBF0F8"
             },
             "line": {
              "color": "white"
             }
            },
            "header": {
             "fill": {
              "color": "#C8D4E3"
             },
             "line": {
              "color": "white"
             }
            },
            "type": "table"
           }
          ]
         },
         "layout": {
          "annotationdefaults": {
           "arrowcolor": "#2a3f5f",
           "arrowhead": 0,
           "arrowwidth": 1
          },
          "autotypenumbers": "strict",
          "coloraxis": {
           "colorbar": {
            "outlinewidth": 0,
            "ticks": ""
           }
          },
          "colorscale": {
           "diverging": [
            [
             0,
             "#8e0152"
            ],
            [
             0.1,
             "#c51b7d"
            ],
            [
             0.2,
             "#de77ae"
            ],
            [
             0.3,
             "#f1b6da"
            ],
            [
             0.4,
             "#fde0ef"
            ],
            [
             0.5,
             "#f7f7f7"
            ],
            [
             0.6,
             "#e6f5d0"
            ],
            [
             0.7,
             "#b8e186"
            ],
            [
             0.8,
             "#7fbc41"
            ],
            [
             0.9,
             "#4d9221"
            ],
            [
             1,
             "#276419"
            ]
           ],
           "sequential": [
            [
             0,
             "#0d0887"
            ],
            [
             0.1111111111111111,
             "#46039f"
            ],
            [
             0.2222222222222222,
             "#7201a8"
            ],
            [
             0.3333333333333333,
             "#9c179e"
            ],
            [
             0.4444444444444444,
             "#bd3786"
            ],
            [
             0.5555555555555556,
             "#d8576b"
            ],
            [
             0.6666666666666666,
             "#ed7953"
            ],
            [
             0.7777777777777778,
             "#fb9f3a"
            ],
            [
             0.8888888888888888,
             "#fdca26"
            ],
            [
             1,
             "#f0f921"
            ]
           ],
           "sequentialminus": [
            [
             0,
             "#0d0887"
            ],
            [
             0.1111111111111111,
             "#46039f"
            ],
            [
             0.2222222222222222,
             "#7201a8"
            ],
            [
             0.3333333333333333,
             "#9c179e"
            ],
            [
             0.4444444444444444,
             "#bd3786"
            ],
            [
             0.5555555555555556,
             "#d8576b"
            ],
            [
             0.6666666666666666,
             "#ed7953"
            ],
            [
             0.7777777777777778,
             "#fb9f3a"
            ],
            [
             0.8888888888888888,
             "#fdca26"
            ],
            [
             1,
             "#f0f921"
            ]
           ]
          },
          "colorway": [
           "#636efa",
           "#EF553B",
           "#00cc96",
           "#ab63fa",
           "#FFA15A",
           "#19d3f3",
           "#FF6692",
           "#B6E880",
           "#FF97FF",
           "#FECB52"
          ],
          "font": {
           "color": "#2a3f5f"
          },
          "geo": {
           "bgcolor": "white",
           "lakecolor": "white",
           "landcolor": "#E5ECF6",
           "showlakes": true,
           "showland": true,
           "subunitcolor": "white"
          },
          "hoverlabel": {
           "align": "left"
          },
          "hovermode": "closest",
          "mapbox": {
           "style": "light"
          },
          "paper_bgcolor": "white",
          "plot_bgcolor": "#E5ECF6",
          "polar": {
           "angularaxis": {
            "gridcolor": "white",
            "linecolor": "white",
            "ticks": ""
           },
           "bgcolor": "#E5ECF6",
           "radialaxis": {
            "gridcolor": "white",
            "linecolor": "white",
            "ticks": ""
           }
          },
          "scene": {
           "xaxis": {
            "backgroundcolor": "#E5ECF6",
            "gridcolor": "white",
            "gridwidth": 2,
            "linecolor": "white",
            "showbackground": true,
            "ticks": "",
            "zerolinecolor": "white"
           },
           "yaxis": {
            "backgroundcolor": "#E5ECF6",
            "gridcolor": "white",
            "gridwidth": 2,
            "linecolor": "white",
            "showbackground": true,
            "ticks": "",
            "zerolinecolor": "white"
           },
           "zaxis": {
            "backgroundcolor": "#E5ECF6",
            "gridcolor": "white",
            "gridwidth": 2,
            "linecolor": "white",
            "showbackground": true,
            "ticks": "",
            "zerolinecolor": "white"
           }
          },
          "shapedefaults": {
           "line": {
            "color": "#2a3f5f"
           }
          },
          "ternary": {
           "aaxis": {
            "gridcolor": "white",
            "linecolor": "white",
            "ticks": ""
           },
           "baxis": {
            "gridcolor": "white",
            "linecolor": "white",
            "ticks": ""
           },
           "bgcolor": "#E5ECF6",
           "caxis": {
            "gridcolor": "white",
            "linecolor": "white",
            "ticks": ""
           }
          },
          "title": {
           "x": 0.05
          },
          "xaxis": {
           "automargin": true,
           "gridcolor": "white",
           "linecolor": "white",
           "ticks": "",
           "title": {
            "standoff": 15
           },
           "zerolinecolor": "white",
           "zerolinewidth": 2
          },
          "yaxis": {
           "automargin": true,
           "gridcolor": "white",
           "linecolor": "white",
           "ticks": "",
           "title": {
            "standoff": 15
           },
           "zerolinecolor": "white",
           "zerolinewidth": 2
          }
         }
        }
       }
      }
     },
     "metadata": {},
     "output_type": "display_data"
    }
   ],
   "source": [
    "to_upward.show_portfolio(max_shape)"
   ]
  },
  {
   "cell_type": "code",
   "execution_count": 31,
   "metadata": {},
   "outputs": [
    {
     "data": {
      "text/html": [
       "<div>\n",
       "<style scoped>\n",
       "    .dataframe tbody tr th:only-of-type {\n",
       "        vertical-align: middle;\n",
       "    }\n",
       "\n",
       "    .dataframe tbody tr th {\n",
       "        vertical-align: top;\n",
       "    }\n",
       "\n",
       "    .dataframe thead th {\n",
       "        text-align: right;\n",
       "    }\n",
       "</style>\n",
       "<table border=\"1\" class=\"dataframe\">\n",
       "  <thead>\n",
       "    <tr style=\"text-align: right;\">\n",
       "      <th></th>\n",
       "      <th>POSCO홀딩스</th>\n",
       "      <th>두산</th>\n",
       "      <th>삼성전자</th>\n",
       "      <th>SK하이닉스</th>\n",
       "      <th>키움증권</th>\n",
       "    </tr>\n",
       "  </thead>\n",
       "  <tbody>\n",
       "    <tr>\n",
       "      <th>16126</th>\n",
       "      <td>636,937.90</td>\n",
       "      <td>130,398.23</td>\n",
       "      <td>101,544.46</td>\n",
       "      <td>123,634.32</td>\n",
       "      <td>7,485.08</td>\n",
       "    </tr>\n",
       "  </tbody>\n",
       "</table>\n",
       "</div>"
      ],
      "text/plain": [
       "        POSCO홀딩스         두산       삼성전자     SK하이닉스     키움증권\n",
       "16126 636,937.90 130,398.23 101,544.46 123,634.32 7,485.08"
      ]
     },
     "execution_count": 31,
     "metadata": {},
     "output_type": "execute_result"
    }
   ],
   "source": [
    "balance = 1000000\n",
    "stock_money = max_shape[max_shape.columns[3:]]*balance\n",
    "stock_money"
   ]
  },
  {
   "cell_type": "code",
   "execution_count": 15,
   "metadata": {},
   "outputs": [
    {
     "data": {
      "text/html": [
       "<div>\n",
       "<style scoped>\n",
       "    .dataframe tbody tr th:only-of-type {\n",
       "        vertical-align: middle;\n",
       "    }\n",
       "\n",
       "    .dataframe tbody tr th {\n",
       "        vertical-align: top;\n",
       "    }\n",
       "\n",
       "    .dataframe thead th {\n",
       "        text-align: right;\n",
       "    }\n",
       "</style>\n",
       "<table border=\"1\" class=\"dataframe\">\n",
       "  <thead>\n",
       "    <tr style=\"text-align: right;\">\n",
       "      <th></th>\n",
       "      <th>0</th>\n",
       "      <th>1</th>\n",
       "      <th>2</th>\n",
       "      <th>3</th>\n",
       "      <th>4</th>\n",
       "      <th>5</th>\n",
       "      <th>6</th>\n",
       "      <th>7</th>\n",
       "      <th>8</th>\n",
       "      <th>9</th>\n",
       "      <th>...</th>\n",
       "      <th>990</th>\n",
       "      <th>991</th>\n",
       "      <th>992</th>\n",
       "      <th>993</th>\n",
       "      <th>994</th>\n",
       "      <th>995</th>\n",
       "      <th>996</th>\n",
       "      <th>997</th>\n",
       "      <th>998</th>\n",
       "      <th>999</th>\n",
       "    </tr>\n",
       "  </thead>\n",
       "  <tbody>\n",
       "    <tr>\n",
       "      <th>0</th>\n",
       "      <td>1.000000e+06</td>\n",
       "      <td>1.000000e+06</td>\n",
       "      <td>1.000000e+06</td>\n",
       "      <td>1.000000e+06</td>\n",
       "      <td>1.000000e+06</td>\n",
       "      <td>1.000000e+06</td>\n",
       "      <td>1.000000e+06</td>\n",
       "      <td>1.000000e+06</td>\n",
       "      <td>1000000.000000</td>\n",
       "      <td>1.000000e+06</td>\n",
       "      <td>...</td>\n",
       "      <td>1.000000e+06</td>\n",
       "      <td>1000000.000000</td>\n",
       "      <td>1.000000e+06</td>\n",
       "      <td>1.000000e+06</td>\n",
       "      <td>1.000000e+06</td>\n",
       "      <td>1.000000e+06</td>\n",
       "      <td>1.000000e+06</td>\n",
       "      <td>1.000000e+06</td>\n",
       "      <td>1.000000e+06</td>\n",
       "      <td>1.000000e+06</td>\n",
       "    </tr>\n",
       "    <tr>\n",
       "      <th>1</th>\n",
       "      <td>1.047203e+06</td>\n",
       "      <td>9.879045e+05</td>\n",
       "      <td>9.949443e+05</td>\n",
       "      <td>1.010104e+06</td>\n",
       "      <td>9.975422e+05</td>\n",
       "      <td>1.005903e+06</td>\n",
       "      <td>9.957383e+05</td>\n",
       "      <td>1.017333e+06</td>\n",
       "      <td>993417.727065</td>\n",
       "      <td>9.756426e+05</td>\n",
       "      <td>...</td>\n",
       "      <td>1.013750e+06</td>\n",
       "      <td>972316.204072</td>\n",
       "      <td>1.016369e+06</td>\n",
       "      <td>1.006109e+06</td>\n",
       "      <td>1.004698e+06</td>\n",
       "      <td>9.854559e+05</td>\n",
       "      <td>1.006115e+06</td>\n",
       "      <td>1.046530e+06</td>\n",
       "      <td>1.016818e+06</td>\n",
       "      <td>9.729093e+05</td>\n",
       "    </tr>\n",
       "    <tr>\n",
       "      <th>2</th>\n",
       "      <td>1.061249e+06</td>\n",
       "      <td>1.007082e+06</td>\n",
       "      <td>9.793142e+05</td>\n",
       "      <td>9.924649e+05</td>\n",
       "      <td>1.003975e+06</td>\n",
       "      <td>1.011626e+06</td>\n",
       "      <td>9.948847e+05</td>\n",
       "      <td>1.017082e+06</td>\n",
       "      <td>948653.479009</td>\n",
       "      <td>1.012113e+06</td>\n",
       "      <td>...</td>\n",
       "      <td>1.025435e+06</td>\n",
       "      <td>960030.052108</td>\n",
       "      <td>1.000114e+06</td>\n",
       "      <td>9.981077e+05</td>\n",
       "      <td>1.008426e+06</td>\n",
       "      <td>9.769185e+05</td>\n",
       "      <td>1.005808e+06</td>\n",
       "      <td>1.035820e+06</td>\n",
       "      <td>1.029687e+06</td>\n",
       "      <td>1.004434e+06</td>\n",
       "    </tr>\n",
       "    <tr>\n",
       "      <th>3</th>\n",
       "      <td>1.037499e+06</td>\n",
       "      <td>1.030557e+06</td>\n",
       "      <td>9.746658e+05</td>\n",
       "      <td>9.687610e+05</td>\n",
       "      <td>1.004717e+06</td>\n",
       "      <td>1.022257e+06</td>\n",
       "      <td>1.003558e+06</td>\n",
       "      <td>1.012848e+06</td>\n",
       "      <td>934816.252904</td>\n",
       "      <td>9.803710e+05</td>\n",
       "      <td>...</td>\n",
       "      <td>1.024543e+06</td>\n",
       "      <td>946825.598206</td>\n",
       "      <td>1.007591e+06</td>\n",
       "      <td>1.006612e+06</td>\n",
       "      <td>1.007346e+06</td>\n",
       "      <td>9.902029e+05</td>\n",
       "      <td>1.003074e+06</td>\n",
       "      <td>1.018406e+06</td>\n",
       "      <td>1.061632e+06</td>\n",
       "      <td>9.900411e+05</td>\n",
       "    </tr>\n",
       "    <tr>\n",
       "      <th>4</th>\n",
       "      <td>1.032013e+06</td>\n",
       "      <td>1.033839e+06</td>\n",
       "      <td>9.536967e+05</td>\n",
       "      <td>9.747745e+05</td>\n",
       "      <td>1.002558e+06</td>\n",
       "      <td>1.015440e+06</td>\n",
       "      <td>1.014038e+06</td>\n",
       "      <td>9.956191e+05</td>\n",
       "      <td>929947.369469</td>\n",
       "      <td>9.829883e+05</td>\n",
       "      <td>...</td>\n",
       "      <td>1.007842e+06</td>\n",
       "      <td>957825.749289</td>\n",
       "      <td>1.040068e+06</td>\n",
       "      <td>1.019682e+06</td>\n",
       "      <td>1.011421e+06</td>\n",
       "      <td>1.010818e+06</td>\n",
       "      <td>1.016783e+06</td>\n",
       "      <td>1.011898e+06</td>\n",
       "      <td>1.086961e+06</td>\n",
       "      <td>9.994522e+05</td>\n",
       "    </tr>\n",
       "    <tr>\n",
       "      <th>...</th>\n",
       "      <td>...</td>\n",
       "      <td>...</td>\n",
       "      <td>...</td>\n",
       "      <td>...</td>\n",
       "      <td>...</td>\n",
       "      <td>...</td>\n",
       "      <td>...</td>\n",
       "      <td>...</td>\n",
       "      <td>...</td>\n",
       "      <td>...</td>\n",
       "      <td>...</td>\n",
       "      <td>...</td>\n",
       "      <td>...</td>\n",
       "      <td>...</td>\n",
       "      <td>...</td>\n",
       "      <td>...</td>\n",
       "      <td>...</td>\n",
       "      <td>...</td>\n",
       "      <td>...</td>\n",
       "      <td>...</td>\n",
       "      <td>...</td>\n",
       "    </tr>\n",
       "    <tr>\n",
       "      <th>95</th>\n",
       "      <td>1.190922e+06</td>\n",
       "      <td>8.734620e+05</td>\n",
       "      <td>9.461080e+05</td>\n",
       "      <td>7.971497e+05</td>\n",
       "      <td>1.091345e+06</td>\n",
       "      <td>8.214595e+05</td>\n",
       "      <td>1.287341e+06</td>\n",
       "      <td>1.384687e+06</td>\n",
       "      <td>913743.301607</td>\n",
       "      <td>9.759652e+05</td>\n",
       "      <td>...</td>\n",
       "      <td>1.167019e+06</td>\n",
       "      <td>920225.171790</td>\n",
       "      <td>7.461198e+05</td>\n",
       "      <td>1.057188e+06</td>\n",
       "      <td>9.093800e+05</td>\n",
       "      <td>9.410592e+05</td>\n",
       "      <td>1.030391e+06</td>\n",
       "      <td>7.857708e+05</td>\n",
       "      <td>1.152471e+06</td>\n",
       "      <td>1.119705e+06</td>\n",
       "    </tr>\n",
       "    <tr>\n",
       "      <th>96</th>\n",
       "      <td>1.187064e+06</td>\n",
       "      <td>8.996562e+05</td>\n",
       "      <td>9.835137e+05</td>\n",
       "      <td>7.998228e+05</td>\n",
       "      <td>1.129009e+06</td>\n",
       "      <td>8.153755e+05</td>\n",
       "      <td>1.234897e+06</td>\n",
       "      <td>1.358343e+06</td>\n",
       "      <td>898899.916607</td>\n",
       "      <td>1.011169e+06</td>\n",
       "      <td>...</td>\n",
       "      <td>1.167366e+06</td>\n",
       "      <td>921419.504833</td>\n",
       "      <td>7.621172e+05</td>\n",
       "      <td>1.032999e+06</td>\n",
       "      <td>9.007986e+05</td>\n",
       "      <td>9.415353e+05</td>\n",
       "      <td>1.026263e+06</td>\n",
       "      <td>7.880359e+05</td>\n",
       "      <td>1.148624e+06</td>\n",
       "      <td>1.098804e+06</td>\n",
       "    </tr>\n",
       "    <tr>\n",
       "      <th>97</th>\n",
       "      <td>1.183195e+06</td>\n",
       "      <td>9.025789e+05</td>\n",
       "      <td>9.936749e+05</td>\n",
       "      <td>7.776027e+05</td>\n",
       "      <td>1.136516e+06</td>\n",
       "      <td>7.996951e+05</td>\n",
       "      <td>1.257030e+06</td>\n",
       "      <td>1.335282e+06</td>\n",
       "      <td>897240.546569</td>\n",
       "      <td>9.929967e+05</td>\n",
       "      <td>...</td>\n",
       "      <td>1.169155e+06</td>\n",
       "      <td>919697.720862</td>\n",
       "      <td>7.493548e+05</td>\n",
       "      <td>1.025771e+06</td>\n",
       "      <td>9.152512e+05</td>\n",
       "      <td>9.857518e+05</td>\n",
       "      <td>1.046942e+06</td>\n",
       "      <td>7.876888e+05</td>\n",
       "      <td>1.155064e+06</td>\n",
       "      <td>1.096986e+06</td>\n",
       "    </tr>\n",
       "    <tr>\n",
       "      <th>98</th>\n",
       "      <td>1.210499e+06</td>\n",
       "      <td>8.989275e+05</td>\n",
       "      <td>1.012269e+06</td>\n",
       "      <td>7.599687e+05</td>\n",
       "      <td>1.131576e+06</td>\n",
       "      <td>8.273616e+05</td>\n",
       "      <td>1.315356e+06</td>\n",
       "      <td>1.321816e+06</td>\n",
       "      <td>903660.390556</td>\n",
       "      <td>1.022409e+06</td>\n",
       "      <td>...</td>\n",
       "      <td>1.170500e+06</td>\n",
       "      <td>935677.294954</td>\n",
       "      <td>7.529111e+05</td>\n",
       "      <td>1.022200e+06</td>\n",
       "      <td>9.201023e+05</td>\n",
       "      <td>9.792118e+05</td>\n",
       "      <td>1.071367e+06</td>\n",
       "      <td>7.916217e+05</td>\n",
       "      <td>1.181290e+06</td>\n",
       "      <td>1.073732e+06</td>\n",
       "    </tr>\n",
       "    <tr>\n",
       "      <th>99</th>\n",
       "      <td>1.197455e+06</td>\n",
       "      <td>8.953598e+05</td>\n",
       "      <td>9.897158e+05</td>\n",
       "      <td>7.632348e+05</td>\n",
       "      <td>1.145790e+06</td>\n",
       "      <td>8.262390e+05</td>\n",
       "      <td>1.285831e+06</td>\n",
       "      <td>1.323502e+06</td>\n",
       "      <td>909991.954481</td>\n",
       "      <td>1.000504e+06</td>\n",
       "      <td>...</td>\n",
       "      <td>1.178026e+06</td>\n",
       "      <td>933123.754331</td>\n",
       "      <td>7.659199e+05</td>\n",
       "      <td>1.003545e+06</td>\n",
       "      <td>8.976095e+05</td>\n",
       "      <td>9.844218e+05</td>\n",
       "      <td>1.075302e+06</td>\n",
       "      <td>8.029878e+05</td>\n",
       "      <td>1.176844e+06</td>\n",
       "      <td>1.063367e+06</td>\n",
       "    </tr>\n",
       "  </tbody>\n",
       "</table>\n",
       "<p>100 rows × 1000 columns</p>\n",
       "</div>"
      ],
      "text/plain": [
       "             0             1             2             3             4    \\\n",
       "0   1.000000e+06  1.000000e+06  1.000000e+06  1.000000e+06  1.000000e+06   \n",
       "1   1.047203e+06  9.879045e+05  9.949443e+05  1.010104e+06  9.975422e+05   \n",
       "2   1.061249e+06  1.007082e+06  9.793142e+05  9.924649e+05  1.003975e+06   \n",
       "3   1.037499e+06  1.030557e+06  9.746658e+05  9.687610e+05  1.004717e+06   \n",
       "4   1.032013e+06  1.033839e+06  9.536967e+05  9.747745e+05  1.002558e+06   \n",
       "..           ...           ...           ...           ...           ...   \n",
       "95  1.190922e+06  8.734620e+05  9.461080e+05  7.971497e+05  1.091345e+06   \n",
       "96  1.187064e+06  8.996562e+05  9.835137e+05  7.998228e+05  1.129009e+06   \n",
       "97  1.183195e+06  9.025789e+05  9.936749e+05  7.776027e+05  1.136516e+06   \n",
       "98  1.210499e+06  8.989275e+05  1.012269e+06  7.599687e+05  1.131576e+06   \n",
       "99  1.197455e+06  8.953598e+05  9.897158e+05  7.632348e+05  1.145790e+06   \n",
       "\n",
       "             5             6             7               8             9    \\\n",
       "0   1.000000e+06  1.000000e+06  1.000000e+06  1000000.000000  1.000000e+06   \n",
       "1   1.005903e+06  9.957383e+05  1.017333e+06   993417.727065  9.756426e+05   \n",
       "2   1.011626e+06  9.948847e+05  1.017082e+06   948653.479009  1.012113e+06   \n",
       "3   1.022257e+06  1.003558e+06  1.012848e+06   934816.252904  9.803710e+05   \n",
       "4   1.015440e+06  1.014038e+06  9.956191e+05   929947.369469  9.829883e+05   \n",
       "..           ...           ...           ...             ...           ...   \n",
       "95  8.214595e+05  1.287341e+06  1.384687e+06   913743.301607  9.759652e+05   \n",
       "96  8.153755e+05  1.234897e+06  1.358343e+06   898899.916607  1.011169e+06   \n",
       "97  7.996951e+05  1.257030e+06  1.335282e+06   897240.546569  9.929967e+05   \n",
       "98  8.273616e+05  1.315356e+06  1.321816e+06   903660.390556  1.022409e+06   \n",
       "99  8.262390e+05  1.285831e+06  1.323502e+06   909991.954481  1.000504e+06   \n",
       "\n",
       "    ...           990             991           992           993  \\\n",
       "0   ...  1.000000e+06  1000000.000000  1.000000e+06  1.000000e+06   \n",
       "1   ...  1.013750e+06   972316.204072  1.016369e+06  1.006109e+06   \n",
       "2   ...  1.025435e+06   960030.052108  1.000114e+06  9.981077e+05   \n",
       "3   ...  1.024543e+06   946825.598206  1.007591e+06  1.006612e+06   \n",
       "4   ...  1.007842e+06   957825.749289  1.040068e+06  1.019682e+06   \n",
       "..  ...           ...             ...           ...           ...   \n",
       "95  ...  1.167019e+06   920225.171790  7.461198e+05  1.057188e+06   \n",
       "96  ...  1.167366e+06   921419.504833  7.621172e+05  1.032999e+06   \n",
       "97  ...  1.169155e+06   919697.720862  7.493548e+05  1.025771e+06   \n",
       "98  ...  1.170500e+06   935677.294954  7.529111e+05  1.022200e+06   \n",
       "99  ...  1.178026e+06   933123.754331  7.659199e+05  1.003545e+06   \n",
       "\n",
       "             994           995           996           997           998  \\\n",
       "0   1.000000e+06  1.000000e+06  1.000000e+06  1.000000e+06  1.000000e+06   \n",
       "1   1.004698e+06  9.854559e+05  1.006115e+06  1.046530e+06  1.016818e+06   \n",
       "2   1.008426e+06  9.769185e+05  1.005808e+06  1.035820e+06  1.029687e+06   \n",
       "3   1.007346e+06  9.902029e+05  1.003074e+06  1.018406e+06  1.061632e+06   \n",
       "4   1.011421e+06  1.010818e+06  1.016783e+06  1.011898e+06  1.086961e+06   \n",
       "..           ...           ...           ...           ...           ...   \n",
       "95  9.093800e+05  9.410592e+05  1.030391e+06  7.857708e+05  1.152471e+06   \n",
       "96  9.007986e+05  9.415353e+05  1.026263e+06  7.880359e+05  1.148624e+06   \n",
       "97  9.152512e+05  9.857518e+05  1.046942e+06  7.876888e+05  1.155064e+06   \n",
       "98  9.201023e+05  9.792118e+05  1.071367e+06  7.916217e+05  1.181290e+06   \n",
       "99  8.976095e+05  9.844218e+05  1.075302e+06  8.029878e+05  1.176844e+06   \n",
       "\n",
       "             999  \n",
       "0   1.000000e+06  \n",
       "1   9.729093e+05  \n",
       "2   1.004434e+06  \n",
       "3   9.900411e+05  \n",
       "4   9.994522e+05  \n",
       "..           ...  \n",
       "95  1.119705e+06  \n",
       "96  1.098804e+06  \n",
       "97  1.096986e+06  \n",
       "98  1.073732e+06  \n",
       "99  1.063367e+06  \n",
       "\n",
       "[100 rows x 1000 columns]"
      ]
     },
     "execution_count": 15,
     "metadata": {},
     "output_type": "execute_result"
    }
   ],
   "source": [
    "sim_num = 1000\n",
    "balance_df = to_upward.monte_sim(sim_num,tmp,stocks,stock_money)\n",
    "balance_df"
   ]
  },
  {
   "cell_type": "code",
   "execution_count": 33,
   "metadata": {},
   "outputs": [
    {
     "data": {
      "image/png": "[encoded data removed]",
      "text/plain": [
       "<Figure size 640x480 with 1 Axes>"
      ]
     },
     "metadata": {},
     "output_type": "display_data"
    }
   ],
   "source": [
    "plt.hist(balance_df.iloc[99])\n",
    "plt.show()"
   ]
  },
  {
   "cell_type": "code",
   "execution_count": 34,
   "metadata": {},
   "outputs": [
    {
     "data": {
      "text/html": [
       "<div>\n",
       "<style scoped>\n",
       "    .dataframe tbody tr th:only-of-type {\n",
       "        vertical-align: middle;\n",
       "    }\n",
       "\n",
       "    .dataframe tbody tr th {\n",
       "        vertical-align: top;\n",
       "    }\n",
       "\n",
       "    .dataframe thead th {\n",
       "        text-align: right;\n",
       "    }\n",
       "</style>\n",
       "<table border=\"1\" class=\"dataframe\">\n",
       "  <thead>\n",
       "    <tr style=\"text-align: right;\">\n",
       "      <th></th>\n",
       "      <th>포트폴리오가치</th>\n",
       "    </tr>\n",
       "  </thead>\n",
       "  <tbody>\n",
       "    <tr>\n",
       "      <th>50%</th>\n",
       "      <td>1,020,331.76</td>\n",
       "    </tr>\n",
       "    <tr>\n",
       "      <th>90%</th>\n",
       "      <td>1,255,830.35</td>\n",
       "    </tr>\n",
       "  </tbody>\n",
       "</table>\n",
       "</div>"
      ],
      "text/plain": [
       "         포트폴리오가치\n",
       "50% 1,020,331.76\n",
       "90% 1,255,830.35"
      ]
     },
     "execution_count": 34,
     "metadata": {},
     "output_type": "execute_result"
    }
   ],
   "source": [
    "pd.set_option('display.float_format', lambda x: f'{x:,.2f}') \n",
    "pd.DataFrame(balance_df.iloc[99].quantile([0.5,0.9]).to_numpy(),columns=['포트폴리오가치'],index=['50%','90%'])"
   ]
  },
  {
   "cell_type": "code",
   "execution_count": 41,
   "metadata": {},
   "outputs": [],
   "source": [
    "data2 = data[[\"추정PER\",'동종업계trailingPE','priceToBook','enterpriseValue','enterpriseToRevenue','enterpriseToEbitda','trailingEps','priceToSalesTrailing12Months','trailingPE']]"
   ]
  },
  {
   "cell_type": "code",
   "execution_count": 46,
   "metadata": {},
   "outputs": [
    {
     "data": {
      "text/plain": [
       "{'추정PER': '69.4',\n",
       " '동종업계trailingPE': 9.59,\n",
       " 'priceToBook': 5.44,\n",
       " 'enterpriseValue': 135256086675456.0,\n",
       " 'enterpriseToRevenue': 4.508,\n",
       " 'enterpriseToEbitda': 34.66,\n",
       " 'trailingEps': 3306,\n",
       " 'priceToSalesTrailing12Months': 4.440976,\n",
       " 'trailingPE': 167.27}"
      ]
     },
     "execution_count": 46,
     "metadata": {},
     "output_type": "execute_result"
    }
   ],
   "source": [
    "data2.iloc[1].to_dict()"
   ]
  },
  {
   "cell_type": "code",
   "execution_count": 49,
   "metadata": {},
   "outputs": [
    {
     "name": "stdout",
     "output_type": "stream",
     "text": [
      "추정PER = 69.4\n",
      "동종업계trailingPE = 9.59\n",
      "priceToBook = 5.44\n",
      "enterpriseValue = 135256086675456.0\n",
      "enterpriseToRevenue = 4.508\n",
      "enterpriseToEbitda = 34.66\n",
      "trailingEps = 3306\n",
      "priceToSalesTrailing12Months = 4.440976\n",
      "trailingPE = 167.27\n"
     ]
    }
   ],
   "source": [
    "for k,v in data2.iloc[1].to_dict().items():\n",
    "    print(f\"{k} = {v}\")\n",
    "    "
   ]
  },
  {
   "cell_type": "code",
   "execution_count": null,
   "metadata": {},
   "outputs": [],
   "source": [
    "# Name                                             삼성전자\n",
    "# 추정PER                                            45.2\n",
    "# 동종업계trailingPE                                   9.59\n",
    "# priceToBook                                      1.09\n",
    "# enterpriseValue                374,294,588,686,336.00\n",
    "# enterpriseToRevenue                              1.38\n",
    "# enterpriseToEbitda                               4.62\n",
    "# trailingEps                                      8057\n",
    "# priceToSalesTrailing12Months                     1.67\n",
    "# trailingPE                                       8.55\n",
    "\n",
    "# 이러한 contents가 주어졌을 때, 다음과 같은 글을 생성해야한다.\n",
    "# 삼성전자는 전문가들이 추정한 추정 PER가 실제 PER보다 매우 높은 것으로 보아, 현재 저평가 상태로 추정된다.\n",
    "# 또, priceToBook가 1이상으로 안정적이며, enterpriseValue는 374,294,588,686,336으로 기업의 가치 또한 매우크다.\n",
    "# enterpriseToEbitda를 보았을 떄 기업의 가치 대비 4배이상의 수익을 내고 있는 것으로 보아 영업성과 또한 매우 우수하다.\n",
    "# 또한, 동종업계 대비 PER가 낮은 것으로 보아 동종업계 내에서도 다소 저평가 중인 상태인 것을 알 수 있다.\n",
    "# 종합적으로 보았을 때, 삼성전자는 영업성과는 뛰어나지만 저평가된 상태로 향후 주가상승을 기대할 수 있을 것으로 예상된다.\n",
    "\n",
    "# Name                                             LG에너지솔루션\n",
    "# 추정PER                                            69.4\n",
    "# 동종업계trailingPE                                   9.59\n",
    "# priceToBook                                      5.44\n",
    "# enterpriseValue                135,256,086,675,456.00\n",
    "# enterpriseToRevenue                              4.51\n",
    "# enterpriseToEbitda                              34.66\n",
    "# trailingEps                                      3306\n",
    "# priceToSalesTrailing12Months                     4.44\n",
    "# trailingPE                                     167.27\n",
    "# 예시와 비슷한 글을 생성해줘."
   ]
  },
  {
   "cell_type": "code",
   "execution_count": 109,
   "metadata": {},
   "outputs": [
    {
     "data": {
      "text/html": [
       "<div>\n",
       "<style scoped>\n",
       "    .dataframe tbody tr th:only-of-type {\n",
       "        vertical-align: middle;\n",
       "    }\n",
       "\n",
       "    .dataframe tbody tr th {\n",
       "        vertical-align: top;\n",
       "    }\n",
       "\n",
       "    .dataframe thead th {\n",
       "        text-align: right;\n",
       "    }\n",
       "</style>\n",
       "<table border=\"1\" class=\"dataframe\">\n",
       "  <thead>\n",
       "    <tr style=\"text-align: right;\">\n",
       "      <th></th>\n",
       "      <th>10.0%</th>\n",
       "      <th>25.0%</th>\n",
       "      <th>50.0%</th>\n",
       "      <th>75.0%</th>\n",
       "      <th>90.0%</th>\n",
       "    </tr>\n",
       "  </thead>\n",
       "  <tbody>\n",
       "    <tr>\n",
       "      <th>1month</th>\n",
       "      <td>-1.35</td>\n",
       "      <td>5.13</td>\n",
       "      <td>-0.26</td>\n",
       "      <td>7.93</td>\n",
       "      <td>0.42</td>\n",
       "    </tr>\n",
       "    <tr>\n",
       "      <th>2month</th>\n",
       "      <td>15.91</td>\n",
       "      <td>6.84</td>\n",
       "      <td>-5.88</td>\n",
       "      <td>3.56</td>\n",
       "      <td>-1.07</td>\n",
       "    </tr>\n",
       "    <tr>\n",
       "      <th>3month</th>\n",
       "      <td>46.58</td>\n",
       "      <td>10.83</td>\n",
       "      <td>-4.23</td>\n",
       "      <td>7.45</td>\n",
       "      <td>1.80</td>\n",
       "    </tr>\n",
       "    <tr>\n",
       "      <th>4month</th>\n",
       "      <td>35.53</td>\n",
       "      <td>19.49</td>\n",
       "      <td>6.01</td>\n",
       "      <td>-8.80</td>\n",
       "      <td>-9.81</td>\n",
       "    </tr>\n",
       "    <tr>\n",
       "      <th>5month</th>\n",
       "      <td>25.74</td>\n",
       "      <td>14.40</td>\n",
       "      <td>2.04</td>\n",
       "      <td>-8.82</td>\n",
       "      <td>-17.20</td>\n",
       "    </tr>\n",
       "  </tbody>\n",
       "</table>\n",
       "</div>"
      ],
      "text/plain": [
       "        10.0%  25.0%  50.0%  75.0%  90.0%\n",
       "1month  -1.35   5.13  -0.26   7.93   0.42\n",
       "2month  15.91   6.84  -5.88   3.56  -1.07\n",
       "3month  46.58  10.83  -4.23   7.45   1.80\n",
       "4month  35.53  19.49   6.01  -8.80  -9.81\n",
       "5month  25.74  14.40   2.04  -8.82 -17.20"
      ]
     },
     "execution_count": 109,
     "metadata": {},
     "output_type": "execute_result"
    }
   ],
   "source": [
    "tmp3 = pd.DataFrame()\n",
    "for i in [0.9,0.75,0.5,0.25,0.1]:\n",
    "    lst = []\n",
    "    idx = balance_df.T[balance_df.iloc[-1] >= balance_df.iloc[-1].quantile(i)][99].sort_values().index[0]\n",
    "    for k in range(19,100,20):\n",
    "        lst.append((balance_df.T.iloc[idx].iloc[k]-balance)/balance*100)\n",
    "    tmp3[f'{100-i*100}%'] = lst\n",
    "\n",
    "tmp3.index=[f\"{i}month\" for i in range(1,6)]\n",
    "tmp3"
   ]
  },
  {
   "cell_type": "code",
   "execution_count": 105,
   "metadata": {},
   "outputs": [
    {
     "data": {
      "application/vnd.plotly.v1+json": {
       "config": {
        "plotlyServerURL": "https://plot.ly"
       },
       "data": [
        {
         "hovertemplate": "variable=10.0%<br>index=%{x}<br>value=%{y}<extra></extra>",
         "legendgroup": "10.0%",
         "line": {
          "color": "#636efa",
          "dash": "solid"
         },
         "marker": {
          "symbol": "circle"
         },
         "mode": "lines",
         "name": "10.0%",
         "orientation": "v",
         "showlegend": true,
         "type": "scatter",
         "x": [
          0,
          1,
          2,
          3,
          4
         ],
         "xaxis": "x",
         "y": [
          -1.3467065440640902,
          15.909540106974172,
          46.58382082719032,
          35.53491154366538,
          25.74499957766328
         ],
         "yaxis": "y"
        },
        {
         "hovertemplate": "variable=25.0%<br>index=%{x}<br>value=%{y}<extra></extra>",
         "legendgroup": "25.0%",
         "line": {
          "color": "#EF553B",
          "dash": "solid"
         },
         "marker": {
          "symbol": "circle"
         },
         "mode": "lines",
         "name": "25.0%",
         "orientation": "v",
         "showlegend": true,
         "type": "scatter",
         "x": [
          0,
          1,
          2,
          3,
          4
         ],
         "xaxis": "x",
         "y": [
          5.127426669934532,
          6.839642022123071,
          10.829226954569691,
          19.489231584450742,
          14.39961465922664
         ],
         "yaxis": "y"
        },
        {
         "hovertemplate": "variable=50.0%<br>index=%{x}<br>value=%{y}<extra></extra>",
         "legendgroup": "50.0%",
         "line": {
          "color": "#00cc96",
          "dash": "solid"
         },
         "marker": {
          "symbol": "circle"
         },
         "mode": "lines",
         "name": "50.0%",
         "orientation": "v",
         "showlegend": true,
         "type": "scatter",
         "x": [
          0,
          1,
          2,
          3,
          4
         ],
         "xaxis": "x",
         "y": [
          -0.25527751460141734,
          -5.883920730948599,
          -4.226549868622213,
          6.005545965917571,
          2.0435284046091953
         ],
         "yaxis": "y"
        },
        {
         "hovertemplate": "variable=75.0%<br>index=%{x}<br>value=%{y}<extra></extra>",
         "legendgroup": "75.0%",
         "line": {
          "color": "#ab63fa",
          "dash": "solid"
         },
         "marker": {
          "symbol": "circle"
         },
         "mode": "lines",
         "name": "75.0%",
         "orientation": "v",
         "showlegend": true,
         "type": "scatter",
         "x": [
          0,
          1,
          2,
          3,
          4
         ],
         "xaxis": "x",
         "y": [
          7.927078385418048,
          3.5617944931456584,
          7.453235558012571,
          -8.800640379202099,
          -8.818804295424407
         ],
         "yaxis": "y"
        },
        {
         "hovertemplate": "variable=90.0%<br>index=%{x}<br>value=%{y}<extra></extra>",
         "legendgroup": "90.0%",
         "line": {
          "color": "#FFA15A",
          "dash": "solid"
         },
         "marker": {
          "symbol": "circle"
         },
         "mode": "lines",
         "name": "90.0%",
         "orientation": "v",
         "showlegend": true,
         "type": "scatter",
         "x": [
          0,
          1,
          2,
          3,
          4
         ],
         "xaxis": "x",
         "y": [
          0.4220443235184066,
          -1.0683608377526748,
          1.7954933881281177,
          -9.813933760938259,
          -17.200404163000325
         ],
         "yaxis": "y"
        }
       ],
       "layout": {
        "legend": {
         "title": {
          "text": "variable"
         },
         "tracegroupgap": 0
        },
        "margin": {
         "t": 60
        },
        "template": {
         "data": {
          "bar": [
           {
            "error_x": {
             "color": "#2a3f5f"
            },
            "error_y": {
             "color": "#2a3f5f"
            },
            "marker": {
             "line": {
              "color": "#E5ECF6",
              "width": 0.5
             },
             "pattern": {
              "fillmode": "overlay",
              "size": 10,
              "solidity": 0.2
             }
            },
            "type": "bar"
           }
          ],
          "barpolar": [
           {
            "marker": {
             "line": {
              "color": "#E5ECF6",
              "width": 0.5
             },
             "pattern": {
              "fillmode": "overlay",
              "size": 10,
              "solidity": 0.2
             }
            },
            "type": "barpolar"
           }
          ],
          "carpet": [
           {
            "aaxis": {
             "endlinecolor": "#2a3f5f",
             "gridcolor": "white",
             "linecolor": "white",
             "minorgridcolor": "white",
             "startlinecolor": "#2a3f5f"
            },
            "baxis": {
             "endlinecolor": "#2a3f5f",
             "gridcolor": "white",
             "linecolor": "white",
             "minorgridcolor": "white",
             "startlinecolor": "#2a3f5f"
            },
            "type": "carpet"
           }
          ],
          "choropleth": [
           {
            "colorbar": {
             "outlinewidth": 0,
             "ticks": ""
            },
            "type": "choropleth"
           }
          ],
          "contour": [
           {
            "colorbar": {
             "outlinewidth": 0,
             "ticks": ""
            },
            "colorscale": [
             [
              0,
              "#0d0887"
             ],
             [
              0.1111111111111111,
              "#46039f"
             ],
             [
              0.2222222222222222,
              "#7201a8"
             ],
             [
              0.3333333333333333,
              "#9c179e"
             ],
             [
              0.4444444444444444,
              "#bd3786"
             ],
             [
              0.5555555555555556,
              "#d8576b"
             ],
             [
              0.6666666666666666,
              "#ed7953"
             ],
             [
              0.7777777777777778,
              "#fb9f3a"
             ],
             [
              0.8888888888888888,
              "#fdca26"
             ],
             [
              1,
              "#f0f921"
             ]
            ],
            "type": "contour"
           }
          ],
          "contourcarpet": [
           {
            "colorbar": {
             "outlinewidth": 0,
             "ticks": ""
            },
            "type": "contourcarpet"
           }
          ],
          "heatmap": [
           {
            "colorbar": {
             "outlinewidth": 0,
             "ticks": ""
            },
            "colorscale": [
             [
              0,
              "#0d0887"
             ],
             [
              0.1111111111111111,
              "#46039f"
             ],
             [
              0.2222222222222222,
              "#7201a8"
             ],
             [
              0.3333333333333333,
              "#9c179e"
             ],
             [
              0.4444444444444444,
              "#bd3786"
             ],
             [
              0.5555555555555556,
              "#d8576b"
             ],
             [
              0.6666666666666666,
              "#ed7953"
             ],
             [
              0.7777777777777778,
              "#fb9f3a"
             ],
             [
              0.8888888888888888,
              "#fdca26"
             ],
             [
              1,
              "#f0f921"
             ]
            ],
            "type": "heatmap"
           }
          ],
          "heatmapgl": [
           {
            "colorbar": {
             "outlinewidth": 0,
             "ticks": ""
            },
            "colorscale": [
             [
              0,
              "#0d0887"
             ],
             [
              0.1111111111111111,
              "#46039f"
             ],
             [
              0.2222222222222222,
              "#7201a8"
             ],
             [
              0.3333333333333333,
              "#9c179e"
             ],
             [
              0.4444444444444444,
              "#bd3786"
             ],
             [
              0.5555555555555556,
              "#d8576b"
             ],
             [
              0.6666666666666666,
              "#ed7953"
             ],
             [
              0.7777777777777778,
              "#fb9f3a"
             ],
             [
              0.8888888888888888,
              "#fdca26"
             ],
             [
              1,
              "#f0f921"
             ]
            ],
            "type": "heatmapgl"
           }
          ],
          "histogram": [
           {
            "marker": {
             "pattern": {
              "fillmode": "overlay",
              "size": 10,
              "solidity": 0.2
             }
            },
            "type": "histogram"
           }
          ],
          "histogram2d": [
           {
            "colorbar": {
             "outlinewidth": 0,
             "ticks": ""
            },
            "colorscale": [
             [
              0,
              "#0d0887"
             ],
             [
              0.1111111111111111,
              "#46039f"
             ],
             [
              0.2222222222222222,
              "#7201a8"
             ],
             [
              0.3333333333333333,
              "#9c179e"
             ],
             [
              0.4444444444444444,
              "#bd3786"
             ],
             [
              0.5555555555555556,
              "#d8576b"
             ],
             [
              0.6666666666666666,
              "#ed7953"
             ],
             [
              0.7777777777777778,
              "#fb9f3a"
             ],
             [
              0.8888888888888888,
              "#fdca26"
             ],
             [
              1,
              "#f0f921"
             ]
            ],
            "type": "histogram2d"
           }
          ],
          "histogram2dcontour": [
           {
            "colorbar": {
             "outlinewidth": 0,
             "ticks": ""
            },
            "colorscale": [
             [
              0,
              "#0d0887"
             ],
             [
              0.1111111111111111,
              "#46039f"
             ],
             [
              0.2222222222222222,
              "#7201a8"
             ],
             [
              0.3333333333333333,
              "#9c179e"
             ],
             [
              0.4444444444444444,
              "#bd3786"
             ],
             [
              0.5555555555555556,
              "#d8576b"
             ],
             [
              0.6666666666666666,
              "#ed7953"
             ],
             [
              0.7777777777777778,
              "#fb9f3a"
             ],
             [
              0.8888888888888888,
              "#fdca26"
             ],
             [
              1,
              "#f0f921"
             ]
            ],
            "type": "histogram2dcontour"
           }
          ],
          "mesh3d": [
           {
            "colorbar": {
             "outlinewidth": 0,
             "ticks": ""
            },
            "type": "mesh3d"
           }
          ],
          "parcoords": [
           {
            "line": {
             "colorbar": {
              "outlinewidth": 0,
              "ticks": ""
             }
            },
            "type": "parcoords"
           }
          ],
          "pie": [
           {
            "automargin": true,
            "type": "pie"
           }
          ],
          "scatter": [
           {
            "fillpattern": {
             "fillmode": "overlay",
             "size": 10,
             "solidity": 0.2
            },
            "type": "scatter"
           }
          ],
          "scatter3d": [
           {
            "line": {
             "colorbar": {
              "outlinewidth": 0,
              "ticks": ""
             }
            },
            "marker": {
             "colorbar": {
              "outlinewidth": 0,
              "ticks": ""
             }
            },
            "type": "scatter3d"
           }
          ],
          "scattercarpet": [
           {
            "marker": {
             "colorbar": {
              "outlinewidth": 0,
              "ticks": ""
             }
            },
            "type": "scattercarpet"
           }
          ],
          "scattergeo": [
           {
            "marker": {
             "colorbar": {
              "outlinewidth": 0,
              "ticks": ""
             }
            },
            "type": "scattergeo"
           }
          ],
          "scattergl": [
           {
            "marker": {
             "colorbar": {
              "outlinewidth": 0,
              "ticks": ""
             }
            },
            "type": "scattergl"
           }
          ],
          "scattermapbox": [
           {
            "marker": {
             "colorbar": {
              "outlinewidth": 0,
              "ticks": ""
             }
            },
            "type": "scattermapbox"
           }
          ],
          "scatterpolar": [
           {
            "marker": {
             "colorbar": {
              "outlinewidth": 0,
              "ticks": ""
             }
            },
            "type": "scatterpolar"
           }
          ],
          "scatterpolargl": [
           {
            "marker": {
             "colorbar": {
              "outlinewidth": 0,
              "ticks": ""
             }
            },
            "type": "scatterpolargl"
           }
          ],
          "scatterternary": [
           {
            "marker": {
             "colorbar": {
              "outlinewidth": 0,
              "ticks": ""
             }
            },
            "type": "scatterternary"
           }
          ],
          "surface": [
           {
            "colorbar": {
             "outlinewidth": 0,
             "ticks": ""
            },
            "colorscale": [
             [
              0,
              "#0d0887"
             ],
             [
              0.1111111111111111,
              "#46039f"
             ],
             [
              0.2222222222222222,
              "#7201a8"
             ],
             [
              0.3333333333333333,
              "#9c179e"
             ],
             [
              0.4444444444444444,
              "#bd3786"
             ],
             [
              0.5555555555555556,
              "#d8576b"
             ],
             [
              0.6666666666666666,
              "#ed7953"
             ],
             [
              0.7777777777777778,
              "#fb9f3a"
             ],
             [
              0.8888888888888888,
              "#fdca26"
             ],
             [
              1,
              "#f0f921"
             ]
            ],
            "type": "surface"
           }
          ],
          "table": [
           {
            "cells": {
             "fill": {
              "color": "#EBF0F8"
             },
             "line": {
              "color": "white"
             }
            },
            "header": {
             "fill": {
              "color": "#C8D4E3"
             },
             "line": {
              "color": "white"
             }
            },
            "type": "table"
           }
          ]
         },
         "layout": {
          "annotationdefaults": {
           "arrowcolor": "#2a3f5f",
           "arrowhead": 0,
           "arrowwidth": 1
          },
          "autotypenumbers": "strict",
          "coloraxis": {
           "colorbar": {
            "outlinewidth": 0,
            "ticks": ""
           }
          },
          "colorscale": {
           "diverging": [
            [
             0,
             "#8e0152"
            ],
            [
             0.1,
             "#c51b7d"
            ],
            [
             0.2,
             "#de77ae"
            ],
            [
             0.3,
             "#f1b6da"
            ],
            [
             0.4,
             "#fde0ef"
            ],
            [
             0.5,
             "#f7f7f7"
            ],
            [
             0.6,
             "#e6f5d0"
            ],
            [
             0.7,
             "#b8e186"
            ],
            [
             0.8,
             "#7fbc41"
            ],
            [
             0.9,
             "#4d9221"
            ],
            [
             1,
             "#276419"
            ]
           ],
           "sequential": [
            [
             0,
             "#0d0887"
            ],
            [
             0.1111111111111111,
             "#46039f"
            ],
            [
             0.2222222222222222,
             "#7201a8"
            ],
            [
             0.3333333333333333,
             "#9c179e"
            ],
            [
             0.4444444444444444,
             "#bd3786"
            ],
            [
             0.5555555555555556,
             "#d8576b"
            ],
            [
             0.6666666666666666,
             "#ed7953"
            ],
            [
             0.7777777777777778,
             "#fb9f3a"
            ],
            [
             0.8888888888888888,
             "#fdca26"
            ],
            [
             1,
             "#f0f921"
            ]
           ],
           "sequentialminus": [
            [
             0,
             "#0d0887"
            ],
            [
             0.1111111111111111,
             "#46039f"
            ],
            [
             0.2222222222222222,
             "#7201a8"
            ],
            [
             0.3333333333333333,
             "#9c179e"
            ],
            [
             0.4444444444444444,
             "#bd3786"
            ],
            [
             0.5555555555555556,
             "#d8576b"
            ],
            [
             0.6666666666666666,
             "#ed7953"
            ],
            [
             0.7777777777777778,
             "#fb9f3a"
            ],
            [
             0.8888888888888888,
             "#fdca26"
            ],
            [
             1,
             "#f0f921"
            ]
           ]
          },
          "colorway": [
           "#636efa",
           "#EF553B",
           "#00cc96",
           "#ab63fa",
           "#FFA15A",
           "#19d3f3",
           "#FF6692",
           "#B6E880",
           "#FF97FF",
           "#FECB52"
          ],
          "font": {
           "color": "#2a3f5f"
          },
          "geo": {
           "bgcolor": "white",
           "lakecolor": "white",
           "landcolor": "#E5ECF6",
           "showlakes": true,
           "showland": true,
           "subunitcolor": "white"
          },
          "hoverlabel": {
           "align": "left"
          },
          "hovermode": "closest",
          "mapbox": {
           "style": "light"
          },
          "paper_bgcolor": "white",
          "plot_bgcolor": "#E5ECF6",
          "polar": {
           "angularaxis": {
            "gridcolor": "white",
            "linecolor": "white",
            "ticks": ""
           },
           "bgcolor": "#E5ECF6",
           "radialaxis": {
            "gridcolor": "white",
            "linecolor": "white",
            "ticks": ""
           }
          },
          "scene": {
           "xaxis": {
            "backgroundcolor": "#E5ECF6",
            "gridcolor": "white",
            "gridwidth": 2,
            "linecolor": "white",
            "showbackground": true,
            "ticks": "",
            "zerolinecolor": "white"
           },
           "yaxis": {
            "backgroundcolor": "#E5ECF6",
            "gridcolor": "white",
            "gridwidth": 2,
            "linecolor": "white",
            "showbackground": true,
            "ticks": "",
            "zerolinecolor": "white"
           },
           "zaxis": {
            "backgroundcolor": "#E5ECF6",
            "gridcolor": "white",
            "gridwidth": 2,
            "linecolor": "white",
            "showbackground": true,
            "ticks": "",
            "zerolinecolor": "white"
           }
          },
          "shapedefaults": {
           "line": {
            "color": "#2a3f5f"
           }
          },
          "ternary": {
           "aaxis": {
            "gridcolor": "white",
            "linecolor": "white",
            "ticks": ""
           },
           "baxis": {
            "gridcolor": "white",
            "linecolor": "white",
            "ticks": ""
           },
           "bgcolor": "#E5ECF6",
           "caxis": {
            "gridcolor": "white",
            "linecolor": "white",
            "ticks": ""
           }
          },
          "title": {
           "x": 0.05
          },
          "xaxis": {
           "automargin": true,
           "gridcolor": "white",
           "linecolor": "white",
           "ticks": "",
           "title": {
            "standoff": 15
           },
           "zerolinecolor": "white",
           "zerolinewidth": 2
          },
          "yaxis": {
           "automargin": true,
           "gridcolor": "white",
           "linecolor": "white",
           "ticks": "",
           "title": {
            "standoff": 15
           },
           "zerolinecolor": "white",
           "zerolinewidth": 2
          }
         }
        },
        "xaxis": {
         "anchor": "y",
         "domain": [
          0,
          1
         ],
         "title": {
          "text": "index"
         }
        },
        "yaxis": {
         "anchor": "x",
         "domain": [
          0,
          1
         ],
         "title": {
          "text": "value"
         }
        }
       }
      }
     },
     "metadata": {},
     "output_type": "display_data"
    }
   ],
   "source": [
    "import plotly.express as px\n",
    "px.line(tmp3)"
   ]
  },
  {
   "cell_type": "code",
   "execution_count": null,
   "metadata": {},
   "outputs": [],
   "source": []
  }
 ],
 "metadata": {
  "kernelspec": {
   "display_name": "elec",
   "language": "python",
   "name": "python3"
  },
  "language_info": {
   "codemirror_mode": {
    "name": "ipython",
    "version": 3
   },
   "file_extension": ".py",
   "mimetype": "text/x-python",
   "name": "python",
   "nbconvert_exporter": "python",
   "pygments_lexer": "ipython3",
   "version": "3.11.4"
  },
  "orig_nbformat": 4
 },
 "nbformat": 4,
 "nbformat_minor": 2
}
