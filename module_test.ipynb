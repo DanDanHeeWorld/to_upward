{
 "cells": [
  {
   "cell_type": "code",
   "execution_count": 1,
   "metadata": {},
   "outputs": [
    {
     "name": "stderr",
     "output_type": "stream",
     "text": [
      "/opt/homebrew/Caskroom/miniforge/base/envs/elec/lib/python3.11/site-packages/tqdm/auto.py:21: TqdmWarning: IProgress not found. Please update jupyter and ipywidgets. See https://ipywidgets.readthedocs.io/en/stable/user_install.html\n",
      "  from .autonotebook import tqdm as notebook_tqdm\n"
     ]
    }
   ],
   "source": [
    "import pandas as pd\n",
    "import numpy as np\n",
    "from tqdm.auto import tqdm\n",
    "import random\n",
    "import os\n",
    "from pykrx import stock\n",
    "import matplotlib.pyplot as plt\n",
    "import koreanize_matplotlib\n",
    "import warnings\n",
    "import datetime as dt\n",
    "warnings.filterwarnings('ignore')\n",
    "\n",
    "def reset_seeds(seed):\n",
    "    random.seed(seed)\n",
    "    os.environ['PYTHONHASHSEED'] = str(seed)\n",
    "    np.random.seed(seed)\n",
    "\n",
    "DATA_PATH = \"/Users/idanhui/python-code/파이널 프로젝트/data/\"\n",
    "SEED = 42"
   ]
  },
  {
   "cell_type": "code",
   "execution_count": 2,
   "metadata": {},
   "outputs": [],
   "source": [
    "import to_upward"
   ]
  },
  {
   "cell_type": "code",
   "execution_count": 5,
   "metadata": {},
   "outputs": [],
   "source": [
    "data = pd.read_csv(f\"{DATA_PATH}labeled_data_final2.csv\")"
   ]
  },
  {
   "cell_type": "code",
   "execution_count": 6,
   "metadata": {},
   "outputs": [],
   "source": [
    "str_list = data.Code.astype(str).to_list()\n",
    "target_len = 6\n",
    "padded_str_list = to_upward.pad_str(str_list, target_len)\n",
    "\n",
    "data.Code = padded_str_list"
   ]
  },
  {
   "cell_type": "code",
   "execution_count": 7,
   "metadata": {},
   "outputs": [
    {
     "name": "stdout",
     "output_type": "stream",
     "text": [
      "20220904 20230904\n"
     ]
    }
   ],
   "source": [
    "end = dt.datetime.today().date().strftime(\"%Y%m%d\")\n",
    "start = (dt.datetime.today().date() - dt.timedelta(365)).strftime(\"%Y%m%d\")\n",
    "# end = dt.datetime(2022,12,31).strftime(\"%Y%m%d\")\n",
    "# start = (dt.datetime(2022,12,31) - dt.timedelta(180)).strftime(\"%Y%m%d\")\n",
    "print(start,end)"
   ]
  },
  {
   "cell_type": "code",
   "execution_count": 8,
   "metadata": {},
   "outputs": [
    {
     "data": {
      "text/html": [
       "<div>\n",
       "<style scoped>\n",
       "    .dataframe tbody tr th:only-of-type {\n",
       "        vertical-align: middle;\n",
       "    }\n",
       "\n",
       "    .dataframe tbody tr th {\n",
       "        vertical-align: top;\n",
       "    }\n",
       "\n",
       "    .dataframe thead th {\n",
       "        text-align: right;\n",
       "    }\n",
       "</style>\n",
       "<table border=\"1\" class=\"dataframe\">\n",
       "  <thead>\n",
       "    <tr style=\"text-align: right;\">\n",
       "      <th></th>\n",
       "      <th>Code</th>\n",
       "      <th>Name</th>\n",
       "      <th>Market</th>\n",
       "      <th>recommendationKey</th>\n",
       "      <th>sharesOutstanding</th>\n",
       "      <th>averageVolume10days</th>\n",
       "      <th>averageVolume</th>\n",
       "      <th>heldPercentInstitutions</th>\n",
       "      <th>shortRatio</th>\n",
       "      <th>sharesPercentSharesOut</th>\n",
       "      <th>...</th>\n",
       "      <th>5년평균dividendYield</th>\n",
       "      <th>EBITDAPS</th>\n",
       "      <th>동종업계_대비_PER</th>\n",
       "      <th>dividend</th>\n",
       "      <th>growth</th>\n",
       "      <th>value</th>\n",
       "      <th>business</th>\n",
       "      <th>finance</th>\n",
       "      <th>performance</th>\n",
       "      <th>volitality</th>\n",
       "    </tr>\n",
       "  </thead>\n",
       "  <tbody>\n",
       "    <tr>\n",
       "      <th>0</th>\n",
       "      <td>005930</td>\n",
       "      <td>삼성전자</td>\n",
       "      <td>KOSPI</td>\n",
       "      <td>4.0</td>\n",
       "      <td>5.969780e+09</td>\n",
       "      <td>15819172.0</td>\n",
       "      <td>13878613.0</td>\n",
       "      <td>0.47631</td>\n",
       "      <td>4.28</td>\n",
       "      <td>0.000124</td>\n",
       "      <td>...</td>\n",
       "      <td>2.870</td>\n",
       "      <td>12143.0</td>\n",
       "      <td>-1.04</td>\n",
       "      <td>C</td>\n",
       "      <td>C</td>\n",
       "      <td>D</td>\n",
       "      <td>B</td>\n",
       "      <td>F</td>\n",
       "      <td>A+</td>\n",
       "      <td>C</td>\n",
       "    </tr>\n",
       "    <tr>\n",
       "      <th>2</th>\n",
       "      <td>000660</td>\n",
       "      <td>SK하이닉스</td>\n",
       "      <td>KOSPI</td>\n",
       "      <td>4.0</td>\n",
       "      <td>7.082170e+08</td>\n",
       "      <td>4628225.0</td>\n",
       "      <td>3960678.0</td>\n",
       "      <td>0.40008</td>\n",
       "      <td>2.00</td>\n",
       "      <td>0.000072</td>\n",
       "      <td>...</td>\n",
       "      <td>1.462</td>\n",
       "      <td>28792.0</td>\n",
       "      <td>26.96</td>\n",
       "      <td>D</td>\n",
       "      <td>C</td>\n",
       "      <td>C</td>\n",
       "      <td>C</td>\n",
       "      <td>H</td>\n",
       "      <td>A</td>\n",
       "      <td>B</td>\n",
       "    </tr>\n",
       "    <tr>\n",
       "      <th>4</th>\n",
       "      <td>005490</td>\n",
       "      <td>POSCO홀딩스</td>\n",
       "      <td>KOSPI</td>\n",
       "      <td>3.9</td>\n",
       "      <td>7.587620e+07</td>\n",
       "      <td>2944335.0</td>\n",
       "      <td>1697713.0</td>\n",
       "      <td>0.30222</td>\n",
       "      <td>8.45</td>\n",
       "      <td>0.001327</td>\n",
       "      <td>...</td>\n",
       "      <td>4.364</td>\n",
       "      <td>99067.0</td>\n",
       "      <td>8.11</td>\n",
       "      <td>B</td>\n",
       "      <td>C</td>\n",
       "      <td>D</td>\n",
       "      <td>B</td>\n",
       "      <td>G</td>\n",
       "      <td>B</td>\n",
       "      <td>B</td>\n",
       "    </tr>\n",
       "    <tr>\n",
       "      <th>5</th>\n",
       "      <td>051910</td>\n",
       "      <td>LG화학</td>\n",
       "      <td>KOSPI</td>\n",
       "      <td>4.0</td>\n",
       "      <td>7.059230e+07</td>\n",
       "      <td>399881.0</td>\n",
       "      <td>287432.0</td>\n",
       "      <td>0.36433</td>\n",
       "      <td>6.50</td>\n",
       "      <td>0.000188</td>\n",
       "      <td>...</td>\n",
       "      <td>1.438</td>\n",
       "      <td>81652.0</td>\n",
       "      <td>14.63</td>\n",
       "      <td>D</td>\n",
       "      <td>C</td>\n",
       "      <td>D</td>\n",
       "      <td>B</td>\n",
       "      <td>G</td>\n",
       "      <td>B</td>\n",
       "      <td>C</td>\n",
       "    </tr>\n",
       "    <tr>\n",
       "      <th>7</th>\n",
       "      <td>005380</td>\n",
       "      <td>현대차</td>\n",
       "      <td>KOSPI</td>\n",
       "      <td>4.0</td>\n",
       "      <td>2.028760e+08</td>\n",
       "      <td>699789.0</td>\n",
       "      <td>594572.0</td>\n",
       "      <td>0.22792</td>\n",
       "      <td>4.89</td>\n",
       "      <td>0.000088</td>\n",
       "      <td>...</td>\n",
       "      <td>3.058</td>\n",
       "      <td>53685.0</td>\n",
       "      <td>-2.62</td>\n",
       "      <td>C</td>\n",
       "      <td>B</td>\n",
       "      <td>E</td>\n",
       "      <td>C</td>\n",
       "      <td>B</td>\n",
       "      <td>A</td>\n",
       "      <td>C</td>\n",
       "    </tr>\n",
       "    <tr>\n",
       "      <th>10</th>\n",
       "      <td>000270</td>\n",
       "      <td>기아</td>\n",
       "      <td>KOSPI</td>\n",
       "      <td>4.0</td>\n",
       "      <td>3.950820e+08</td>\n",
       "      <td>1446978.0</td>\n",
       "      <td>1229388.0</td>\n",
       "      <td>0.27907</td>\n",
       "      <td>17.01</td>\n",
       "      <td>0.000407</td>\n",
       "      <td>...</td>\n",
       "      <td>3.284</td>\n",
       "      <td>23820.0</td>\n",
       "      <td>-3.41</td>\n",
       "      <td>C</td>\n",
       "      <td>B</td>\n",
       "      <td>E</td>\n",
       "      <td>B</td>\n",
       "      <td>G</td>\n",
       "      <td>A</td>\n",
       "      <td>C</td>\n",
       "    </tr>\n",
       "    <tr>\n",
       "      <th>18</th>\n",
       "      <td>066570</td>\n",
       "      <td>LG전자</td>\n",
       "      <td>KOSPI</td>\n",
       "      <td>4.0</td>\n",
       "      <td>1.628850e+08</td>\n",
       "      <td>1065618.0</td>\n",
       "      <td>825302.0</td>\n",
       "      <td>0.26213</td>\n",
       "      <td>11.11</td>\n",
       "      <td>0.000518</td>\n",
       "      <td>...</td>\n",
       "      <td>0.912</td>\n",
       "      <td>36144.0</td>\n",
       "      <td>6.18</td>\n",
       "      <td>E</td>\n",
       "      <td>C</td>\n",
       "      <td>D</td>\n",
       "      <td>C</td>\n",
       "      <td>F</td>\n",
       "      <td>A</td>\n",
       "      <td>C</td>\n",
       "    </tr>\n",
       "    <tr>\n",
       "      <th>39</th>\n",
       "      <td>011200</td>\n",
       "      <td>HMM</td>\n",
       "      <td>KOSPI</td>\n",
       "      <td>3.2</td>\n",
       "      <td>4.890390e+08</td>\n",
       "      <td>1838939.0</td>\n",
       "      <td>2279608.0</td>\n",
       "      <td>0.30701</td>\n",
       "      <td>7.00</td>\n",
       "      <td>0.000117</td>\n",
       "      <td>...</td>\n",
       "      <td>3.430</td>\n",
       "      <td>22066.0</td>\n",
       "      <td>-1.80</td>\n",
       "      <td>C</td>\n",
       "      <td>C</td>\n",
       "      <td>E</td>\n",
       "      <td>A</td>\n",
       "      <td>H</td>\n",
       "      <td>A</td>\n",
       "      <td>A</td>\n",
       "    </tr>\n",
       "    <tr>\n",
       "      <th>58</th>\n",
       "      <td>011070</td>\n",
       "      <td>LG이노텍</td>\n",
       "      <td>KOSPI</td>\n",
       "      <td>4.0</td>\n",
       "      <td>2.366450e+07</td>\n",
       "      <td>235885.0</td>\n",
       "      <td>179614.0</td>\n",
       "      <td>0.28444</td>\n",
       "      <td>6.32</td>\n",
       "      <td>0.000281</td>\n",
       "      <td>...</td>\n",
       "      <td>0.680</td>\n",
       "      <td>91158.0</td>\n",
       "      <td>-3.29</td>\n",
       "      <td>E</td>\n",
       "      <td>C</td>\n",
       "      <td>E</td>\n",
       "      <td>B</td>\n",
       "      <td>H</td>\n",
       "      <td>B</td>\n",
       "      <td>C</td>\n",
       "    </tr>\n",
       "    <tr>\n",
       "      <th>109</th>\n",
       "      <td>039490</td>\n",
       "      <td>키움증권</td>\n",
       "      <td>KOSPI</td>\n",
       "      <td>4.0</td>\n",
       "      <td>2.481950e+07</td>\n",
       "      <td>106650.0</td>\n",
       "      <td>70016.0</td>\n",
       "      <td>0.31125</td>\n",
       "      <td>3.37</td>\n",
       "      <td>0.000165</td>\n",
       "      <td>...</td>\n",
       "      <td>1.676</td>\n",
       "      <td>161107.0</td>\n",
       "      <td>-0.58</td>\n",
       "      <td>D</td>\n",
       "      <td>B</td>\n",
       "      <td>E</td>\n",
       "      <td>A</td>\n",
       "      <td>F</td>\n",
       "      <td>B</td>\n",
       "      <td>C</td>\n",
       "    </tr>\n",
       "    <tr>\n",
       "      <th>123</th>\n",
       "      <td>298050</td>\n",
       "      <td>효성첨단소재</td>\n",
       "      <td>KOSPI</td>\n",
       "      <td>4.0</td>\n",
       "      <td>4.468020e+06</td>\n",
       "      <td>44898.0</td>\n",
       "      <td>36340.0</td>\n",
       "      <td>0.16986</td>\n",
       "      <td>9.14</td>\n",
       "      <td>0.000277</td>\n",
       "      <td>...</td>\n",
       "      <td>3.090</td>\n",
       "      <td>111743.0</td>\n",
       "      <td>4.44</td>\n",
       "      <td>C</td>\n",
       "      <td>C</td>\n",
       "      <td>D</td>\n",
       "      <td>B</td>\n",
       "      <td>H</td>\n",
       "      <td>B</td>\n",
       "      <td>A</td>\n",
       "    </tr>\n",
       "    <tr>\n",
       "      <th>126</th>\n",
       "      <td>000150</td>\n",
       "      <td>두산</td>\n",
       "      <td>KOSPI</td>\n",
       "      <td>4.0</td>\n",
       "      <td>1.352300e+07</td>\n",
       "      <td>658877.0</td>\n",
       "      <td>187241.0</td>\n",
       "      <td>0.16583</td>\n",
       "      <td>2.00</td>\n",
       "      <td>0.000307</td>\n",
       "      <td>...</td>\n",
       "      <td>0.530</td>\n",
       "      <td>81455.0</td>\n",
       "      <td>-5.53</td>\n",
       "      <td>E</td>\n",
       "      <td>B</td>\n",
       "      <td>E</td>\n",
       "      <td>C</td>\n",
       "      <td>H</td>\n",
       "      <td>B</td>\n",
       "      <td>C</td>\n",
       "    </tr>\n",
       "    <tr>\n",
       "      <th>144</th>\n",
       "      <td>298020</td>\n",
       "      <td>효성티앤씨</td>\n",
       "      <td>KOSPI</td>\n",
       "      <td>4.0</td>\n",
       "      <td>4.315690e+06</td>\n",
       "      <td>28801.0</td>\n",
       "      <td>27215.0</td>\n",
       "      <td>0.17997</td>\n",
       "      <td>3.02</td>\n",
       "      <td>0.000156</td>\n",
       "      <td>...</td>\n",
       "      <td>3.332</td>\n",
       "      <td>83355.0</td>\n",
       "      <td>114.41</td>\n",
       "      <td>C</td>\n",
       "      <td>C</td>\n",
       "      <td>D</td>\n",
       "      <td>C</td>\n",
       "      <td>H</td>\n",
       "      <td>B</td>\n",
       "      <td>C</td>\n",
       "    </tr>\n",
       "  </tbody>\n",
       "</table>\n",
       "<p>13 rows × 72 columns</p>\n",
       "</div>"
      ],
      "text/plain": [
       "       Code      Name Market recommendationKey  sharesOutstanding  \\\n",
       "0    005930      삼성전자  KOSPI               4.0       5.969780e+09   \n",
       "2    000660    SK하이닉스  KOSPI               4.0       7.082170e+08   \n",
       "4    005490  POSCO홀딩스  KOSPI               3.9       7.587620e+07   \n",
       "5    051910      LG화학  KOSPI               4.0       7.059230e+07   \n",
       "7    005380       현대차  KOSPI               4.0       2.028760e+08   \n",
       "10   000270        기아  KOSPI               4.0       3.950820e+08   \n",
       "18   066570      LG전자  KOSPI               4.0       1.628850e+08   \n",
       "39   011200       HMM  KOSPI               3.2       4.890390e+08   \n",
       "58   011070     LG이노텍  KOSPI               4.0       2.366450e+07   \n",
       "109  039490      키움증권  KOSPI               4.0       2.481950e+07   \n",
       "123  298050    효성첨단소재  KOSPI               4.0       4.468020e+06   \n",
       "126  000150        두산  KOSPI               4.0       1.352300e+07   \n",
       "144  298020     효성티앤씨  KOSPI               4.0       4.315690e+06   \n",
       "\n",
       "     averageVolume10days  averageVolume  heldPercentInstitutions  shortRatio  \\\n",
       "0             15819172.0     13878613.0                  0.47631        4.28   \n",
       "2              4628225.0      3960678.0                  0.40008        2.00   \n",
       "4              2944335.0      1697713.0                  0.30222        8.45   \n",
       "5               399881.0       287432.0                  0.36433        6.50   \n",
       "7               699789.0       594572.0                  0.22792        4.89   \n",
       "10             1446978.0      1229388.0                  0.27907       17.01   \n",
       "18             1065618.0       825302.0                  0.26213       11.11   \n",
       "39             1838939.0      2279608.0                  0.30701        7.00   \n",
       "58              235885.0       179614.0                  0.28444        6.32   \n",
       "109             106650.0        70016.0                  0.31125        3.37   \n",
       "123              44898.0        36340.0                  0.16986        9.14   \n",
       "126             658877.0       187241.0                  0.16583        2.00   \n",
       "144              28801.0        27215.0                  0.17997        3.02   \n",
       "\n",
       "     sharesPercentSharesOut  ...  5년평균dividendYield  EBITDAPS  동종업계_대비_PER  \\\n",
       "0                  0.000124  ...              2.870   12143.0        -1.04   \n",
       "2                  0.000072  ...              1.462   28792.0        26.96   \n",
       "4                  0.001327  ...              4.364   99067.0         8.11   \n",
       "5                  0.000188  ...              1.438   81652.0        14.63   \n",
       "7                  0.000088  ...              3.058   53685.0        -2.62   \n",
       "10                 0.000407  ...              3.284   23820.0        -3.41   \n",
       "18                 0.000518  ...              0.912   36144.0         6.18   \n",
       "39                 0.000117  ...              3.430   22066.0        -1.80   \n",
       "58                 0.000281  ...              0.680   91158.0        -3.29   \n",
       "109                0.000165  ...              1.676  161107.0        -0.58   \n",
       "123                0.000277  ...              3.090  111743.0         4.44   \n",
       "126                0.000307  ...              0.530   81455.0        -5.53   \n",
       "144                0.000156  ...              3.332   83355.0       114.41   \n",
       "\n",
       "     dividend  growth  value  business  finance  performance  volitality  \n",
       "0           C       C      D         B        F           A+           C  \n",
       "2           D       C      C         C        H            A           B  \n",
       "4           B       C      D         B        G            B           B  \n",
       "5           D       C      D         B        G            B           C  \n",
       "7           C       B      E         C        B            A           C  \n",
       "10          C       B      E         B        G            A           C  \n",
       "18          E       C      D         C        F            A           C  \n",
       "39          C       C      E         A        H            A           A  \n",
       "58          E       C      E         B        H            B           C  \n",
       "109         D       B      E         A        F            B           C  \n",
       "123         C       C      D         B        H            B           A  \n",
       "126         E       B      E         C        H            B           C  \n",
       "144         C       C      D         C        H            B           C  \n",
       "\n",
       "[13 rows x 72 columns]"
      ]
     },
     "execution_count": 8,
     "metadata": {},
     "output_type": "execute_result"
    }
   ],
   "source": [
    "recommendation= data[((data['business'] == \"A\")|(data['business'] == \"B\")|(data['business'] == \"C\"))&\n",
    " ((data['performance'] == \"A\")|(data['performance'] == \"B\")|(data['performance'] == \"A+\")|(data['performance'] == \"C\"))&\n",
    "  ((data['volitality'] == \"A\")|(data['volitality'] == \"B\")|(data['volitality'] == \"A+\")|(data['volitality'] == \"C\"))]\n",
    "recommendation"
   ]
  },
  {
   "cell_type": "code",
   "execution_count": 9,
   "metadata": {},
   "outputs": [],
   "source": [
    "stocks = recommendation[\"Name\"].to_list()"
   ]
  },
  {
   "cell_type": "code",
   "execution_count": 10,
   "metadata": {},
   "outputs": [
    {
     "data": {
      "text/html": [
       "<div>\n",
       "<style scoped>\n",
       "    .dataframe tbody tr th:only-of-type {\n",
       "        vertical-align: middle;\n",
       "    }\n",
       "\n",
       "    .dataframe tbody tr th {\n",
       "        vertical-align: top;\n",
       "    }\n",
       "\n",
       "    .dataframe thead th {\n",
       "        text-align: right;\n",
       "    }\n",
       "</style>\n",
       "<table border=\"1\" class=\"dataframe\">\n",
       "  <thead>\n",
       "    <tr style=\"text-align: right;\">\n",
       "      <th></th>\n",
       "      <th>삼성전자</th>\n",
       "      <th>SK하이닉스</th>\n",
       "      <th>POSCO홀딩스</th>\n",
       "      <th>LG화학</th>\n",
       "      <th>현대차</th>\n",
       "      <th>기아</th>\n",
       "      <th>LG전자</th>\n",
       "      <th>HMM</th>\n",
       "      <th>LG이노텍</th>\n",
       "      <th>키움증권</th>\n",
       "      <th>효성첨단소재</th>\n",
       "      <th>두산</th>\n",
       "      <th>효성티앤씨</th>\n",
       "    </tr>\n",
       "    <tr>\n",
       "      <th>날짜</th>\n",
       "      <th></th>\n",
       "      <th></th>\n",
       "      <th></th>\n",
       "      <th></th>\n",
       "      <th></th>\n",
       "      <th></th>\n",
       "      <th></th>\n",
       "      <th></th>\n",
       "      <th></th>\n",
       "      <th></th>\n",
       "      <th></th>\n",
       "      <th></th>\n",
       "      <th></th>\n",
       "    </tr>\n",
       "  </thead>\n",
       "  <tbody>\n",
       "    <tr>\n",
       "      <th>2022-09-05</th>\n",
       "      <td>57100</td>\n",
       "      <td>91100</td>\n",
       "      <td>252500</td>\n",
       "      <td>616000</td>\n",
       "      <td>200000</td>\n",
       "      <td>81000</td>\n",
       "      <td>97200</td>\n",
       "      <td>20600</td>\n",
       "      <td>338000</td>\n",
       "      <td>82400</td>\n",
       "      <td>408000</td>\n",
       "      <td>76900</td>\n",
       "      <td>300000</td>\n",
       "    </tr>\n",
       "    <tr>\n",
       "      <th>2022-09-06</th>\n",
       "      <td>57100</td>\n",
       "      <td>91800</td>\n",
       "      <td>252500</td>\n",
       "      <td>619000</td>\n",
       "      <td>201000</td>\n",
       "      <td>81400</td>\n",
       "      <td>96800</td>\n",
       "      <td>20400</td>\n",
       "      <td>336000</td>\n",
       "      <td>81900</td>\n",
       "      <td>429500</td>\n",
       "      <td>76200</td>\n",
       "      <td>304500</td>\n",
       "    </tr>\n",
       "    <tr>\n",
       "      <th>2022-09-07</th>\n",
       "      <td>56000</td>\n",
       "      <td>90400</td>\n",
       "      <td>246000</td>\n",
       "      <td>623000</td>\n",
       "      <td>202000</td>\n",
       "      <td>82300</td>\n",
       "      <td>94400</td>\n",
       "      <td>19650</td>\n",
       "      <td>332000</td>\n",
       "      <td>79800</td>\n",
       "      <td>422500</td>\n",
       "      <td>72600</td>\n",
       "      <td>300000</td>\n",
       "    </tr>\n",
       "    <tr>\n",
       "      <th>2022-09-08</th>\n",
       "      <td>55600</td>\n",
       "      <td>90400</td>\n",
       "      <td>241500</td>\n",
       "      <td>644000</td>\n",
       "      <td>200000</td>\n",
       "      <td>80900</td>\n",
       "      <td>93800</td>\n",
       "      <td>20000</td>\n",
       "      <td>337500</td>\n",
       "      <td>80900</td>\n",
       "      <td>419500</td>\n",
       "      <td>72100</td>\n",
       "      <td>304500</td>\n",
       "    </tr>\n",
       "    <tr>\n",
       "      <th>2022-09-13</th>\n",
       "      <td>58100</td>\n",
       "      <td>94800</td>\n",
       "      <td>248000</td>\n",
       "      <td>665000</td>\n",
       "      <td>200500</td>\n",
       "      <td>81300</td>\n",
       "      <td>97900</td>\n",
       "      <td>21050</td>\n",
       "      <td>364000</td>\n",
       "      <td>85900</td>\n",
       "      <td>430000</td>\n",
       "      <td>73500</td>\n",
       "      <td>312500</td>\n",
       "    </tr>\n",
       "    <tr>\n",
       "      <th>...</th>\n",
       "      <td>...</td>\n",
       "      <td>...</td>\n",
       "      <td>...</td>\n",
       "      <td>...</td>\n",
       "      <td>...</td>\n",
       "      <td>...</td>\n",
       "      <td>...</td>\n",
       "      <td>...</td>\n",
       "      <td>...</td>\n",
       "      <td>...</td>\n",
       "      <td>...</td>\n",
       "      <td>...</td>\n",
       "      <td>...</td>\n",
       "    </tr>\n",
       "    <tr>\n",
       "      <th>2023-08-29</th>\n",
       "      <td>66800</td>\n",
       "      <td>118600</td>\n",
       "      <td>583000</td>\n",
       "      <td>560000</td>\n",
       "      <td>186700</td>\n",
       "      <td>80200</td>\n",
       "      <td>99600</td>\n",
       "      <td>17500</td>\n",
       "      <td>264500</td>\n",
       "      <td>102300</td>\n",
       "      <td>444500</td>\n",
       "      <td>114100</td>\n",
       "      <td>324500</td>\n",
       "    </tr>\n",
       "    <tr>\n",
       "      <th>2023-08-30</th>\n",
       "      <td>67100</td>\n",
       "      <td>119400</td>\n",
       "      <td>580000</td>\n",
       "      <td>576000</td>\n",
       "      <td>187800</td>\n",
       "      <td>80400</td>\n",
       "      <td>100100</td>\n",
       "      <td>17030</td>\n",
       "      <td>268000</td>\n",
       "      <td>102700</td>\n",
       "      <td>447000</td>\n",
       "      <td>113500</td>\n",
       "      <td>326500</td>\n",
       "    </tr>\n",
       "    <tr>\n",
       "      <th>2023-08-31</th>\n",
       "      <td>66900</td>\n",
       "      <td>121800</td>\n",
       "      <td>579000</td>\n",
       "      <td>583000</td>\n",
       "      <td>189100</td>\n",
       "      <td>80200</td>\n",
       "      <td>98500</td>\n",
       "      <td>16660</td>\n",
       "      <td>270000</td>\n",
       "      <td>103300</td>\n",
       "      <td>452000</td>\n",
       "      <td>117600</td>\n",
       "      <td>331000</td>\n",
       "    </tr>\n",
       "    <tr>\n",
       "      <th>2023-09-01</th>\n",
       "      <td>71000</td>\n",
       "      <td>120000</td>\n",
       "      <td>560000</td>\n",
       "      <td>570000</td>\n",
       "      <td>187400</td>\n",
       "      <td>79700</td>\n",
       "      <td>99600</td>\n",
       "      <td>16600</td>\n",
       "      <td>268500</td>\n",
       "      <td>99800</td>\n",
       "      <td>436000</td>\n",
       "      <td>113500</td>\n",
       "      <td>326000</td>\n",
       "    </tr>\n",
       "    <tr>\n",
       "      <th>2023-09-04</th>\n",
       "      <td>71200</td>\n",
       "      <td>119200</td>\n",
       "      <td>590000</td>\n",
       "      <td>586000</td>\n",
       "      <td>187300</td>\n",
       "      <td>80000</td>\n",
       "      <td>102500</td>\n",
       "      <td>16800</td>\n",
       "      <td>269000</td>\n",
       "      <td>102900</td>\n",
       "      <td>462500</td>\n",
       "      <td>112100</td>\n",
       "      <td>369000</td>\n",
       "    </tr>\n",
       "  </tbody>\n",
       "</table>\n",
       "<p>248 rows × 13 columns</p>\n",
       "</div>"
      ],
      "text/plain": [
       "             삼성전자  SK하이닉스  POSCO홀딩스    LG화학     현대차     기아    LG전자    HMM  \\\n",
       "날짜                                                                          \n",
       "2022-09-05  57100   91100    252500  616000  200000  81000   97200  20600   \n",
       "2022-09-06  57100   91800    252500  619000  201000  81400   96800  20400   \n",
       "2022-09-07  56000   90400    246000  623000  202000  82300   94400  19650   \n",
       "2022-09-08  55600   90400    241500  644000  200000  80900   93800  20000   \n",
       "2022-09-13  58100   94800    248000  665000  200500  81300   97900  21050   \n",
       "...           ...     ...       ...     ...     ...    ...     ...    ...   \n",
       "2023-08-29  66800  118600    583000  560000  186700  80200   99600  17500   \n",
       "2023-08-30  67100  119400    580000  576000  187800  80400  100100  17030   \n",
       "2023-08-31  66900  121800    579000  583000  189100  80200   98500  16660   \n",
       "2023-09-01  71000  120000    560000  570000  187400  79700   99600  16600   \n",
       "2023-09-04  71200  119200    590000  586000  187300  80000  102500  16800   \n",
       "\n",
       "             LG이노텍    키움증권  효성첨단소재      두산   효성티앤씨  \n",
       "날짜                                                  \n",
       "2022-09-05  338000   82400  408000   76900  300000  \n",
       "2022-09-06  336000   81900  429500   76200  304500  \n",
       "2022-09-07  332000   79800  422500   72600  300000  \n",
       "2022-09-08  337500   80900  419500   72100  304500  \n",
       "2022-09-13  364000   85900  430000   73500  312500  \n",
       "...            ...     ...     ...     ...     ...  \n",
       "2023-08-29  264500  102300  444500  114100  324500  \n",
       "2023-08-30  268000  102700  447000  113500  326500  \n",
       "2023-08-31  270000  103300  452000  117600  331000  \n",
       "2023-09-01  268500   99800  436000  113500  326000  \n",
       "2023-09-04  269000  102900  462500  112100  369000  \n",
       "\n",
       "[248 rows x 13 columns]"
      ]
     },
     "execution_count": 10,
     "metadata": {},
     "output_type": "execute_result"
    }
   ],
   "source": [
    "tmp = to_upward.get_close(data,stocks,start,end)\n",
    "tmp"
   ]
  },
  {
   "cell_type": "code",
   "execution_count": 11,
   "metadata": {},
   "outputs": [],
   "source": [
    "daily_ret = tmp[stocks].pct_change()\n",
    "annual_ret = (1+daily_ret.mean())**tmp[stocks].shape[0]-1\n",
    "\n",
    "daily_cov = daily_ret.cov()\n",
    "annual_cov = daily_cov * tmp[stocks].shape[0]"
   ]
  },
  {
   "cell_type": "markdown",
   "metadata": {},
   "source": [
    "# 최대 Shape 예시"
   ]
  },
  {
   "cell_type": "code",
   "execution_count": 12,
   "metadata": {},
   "outputs": [],
   "source": [
    "tmp2 = pd.DataFrame((annual_ret-0.02)/daily_ret.std()*np.sqrt(252),columns= ['Shape']).sort_values(by='Shape',ascending=False)\n",
    "stocks = list(tmp2.iloc[0:5].index)# 상위 5개 선정\n",
    "daily_ret = tmp[stocks].pct_change()\n",
    "annual_ret = (1+daily_ret.mean())**tmp[stocks].shape[0]-1\n",
    "daily_cov = daily_ret.cov()\n",
    "annual_cov = daily_cov * tmp[stocks].shape[0]\n",
    "rf = 0.0325"
   ]
  },
  {
   "cell_type": "code",
   "execution_count": 13,
   "metadata": {},
   "outputs": [],
   "source": [
    "max_shape,min_risk,tmp2,df =to_upward.get_portfolio(stocks,annual_ret,annual_cov)"
   ]
  },
  {
   "cell_type": "code",
   "execution_count": 14,
   "metadata": {},
   "outputs": [
    {
     "data": {
      "image/png": "[encoded data removed]",
      "text/plain": [
       "<Figure size 1000x800 with 2 Axes>"
      ]
     },
     "metadata": {},
     "output_type": "display_data"
    }
   ],
   "source": [
    "to_upward.show_CAPM(df,tmp2,max_shape,min_risk,rf=rf)"
   ]
  },
  {
   "cell_type": "code",
   "execution_count": 15,
   "metadata": {},
   "outputs": [
    {
     "name": "stdout",
     "output_type": "stream",
     "text": [
      "채권의 비중 : 0.6408439349245295\n",
      "이 경우 Risk : 0.10387543212202091\n"
     ]
    },
    {
     "data": {
      "application/vnd.plotly.v1+json": {
       "config": {
        "plotlyServerURL": "https://plot.ly"
       },
       "data": [
        {
         "domain": {
          "x": [
           0,
           0.45
          ],
          "y": [
           0,
           1
          ]
         },
         "labels": [
          "POSCO홀딩스",
          "두산",
          "삼성전자",
          "SK하이닉스",
          "키움증권"
         ],
         "name": "기존 포트폴리오",
         "type": "pie",
         "values": [
          0.5625831171342005,
          0.10072909792354874,
          0.12282742940631629,
          0.20991194146795578,
          0.003948414067978654
         ]
        },
        {
         "domain": {
          "x": [
           0.55,
           1
          ],
          "y": [
           0,
           1
          ]
         },
         "labels": [
          "POSCO홀딩스",
          "두산",
          "삼성전자",
          "SK하이닉스",
          "키움증권",
          "채권"
         ],
         "name": "기대수익 포트폴리오",
         "type": "pie",
         "values": [
          0.20205513862781196,
          0.03617746644882351,
          0.04411421622890769,
          0.07539114690998348,
          0.0014180968599438446,
          0.6408439349245295
         ]
        }
       ],
       "layout": {
        "annotations": [
         {
          "font": {
           "size": 16
          },
          "showarrow": false,
          "text": "<b>포트폴리오",
          "x": 0.225,
          "xanchor": "center",
          "xref": "paper",
          "y": 1,
          "yanchor": "bottom",
          "yref": "paper"
         },
         {
          "font": {
           "size": 16
          },
          "showarrow": false,
          "text": "<b>기대수익을 위한 포트폴리오<br><sup>자기자본의 64.08%만큼 채권투자</sup>",
          "x": 0.775,
          "xanchor": "center",
          "xref": "paper",
          "y": 1,
          "yanchor": "bottom",
          "yref": "paper"
         }
        ],
        "template": {
         "data": {
          "bar": [
           {
            "error_x": {
             "color": "#2a3f5f"
            },
            "error_y": {
             "color": "#2a3f5f"
            },
            "marker": {
             "line": {
              "color": "#E5ECF6",
              "width": 0.5
             },
             "pattern": {
              "fillmode": "overlay",
              "size": 10,
              "solidity": 0.2
             }
            },
            "type": "bar"
           }
          ],
          "barpolar": [
           {
            "marker": {
             "line": {
              "color": "#E5ECF6",
              "width": 0.5
             },
             "pattern": {
              "fillmode": "overlay",
              "size": 10,
              "solidity": 0.2
             }
            },
            "type": "barpolar"
           }
          ],
          "carpet": [
           {
            "aaxis": {
             "endlinecolor": "#2a3f5f",
             "gridcolor": "white",
             "linecolor": "white",
             "minorgridcolor": "white",
             "startlinecolor": "#2a3f5f"
            },
            "baxis": {
             "endlinecolor": "#2a3f5f",
             "gridcolor": "white",
             "linecolor": "white",
             "minorgridcolor": "white",
             "startlinecolor": "#2a3f5f"
            },
            "type": "carpet"
           }
          ],
          "choropleth": [
           {
            "colorbar": {
             "outlinewidth": 0,
             "ticks": ""
            },
            "type": "choropleth"
           }
          ],
          "contour": [
           {
            "colorbar": {
             "outlinewidth": 0,
             "ticks": ""
            },
            "colorscale": [
             [
              0,
              "#0d0887"
             ],
             [
              0.1111111111111111,
              "#46039f"
             ],
             [
              0.2222222222222222,
              "#7201a8"
             ],
             [
              0.3333333333333333,
              "#9c179e"
             ],
             [
              0.4444444444444444,
              "#bd3786"
             ],
             [
              0.5555555555555556,
              "#d8576b"
             ],
             [
              0.6666666666666666,
              "#ed7953"
             ],
             [
              0.7777777777777778,
              "#fb9f3a"
             ],
             [
              0.8888888888888888,
              "#fdca26"
             ],
             [
              1,
              "#f0f921"
             ]
            ],
            "type": "contour"
           }
          ],
          "contourcarpet": [
           {
            "colorbar": {
             "outlinewidth": 0,
             "ticks": ""
            },
            "type": "contourcarpet"
           }
          ],
          "heatmap": [
           {
            "colorbar": {
             "outlinewidth": 0,
             "ticks": ""
            },
            "colorscale": [
             [
              0,
              "#0d0887"
             ],
             [
              0.1111111111111111,
              "#46039f"
             ],
             [
              0.2222222222222222,
              "#7201a8"
             ],
             [
              0.3333333333333333,
              "#9c179e"
             ],
             [
              0.4444444444444444,
              "#bd3786"
             ],
             [
              0.5555555555555556,
              "#d8576b"
             ],
             [
              0.6666666666666666,
              "#ed7953"
             ],
             [
              0.7777777777777778,
              "#fb9f3a"
             ],
             [
              0.8888888888888888,
              "#fdca26"
             ],
             [
              1,
              "#f0f921"
             ]
            ],
            "type": "heatmap"
           }
          ],
          "heatmapgl": [
           {
            "colorbar": {
             "outlinewidth": 0,
             "ticks": ""
            },
            "colorscale": [
             [
              0,
              "#0d0887"
             ],
             [
              0.1111111111111111,
              "#46039f"
             ],
             [
              0.2222222222222222,
              "#7201a8"
             ],
             [
              0.3333333333333333,
              "#9c179e"
             ],
             [
              0.4444444444444444,
              "#bd3786"
             ],
             [
              0.5555555555555556,
              "#d8576b"
             ],
             [
              0.6666666666666666,
              "#ed7953"
             ],
             [
              0.7777777777777778,
              "#fb9f3a"
             ],
             [
              0.8888888888888888,
              "#fdca26"
             ],
             [
              1,
              "#f0f921"
             ]
            ],
            "type": "heatmapgl"
           }
          ],
          "histogram": [
           {
            "marker": {
             "pattern": {
              "fillmode": "overlay",
              "size": 10,
              "solidity": 0.2
             }
            },
            "type": "histogram"
           }
          ],
          "histogram2d": [
           {
            "colorbar": {
             "outlinewidth": 0,
             "ticks": ""
            },
            "colorscale": [
             [
              0,
              "#0d0887"
             ],
             [
              0.1111111111111111,
              "#46039f"
             ],
             [
              0.2222222222222222,
              "#7201a8"
             ],
             [
              0.3333333333333333,
              "#9c179e"
             ],
             [
              0.4444444444444444,
              "#bd3786"
             ],
             [
              0.5555555555555556,
              "#d8576b"
             ],
             [
              0.6666666666666666,
              "#ed7953"
             ],
             [
              0.7777777777777778,
              "#fb9f3a"
             ],
             [
              0.8888888888888888,
              "#fdca26"
             ],
             [
              1,
              "#f0f921"
             ]
            ],
            "type": "histogram2d"
           }
          ],
          "histogram2dcontour": [
           {
            "colorbar": {
             "outlinewidth": 0,
             "ticks": ""
            },
            "colorscale": [
             [
              0,
              "#0d0887"
             ],
             [
              0.1111111111111111,
              "#46039f"
             ],
             [
              0.2222222222222222,
              "#7201a8"
             ],
             [
              0.3333333333333333,
              "#9c179e"
             ],
             [
              0.4444444444444444,
              "#bd3786"
             ],
             [
              0.5555555555555556,
              "#d8576b"
             ],
             [
              0.6666666666666666,
              "#ed7953"
             ],
             [
              0.7777777777777778,
              "#fb9f3a"
             ],
             [
              0.8888888888888888,
              "#fdca26"
             ],
             [
              1,
              "#f0f921"
             ]
            ],
            "type": "histogram2dcontour"
           }
          ],
          "mesh3d": [
           {
            "colorbar": {
             "outlinewidth": 0,
             "ticks": ""
            },
            "type": "mesh3d"
           }
          ],
          "parcoords": [
           {
            "line": {
             "colorbar": {
              "outlinewidth": 0,
              "ticks": ""
             }
            },
            "type": "parcoords"
           }
          ],
          "pie": [
           {
            "automargin": true,
            "type": "pie"
           }
          ],
          "scatter": [
           {
            "fillpattern": {
             "fillmode": "overlay",
             "size": 10,
             "solidity": 0.2
            },
            "type": "scatter"
           }
          ],
          "scatter3d": [
           {
            "line": {
             "colorbar": {
              "outlinewidth": 0,
              "ticks": ""
             }
            },
            "marker": {
             "colorbar": {
              "outlinewidth": 0,
              "ticks": ""
             }
            },
            "type": "scatter3d"
           }
          ],
          "scattercarpet": [
           {
            "marker": {
             "colorbar": {
              "outlinewidth": 0,
              "ticks": ""
             }
            },
            "type": "scattercarpet"
           }
          ],
          "scattergeo": [
           {
            "marker": {
             "colorbar": {
              "outlinewidth": 0,
              "ticks": ""
             }
            },
            "type": "scattergeo"
           }
          ],
          "scattergl": [
           {
            "marker": {
             "colorbar": {
              "outlinewidth": 0,
              "ticks": ""
             }
            },
            "type": "scattergl"
           }
          ],
          "scattermapbox": [
           {
            "marker": {
             "colorbar": {
              "outlinewidth": 0,
              "ticks": ""
             }
            },
            "type": "scattermapbox"
           }
          ],
          "scatterpolar": [
           {
            "marker": {
             "colorbar": {
              "outlinewidth": 0,
              "ticks": ""
             }
            },
            "type": "scatterpolar"
           }
          ],
          "scatterpolargl": [
           {
            "marker": {
             "colorbar": {
              "outlinewidth": 0,
              "ticks": ""
             }
            },
            "type": "scatterpolargl"
           }
          ],
          "scatterternary": [
           {
            "marker": {
             "colorbar": {
              "outlinewidth": 0,
              "ticks": ""
             }
            },
            "type": "scatterternary"
           }
          ],
          "surface": [
           {
            "colorbar": {
             "outlinewidth": 0,
             "ticks": ""
            },
            "colorscale": [
             [
              0,
              "#0d0887"
             ],
             [
              0.1111111111111111,
              "#46039f"
             ],
             [
              0.2222222222222222,
              "#7201a8"
             ],
             [
              0.3333333333333333,
              "#9c179e"
             ],
             [
              0.4444444444444444,
              "#bd3786"
             ],
             [
              0.5555555555555556,
              "#d8576b"
             ],
             [
              0.6666666666666666,
              "#ed7953"
             ],
             [
              0.7777777777777778,
              "#fb9f3a"
             ],
             [
              0.8888888888888888,
              "#fdca26"
             ],
             [
              1,
              "#f0f921"
             ]
            ],
            "type": "surface"
           }
          ],
          "table": [
           {
            "cells": {
             "fill": {
              "color": "#EBF0F8"
             },
             "line": {
              "color": "white"
             }
            },
            "header": {
             "fill": {
              "color": "#C8D4E3"
             },
             "line": {
              "color": "white"
             }
            },
            "type": "table"
           }
          ]
         },
         "layout": {
          "annotationdefaults": {
           "arrowcolor": "#2a3f5f",
           "arrowhead": 0,
           "arrowwidth": 1
          },
          "autotypenumbers": "strict",
          "coloraxis": {
           "colorbar": {
            "outlinewidth": 0,
            "ticks": ""
           }
          },
          "colorscale": {
           "diverging": [
            [
             0,
             "#8e0152"
            ],
            [
             0.1,
             "#c51b7d"
            ],
            [
             0.2,
             "#de77ae"
            ],
            [
             0.3,
             "#f1b6da"
            ],
            [
             0.4,
             "#fde0ef"
            ],
            [
             0.5,
             "#f7f7f7"
            ],
            [
             0.6,
             "#e6f5d0"
            ],
            [
             0.7,
             "#b8e186"
            ],
            [
             0.8,
             "#7fbc41"
            ],
            [
             0.9,
             "#4d9221"
            ],
            [
             1,
             "#276419"
            ]
           ],
           "sequential": [
            [
             0,
             "#0d0887"
            ],
            [
             0.1111111111111111,
             "#46039f"
            ],
            [
             0.2222222222222222,
             "#7201a8"
            ],
            [
             0.3333333333333333,
             "#9c179e"
            ],
            [
             0.4444444444444444,
             "#bd3786"
            ],
            [
             0.5555555555555556,
             "#d8576b"
            ],
            [
             0.6666666666666666,
             "#ed7953"
            ],
            [
             0.7777777777777778,
             "#fb9f3a"
            ],
            [
             0.8888888888888888,
             "#fdca26"
            ],
            [
             1,
             "#f0f921"
            ]
           ],
           "sequentialminus": [
            [
             0,
             "#0d0887"
            ],
            [
             0.1111111111111111,
             "#46039f"
            ],
            [
             0.2222222222222222,
             "#7201a8"
            ],
            [
             0.3333333333333333,
             "#9c179e"
            ],
            [
             0.4444444444444444,
             "#bd3786"
            ],
            [
             0.5555555555555556,
             "#d8576b"
            ],
            [
             0.6666666666666666,
             "#ed7953"
            ],
            [
             0.7777777777777778,
             "#fb9f3a"
            ],
            [
             0.8888888888888888,
             "#fdca26"
            ],
            [
             1,
             "#f0f921"
            ]
           ]
          },
          "colorway": [
           "#636efa",
           "#EF553B",
           "#00cc96",
           "#ab63fa",
           "#FFA15A",
           "#19d3f3",
           "#FF6692",
           "#B6E880",
           "#FF97FF",
           "#FECB52"
          ],
          "font": {
           "color": "#2a3f5f"
          },
          "geo": {
           "bgcolor": "white",
           "lakecolor": "white",
           "landcolor": "#E5ECF6",
           "showlakes": true,
           "showland": true,
           "subunitcolor": "white"
          },
          "hoverlabel": {
           "align": "left"
          },
          "hovermode": "closest",
          "mapbox": {
           "style": "light"
          },
          "paper_bgcolor": "white",
          "plot_bgcolor": "#E5ECF6",
          "polar": {
           "angularaxis": {
            "gridcolor": "white",
            "linecolor": "white",
            "ticks": ""
           },
           "bgcolor": "#E5ECF6",
           "radialaxis": {
            "gridcolor": "white",
            "linecolor": "white",
            "ticks": ""
           }
          },
          "scene": {
           "xaxis": {
            "backgroundcolor": "#E5ECF6",
            "gridcolor": "white",
            "gridwidth": 2,
            "linecolor": "white",
            "showbackground": true,
            "ticks": "",
            "zerolinecolor": "white"
           },
           "yaxis": {
            "backgroundcolor": "#E5ECF6",
            "gridcolor": "white",
            "gridwidth": 2,
            "linecolor": "white",
            "showbackground": true,
            "ticks": "",
            "zerolinecolor": "white"
           },
           "zaxis": {
            "backgroundcolor": "#E5ECF6",
            "gridcolor": "white",
            "gridwidth": 2,
            "linecolor": "white",
            "showbackground": true,
            "ticks": "",
            "zerolinecolor": "white"
           }
          },
          "shapedefaults": {
           "line": {
            "color": "#2a3f5f"
           }
          },
          "ternary": {
           "aaxis": {
            "gridcolor": "white",
            "linecolor": "white",
            "ticks": ""
           },
           "baxis": {
            "gridcolor": "white",
            "linecolor": "white",
            "ticks": ""
           },
           "bgcolor": "#E5ECF6",
           "caxis": {
            "gridcolor": "white",
            "linecolor": "white",
            "ticks": ""
           }
          },
          "title": {
           "x": 0.05
          },
          "xaxis": {
           "automargin": true,
           "gridcolor": "white",
           "linecolor": "white",
           "ticks": "",
           "title": {
            "standoff": 15
           },
           "zerolinecolor": "white",
           "zerolinewidth": 2
          },
          "yaxis": {
           "automargin": true,
           "gridcolor": "white",
           "linecolor": "white",
           "ticks": "",
           "title": {
            "standoff": 15
           },
           "zerolinecolor": "white",
           "zerolinewidth": 2
          }
         }
        }
       }
      }
     },
     "metadata": {},
     "output_type": "display_data"
    }
   ],
   "source": [
    "to_upward.show_portfolio(max_shape)"
   ]
  },
  {
   "cell_type": "code",
   "execution_count": 16,
   "metadata": {},
   "outputs": [
    {
     "data": {
      "text/html": [
       "<div>\n",
       "<style scoped>\n",
       "    .dataframe tbody tr th:only-of-type {\n",
       "        vertical-align: middle;\n",
       "    }\n",
       "\n",
       "    .dataframe tbody tr th {\n",
       "        vertical-align: top;\n",
       "    }\n",
       "\n",
       "    .dataframe thead th {\n",
       "        text-align: right;\n",
       "    }\n",
       "</style>\n",
       "<table border=\"1\" class=\"dataframe\">\n",
       "  <thead>\n",
       "    <tr style=\"text-align: right;\">\n",
       "      <th></th>\n",
       "      <th>POSCO홀딩스</th>\n",
       "      <th>두산</th>\n",
       "      <th>삼성전자</th>\n",
       "      <th>SK하이닉스</th>\n",
       "      <th>키움증권</th>\n",
       "    </tr>\n",
       "  </thead>\n",
       "  <tbody>\n",
       "    <tr>\n",
       "      <th>2628</th>\n",
       "      <td>562583.117134</td>\n",
       "      <td>100729.097924</td>\n",
       "      <td>122827.429406</td>\n",
       "      <td>209911.941468</td>\n",
       "      <td>3948.414068</td>\n",
       "    </tr>\n",
       "  </tbody>\n",
       "</table>\n",
       "</div>"
      ],
      "text/plain": [
       "           POSCO홀딩스             두산           삼성전자         SK하이닉스         키움증권\n",
       "2628  562583.117134  100729.097924  122827.429406  209911.941468  3948.414068"
      ]
     },
     "execution_count": 16,
     "metadata": {},
     "output_type": "execute_result"
    }
   ],
   "source": [
    "balance = 1000000\n",
    "stock_money = max_shape[max_shape.columns[3:]]*balance\n",
    "stock_money"
   ]
  },
  {
   "cell_type": "code",
   "execution_count": 17,
   "metadata": {},
   "outputs": [
    {
     "data": {
      "text/html": [
       "<div>\n",
       "<style scoped>\n",
       "    .dataframe tbody tr th:only-of-type {\n",
       "        vertical-align: middle;\n",
       "    }\n",
       "\n",
       "    .dataframe tbody tr th {\n",
       "        vertical-align: top;\n",
       "    }\n",
       "\n",
       "    .dataframe thead th {\n",
       "        text-align: right;\n",
       "    }\n",
       "</style>\n",
       "<table border=\"1\" class=\"dataframe\">\n",
       "  <thead>\n",
       "    <tr style=\"text-align: right;\">\n",
       "      <th></th>\n",
       "      <th>0</th>\n",
       "      <th>1</th>\n",
       "      <th>2</th>\n",
       "      <th>3</th>\n",
       "      <th>4</th>\n",
       "      <th>5</th>\n",
       "      <th>6</th>\n",
       "      <th>7</th>\n",
       "      <th>8</th>\n",
       "      <th>9</th>\n",
       "      <th>...</th>\n",
       "      <th>990</th>\n",
       "      <th>991</th>\n",
       "      <th>992</th>\n",
       "      <th>993</th>\n",
       "      <th>994</th>\n",
       "      <th>995</th>\n",
       "      <th>996</th>\n",
       "      <th>997</th>\n",
       "      <th>998</th>\n",
       "      <th>999</th>\n",
       "    </tr>\n",
       "  </thead>\n",
       "  <tbody>\n",
       "    <tr>\n",
       "      <th>0</th>\n",
       "      <td>1000000.000000</td>\n",
       "      <td>1.000000e+06</td>\n",
       "      <td>1.000000e+06</td>\n",
       "      <td>1.000000e+06</td>\n",
       "      <td>1.000000e+06</td>\n",
       "      <td>1.000000e+06</td>\n",
       "      <td>1.000000e+06</td>\n",
       "      <td>1.000000e+06</td>\n",
       "      <td>1.000000e+06</td>\n",
       "      <td>1.000000e+06</td>\n",
       "      <td>...</td>\n",
       "      <td>1.000000e+06</td>\n",
       "      <td>1.000000e+06</td>\n",
       "      <td>1.000000e+06</td>\n",
       "      <td>1.000000e+06</td>\n",
       "      <td>1.000000e+06</td>\n",
       "      <td>1.000000e+06</td>\n",
       "      <td>1.000000e+06</td>\n",
       "      <td>1.000000e+06</td>\n",
       "      <td>1.000000e+06</td>\n",
       "      <td>1.000000e+06</td>\n",
       "    </tr>\n",
       "    <tr>\n",
       "      <th>1</th>\n",
       "      <td>984958.349626</td>\n",
       "      <td>9.843695e+05</td>\n",
       "      <td>1.006679e+06</td>\n",
       "      <td>1.000969e+06</td>\n",
       "      <td>9.855598e+05</td>\n",
       "      <td>1.001079e+06</td>\n",
       "      <td>1.011863e+06</td>\n",
       "      <td>1.036333e+06</td>\n",
       "      <td>9.701802e+05</td>\n",
       "      <td>9.883689e+05</td>\n",
       "      <td>...</td>\n",
       "      <td>1.003971e+06</td>\n",
       "      <td>1.002255e+06</td>\n",
       "      <td>1.031770e+06</td>\n",
       "      <td>1.031120e+06</td>\n",
       "      <td>1.005005e+06</td>\n",
       "      <td>1.010636e+06</td>\n",
       "      <td>1.002402e+06</td>\n",
       "      <td>1.009345e+06</td>\n",
       "      <td>1.007909e+06</td>\n",
       "      <td>1.023266e+06</td>\n",
       "    </tr>\n",
       "    <tr>\n",
       "      <th>2</th>\n",
       "      <td>994422.609670</td>\n",
       "      <td>9.902000e+05</td>\n",
       "      <td>1.006033e+06</td>\n",
       "      <td>9.501361e+05</td>\n",
       "      <td>9.909827e+05</td>\n",
       "      <td>9.937179e+05</td>\n",
       "      <td>1.008400e+06</td>\n",
       "      <td>1.049358e+06</td>\n",
       "      <td>9.953117e+05</td>\n",
       "      <td>1.001169e+06</td>\n",
       "      <td>...</td>\n",
       "      <td>1.024016e+06</td>\n",
       "      <td>1.016648e+06</td>\n",
       "      <td>1.050809e+06</td>\n",
       "      <td>1.033147e+06</td>\n",
       "      <td>9.929085e+05</td>\n",
       "      <td>1.022311e+06</td>\n",
       "      <td>9.828534e+05</td>\n",
       "      <td>9.963602e+05</td>\n",
       "      <td>1.027933e+06</td>\n",
       "      <td>9.947268e+05</td>\n",
       "    </tr>\n",
       "    <tr>\n",
       "      <th>3</th>\n",
       "      <td>983635.711788</td>\n",
       "      <td>9.897272e+05</td>\n",
       "      <td>9.936971e+05</td>\n",
       "      <td>9.399282e+05</td>\n",
       "      <td>1.024071e+06</td>\n",
       "      <td>9.800089e+05</td>\n",
       "      <td>1.029291e+06</td>\n",
       "      <td>1.069499e+06</td>\n",
       "      <td>9.930776e+05</td>\n",
       "      <td>1.003552e+06</td>\n",
       "      <td>...</td>\n",
       "      <td>1.018168e+06</td>\n",
       "      <td>1.028143e+06</td>\n",
       "      <td>1.088319e+06</td>\n",
       "      <td>1.042273e+06</td>\n",
       "      <td>9.725616e+05</td>\n",
       "      <td>1.042523e+06</td>\n",
       "      <td>9.846385e+05</td>\n",
       "      <td>1.004713e+06</td>\n",
       "      <td>1.024697e+06</td>\n",
       "      <td>9.924959e+05</td>\n",
       "    </tr>\n",
       "    <tr>\n",
       "      <th>4</th>\n",
       "      <td>963992.914278</td>\n",
       "      <td>9.848819e+05</td>\n",
       "      <td>9.874338e+05</td>\n",
       "      <td>9.266171e+05</td>\n",
       "      <td>1.013724e+06</td>\n",
       "      <td>9.832619e+05</td>\n",
       "      <td>1.013015e+06</td>\n",
       "      <td>1.080920e+06</td>\n",
       "      <td>9.649949e+05</td>\n",
       "      <td>1.000761e+06</td>\n",
       "      <td>...</td>\n",
       "      <td>1.037118e+06</td>\n",
       "      <td>1.034982e+06</td>\n",
       "      <td>1.105244e+06</td>\n",
       "      <td>1.033310e+06</td>\n",
       "      <td>9.806486e+05</td>\n",
       "      <td>1.036122e+06</td>\n",
       "      <td>9.953078e+05</td>\n",
       "      <td>9.862113e+05</td>\n",
       "      <td>1.041713e+06</td>\n",
       "      <td>1.004488e+06</td>\n",
       "    </tr>\n",
       "    <tr>\n",
       "      <th>...</th>\n",
       "      <td>...</td>\n",
       "      <td>...</td>\n",
       "      <td>...</td>\n",
       "      <td>...</td>\n",
       "      <td>...</td>\n",
       "      <td>...</td>\n",
       "      <td>...</td>\n",
       "      <td>...</td>\n",
       "      <td>...</td>\n",
       "      <td>...</td>\n",
       "      <td>...</td>\n",
       "      <td>...</td>\n",
       "      <td>...</td>\n",
       "      <td>...</td>\n",
       "      <td>...</td>\n",
       "      <td>...</td>\n",
       "      <td>...</td>\n",
       "      <td>...</td>\n",
       "      <td>...</td>\n",
       "      <td>...</td>\n",
       "      <td>...</td>\n",
       "    </tr>\n",
       "    <tr>\n",
       "      <th>95</th>\n",
       "      <td>811499.312031</td>\n",
       "      <td>1.113939e+06</td>\n",
       "      <td>1.402458e+06</td>\n",
       "      <td>9.586694e+05</td>\n",
       "      <td>1.161517e+06</td>\n",
       "      <td>9.433496e+05</td>\n",
       "      <td>1.083589e+06</td>\n",
       "      <td>1.232613e+06</td>\n",
       "      <td>1.002091e+06</td>\n",
       "      <td>8.589735e+05</td>\n",
       "      <td>...</td>\n",
       "      <td>8.993006e+05</td>\n",
       "      <td>9.362642e+05</td>\n",
       "      <td>1.225562e+06</td>\n",
       "      <td>9.531826e+05</td>\n",
       "      <td>1.022672e+06</td>\n",
       "      <td>1.198069e+06</td>\n",
       "      <td>1.237401e+06</td>\n",
       "      <td>1.057219e+06</td>\n",
       "      <td>9.630910e+05</td>\n",
       "      <td>1.099626e+06</td>\n",
       "    </tr>\n",
       "    <tr>\n",
       "      <th>96</th>\n",
       "      <td>828728.395271</td>\n",
       "      <td>1.114631e+06</td>\n",
       "      <td>1.423620e+06</td>\n",
       "      <td>9.559393e+05</td>\n",
       "      <td>1.172611e+06</td>\n",
       "      <td>9.594898e+05</td>\n",
       "      <td>1.087765e+06</td>\n",
       "      <td>1.226486e+06</td>\n",
       "      <td>1.016804e+06</td>\n",
       "      <td>8.405439e+05</td>\n",
       "      <td>...</td>\n",
       "      <td>8.877638e+05</td>\n",
       "      <td>9.249455e+05</td>\n",
       "      <td>1.223858e+06</td>\n",
       "      <td>9.382244e+05</td>\n",
       "      <td>1.015543e+06</td>\n",
       "      <td>1.225630e+06</td>\n",
       "      <td>1.206686e+06</td>\n",
       "      <td>1.085436e+06</td>\n",
       "      <td>9.398082e+05</td>\n",
       "      <td>1.078996e+06</td>\n",
       "    </tr>\n",
       "    <tr>\n",
       "      <th>97</th>\n",
       "      <td>818002.842403</td>\n",
       "      <td>1.127442e+06</td>\n",
       "      <td>1.396239e+06</td>\n",
       "      <td>9.735998e+05</td>\n",
       "      <td>1.182316e+06</td>\n",
       "      <td>9.787876e+05</td>\n",
       "      <td>1.091005e+06</td>\n",
       "      <td>1.216866e+06</td>\n",
       "      <td>1.035700e+06</td>\n",
       "      <td>8.433393e+05</td>\n",
       "      <td>...</td>\n",
       "      <td>8.924041e+05</td>\n",
       "      <td>9.381662e+05</td>\n",
       "      <td>1.220519e+06</td>\n",
       "      <td>9.615353e+05</td>\n",
       "      <td>1.009848e+06</td>\n",
       "      <td>1.231725e+06</td>\n",
       "      <td>1.214676e+06</td>\n",
       "      <td>1.073853e+06</td>\n",
       "      <td>9.164961e+05</td>\n",
       "      <td>1.104316e+06</td>\n",
       "    </tr>\n",
       "    <tr>\n",
       "      <th>98</th>\n",
       "      <td>835859.025231</td>\n",
       "      <td>1.120876e+06</td>\n",
       "      <td>1.407454e+06</td>\n",
       "      <td>9.683552e+05</td>\n",
       "      <td>1.203655e+06</td>\n",
       "      <td>1.001451e+06</td>\n",
       "      <td>1.097671e+06</td>\n",
       "      <td>1.207904e+06</td>\n",
       "      <td>1.034570e+06</td>\n",
       "      <td>8.308180e+05</td>\n",
       "      <td>...</td>\n",
       "      <td>8.676451e+05</td>\n",
       "      <td>9.545222e+05</td>\n",
       "      <td>1.187660e+06</td>\n",
       "      <td>9.850336e+05</td>\n",
       "      <td>9.995873e+05</td>\n",
       "      <td>1.253930e+06</td>\n",
       "      <td>1.187108e+06</td>\n",
       "      <td>1.040643e+06</td>\n",
       "      <td>9.361875e+05</td>\n",
       "      <td>1.084399e+06</td>\n",
       "    </tr>\n",
       "    <tr>\n",
       "      <th>99</th>\n",
       "      <td>826883.502233</td>\n",
       "      <td>1.140108e+06</td>\n",
       "      <td>1.399219e+06</td>\n",
       "      <td>9.494514e+05</td>\n",
       "      <td>1.221119e+06</td>\n",
       "      <td>9.921900e+05</td>\n",
       "      <td>1.120168e+06</td>\n",
       "      <td>1.217086e+06</td>\n",
       "      <td>1.036736e+06</td>\n",
       "      <td>8.433782e+05</td>\n",
       "      <td>...</td>\n",
       "      <td>8.677033e+05</td>\n",
       "      <td>9.677658e+05</td>\n",
       "      <td>1.209620e+06</td>\n",
       "      <td>9.995323e+05</td>\n",
       "      <td>9.643794e+05</td>\n",
       "      <td>1.266621e+06</td>\n",
       "      <td>1.160563e+06</td>\n",
       "      <td>1.045033e+06</td>\n",
       "      <td>9.310765e+05</td>\n",
       "      <td>1.107480e+06</td>\n",
       "    </tr>\n",
       "  </tbody>\n",
       "</table>\n",
       "<p>100 rows × 1000 columns</p>\n",
       "</div>"
      ],
      "text/plain": [
       "               0             1             2             3             4    \\\n",
       "0   1000000.000000  1.000000e+06  1.000000e+06  1.000000e+06  1.000000e+06   \n",
       "1    984958.349626  9.843695e+05  1.006679e+06  1.000969e+06  9.855598e+05   \n",
       "2    994422.609670  9.902000e+05  1.006033e+06  9.501361e+05  9.909827e+05   \n",
       "3    983635.711788  9.897272e+05  9.936971e+05  9.399282e+05  1.024071e+06   \n",
       "4    963992.914278  9.848819e+05  9.874338e+05  9.266171e+05  1.013724e+06   \n",
       "..             ...           ...           ...           ...           ...   \n",
       "95   811499.312031  1.113939e+06  1.402458e+06  9.586694e+05  1.161517e+06   \n",
       "96   828728.395271  1.114631e+06  1.423620e+06  9.559393e+05  1.172611e+06   \n",
       "97   818002.842403  1.127442e+06  1.396239e+06  9.735998e+05  1.182316e+06   \n",
       "98   835859.025231  1.120876e+06  1.407454e+06  9.683552e+05  1.203655e+06   \n",
       "99   826883.502233  1.140108e+06  1.399219e+06  9.494514e+05  1.221119e+06   \n",
       "\n",
       "             5             6             7             8             9    ...  \\\n",
       "0   1.000000e+06  1.000000e+06  1.000000e+06  1.000000e+06  1.000000e+06  ...   \n",
       "1   1.001079e+06  1.011863e+06  1.036333e+06  9.701802e+05  9.883689e+05  ...   \n",
       "2   9.937179e+05  1.008400e+06  1.049358e+06  9.953117e+05  1.001169e+06  ...   \n",
       "3   9.800089e+05  1.029291e+06  1.069499e+06  9.930776e+05  1.003552e+06  ...   \n",
       "4   9.832619e+05  1.013015e+06  1.080920e+06  9.649949e+05  1.000761e+06  ...   \n",
       "..           ...           ...           ...           ...           ...  ...   \n",
       "95  9.433496e+05  1.083589e+06  1.232613e+06  1.002091e+06  8.589735e+05  ...   \n",
       "96  9.594898e+05  1.087765e+06  1.226486e+06  1.016804e+06  8.405439e+05  ...   \n",
       "97  9.787876e+05  1.091005e+06  1.216866e+06  1.035700e+06  8.433393e+05  ...   \n",
       "98  1.001451e+06  1.097671e+06  1.207904e+06  1.034570e+06  8.308180e+05  ...   \n",
       "99  9.921900e+05  1.120168e+06  1.217086e+06  1.036736e+06  8.433782e+05  ...   \n",
       "\n",
       "             990           991           992           993           994  \\\n",
       "0   1.000000e+06  1.000000e+06  1.000000e+06  1.000000e+06  1.000000e+06   \n",
       "1   1.003971e+06  1.002255e+06  1.031770e+06  1.031120e+06  1.005005e+06   \n",
       "2   1.024016e+06  1.016648e+06  1.050809e+06  1.033147e+06  9.929085e+05   \n",
       "3   1.018168e+06  1.028143e+06  1.088319e+06  1.042273e+06  9.725616e+05   \n",
       "4   1.037118e+06  1.034982e+06  1.105244e+06  1.033310e+06  9.806486e+05   \n",
       "..           ...           ...           ...           ...           ...   \n",
       "95  8.993006e+05  9.362642e+05  1.225562e+06  9.531826e+05  1.022672e+06   \n",
       "96  8.877638e+05  9.249455e+05  1.223858e+06  9.382244e+05  1.015543e+06   \n",
       "97  8.924041e+05  9.381662e+05  1.220519e+06  9.615353e+05  1.009848e+06   \n",
       "98  8.676451e+05  9.545222e+05  1.187660e+06  9.850336e+05  9.995873e+05   \n",
       "99  8.677033e+05  9.677658e+05  1.209620e+06  9.995323e+05  9.643794e+05   \n",
       "\n",
       "             995           996           997           998           999  \n",
       "0   1.000000e+06  1.000000e+06  1.000000e+06  1.000000e+06  1.000000e+06  \n",
       "1   1.010636e+06  1.002402e+06  1.009345e+06  1.007909e+06  1.023266e+06  \n",
       "2   1.022311e+06  9.828534e+05  9.963602e+05  1.027933e+06  9.947268e+05  \n",
       "3   1.042523e+06  9.846385e+05  1.004713e+06  1.024697e+06  9.924959e+05  \n",
       "4   1.036122e+06  9.953078e+05  9.862113e+05  1.041713e+06  1.004488e+06  \n",
       "..           ...           ...           ...           ...           ...  \n",
       "95  1.198069e+06  1.237401e+06  1.057219e+06  9.630910e+05  1.099626e+06  \n",
       "96  1.225630e+06  1.206686e+06  1.085436e+06  9.398082e+05  1.078996e+06  \n",
       "97  1.231725e+06  1.214676e+06  1.073853e+06  9.164961e+05  1.104316e+06  \n",
       "98  1.253930e+06  1.187108e+06  1.040643e+06  9.361875e+05  1.084399e+06  \n",
       "99  1.266621e+06  1.160563e+06  1.045033e+06  9.310765e+05  1.107480e+06  \n",
       "\n",
       "[100 rows x 1000 columns]"
      ]
     },
     "execution_count": 17,
     "metadata": {},
     "output_type": "execute_result"
    }
   ],
   "source": [
    "sim_num = 1000\n",
    "balance_df = to_upward.monte_sim(sim_num,tmp,stocks,stock_money)\n",
    "balance_df"
   ]
  },
  {
   "cell_type": "code",
   "execution_count": 18,
   "metadata": {},
   "outputs": [
    {
     "data": {
      "image/png": "[encoded data removed]",
      "text/plain": [
       "<Figure size 640x480 with 1 Axes>"
      ]
     },
     "metadata": {},
     "output_type": "display_data"
    }
   ],
   "source": [
    "plt.hist(balance_df.iloc[99])\n",
    "plt.show()"
   ]
  },
  {
   "cell_type": "code",
   "execution_count": 19,
   "metadata": {},
   "outputs": [
    {
     "data": {
      "text/html": [
       "<div>\n",
       "<style scoped>\n",
       "    .dataframe tbody tr th:only-of-type {\n",
       "        vertical-align: middle;\n",
       "    }\n",
       "\n",
       "    .dataframe tbody tr th {\n",
       "        vertical-align: top;\n",
       "    }\n",
       "\n",
       "    .dataframe thead th {\n",
       "        text-align: right;\n",
       "    }\n",
       "</style>\n",
       "<table border=\"1\" class=\"dataframe\">\n",
       "  <thead>\n",
       "    <tr style=\"text-align: right;\">\n",
       "      <th></th>\n",
       "      <th>포트폴리오가치</th>\n",
       "    </tr>\n",
       "  </thead>\n",
       "  <tbody>\n",
       "    <tr>\n",
       "      <th>50%</th>\n",
       "      <td>1,013,120.39</td>\n",
       "    </tr>\n",
       "    <tr>\n",
       "      <th>90%</th>\n",
       "      <td>1,265,198.17</td>\n",
       "    </tr>\n",
       "  </tbody>\n",
       "</table>\n",
       "</div>"
      ],
      "text/plain": [
       "         포트폴리오가치\n",
       "50% 1,013,120.39\n",
       "90% 1,265,198.17"
      ]
     },
     "execution_count": 19,
     "metadata": {},
     "output_type": "execute_result"
    }
   ],
   "source": [
    "pd.set_option('display.float_format', lambda x: f'{x:,.2f}') \n",
    "pd.DataFrame(balance_df.iloc[99].quantile([0.5,0.9]).to_numpy(),columns=['포트폴리오가치'],index=['50%','90%'])"
   ]
  },
  {
   "cell_type": "code",
   "execution_count": 20,
   "metadata": {},
   "outputs": [
    {
     "data": {
      "text/html": [
       "<div>\n",
       "<style scoped>\n",
       "    .dataframe tbody tr th:only-of-type {\n",
       "        vertical-align: middle;\n",
       "    }\n",
       "\n",
       "    .dataframe tbody tr th {\n",
       "        vertical-align: top;\n",
       "    }\n",
       "\n",
       "    .dataframe thead th {\n",
       "        text-align: right;\n",
       "    }\n",
       "</style>\n",
       "<table border=\"1\" class=\"dataframe\">\n",
       "  <thead>\n",
       "    <tr style=\"text-align: right;\">\n",
       "      <th></th>\n",
       "      <th>10.0%</th>\n",
       "      <th>25.0%</th>\n",
       "      <th>50.0%</th>\n",
       "      <th>75.0%</th>\n",
       "      <th>90.0%</th>\n",
       "    </tr>\n",
       "  </thead>\n",
       "  <tbody>\n",
       "    <tr>\n",
       "      <th>1month</th>\n",
       "      <td>9.92</td>\n",
       "      <td>-2.30</td>\n",
       "      <td>-2.70</td>\n",
       "      <td>1.08</td>\n",
       "      <td>1.89</td>\n",
       "    </tr>\n",
       "    <tr>\n",
       "      <th>2month</th>\n",
       "      <td>12.11</td>\n",
       "      <td>4.98</td>\n",
       "      <td>0.58</td>\n",
       "      <td>4.22</td>\n",
       "      <td>-3.44</td>\n",
       "    </tr>\n",
       "    <tr>\n",
       "      <th>3month</th>\n",
       "      <td>11.90</td>\n",
       "      <td>-1.51</td>\n",
       "      <td>9.89</td>\n",
       "      <td>0.24</td>\n",
       "      <td>-13.07</td>\n",
       "    </tr>\n",
       "    <tr>\n",
       "      <th>4month</th>\n",
       "      <td>11.70</td>\n",
       "      <td>-3.20</td>\n",
       "      <td>1.03</td>\n",
       "      <td>-7.78</td>\n",
       "      <td>-17.80</td>\n",
       "    </tr>\n",
       "    <tr>\n",
       "      <th>5month</th>\n",
       "      <td>26.66</td>\n",
       "      <td>13.10</td>\n",
       "      <td>1.31</td>\n",
       "      <td>-9.01</td>\n",
       "      <td>-16.52</td>\n",
       "    </tr>\n",
       "  </tbody>\n",
       "</table>\n",
       "</div>"
      ],
      "text/plain": [
       "        10.0%  25.0%  50.0%  75.0%  90.0%\n",
       "1month   9.92  -2.30  -2.70   1.08   1.89\n",
       "2month  12.11   4.98   0.58   4.22  -3.44\n",
       "3month  11.90  -1.51   9.89   0.24 -13.07\n",
       "4month  11.70  -3.20   1.03  -7.78 -17.80\n",
       "5month  26.66  13.10   1.31  -9.01 -16.52"
      ]
     },
     "metadata": {},
     "output_type": "display_data"
    },
    {
     "data": {
      "application/vnd.plotly.v1+json": {
       "config": {
        "plotlyServerURL": "https://plot.ly"
       },
       "data": [
        {
         "hovertemplate": "variable=10.0%<br>index=%{x}<br>value=%{y}<extra></extra>",
         "legendgroup": "10.0%",
         "line": {
          "color": "#636efa",
          "dash": "solid"
         },
         "marker": {
          "symbol": "circle"
         },
         "mode": "lines",
         "name": "10.0%",
         "orientation": "v",
         "showlegend": true,
         "type": "scatter",
         "x": [
          "1month",
          "2month",
          "3month",
          "4month",
          "5month"
         ],
         "xaxis": "x",
         "y": [
          9.919781837570435,
          12.106582120058965,
          11.898474766059849,
          11.703901235542213,
          26.66205616513726
         ],
         "yaxis": "y"
        },
        {
         "hovertemplate": "variable=25.0%<br>index=%{x}<br>value=%{y}<extra></extra>",
         "legendgroup": "25.0%",
         "line": {
          "color": "#EF553B",
          "dash": "solid"
         },
         "marker": {
          "symbol": "circle"
         },
         "mode": "lines",
         "name": "25.0%",
         "orientation": "v",
         "showlegend": true,
         "type": "scatter",
         "x": [
          "1month",
          "2month",
          "3month",
          "4month",
          "5month"
         ],
         "xaxis": "x",
         "y": [
          -2.302100140926917,
          4.977427059688629,
          -1.5058276802934822,
          -3.202140218240116,
          13.096349189639906
         ],
         "yaxis": "y"
        },
        {
         "hovertemplate": "variable=50.0%<br>index=%{x}<br>value=%{y}<extra></extra>",
         "legendgroup": "50.0%",
         "line": {
          "color": "#00cc96",
          "dash": "solid"
         },
         "marker": {
          "symbol": "circle"
         },
         "mode": "lines",
         "name": "50.0%",
         "orientation": "v",
         "showlegend": true,
         "type": "scatter",
         "x": [
          "1month",
          "2month",
          "3month",
          "4month",
          "5month"
         ],
         "xaxis": "x",
         "y": [
          -2.6956779670116258,
          0.5762245121715474,
          9.891846567813493,
          1.0258130316875291,
          1.314516777835542
         ],
         "yaxis": "y"
        },
        {
         "hovertemplate": "variable=75.0%<br>index=%{x}<br>value=%{y}<extra></extra>",
         "legendgroup": "75.0%",
         "line": {
          "color": "#ab63fa",
          "dash": "solid"
         },
         "marker": {
          "symbol": "circle"
         },
         "mode": "lines",
         "name": "75.0%",
         "orientation": "v",
         "showlegend": true,
         "type": "scatter",
         "x": [
          "1month",
          "2month",
          "3month",
          "4month",
          "5month"
         ],
         "xaxis": "x",
         "y": [
          1.0821122349647223,
          4.219508675050724,
          0.23882584644787713,
          -7.782359545956552,
          -9.005393654959997
         ],
         "yaxis": "y"
        },
        {
         "hovertemplate": "variable=90.0%<br>index=%{x}<br>value=%{y}<extra></extra>",
         "legendgroup": "90.0%",
         "line": {
          "color": "#FFA15A",
          "dash": "solid"
         },
         "marker": {
          "symbol": "circle"
         },
         "mode": "lines",
         "name": "90.0%",
         "orientation": "v",
         "showlegend": true,
         "type": "scatter",
         "x": [
          "1month",
          "2month",
          "3month",
          "4month",
          "5month"
         ],
         "xaxis": "x",
         "y": [
          1.8939333528345914,
          -3.438607965507137,
          -13.069948996307446,
          -17.797629951678008,
          -16.518436488220793
         ],
         "yaxis": "y"
        }
       ],
       "layout": {
        "legend": {
         "title": {
          "text": "variable"
         },
         "tracegroupgap": 0
        },
        "margin": {
         "t": 60
        },
        "template": {
         "data": {
          "bar": [
           {
            "error_x": {
             "color": "#2a3f5f"
            },
            "error_y": {
             "color": "#2a3f5f"
            },
            "marker": {
             "line": {
              "color": "#E5ECF6",
              "width": 0.5
             },
             "pattern": {
              "fillmode": "overlay",
              "size": 10,
              "solidity": 0.2
             }
            },
            "type": "bar"
           }
          ],
          "barpolar": [
           {
            "marker": {
             "line": {
              "color": "#E5ECF6",
              "width": 0.5
             },
             "pattern": {
              "fillmode": "overlay",
              "size": 10,
              "solidity": 0.2
             }
            },
            "type": "barpolar"
           }
          ],
          "carpet": [
           {
            "aaxis": {
             "endlinecolor": "#2a3f5f",
             "gridcolor": "white",
             "linecolor": "white",
             "minorgridcolor": "white",
             "startlinecolor": "#2a3f5f"
            },
            "baxis": {
             "endlinecolor": "#2a3f5f",
             "gridcolor": "white",
             "linecolor": "white",
             "minorgridcolor": "white",
             "startlinecolor": "#2a3f5f"
            },
            "type": "carpet"
           }
          ],
          "choropleth": [
           {
            "colorbar": {
             "outlinewidth": 0,
             "ticks": ""
            },
            "type": "choropleth"
           }
          ],
          "contour": [
           {
            "colorbar": {
             "outlinewidth": 0,
             "ticks": ""
            },
            "colorscale": [
             [
              0,
              "#0d0887"
             ],
             [
              0.1111111111111111,
              "#46039f"
             ],
             [
              0.2222222222222222,
              "#7201a8"
             ],
             [
              0.3333333333333333,
              "#9c179e"
             ],
             [
              0.4444444444444444,
              "#bd3786"
             ],
             [
              0.5555555555555556,
              "#d8576b"
             ],
             [
              0.6666666666666666,
              "#ed7953"
             ],
             [
              0.7777777777777778,
              "#fb9f3a"
             ],
             [
              0.8888888888888888,
              "#fdca26"
             ],
             [
              1,
              "#f0f921"
             ]
            ],
            "type": "contour"
           }
          ],
          "contourcarpet": [
           {
            "colorbar": {
             "outlinewidth": 0,
             "ticks": ""
            },
            "type": "contourcarpet"
           }
          ],
          "heatmap": [
           {
            "colorbar": {
             "outlinewidth": 0,
             "ticks": ""
            },
            "colorscale": [
             [
              0,
              "#0d0887"
             ],
             [
              0.1111111111111111,
              "#46039f"
             ],
             [
              0.2222222222222222,
              "#7201a8"
             ],
             [
              0.3333333333333333,
              "#9c179e"
             ],
             [
              0.4444444444444444,
              "#bd3786"
             ],
             [
              0.5555555555555556,
              "#d8576b"
             ],
             [
              0.6666666666666666,
              "#ed7953"
             ],
             [
              0.7777777777777778,
              "#fb9f3a"
             ],
             [
              0.8888888888888888,
              "#fdca26"
             ],
             [
              1,
              "#f0f921"
             ]
            ],
            "type": "heatmap"
           }
          ],
          "heatmapgl": [
           {
            "colorbar": {
             "outlinewidth": 0,
             "ticks": ""
            },
            "colorscale": [
             [
              0,
              "#0d0887"
             ],
             [
              0.1111111111111111,
              "#46039f"
             ],
             [
              0.2222222222222222,
              "#7201a8"
             ],
             [
              0.3333333333333333,
              "#9c179e"
             ],
             [
              0.4444444444444444,
              "#bd3786"
             ],
             [
              0.5555555555555556,
              "#d8576b"
             ],
             [
              0.6666666666666666,
              "#ed7953"
             ],
             [
              0.7777777777777778,
              "#fb9f3a"
             ],
             [
              0.8888888888888888,
              "#fdca26"
             ],
             [
              1,
              "#f0f921"
             ]
            ],
            "type": "heatmapgl"
           }
          ],
          "histogram": [
           {
            "marker": {
             "pattern": {
              "fillmode": "overlay",
              "size": 10,
              "solidity": 0.2
             }
            },
            "type": "histogram"
           }
          ],
          "histogram2d": [
           {
            "colorbar": {
             "outlinewidth": 0,
             "ticks": ""
            },
            "colorscale": [
             [
              0,
              "#0d0887"
             ],
             [
              0.1111111111111111,
              "#46039f"
             ],
             [
              0.2222222222222222,
              "#7201a8"
             ],
             [
              0.3333333333333333,
              "#9c179e"
             ],
             [
              0.4444444444444444,
              "#bd3786"
             ],
             [
              0.5555555555555556,
              "#d8576b"
             ],
             [
              0.6666666666666666,
              "#ed7953"
             ],
             [
              0.7777777777777778,
              "#fb9f3a"
             ],
             [
              0.8888888888888888,
              "#fdca26"
             ],
             [
              1,
              "#f0f921"
             ]
            ],
            "type": "histogram2d"
           }
          ],
          "histogram2dcontour": [
           {
            "colorbar": {
             "outlinewidth": 0,
             "ticks": ""
            },
            "colorscale": [
             [
              0,
              "#0d0887"
             ],
             [
              0.1111111111111111,
              "#46039f"
             ],
             [
              0.2222222222222222,
              "#7201a8"
             ],
             [
              0.3333333333333333,
              "#9c179e"
             ],
             [
              0.4444444444444444,
              "#bd3786"
             ],
             [
              0.5555555555555556,
              "#d8576b"
             ],
             [
              0.6666666666666666,
              "#ed7953"
             ],
             [
              0.7777777777777778,
              "#fb9f3a"
             ],
             [
              0.8888888888888888,
              "#fdca26"
             ],
             [
              1,
              "#f0f921"
             ]
            ],
            "type": "histogram2dcontour"
           }
          ],
          "mesh3d": [
           {
            "colorbar": {
             "outlinewidth": 0,
             "ticks": ""
            },
            "type": "mesh3d"
           }
          ],
          "parcoords": [
           {
            "line": {
             "colorbar": {
              "outlinewidth": 0,
              "ticks": ""
             }
            },
            "type": "parcoords"
           }
          ],
          "pie": [
           {
            "automargin": true,
            "type": "pie"
           }
          ],
          "scatter": [
           {
            "fillpattern": {
             "fillmode": "overlay",
             "size": 10,
             "solidity": 0.2
            },
            "type": "scatter"
           }
          ],
          "scatter3d": [
           {
            "line": {
             "colorbar": {
              "outlinewidth": 0,
              "ticks": ""
             }
            },
            "marker": {
             "colorbar": {
              "outlinewidth": 0,
              "ticks": ""
             }
            },
            "type": "scatter3d"
           }
          ],
          "scattercarpet": [
           {
            "marker": {
             "colorbar": {
              "outlinewidth": 0,
              "ticks": ""
             }
            },
            "type": "scattercarpet"
           }
          ],
          "scattergeo": [
           {
            "marker": {
             "colorbar": {
              "outlinewidth": 0,
              "ticks": ""
             }
            },
            "type": "scattergeo"
           }
          ],
          "scattergl": [
           {
            "marker": {
             "colorbar": {
              "outlinewidth": 0,
              "ticks": ""
             }
            },
            "type": "scattergl"
           }
          ],
          "scattermapbox": [
           {
            "marker": {
             "colorbar": {
              "outlinewidth": 0,
              "ticks": ""
             }
            },
            "type": "scattermapbox"
           }
          ],
          "scatterpolar": [
           {
            "marker": {
             "colorbar": {
              "outlinewidth": 0,
              "ticks": ""
             }
            },
            "type": "scatterpolar"
           }
          ],
          "scatterpolargl": [
           {
            "marker": {
             "colorbar": {
              "outlinewidth": 0,
              "ticks": ""
             }
            },
            "type": "scatterpolargl"
           }
          ],
          "scatterternary": [
           {
            "marker": {
             "colorbar": {
              "outlinewidth": 0,
              "ticks": ""
             }
            },
            "type": "scatterternary"
           }
          ],
          "surface": [
           {
            "colorbar": {
             "outlinewidth": 0,
             "ticks": ""
            },
            "colorscale": [
             [
              0,
              "#0d0887"
             ],
             [
              0.1111111111111111,
              "#46039f"
             ],
             [
              0.2222222222222222,
              "#7201a8"
             ],
             [
              0.3333333333333333,
              "#9c179e"
             ],
             [
              0.4444444444444444,
              "#bd3786"
             ],
             [
              0.5555555555555556,
              "#d8576b"
             ],
             [
              0.6666666666666666,
              "#ed7953"
             ],
             [
              0.7777777777777778,
              "#fb9f3a"
             ],
             [
              0.8888888888888888,
              "#fdca26"
             ],
             [
              1,
              "#f0f921"
             ]
            ],
            "type": "surface"
           }
          ],
          "table": [
           {
            "cells": {
             "fill": {
              "color": "#EBF0F8"
             },
             "line": {
              "color": "white"
             }
            },
            "header": {
             "fill": {
              "color": "#C8D4E3"
             },
             "line": {
              "color": "white"
             }
            },
            "type": "table"
           }
          ]
         },
         "layout": {
          "annotationdefaults": {
           "arrowcolor": "#2a3f5f",
           "arrowhead": 0,
           "arrowwidth": 1
          },
          "autotypenumbers": "strict",
          "coloraxis": {
           "colorbar": {
            "outlinewidth": 0,
            "ticks": ""
           }
          },
          "colorscale": {
           "diverging": [
            [
             0,
             "#8e0152"
            ],
            [
             0.1,
             "#c51b7d"
            ],
            [
             0.2,
             "#de77ae"
            ],
            [
             0.3,
             "#f1b6da"
            ],
            [
             0.4,
             "#fde0ef"
            ],
            [
             0.5,
             "#f7f7f7"
            ],
            [
             0.6,
             "#e6f5d0"
            ],
            [
             0.7,
             "#b8e186"
            ],
            [
             0.8,
             "#7fbc41"
            ],
            [
             0.9,
             "#4d9221"
            ],
            [
             1,
             "#276419"
            ]
           ],
           "sequential": [
            [
             0,
             "#0d0887"
            ],
            [
             0.1111111111111111,
             "#46039f"
            ],
            [
             0.2222222222222222,
             "#7201a8"
            ],
            [
             0.3333333333333333,
             "#9c179e"
            ],
            [
             0.4444444444444444,
             "#bd3786"
            ],
            [
             0.5555555555555556,
             "#d8576b"
            ],
            [
             0.6666666666666666,
             "#ed7953"
            ],
            [
             0.7777777777777778,
             "#fb9f3a"
            ],
            [
             0.8888888888888888,
             "#fdca26"
            ],
            [
             1,
             "#f0f921"
            ]
           ],
           "sequentialminus": [
            [
             0,
             "#0d0887"
            ],
            [
             0.1111111111111111,
             "#46039f"
            ],
            [
             0.2222222222222222,
             "#7201a8"
            ],
            [
             0.3333333333333333,
             "#9c179e"
            ],
            [
             0.4444444444444444,
             "#bd3786"
            ],
            [
             0.5555555555555556,
             "#d8576b"
            ],
            [
             0.6666666666666666,
             "#ed7953"
            ],
            [
             0.7777777777777778,
             "#fb9f3a"
            ],
            [
             0.8888888888888888,
             "#fdca26"
            ],
            [
             1,
             "#f0f921"
            ]
           ]
          },
          "colorway": [
           "#636efa",
           "#EF553B",
           "#00cc96",
           "#ab63fa",
           "#FFA15A",
           "#19d3f3",
           "#FF6692",
           "#B6E880",
           "#FF97FF",
           "#FECB52"
          ],
          "font": {
           "color": "#2a3f5f"
          },
          "geo": {
           "bgcolor": "white",
           "lakecolor": "white",
           "landcolor": "#E5ECF6",
           "showlakes": true,
           "showland": true,
           "subunitcolor": "white"
          },
          "hoverlabel": {
           "align": "left"
          },
          "hovermode": "closest",
          "mapbox": {
           "style": "light"
          },
          "paper_bgcolor": "white",
          "plot_bgcolor": "#E5ECF6",
          "polar": {
           "angularaxis": {
            "gridcolor": "white",
            "linecolor": "white",
            "ticks": ""
           },
           "bgcolor": "#E5ECF6",
           "radialaxis": {
            "gridcolor": "white",
            "linecolor": "white",
            "ticks": ""
           }
          },
          "scene": {
           "xaxis": {
            "backgroundcolor": "#E5ECF6",
            "gridcolor": "white",
            "gridwidth": 2,
            "linecolor": "white",
            "showbackground": true,
            "ticks": "",
            "zerolinecolor": "white"
           },
           "yaxis": {
            "backgroundcolor": "#E5ECF6",
            "gridcolor": "white",
            "gridwidth": 2,
            "linecolor": "white",
            "showbackground": true,
            "ticks": "",
            "zerolinecolor": "white"
           },
           "zaxis": {
            "backgroundcolor": "#E5ECF6",
            "gridcolor": "white",
            "gridwidth": 2,
            "linecolor": "white",
            "showbackground": true,
            "ticks": "",
            "zerolinecolor": "white"
           }
          },
          "shapedefaults": {
           "line": {
            "color": "#2a3f5f"
           }
          },
          "ternary": {
           "aaxis": {
            "gridcolor": "white",
            "linecolor": "white",
            "ticks": ""
           },
           "baxis": {
            "gridcolor": "white",
            "linecolor": "white",
            "ticks": ""
           },
           "bgcolor": "#E5ECF6",
           "caxis": {
            "gridcolor": "white",
            "linecolor": "white",
            "ticks": ""
           }
          },
          "title": {
           "x": 0.05
          },
          "xaxis": {
           "automargin": true,
           "gridcolor": "white",
           "linecolor": "white",
           "ticks": "",
           "title": {
            "standoff": 15
           },
           "zerolinecolor": "white",
           "zerolinewidth": 2
          },
          "yaxis": {
           "automargin": true,
           "gridcolor": "white",
           "linecolor": "white",
           "ticks": "",
           "title": {
            "standoff": 15
           },
           "zerolinecolor": "white",
           "zerolinewidth": 2
          }
         }
        },
        "xaxis": {
         "anchor": "y",
         "domain": [
          0,
          1
         ],
         "title": {
          "text": "index"
         }
        },
        "yaxis": {
         "anchor": "x",
         "domain": [
          0,
          1
         ],
         "title": {
          "text": "value"
         }
        }
       }
      }
     },
     "metadata": {},
     "output_type": "display_data"
    }
   ],
   "source": [
    "to_upward.get_simret(balance_df,balance)"
   ]
  },
  {
   "cell_type": "code",
   "execution_count": null,
   "metadata": {},
   "outputs": [],
   "source": []
  }
 ],
 "metadata": {
  "kernelspec": {
   "display_name": "elec",
   "language": "python",
   "name": "python3"
  },
  "language_info": {
   "codemirror_mode": {
    "name": "ipython",
    "version": 3
   },
   "file_extension": ".py",
   "mimetype": "text/x-python",
   "name": "python",
   "nbconvert_exporter": "python",
   "pygments_lexer": "ipython3",
   "version": "3.11.4"
  },
  "orig_nbformat": 4
 },
 "nbformat": 4,
 "nbformat_minor": 2
}
